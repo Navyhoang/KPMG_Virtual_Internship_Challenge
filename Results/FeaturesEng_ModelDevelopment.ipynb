{
  "nbformat": 4,
  "nbformat_minor": 0,
  "metadata": {
    "colab": {
      "name": "FeaturesEng_ModelDevelopment.ipynb",
      "provenance": [],
      "collapsed_sections": [
        "v95zwgQ3Kehg"
      ]
    },
    "kernelspec": {
      "name": "python3",
      "display_name": "Python 3.7.9 64-bit ('base': conda)"
    },
    "language_info": {
      "name": "python",
      "version": "3.7.9"
    },
    "interpreter": {
      "hash": "b9265de25e7f12c4e5ae41868c22c06f0085fd1fe8bdf150e795ee47ff282b68"
    }
  },
  "cells": [
    {
      "cell_type": "markdown",
      "metadata": {
        "id": "FUcA3bOiKXEA"
      },
      "source": [
        "# Import packages"
      ]
    },
    {
      "cell_type": "code",
      "metadata": {
        "id": "s4ulQvOPKWt6"
      },
      "source": [
        "import pandas as pd\n",
        "import numpy as np\n",
        "\n",
        "import matplotlib\n",
        "import matplotlib.pyplot as plt\n",
        "\n",
        "from functools import reduce\n"
      ],
      "execution_count": 1,
      "outputs": []
    },
    {
      "cell_type": "markdown",
      "metadata": {
        "id": "mDNm8cH8bzC9"
      },
      "source": [
        "# Functions"
      ]
    },
    {
      "cell_type": "markdown",
      "metadata": {
        "id": "2z9By1ZQdNCL"
      },
      "source": [
        "- This function is to read csv files saved with the first row that holds the dtypes of all columns. https://stackoverflow.com/questions/50047237/how-to-preserve-dtypes-of-dataframes-when-using-to-csv"
      ]
    },
    {
      "cell_type": "code",
      "metadata": {
        "id": "UNaJAIaOZ7rP"
      },
      "source": [
        "def read_csv(path):\n",
        "    # Read types first line of csv\n",
        "    dtypes = {key:value for (key,value) in pd.read_csv(path,    \n",
        "              nrows=1).iloc[0].to_dict().items() if 'date' not in value}\n",
        "\n",
        "    parse_dates = [key for (key,value) in pd.read_csv(path, \n",
        "                   nrows=1).iloc[0].to_dict().items() if 'date' in value]\n",
        "    # Read the rest of the lines with the types from above\n",
        "    return pd.read_csv(path, dtype=dtypes, parse_dates=parse_dates, skiprows=[1])"
      ],
      "execution_count": 2,
      "outputs": []
    },
    {
      "cell_type": "markdown",
      "metadata": {
        "id": "tvaOr1npKcBW"
      },
      "source": [
        "# Load datasets"
      ]
    },
    {
      "cell_type": "code",
      "metadata": {
        "id": "7-Jwf9xMKWp8"
      },
      "source": [
        "# read csv using the above function\n",
        "demographics = read_csv(\"../Clean_datasets/CustomerDemographic.csv\")\n",
        "addresses = read_csv(\"../Clean_datasets/CustomerAddress.csv\")\n",
        "transactions = read_csv(\"../Clean_datasets/Transactions.csv\")"
      ],
      "execution_count": 4,
      "outputs": []
    },
    {
      "cell_type": "code",
      "metadata": {
        "colab": {
          "base_uri": "https://localhost:8080/",
          "height": 78
        },
        "id": "JeIhQaOkOO0f",
        "outputId": "03025d29-289d-4811-d2ad-d592a714ee56"
      },
      "source": [
        "demographics.head(1)"
      ],
      "execution_count": 5,
      "outputs": [
        {
          "output_type": "execute_result",
          "data": {
            "text/plain": [
              "  customer_id first_name  last_name  gender  \\\n",
              "0           1    Laraine  Medendorp  Female   \n",
              "\n",
              "   past_3_years_bike_related_purchases        DOB            job_title  \\\n",
              "0                                   93 1953-10-12  Executive Secretary   \n",
              "\n",
              "  job_industry_category wealth_segment owns_car  tenure  Age  \n",
              "0                Health  Mass Customer      Yes    11.0   67  "
            ],
            "text/html": "<div>\n<style scoped>\n    .dataframe tbody tr th:only-of-type {\n        vertical-align: middle;\n    }\n\n    .dataframe tbody tr th {\n        vertical-align: top;\n    }\n\n    .dataframe thead th {\n        text-align: right;\n    }\n</style>\n<table border=\"1\" class=\"dataframe\">\n  <thead>\n    <tr style=\"text-align: right;\">\n      <th></th>\n      <th>customer_id</th>\n      <th>first_name</th>\n      <th>last_name</th>\n      <th>gender</th>\n      <th>past_3_years_bike_related_purchases</th>\n      <th>DOB</th>\n      <th>job_title</th>\n      <th>job_industry_category</th>\n      <th>wealth_segment</th>\n      <th>owns_car</th>\n      <th>tenure</th>\n      <th>Age</th>\n    </tr>\n  </thead>\n  <tbody>\n    <tr>\n      <th>0</th>\n      <td>1</td>\n      <td>Laraine</td>\n      <td>Medendorp</td>\n      <td>Female</td>\n      <td>93</td>\n      <td>1953-10-12</td>\n      <td>Executive Secretary</td>\n      <td>Health</td>\n      <td>Mass Customer</td>\n      <td>Yes</td>\n      <td>11.0</td>\n      <td>67</td>\n    </tr>\n  </tbody>\n</table>\n</div>"
          },
          "metadata": {},
          "execution_count": 5
        }
      ]
    },
    {
      "cell_type": "code",
      "metadata": {
        "colab": {
          "base_uri": "https://localhost:8080/",
          "height": 78
        },
        "id": "4bFY363jORx3",
        "outputId": "56af7e97-f6ff-4300-944f-384601176e92"
      },
      "source": [
        "addresses.head(1)"
      ],
      "execution_count": 6,
      "outputs": [
        {
          "output_type": "execute_result",
          "data": {
            "text/plain": [
              "  customer_id        new_address  postcode            state  \\\n",
              "0           1  60 Morning Avenue      2016  New South Wales   \n",
              "\n",
              "   property_valuation  \n",
              "0                  10  "
            ],
            "text/html": "<div>\n<style scoped>\n    .dataframe tbody tr th:only-of-type {\n        vertical-align: middle;\n    }\n\n    .dataframe tbody tr th {\n        vertical-align: top;\n    }\n\n    .dataframe thead th {\n        text-align: right;\n    }\n</style>\n<table border=\"1\" class=\"dataframe\">\n  <thead>\n    <tr style=\"text-align: right;\">\n      <th></th>\n      <th>customer_id</th>\n      <th>new_address</th>\n      <th>postcode</th>\n      <th>state</th>\n      <th>property_valuation</th>\n    </tr>\n  </thead>\n  <tbody>\n    <tr>\n      <th>0</th>\n      <td>1</td>\n      <td>60 Morning Avenue</td>\n      <td>2016</td>\n      <td>New South Wales</td>\n      <td>10</td>\n    </tr>\n  </tbody>\n</table>\n</div>"
          },
          "metadata": {},
          "execution_count": 6
        }
      ]
    },
    {
      "cell_type": "code",
      "metadata": {
        "colab": {
          "base_uri": "https://localhost:8080/",
          "height": 78
        },
        "id": "YyXq9JSqORrG",
        "outputId": "9d09d895-f2a9-41fe-eb73-fa1b11d0ca5a"
      },
      "source": [
        "transactions.head(1)"
      ],
      "execution_count": 7,
      "outputs": [
        {
          "output_type": "execute_result",
          "data": {
            "text/plain": [
              "   transaction_id  product_id  customer_id transaction_date  online_order  \\\n",
              "0               1           2         2950       2017-02-25           0.0   \n",
              "\n",
              "   brand product_line product_class product_size  list_price  standard_cost  \\\n",
              "0  Solex     Standard        medium       medium       71.49          53.62   \n",
              "\n",
              "  product_first_sold_date  \n",
              "0              2012-12-04  "
            ],
            "text/html": "<div>\n<style scoped>\n    .dataframe tbody tr th:only-of-type {\n        vertical-align: middle;\n    }\n\n    .dataframe tbody tr th {\n        vertical-align: top;\n    }\n\n    .dataframe thead th {\n        text-align: right;\n    }\n</style>\n<table border=\"1\" class=\"dataframe\">\n  <thead>\n    <tr style=\"text-align: right;\">\n      <th></th>\n      <th>transaction_id</th>\n      <th>product_id</th>\n      <th>customer_id</th>\n      <th>transaction_date</th>\n      <th>online_order</th>\n      <th>brand</th>\n      <th>product_line</th>\n      <th>product_class</th>\n      <th>product_size</th>\n      <th>list_price</th>\n      <th>standard_cost</th>\n      <th>product_first_sold_date</th>\n    </tr>\n  </thead>\n  <tbody>\n    <tr>\n      <th>0</th>\n      <td>1</td>\n      <td>2</td>\n      <td>2950</td>\n      <td>2017-02-25</td>\n      <td>0.0</td>\n      <td>Solex</td>\n      <td>Standard</td>\n      <td>medium</td>\n      <td>medium</td>\n      <td>71.49</td>\n      <td>53.62</td>\n      <td>2012-12-04</td>\n    </tr>\n  </tbody>\n</table>\n</div>"
          },
          "metadata": {},
          "execution_count": 7
        }
      ]
    },
    {
      "cell_type": "markdown",
      "metadata": {
        "id": "2tiDuXvVKJmV"
      },
      "source": [
        "# Data Transformation"
      ]
    },
    {
      "cell_type": "code",
      "metadata": {
        "id": "8tpJseiQa26h"
      },
      "source": [
        "# Simplify job_title into 9 categories\n",
        "\n",
        "dic = {'Account': 'Professional',\n",
        "       'Accountant': 'Professional',\n",
        "       'Technical': 'Professional',\n",
        "       'Actuary': 'Professional',\n",
        "       'Analyst': 'Professional',\n",
        "       'Professor': 'Professional',\n",
        "       'Teacher': 'Professional',\n",
        "       'Scientist': 'Professional',\n",
        "       'Social': 'Community and personal service workers',\n",
        "       'Advisor': 'Professional',\n",
        "       'Payment': 'Professional',\n",
        "       'Specialist': 'Professional',\n",
        "       'Legal': 'Professional',\n",
        "       'Paralegal': 'Professional',\n",
        "       'Biostatistician': 'Professional',\n",
        "       'Geologist': 'Professional',\n",
        "       'Statistician': 'Professional',\n",
        "       'Data': 'Professional',\n",
        "       'Tech': 'Professional',\n",
        "       'Programmer': 'Professional',\n",
        "       'Software': 'Professional',\n",
        "       'Dental': 'Professional',\n",
        "       'Health': 'Professional',\n",
        "       'Nurse': 'Professional',\n",
        "       'Pharmacist': 'Professional',\n",
        "       'Pathologist': 'Professional',\n",
        "       'Therapist': 'Professional',\n",
        "       'Therapy': 'Professional',\n",
        "       'Engineer': 'Professional',\n",
        "       'Chemist': 'Professional',\n",
        "       'Research': 'Professional',\n",
        "       'Developer': 'Professional',\n",
        "       'Marketing': 'Professional',\n",
        "       'Technician': 'Technician and trade workers',\n",
        "       'Designer': 'Technician and trade workers',\n",
        "       'Editor': 'Technician and trade worker',\n",
        "       'Planner': 'Others',\n",
        "       'Auditor': 'Others',\n",
        "       'job_title': 'Others',\n",
        "       'Office Assistant': 'Others',\n",
        "       'Unknown': 'Others',\n",
        "       'Administrative': 'Clerical and admin workers',\n",
        "       'Administrator': 'Clerical and admin workers',\n",
        "       'Secretary': 'Clerical and admin workers',\n",
        "       'Help Desk': 'Clerical and admin workers',\n",
        "       'Human Resources': 'Clerical and admin workers',\n",
        "       'Recruiter': 'Clerical and admin workers',\n",
        "       'Librarian': 'Clerical and admin workers',\n",
        "       'Administrator': 'Clerical and admin workers', \n",
        "       'Manager': 'Manager',\n",
        "       'Director': 'Manager',\n",
        "       'Executive': 'Manager',\n",
        "       'VP': 'Manager',\n",
        "       'Operator': 'Operators and drivers',\n",
        "       'Sales': 'Sales workers'}"
      ],
      "execution_count": 8,
      "outputs": []
    },
    {
      "cell_type": "code",
      "metadata": {
        "id": "bi1jhdMjsgjs"
      },
      "source": [
        "# Mapping the original job title to a more general category\n",
        "demographics['job_category'] = demographics['job_title']\n",
        "\n",
        "for k, v in dic.items():\n",
        "    demographics['job_category'] = np.where(demographics['job_title'].str.contains(k, case=False), v, demographics['job_category'])"
      ],
      "execution_count": 9,
      "outputs": []
    },
    {
      "cell_type": "code",
      "metadata": {
        "id": "utS71Ujtd0yA"
      },
      "source": [
        "# Categorize customers into generations\n",
        "\n",
        "# Create year column for binning\n",
        "demographics['birth_year'] = demographics['DOB'].dt.year\n",
        "\n",
        "# Bin the birthyear column into generations\n",
        "bins= [1900, 1945, 1964, 1976, 1995, 2015]\n",
        "labels = ['Traditionalists','Baby boomers','Gen X','Millennials','Gen Z']\n",
        "demographics['generation'] = pd.cut(demographics['birth_year'], bins=bins, labels=labels, right=False)"
      ],
      "execution_count": 10,
      "outputs": []
    },
    {
      "cell_type": "code",
      "metadata": {
        "id": "Ta4t6L1Nlo8h"
      },
      "source": [
        "# Bin the Age column into life stage column\n",
        "bins= [0, 18, 35, 50, 65, 130]\n",
        "labels = ['Youth','Young Adults','Middle Age','Advanced Age','Retired Age']\n",
        "demographics['age_group'] = pd.cut(demographics['Age'], bins=bins, labels=labels, right=False)"
      ],
      "execution_count": 11,
      "outputs": []
    },
    {
      "cell_type": "code",
      "metadata": {
        "colab": {
          "base_uri": "https://localhost:8080/",
          "height": 617
        },
        "id": "NLGkPSckLiNn",
        "outputId": "e5d70fca-ad71-439c-8b51-6358f2d077a8"
      },
      "source": [
        "scores = [1, 2, 3, 4]\n",
        "\n",
        "purchases_scores = pd.qcut(demographics[\"past_3_years_bike_related_purchases\"], q = 4, labels=scores)\n",
        "tenure_scores = pd.qcut(demographics[\"tenure\"], q = 4, labels=scores)\n",
        "\n",
        "demographics['purchases_score'] = purchases_scores\n",
        "demographics['tenure_score'] = tenure_scores\n",
        "\n",
        "demographics"
      ],
      "execution_count": 12,
      "outputs": [
        {
          "output_type": "execute_result",
          "data": {
            "text/plain": [
              "     customer_id      first_name  last_name   gender  \\\n",
              "0              1         Laraine  Medendorp   Female   \n",
              "1              2             Eli    Bockman     Male   \n",
              "2              3           Arlin     Dearle     Male   \n",
              "3              4          Talbot    Unknown     Male   \n",
              "4              5  Sheila-kathryn     Calton   Female   \n",
              "...          ...             ...        ...      ...   \n",
              "3995        3996         Rosalia   Halgarth   Female   \n",
              "3996        3997          Blanch     Nisuis   Female   \n",
              "3997        3998          Sarene    Woolley  Unknown   \n",
              "3998        3999       Patrizius    Unknown     Male   \n",
              "3999        4000           Kippy    Oldland     Male   \n",
              "\n",
              "      past_3_years_bike_related_purchases        DOB               job_title  \\\n",
              "0                                      93 1953-10-12     Executive Secretary   \n",
              "1                                      81 1980-12-16  Administrative Officer   \n",
              "2                                      61 1954-01-20      Recruiting Manager   \n",
              "3                                      33 1961-10-03                 Unknown   \n",
              "4                                      56 1977-05-13           Senior Editor   \n",
              "...                                   ...        ...                     ...   \n",
              "3995                                    8 1975-08-09   VP Product Management   \n",
              "3996                                   87 2001-07-13         Statistician II   \n",
              "3997                                   60 1978-01-30       Assistant Manager   \n",
              "3998                                   11 1973-10-24                 Unknown   \n",
              "3999                                   76 1991-11-05    Software Engineer IV   \n",
              "\n",
              "     job_industry_category     wealth_segment owns_car  tenure  Age  \\\n",
              "0                   Health      Mass Customer      Yes    11.0   67   \n",
              "1       Financial Services      Mass Customer      Yes    16.0   40   \n",
              "2                 Property      Mass Customer      Yes    15.0   67   \n",
              "3                       IT      Mass Customer       No     7.0   59   \n",
              "4                  Unknown  Affluent Customer      Yes     8.0   44   \n",
              "...                    ...                ...      ...     ...  ...   \n",
              "3995                Health      Mass Customer       No    19.0   45   \n",
              "3996         Manufacturing     High Net Worth      Yes     1.0   19   \n",
              "3997                    IT     High Net Worth       No     1.0   43   \n",
              "3998         Manufacturing  Affluent Customer      Yes    10.0   47   \n",
              "3999               Unknown  Affluent Customer       No    11.0   29   \n",
              "\n",
              "                     job_category  birth_year    generation     age_group  \\\n",
              "0                         Manager        1953  Baby boomers   Retired Age   \n",
              "1      Clerical and admin workers        1980   Millennials    Middle Age   \n",
              "2                         Manager        1954  Baby boomers   Retired Age   \n",
              "3                          Others        1961  Baby boomers  Advanced Age   \n",
              "4     Technician and trade worker        1977   Millennials    Middle Age   \n",
              "...                           ...         ...           ...           ...   \n",
              "3995                      Manager        1975         Gen X    Middle Age   \n",
              "3996                 Professional        2001         Gen Z  Young Adults   \n",
              "3997                      Manager        1978   Millennials    Middle Age   \n",
              "3998                       Others        1973         Gen X    Middle Age   \n",
              "3999                 Professional        1991   Millennials  Young Adults   \n",
              "\n",
              "     purchases_score tenure_score  \n",
              "0                  4            3  \n",
              "1                  4            4  \n",
              "2                  3            3  \n",
              "3                  2            2  \n",
              "4                  3            2  \n",
              "...              ...          ...  \n",
              "3995               1            4  \n",
              "3996               4            1  \n",
              "3997               3            1  \n",
              "3998               1            2  \n",
              "3999               4            3  \n",
              "\n",
              "[4000 rows x 18 columns]"
            ],
            "text/html": "<div>\n<style scoped>\n    .dataframe tbody tr th:only-of-type {\n        vertical-align: middle;\n    }\n\n    .dataframe tbody tr th {\n        vertical-align: top;\n    }\n\n    .dataframe thead th {\n        text-align: right;\n    }\n</style>\n<table border=\"1\" class=\"dataframe\">\n  <thead>\n    <tr style=\"text-align: right;\">\n      <th></th>\n      <th>customer_id</th>\n      <th>first_name</th>\n      <th>last_name</th>\n      <th>gender</th>\n      <th>past_3_years_bike_related_purchases</th>\n      <th>DOB</th>\n      <th>job_title</th>\n      <th>job_industry_category</th>\n      <th>wealth_segment</th>\n      <th>owns_car</th>\n      <th>tenure</th>\n      <th>Age</th>\n      <th>job_category</th>\n      <th>birth_year</th>\n      <th>generation</th>\n      <th>age_group</th>\n      <th>purchases_score</th>\n      <th>tenure_score</th>\n    </tr>\n  </thead>\n  <tbody>\n    <tr>\n      <th>0</th>\n      <td>1</td>\n      <td>Laraine</td>\n      <td>Medendorp</td>\n      <td>Female</td>\n      <td>93</td>\n      <td>1953-10-12</td>\n      <td>Executive Secretary</td>\n      <td>Health</td>\n      <td>Mass Customer</td>\n      <td>Yes</td>\n      <td>11.0</td>\n      <td>67</td>\n      <td>Manager</td>\n      <td>1953</td>\n      <td>Baby boomers</td>\n      <td>Retired Age</td>\n      <td>4</td>\n      <td>3</td>\n    </tr>\n    <tr>\n      <th>1</th>\n      <td>2</td>\n      <td>Eli</td>\n      <td>Bockman</td>\n      <td>Male</td>\n      <td>81</td>\n      <td>1980-12-16</td>\n      <td>Administrative Officer</td>\n      <td>Financial Services</td>\n      <td>Mass Customer</td>\n      <td>Yes</td>\n      <td>16.0</td>\n      <td>40</td>\n      <td>Clerical and admin workers</td>\n      <td>1980</td>\n      <td>Millennials</td>\n      <td>Middle Age</td>\n      <td>4</td>\n      <td>4</td>\n    </tr>\n    <tr>\n      <th>2</th>\n      <td>3</td>\n      <td>Arlin</td>\n      <td>Dearle</td>\n      <td>Male</td>\n      <td>61</td>\n      <td>1954-01-20</td>\n      <td>Recruiting Manager</td>\n      <td>Property</td>\n      <td>Mass Customer</td>\n      <td>Yes</td>\n      <td>15.0</td>\n      <td>67</td>\n      <td>Manager</td>\n      <td>1954</td>\n      <td>Baby boomers</td>\n      <td>Retired Age</td>\n      <td>3</td>\n      <td>3</td>\n    </tr>\n    <tr>\n      <th>3</th>\n      <td>4</td>\n      <td>Talbot</td>\n      <td>Unknown</td>\n      <td>Male</td>\n      <td>33</td>\n      <td>1961-10-03</td>\n      <td>Unknown</td>\n      <td>IT</td>\n      <td>Mass Customer</td>\n      <td>No</td>\n      <td>7.0</td>\n      <td>59</td>\n      <td>Others</td>\n      <td>1961</td>\n      <td>Baby boomers</td>\n      <td>Advanced Age</td>\n      <td>2</td>\n      <td>2</td>\n    </tr>\n    <tr>\n      <th>4</th>\n      <td>5</td>\n      <td>Sheila-kathryn</td>\n      <td>Calton</td>\n      <td>Female</td>\n      <td>56</td>\n      <td>1977-05-13</td>\n      <td>Senior Editor</td>\n      <td>Unknown</td>\n      <td>Affluent Customer</td>\n      <td>Yes</td>\n      <td>8.0</td>\n      <td>44</td>\n      <td>Technician and trade worker</td>\n      <td>1977</td>\n      <td>Millennials</td>\n      <td>Middle Age</td>\n      <td>3</td>\n      <td>2</td>\n    </tr>\n    <tr>\n      <th>...</th>\n      <td>...</td>\n      <td>...</td>\n      <td>...</td>\n      <td>...</td>\n      <td>...</td>\n      <td>...</td>\n      <td>...</td>\n      <td>...</td>\n      <td>...</td>\n      <td>...</td>\n      <td>...</td>\n      <td>...</td>\n      <td>...</td>\n      <td>...</td>\n      <td>...</td>\n      <td>...</td>\n      <td>...</td>\n      <td>...</td>\n    </tr>\n    <tr>\n      <th>3995</th>\n      <td>3996</td>\n      <td>Rosalia</td>\n      <td>Halgarth</td>\n      <td>Female</td>\n      <td>8</td>\n      <td>1975-08-09</td>\n      <td>VP Product Management</td>\n      <td>Health</td>\n      <td>Mass Customer</td>\n      <td>No</td>\n      <td>19.0</td>\n      <td>45</td>\n      <td>Manager</td>\n      <td>1975</td>\n      <td>Gen X</td>\n      <td>Middle Age</td>\n      <td>1</td>\n      <td>4</td>\n    </tr>\n    <tr>\n      <th>3996</th>\n      <td>3997</td>\n      <td>Blanch</td>\n      <td>Nisuis</td>\n      <td>Female</td>\n      <td>87</td>\n      <td>2001-07-13</td>\n      <td>Statistician II</td>\n      <td>Manufacturing</td>\n      <td>High Net Worth</td>\n      <td>Yes</td>\n      <td>1.0</td>\n      <td>19</td>\n      <td>Professional</td>\n      <td>2001</td>\n      <td>Gen Z</td>\n      <td>Young Adults</td>\n      <td>4</td>\n      <td>1</td>\n    </tr>\n    <tr>\n      <th>3997</th>\n      <td>3998</td>\n      <td>Sarene</td>\n      <td>Woolley</td>\n      <td>Unknown</td>\n      <td>60</td>\n      <td>1978-01-30</td>\n      <td>Assistant Manager</td>\n      <td>IT</td>\n      <td>High Net Worth</td>\n      <td>No</td>\n      <td>1.0</td>\n      <td>43</td>\n      <td>Manager</td>\n      <td>1978</td>\n      <td>Millennials</td>\n      <td>Middle Age</td>\n      <td>3</td>\n      <td>1</td>\n    </tr>\n    <tr>\n      <th>3998</th>\n      <td>3999</td>\n      <td>Patrizius</td>\n      <td>Unknown</td>\n      <td>Male</td>\n      <td>11</td>\n      <td>1973-10-24</td>\n      <td>Unknown</td>\n      <td>Manufacturing</td>\n      <td>Affluent Customer</td>\n      <td>Yes</td>\n      <td>10.0</td>\n      <td>47</td>\n      <td>Others</td>\n      <td>1973</td>\n      <td>Gen X</td>\n      <td>Middle Age</td>\n      <td>1</td>\n      <td>2</td>\n    </tr>\n    <tr>\n      <th>3999</th>\n      <td>4000</td>\n      <td>Kippy</td>\n      <td>Oldland</td>\n      <td>Male</td>\n      <td>76</td>\n      <td>1991-11-05</td>\n      <td>Software Engineer IV</td>\n      <td>Unknown</td>\n      <td>Affluent Customer</td>\n      <td>No</td>\n      <td>11.0</td>\n      <td>29</td>\n      <td>Professional</td>\n      <td>1991</td>\n      <td>Millennials</td>\n      <td>Young Adults</td>\n      <td>4</td>\n      <td>3</td>\n    </tr>\n  </tbody>\n</table>\n<p>4000 rows × 18 columns</p>\n</div>"
          },
          "metadata": {},
          "execution_count": 12
        }
      ]
    },
    {
      "cell_type": "code",
      "metadata": {
        "id": "WD2lo9ogtYHa"
      },
      "source": [
        "# Drop unnessary columns\n",
        "\n",
        "# demographics.drop(['first_name', 'last_name', 'job_title', 'birth_year', 'DOB'], axis=1, inplace = True)\n",
        "demographics = demographics[['customer_id', 'gender', 'generation', 'age_group', 'job_category', 'job_industry_category', 'tenure_score', 'wealth_segment', 'owns_car', 'purchases_score']]"
      ],
      "execution_count": 13,
      "outputs": []
    },
    {
      "cell_type": "code",
      "metadata": {
        "colab": {
          "base_uri": "https://localhost:8080/",
          "height": 414
        },
        "id": "4AYwZobzKCiu",
        "outputId": "2a39163e-07c5-4043-b33e-094a4ce28d71"
      },
      "source": [
        "demographics"
      ],
      "execution_count": 14,
      "outputs": [
        {
          "output_type": "execute_result",
          "data": {
            "text/plain": [
              "     customer_id   gender    generation     age_group  \\\n",
              "0              1   Female  Baby boomers   Retired Age   \n",
              "1              2     Male   Millennials    Middle Age   \n",
              "2              3     Male  Baby boomers   Retired Age   \n",
              "3              4     Male  Baby boomers  Advanced Age   \n",
              "4              5   Female   Millennials    Middle Age   \n",
              "...          ...      ...           ...           ...   \n",
              "3995        3996   Female         Gen X    Middle Age   \n",
              "3996        3997   Female         Gen Z  Young Adults   \n",
              "3997        3998  Unknown   Millennials    Middle Age   \n",
              "3998        3999     Male         Gen X    Middle Age   \n",
              "3999        4000     Male   Millennials  Young Adults   \n",
              "\n",
              "                     job_category job_industry_category tenure_score  \\\n",
              "0                         Manager                Health            3   \n",
              "1      Clerical and admin workers    Financial Services            4   \n",
              "2                         Manager              Property            3   \n",
              "3                          Others                    IT            2   \n",
              "4     Technician and trade worker               Unknown            2   \n",
              "...                           ...                   ...          ...   \n",
              "3995                      Manager                Health            4   \n",
              "3996                 Professional         Manufacturing            1   \n",
              "3997                      Manager                    IT            1   \n",
              "3998                       Others         Manufacturing            2   \n",
              "3999                 Professional               Unknown            3   \n",
              "\n",
              "         wealth_segment owns_car purchases_score  \n",
              "0         Mass Customer      Yes               4  \n",
              "1         Mass Customer      Yes               4  \n",
              "2         Mass Customer      Yes               3  \n",
              "3         Mass Customer       No               2  \n",
              "4     Affluent Customer      Yes               3  \n",
              "...                 ...      ...             ...  \n",
              "3995      Mass Customer       No               1  \n",
              "3996     High Net Worth      Yes               4  \n",
              "3997     High Net Worth       No               3  \n",
              "3998  Affluent Customer      Yes               1  \n",
              "3999  Affluent Customer       No               4  \n",
              "\n",
              "[4000 rows x 10 columns]"
            ],
            "text/html": "<div>\n<style scoped>\n    .dataframe tbody tr th:only-of-type {\n        vertical-align: middle;\n    }\n\n    .dataframe tbody tr th {\n        vertical-align: top;\n    }\n\n    .dataframe thead th {\n        text-align: right;\n    }\n</style>\n<table border=\"1\" class=\"dataframe\">\n  <thead>\n    <tr style=\"text-align: right;\">\n      <th></th>\n      <th>customer_id</th>\n      <th>gender</th>\n      <th>generation</th>\n      <th>age_group</th>\n      <th>job_category</th>\n      <th>job_industry_category</th>\n      <th>tenure_score</th>\n      <th>wealth_segment</th>\n      <th>owns_car</th>\n      <th>purchases_score</th>\n    </tr>\n  </thead>\n  <tbody>\n    <tr>\n      <th>0</th>\n      <td>1</td>\n      <td>Female</td>\n      <td>Baby boomers</td>\n      <td>Retired Age</td>\n      <td>Manager</td>\n      <td>Health</td>\n      <td>3</td>\n      <td>Mass Customer</td>\n      <td>Yes</td>\n      <td>4</td>\n    </tr>\n    <tr>\n      <th>1</th>\n      <td>2</td>\n      <td>Male</td>\n      <td>Millennials</td>\n      <td>Middle Age</td>\n      <td>Clerical and admin workers</td>\n      <td>Financial Services</td>\n      <td>4</td>\n      <td>Mass Customer</td>\n      <td>Yes</td>\n      <td>4</td>\n    </tr>\n    <tr>\n      <th>2</th>\n      <td>3</td>\n      <td>Male</td>\n      <td>Baby boomers</td>\n      <td>Retired Age</td>\n      <td>Manager</td>\n      <td>Property</td>\n      <td>3</td>\n      <td>Mass Customer</td>\n      <td>Yes</td>\n      <td>3</td>\n    </tr>\n    <tr>\n      <th>3</th>\n      <td>4</td>\n      <td>Male</td>\n      <td>Baby boomers</td>\n      <td>Advanced Age</td>\n      <td>Others</td>\n      <td>IT</td>\n      <td>2</td>\n      <td>Mass Customer</td>\n      <td>No</td>\n      <td>2</td>\n    </tr>\n    <tr>\n      <th>4</th>\n      <td>5</td>\n      <td>Female</td>\n      <td>Millennials</td>\n      <td>Middle Age</td>\n      <td>Technician and trade worker</td>\n      <td>Unknown</td>\n      <td>2</td>\n      <td>Affluent Customer</td>\n      <td>Yes</td>\n      <td>3</td>\n    </tr>\n    <tr>\n      <th>...</th>\n      <td>...</td>\n      <td>...</td>\n      <td>...</td>\n      <td>...</td>\n      <td>...</td>\n      <td>...</td>\n      <td>...</td>\n      <td>...</td>\n      <td>...</td>\n      <td>...</td>\n    </tr>\n    <tr>\n      <th>3995</th>\n      <td>3996</td>\n      <td>Female</td>\n      <td>Gen X</td>\n      <td>Middle Age</td>\n      <td>Manager</td>\n      <td>Health</td>\n      <td>4</td>\n      <td>Mass Customer</td>\n      <td>No</td>\n      <td>1</td>\n    </tr>\n    <tr>\n      <th>3996</th>\n      <td>3997</td>\n      <td>Female</td>\n      <td>Gen Z</td>\n      <td>Young Adults</td>\n      <td>Professional</td>\n      <td>Manufacturing</td>\n      <td>1</td>\n      <td>High Net Worth</td>\n      <td>Yes</td>\n      <td>4</td>\n    </tr>\n    <tr>\n      <th>3997</th>\n      <td>3998</td>\n      <td>Unknown</td>\n      <td>Millennials</td>\n      <td>Middle Age</td>\n      <td>Manager</td>\n      <td>IT</td>\n      <td>1</td>\n      <td>High Net Worth</td>\n      <td>No</td>\n      <td>3</td>\n    </tr>\n    <tr>\n      <th>3998</th>\n      <td>3999</td>\n      <td>Male</td>\n      <td>Gen X</td>\n      <td>Middle Age</td>\n      <td>Others</td>\n      <td>Manufacturing</td>\n      <td>2</td>\n      <td>Affluent Customer</td>\n      <td>Yes</td>\n      <td>1</td>\n    </tr>\n    <tr>\n      <th>3999</th>\n      <td>4000</td>\n      <td>Male</td>\n      <td>Millennials</td>\n      <td>Young Adults</td>\n      <td>Professional</td>\n      <td>Unknown</td>\n      <td>3</td>\n      <td>Affluent Customer</td>\n      <td>No</td>\n      <td>4</td>\n    </tr>\n  </tbody>\n</table>\n<p>4000 rows × 10 columns</p>\n</div>"
          },
          "metadata": {},
          "execution_count": 14
        }
      ]
    },
    {
      "cell_type": "code",
      "metadata": {
        "colab": {
          "base_uri": "https://localhost:8080/",
          "height": 414
        },
        "id": "L-lhm9lwPl8A",
        "outputId": "9adddb91-c06f-4c44-85fe-da38ffa4e742"
      },
      "source": [
        "addresses"
      ],
      "execution_count": 15,
      "outputs": [
        {
          "output_type": "execute_result",
          "data": {
            "text/plain": [
              "     customer_id                new_address  postcode            state  \\\n",
              "0              1          60 Morning Avenue      2016  New South Wales   \n",
              "1              2        6 Meadow Vale Court      2153  New South Wales   \n",
              "2              4           Holy Cross Court      4211              QLD   \n",
              "3              5        17979 Del Mar Point      2448  New South Wales   \n",
              "4              6           9 Oakridge Court      3216              VIC   \n",
              "...          ...                        ...       ...              ...   \n",
              "3994        3999            1482 Hauk Trail      3064              VIC   \n",
              "3995        4000  57042 Village Green Point      4511              QLD   \n",
              "3996        4001     87 Crescent Oaks Alley      2756              NSW   \n",
              "3997        4002           8194 Lien Street      4032              QLD   \n",
              "3998        4003            320 Acker Drive      2251              NSW   \n",
              "\n",
              "      property_valuation  \n",
              "0                     10  \n",
              "1                     10  \n",
              "2                      9  \n",
              "3                      4  \n",
              "4                      9  \n",
              "...                  ...  \n",
              "3994                   3  \n",
              "3995                   6  \n",
              "3996                  10  \n",
              "3997                   7  \n",
              "3998                   7  \n",
              "\n",
              "[3999 rows x 5 columns]"
            ],
            "text/html": "<div>\n<style scoped>\n    .dataframe tbody tr th:only-of-type {\n        vertical-align: middle;\n    }\n\n    .dataframe tbody tr th {\n        vertical-align: top;\n    }\n\n    .dataframe thead th {\n        text-align: right;\n    }\n</style>\n<table border=\"1\" class=\"dataframe\">\n  <thead>\n    <tr style=\"text-align: right;\">\n      <th></th>\n      <th>customer_id</th>\n      <th>new_address</th>\n      <th>postcode</th>\n      <th>state</th>\n      <th>property_valuation</th>\n    </tr>\n  </thead>\n  <tbody>\n    <tr>\n      <th>0</th>\n      <td>1</td>\n      <td>60 Morning Avenue</td>\n      <td>2016</td>\n      <td>New South Wales</td>\n      <td>10</td>\n    </tr>\n    <tr>\n      <th>1</th>\n      <td>2</td>\n      <td>6 Meadow Vale Court</td>\n      <td>2153</td>\n      <td>New South Wales</td>\n      <td>10</td>\n    </tr>\n    <tr>\n      <th>2</th>\n      <td>4</td>\n      <td>Holy Cross Court</td>\n      <td>4211</td>\n      <td>QLD</td>\n      <td>9</td>\n    </tr>\n    <tr>\n      <th>3</th>\n      <td>5</td>\n      <td>17979 Del Mar Point</td>\n      <td>2448</td>\n      <td>New South Wales</td>\n      <td>4</td>\n    </tr>\n    <tr>\n      <th>4</th>\n      <td>6</td>\n      <td>9 Oakridge Court</td>\n      <td>3216</td>\n      <td>VIC</td>\n      <td>9</td>\n    </tr>\n    <tr>\n      <th>...</th>\n      <td>...</td>\n      <td>...</td>\n      <td>...</td>\n      <td>...</td>\n      <td>...</td>\n    </tr>\n    <tr>\n      <th>3994</th>\n      <td>3999</td>\n      <td>1482 Hauk Trail</td>\n      <td>3064</td>\n      <td>VIC</td>\n      <td>3</td>\n    </tr>\n    <tr>\n      <th>3995</th>\n      <td>4000</td>\n      <td>57042 Village Green Point</td>\n      <td>4511</td>\n      <td>QLD</td>\n      <td>6</td>\n    </tr>\n    <tr>\n      <th>3996</th>\n      <td>4001</td>\n      <td>87 Crescent Oaks Alley</td>\n      <td>2756</td>\n      <td>NSW</td>\n      <td>10</td>\n    </tr>\n    <tr>\n      <th>3997</th>\n      <td>4002</td>\n      <td>8194 Lien Street</td>\n      <td>4032</td>\n      <td>QLD</td>\n      <td>7</td>\n    </tr>\n    <tr>\n      <th>3998</th>\n      <td>4003</td>\n      <td>320 Acker Drive</td>\n      <td>2251</td>\n      <td>NSW</td>\n      <td>7</td>\n    </tr>\n  </tbody>\n</table>\n<p>3999 rows × 5 columns</p>\n</div>"
          },
          "metadata": {},
          "execution_count": 15
        }
      ]
    },
    {
      "cell_type": "code",
      "metadata": {
        "id": "tbt1Swdodlla"
      },
      "source": [
        "addresses = addresses[['customer_id', 'state', 'property_valuation']]"
      ],
      "execution_count": 16,
      "outputs": []
    },
    {
      "cell_type": "code",
      "metadata": {
        "colab": {
          "base_uri": "https://localhost:8080/",
          "height": 414
        },
        "id": "1rIrNbyNsUfO",
        "outputId": "2f39138f-9100-4486-ba03-f2d988e88200"
      },
      "source": [
        "transactions"
      ],
      "execution_count": 17,
      "outputs": [
        {
          "output_type": "execute_result",
          "data": {
            "text/plain": [
              "       transaction_id  product_id  customer_id transaction_date  online_order  \\\n",
              "0                   1           2         2950       2017-02-25           0.0   \n",
              "1                   2           3         3120       2017-05-21           1.0   \n",
              "2                   3          37          402       2017-10-16           0.0   \n",
              "3                   4          88         3135       2017-08-31           0.0   \n",
              "4                   5          78          787       2017-10-01           1.0   \n",
              "...               ...         ...          ...              ...           ...   \n",
              "19440           19996          51         1018       2017-06-24           1.0   \n",
              "19441           19997          41          127       2017-11-09           1.0   \n",
              "19442           19998          87         2284       2017-04-14           1.0   \n",
              "19443           19999           6         2764       2017-07-03           0.0   \n",
              "19444           20000          11         1144       2017-09-22           1.0   \n",
              "\n",
              "                brand product_line product_class product_size  list_price  \\\n",
              "0               Solex     Standard        medium       medium       71.49   \n",
              "1       Trek Bicycles     Standard        medium        large     2091.47   \n",
              "2          OHM Cycles     Standard           low       medium     1793.43   \n",
              "3      Norco Bicycles     Standard        medium       medium     1198.46   \n",
              "4      Giant Bicycles     Standard        medium        large     1765.30   \n",
              "...               ...          ...           ...          ...         ...   \n",
              "19440      OHM Cycles     Standard          high       medium     2005.66   \n",
              "19441           Solex         Road        medium       medium      416.98   \n",
              "19442      OHM Cycles     Standard        medium       medium     1636.90   \n",
              "19443      OHM Cycles     Standard          high       medium      227.88   \n",
              "19444   Trek Bicycles     Standard        medium        small     1775.81   \n",
              "\n",
              "       standard_cost product_first_sold_date  \n",
              "0              53.62              2012-12-04  \n",
              "1             388.92              2014-03-05  \n",
              "2             248.82              1999-07-22  \n",
              "3             381.10              1998-12-18  \n",
              "4             709.48              2015-08-12  \n",
              "...              ...                     ...  \n",
              "19440        1203.40              2003-07-23  \n",
              "19441         312.74              1997-05-12  \n",
              "19442          44.71              2010-08-22  \n",
              "19443         136.73              2004-08-19  \n",
              "19444        1580.47              1999-06-25  \n",
              "\n",
              "[19445 rows x 12 columns]"
            ],
            "text/html": "<div>\n<style scoped>\n    .dataframe tbody tr th:only-of-type {\n        vertical-align: middle;\n    }\n\n    .dataframe tbody tr th {\n        vertical-align: top;\n    }\n\n    .dataframe thead th {\n        text-align: right;\n    }\n</style>\n<table border=\"1\" class=\"dataframe\">\n  <thead>\n    <tr style=\"text-align: right;\">\n      <th></th>\n      <th>transaction_id</th>\n      <th>product_id</th>\n      <th>customer_id</th>\n      <th>transaction_date</th>\n      <th>online_order</th>\n      <th>brand</th>\n      <th>product_line</th>\n      <th>product_class</th>\n      <th>product_size</th>\n      <th>list_price</th>\n      <th>standard_cost</th>\n      <th>product_first_sold_date</th>\n    </tr>\n  </thead>\n  <tbody>\n    <tr>\n      <th>0</th>\n      <td>1</td>\n      <td>2</td>\n      <td>2950</td>\n      <td>2017-02-25</td>\n      <td>0.0</td>\n      <td>Solex</td>\n      <td>Standard</td>\n      <td>medium</td>\n      <td>medium</td>\n      <td>71.49</td>\n      <td>53.62</td>\n      <td>2012-12-04</td>\n    </tr>\n    <tr>\n      <th>1</th>\n      <td>2</td>\n      <td>3</td>\n      <td>3120</td>\n      <td>2017-05-21</td>\n      <td>1.0</td>\n      <td>Trek Bicycles</td>\n      <td>Standard</td>\n      <td>medium</td>\n      <td>large</td>\n      <td>2091.47</td>\n      <td>388.92</td>\n      <td>2014-03-05</td>\n    </tr>\n    <tr>\n      <th>2</th>\n      <td>3</td>\n      <td>37</td>\n      <td>402</td>\n      <td>2017-10-16</td>\n      <td>0.0</td>\n      <td>OHM Cycles</td>\n      <td>Standard</td>\n      <td>low</td>\n      <td>medium</td>\n      <td>1793.43</td>\n      <td>248.82</td>\n      <td>1999-07-22</td>\n    </tr>\n    <tr>\n      <th>3</th>\n      <td>4</td>\n      <td>88</td>\n      <td>3135</td>\n      <td>2017-08-31</td>\n      <td>0.0</td>\n      <td>Norco Bicycles</td>\n      <td>Standard</td>\n      <td>medium</td>\n      <td>medium</td>\n      <td>1198.46</td>\n      <td>381.10</td>\n      <td>1998-12-18</td>\n    </tr>\n    <tr>\n      <th>4</th>\n      <td>5</td>\n      <td>78</td>\n      <td>787</td>\n      <td>2017-10-01</td>\n      <td>1.0</td>\n      <td>Giant Bicycles</td>\n      <td>Standard</td>\n      <td>medium</td>\n      <td>large</td>\n      <td>1765.30</td>\n      <td>709.48</td>\n      <td>2015-08-12</td>\n    </tr>\n    <tr>\n      <th>...</th>\n      <td>...</td>\n      <td>...</td>\n      <td>...</td>\n      <td>...</td>\n      <td>...</td>\n      <td>...</td>\n      <td>...</td>\n      <td>...</td>\n      <td>...</td>\n      <td>...</td>\n      <td>...</td>\n      <td>...</td>\n    </tr>\n    <tr>\n      <th>19440</th>\n      <td>19996</td>\n      <td>51</td>\n      <td>1018</td>\n      <td>2017-06-24</td>\n      <td>1.0</td>\n      <td>OHM Cycles</td>\n      <td>Standard</td>\n      <td>high</td>\n      <td>medium</td>\n      <td>2005.66</td>\n      <td>1203.40</td>\n      <td>2003-07-23</td>\n    </tr>\n    <tr>\n      <th>19441</th>\n      <td>19997</td>\n      <td>41</td>\n      <td>127</td>\n      <td>2017-11-09</td>\n      <td>1.0</td>\n      <td>Solex</td>\n      <td>Road</td>\n      <td>medium</td>\n      <td>medium</td>\n      <td>416.98</td>\n      <td>312.74</td>\n      <td>1997-05-12</td>\n    </tr>\n    <tr>\n      <th>19442</th>\n      <td>19998</td>\n      <td>87</td>\n      <td>2284</td>\n      <td>2017-04-14</td>\n      <td>1.0</td>\n      <td>OHM Cycles</td>\n      <td>Standard</td>\n      <td>medium</td>\n      <td>medium</td>\n      <td>1636.90</td>\n      <td>44.71</td>\n      <td>2010-08-22</td>\n    </tr>\n    <tr>\n      <th>19443</th>\n      <td>19999</td>\n      <td>6</td>\n      <td>2764</td>\n      <td>2017-07-03</td>\n      <td>0.0</td>\n      <td>OHM Cycles</td>\n      <td>Standard</td>\n      <td>high</td>\n      <td>medium</td>\n      <td>227.88</td>\n      <td>136.73</td>\n      <td>2004-08-19</td>\n    </tr>\n    <tr>\n      <th>19444</th>\n      <td>20000</td>\n      <td>11</td>\n      <td>1144</td>\n      <td>2017-09-22</td>\n      <td>1.0</td>\n      <td>Trek Bicycles</td>\n      <td>Standard</td>\n      <td>medium</td>\n      <td>small</td>\n      <td>1775.81</td>\n      <td>1580.47</td>\n      <td>1999-06-25</td>\n    </tr>\n  </tbody>\n</table>\n<p>19445 rows × 12 columns</p>\n</div>"
          },
          "metadata": {},
          "execution_count": 17
        }
      ]
    },
    {
      "cell_type": "code",
      "metadata": {
        "id": "dkuoEXhNpNfr"
      },
      "source": [
        "# Create a new column for the profit of each transaction\n",
        "\n",
        "transactions[\"order_profit\"] = transactions.list_price - transactions.standard_cost"
      ],
      "execution_count": 18,
      "outputs": []
    },
    {
      "cell_type": "code",
      "metadata": {
        "id": "cdRg17kErccm"
      },
      "source": [
        "# Last date\n",
        "last_date = transactions[\"transaction_date\"].max()"
      ],
      "execution_count": 19,
      "outputs": []
    },
    {
      "cell_type": "code",
      "metadata": {
        "colab": {
          "base_uri": "https://localhost:8080/",
          "height": 445
        },
        "id": "U9wAsEGorcZz",
        "outputId": "d8c85067-3adf-4070-8c99-ccd37baac34f"
      },
      "source": [
        "# Create RFM Modelling scores\n",
        "rfm_scores = transactions.groupby(\"customer_id\").agg({\n",
        "    \"transaction_date\": lambda x: (last_date - x.max()).days,\n",
        "    \"transaction_id\": lambda x: len(x),\n",
        "    \"order_profit\": lambda x: sum(x)})\n",
        "\n",
        "rfm_scores"
      ],
      "execution_count": 20,
      "outputs": [
        {
          "output_type": "execute_result",
          "data": {
            "text/plain": [
              "             transaction_date  transaction_id  order_profit\n",
              "customer_id                                                \n",
              "1                           7              11   3018.090000\n",
              "2                         128               3   2226.260000\n",
              "3                         102               7   3290.210000\n",
              "4                         195               2    220.570000\n",
              "5                          16               6   2394.940000\n",
              "...                       ...             ...           ...\n",
              "3497                       52               3   1648.320000\n",
              "3498                      127               6   3147.330000\n",
              "3499                       51               7   4955.250000\n",
              "3500                      144               6   1785.860000\n",
              "5034                       84               3    269.484972\n",
              "\n",
              "[3492 rows x 3 columns]"
            ],
            "text/html": "<div>\n<style scoped>\n    .dataframe tbody tr th:only-of-type {\n        vertical-align: middle;\n    }\n\n    .dataframe tbody tr th {\n        vertical-align: top;\n    }\n\n    .dataframe thead th {\n        text-align: right;\n    }\n</style>\n<table border=\"1\" class=\"dataframe\">\n  <thead>\n    <tr style=\"text-align: right;\">\n      <th></th>\n      <th>transaction_date</th>\n      <th>transaction_id</th>\n      <th>order_profit</th>\n    </tr>\n    <tr>\n      <th>customer_id</th>\n      <th></th>\n      <th></th>\n      <th></th>\n    </tr>\n  </thead>\n  <tbody>\n    <tr>\n      <th>1</th>\n      <td>7</td>\n      <td>11</td>\n      <td>3018.090000</td>\n    </tr>\n    <tr>\n      <th>2</th>\n      <td>128</td>\n      <td>3</td>\n      <td>2226.260000</td>\n    </tr>\n    <tr>\n      <th>3</th>\n      <td>102</td>\n      <td>7</td>\n      <td>3290.210000</td>\n    </tr>\n    <tr>\n      <th>4</th>\n      <td>195</td>\n      <td>2</td>\n      <td>220.570000</td>\n    </tr>\n    <tr>\n      <th>5</th>\n      <td>16</td>\n      <td>6</td>\n      <td>2394.940000</td>\n    </tr>\n    <tr>\n      <th>...</th>\n      <td>...</td>\n      <td>...</td>\n      <td>...</td>\n    </tr>\n    <tr>\n      <th>3497</th>\n      <td>52</td>\n      <td>3</td>\n      <td>1648.320000</td>\n    </tr>\n    <tr>\n      <th>3498</th>\n      <td>127</td>\n      <td>6</td>\n      <td>3147.330000</td>\n    </tr>\n    <tr>\n      <th>3499</th>\n      <td>51</td>\n      <td>7</td>\n      <td>4955.250000</td>\n    </tr>\n    <tr>\n      <th>3500</th>\n      <td>144</td>\n      <td>6</td>\n      <td>1785.860000</td>\n    </tr>\n    <tr>\n      <th>5034</th>\n      <td>84</td>\n      <td>3</td>\n      <td>269.484972</td>\n    </tr>\n  </tbody>\n</table>\n<p>3492 rows × 3 columns</p>\n</div>"
          },
          "metadata": {},
          "execution_count": 20
        }
      ]
    },
    {
      "cell_type": "code",
      "metadata": {
        "colab": {
          "base_uri": "https://localhost:8080/",
          "height": 445
        },
        "id": "mdpZ-B9DrcWm",
        "outputId": "93924877-8e79-4937-b61f-f87d05dd0762"
      },
      "source": [
        "# Rename the columns\n",
        "rfm_scores.columns = [\"recency\", \"frequency\", \"monetary\"]\n",
        "rfm_scores"
      ],
      "execution_count": 21,
      "outputs": [
        {
          "output_type": "execute_result",
          "data": {
            "text/plain": [
              "             recency  frequency     monetary\n",
              "customer_id                                 \n",
              "1                  7         11  3018.090000\n",
              "2                128          3  2226.260000\n",
              "3                102          7  3290.210000\n",
              "4                195          2   220.570000\n",
              "5                 16          6  2394.940000\n",
              "...              ...        ...          ...\n",
              "3497              52          3  1648.320000\n",
              "3498             127          6  3147.330000\n",
              "3499              51          7  4955.250000\n",
              "3500             144          6  1785.860000\n",
              "5034              84          3   269.484972\n",
              "\n",
              "[3492 rows x 3 columns]"
            ],
            "text/html": "<div>\n<style scoped>\n    .dataframe tbody tr th:only-of-type {\n        vertical-align: middle;\n    }\n\n    .dataframe tbody tr th {\n        vertical-align: top;\n    }\n\n    .dataframe thead th {\n        text-align: right;\n    }\n</style>\n<table border=\"1\" class=\"dataframe\">\n  <thead>\n    <tr style=\"text-align: right;\">\n      <th></th>\n      <th>recency</th>\n      <th>frequency</th>\n      <th>monetary</th>\n    </tr>\n    <tr>\n      <th>customer_id</th>\n      <th></th>\n      <th></th>\n      <th></th>\n    </tr>\n  </thead>\n  <tbody>\n    <tr>\n      <th>1</th>\n      <td>7</td>\n      <td>11</td>\n      <td>3018.090000</td>\n    </tr>\n    <tr>\n      <th>2</th>\n      <td>128</td>\n      <td>3</td>\n      <td>2226.260000</td>\n    </tr>\n    <tr>\n      <th>3</th>\n      <td>102</td>\n      <td>7</td>\n      <td>3290.210000</td>\n    </tr>\n    <tr>\n      <th>4</th>\n      <td>195</td>\n      <td>2</td>\n      <td>220.570000</td>\n    </tr>\n    <tr>\n      <th>5</th>\n      <td>16</td>\n      <td>6</td>\n      <td>2394.940000</td>\n    </tr>\n    <tr>\n      <th>...</th>\n      <td>...</td>\n      <td>...</td>\n      <td>...</td>\n    </tr>\n    <tr>\n      <th>3497</th>\n      <td>52</td>\n      <td>3</td>\n      <td>1648.320000</td>\n    </tr>\n    <tr>\n      <th>3498</th>\n      <td>127</td>\n      <td>6</td>\n      <td>3147.330000</td>\n    </tr>\n    <tr>\n      <th>3499</th>\n      <td>51</td>\n      <td>7</td>\n      <td>4955.250000</td>\n    </tr>\n    <tr>\n      <th>3500</th>\n      <td>144</td>\n      <td>6</td>\n      <td>1785.860000</td>\n    </tr>\n    <tr>\n      <th>5034</th>\n      <td>84</td>\n      <td>3</td>\n      <td>269.484972</td>\n    </tr>\n  </tbody>\n</table>\n<p>3492 rows × 3 columns</p>\n</div>"
          },
          "metadata": {},
          "execution_count": 21
        }
      ]
    },
    {
      "cell_type": "code",
      "metadata": {
        "id": "e2pOm9hZtHQ0"
      },
      "source": [
        "def rfm_tier(value, index, quantile):\n",
        "    # If the index is recency, then the lower recency, the higher tier\n",
        "    if value <= quantile[index][0.25]:\n",
        "        if index == \"recency\":\n",
        "            return 1\n",
        "        else:\n",
        "            return 4\n",
        "    elif value <= quantile[index][0.50]:\n",
        "        if index == \"recency\":\n",
        "            return 2\n",
        "        else:\n",
        "            return 3\n",
        "    elif value <= quantile[index][0.75]:\n",
        "        if index == \"recency\":\n",
        "            return 3\n",
        "        else:\n",
        "            return 2\n",
        "    else:\n",
        "        if index == \"recency\":\n",
        "            return 4\n",
        "        else:\n",
        "            return 1"
      ],
      "execution_count": 22,
      "outputs": []
    },
    {
      "cell_type": "code",
      "metadata": {
        "colab": {
          "base_uri": "https://localhost:8080/",
          "height": 445
        },
        "id": "o5wktNMvtJei",
        "outputId": "3720971c-5485-4b30-debd-aa69b9eadb99"
      },
      "source": [
        "# Assigning tier values to R, F, and M for each customer\n",
        "\n",
        "\n",
        "# Using quantiles to classify customers, setting into 4 segments\n",
        "quantiles = rfm_scores.quantile([0.25, 0.5, 0.75])\n",
        "quantiles = quantiles.to_dict()\n",
        "\n",
        "index_list = {\"R\": \"recency\", \"F\": \"frequency\", \"M\": \"monetary\"}\n",
        "for k, v in index_list.items():\n",
        "    rfm_scores[k] = rfm_scores[v].apply(rfm_tier, args=(v, quantiles))\n",
        "\n",
        "rfm_scores"
      ],
      "execution_count": 23,
      "outputs": [
        {
          "output_type": "execute_result",
          "data": {
            "text/plain": [
              "             recency  frequency     monetary  R  F  M\n",
              "customer_id                                          \n",
              "1                  7         11  3018.090000  1  1  2\n",
              "2                128          3  2226.260000  4  4  3\n",
              "3                102          7  3290.210000  4  2  2\n",
              "4                195          2   220.570000  4  4  4\n",
              "5                 16          6  2394.940000  1  2  3\n",
              "...              ...        ...          ... .. .. ..\n",
              "3497              52          3  1648.320000  3  4  4\n",
              "3498             127          6  3147.330000  4  2  2\n",
              "3499              51          7  4955.250000  3  2  1\n",
              "3500             144          6  1785.860000  4  2  4\n",
              "5034              84          3   269.484972  3  4  4\n",
              "\n",
              "[3492 rows x 6 columns]"
            ],
            "text/html": "<div>\n<style scoped>\n    .dataframe tbody tr th:only-of-type {\n        vertical-align: middle;\n    }\n\n    .dataframe tbody tr th {\n        vertical-align: top;\n    }\n\n    .dataframe thead th {\n        text-align: right;\n    }\n</style>\n<table border=\"1\" class=\"dataframe\">\n  <thead>\n    <tr style=\"text-align: right;\">\n      <th></th>\n      <th>recency</th>\n      <th>frequency</th>\n      <th>monetary</th>\n      <th>R</th>\n      <th>F</th>\n      <th>M</th>\n    </tr>\n    <tr>\n      <th>customer_id</th>\n      <th></th>\n      <th></th>\n      <th></th>\n      <th></th>\n      <th></th>\n      <th></th>\n    </tr>\n  </thead>\n  <tbody>\n    <tr>\n      <th>1</th>\n      <td>7</td>\n      <td>11</td>\n      <td>3018.090000</td>\n      <td>1</td>\n      <td>1</td>\n      <td>2</td>\n    </tr>\n    <tr>\n      <th>2</th>\n      <td>128</td>\n      <td>3</td>\n      <td>2226.260000</td>\n      <td>4</td>\n      <td>4</td>\n      <td>3</td>\n    </tr>\n    <tr>\n      <th>3</th>\n      <td>102</td>\n      <td>7</td>\n      <td>3290.210000</td>\n      <td>4</td>\n      <td>2</td>\n      <td>2</td>\n    </tr>\n    <tr>\n      <th>4</th>\n      <td>195</td>\n      <td>2</td>\n      <td>220.570000</td>\n      <td>4</td>\n      <td>4</td>\n      <td>4</td>\n    </tr>\n    <tr>\n      <th>5</th>\n      <td>16</td>\n      <td>6</td>\n      <td>2394.940000</td>\n      <td>1</td>\n      <td>2</td>\n      <td>3</td>\n    </tr>\n    <tr>\n      <th>...</th>\n      <td>...</td>\n      <td>...</td>\n      <td>...</td>\n      <td>...</td>\n      <td>...</td>\n      <td>...</td>\n    </tr>\n    <tr>\n      <th>3497</th>\n      <td>52</td>\n      <td>3</td>\n      <td>1648.320000</td>\n      <td>3</td>\n      <td>4</td>\n      <td>4</td>\n    </tr>\n    <tr>\n      <th>3498</th>\n      <td>127</td>\n      <td>6</td>\n      <td>3147.330000</td>\n      <td>4</td>\n      <td>2</td>\n      <td>2</td>\n    </tr>\n    <tr>\n      <th>3499</th>\n      <td>51</td>\n      <td>7</td>\n      <td>4955.250000</td>\n      <td>3</td>\n      <td>2</td>\n      <td>1</td>\n    </tr>\n    <tr>\n      <th>3500</th>\n      <td>144</td>\n      <td>6</td>\n      <td>1785.860000</td>\n      <td>4</td>\n      <td>2</td>\n      <td>4</td>\n    </tr>\n    <tr>\n      <th>5034</th>\n      <td>84</td>\n      <td>3</td>\n      <td>269.484972</td>\n      <td>3</td>\n      <td>4</td>\n      <td>4</td>\n    </tr>\n  </tbody>\n</table>\n<p>3492 rows × 6 columns</p>\n</div>"
          },
          "metadata": {},
          "execution_count": 23
        }
      ]
    },
    {
      "cell_type": "code",
      "metadata": {
        "colab": {
          "base_uri": "https://localhost:8080/",
          "height": 385
        },
        "id": "viUqVtlRtbPa",
        "outputId": "d5b39724-d6ed-4455-8606-1d6bcc573c37"
      },
      "source": [
        "# Assigning rfm_group to each customer by concatenating R, F, and M\n",
        "rfm_scores[\"rfm_group\"] = rfm_scores[\"R\"].map(str) + rfm_scores[\"F\"].map(str) + rfm_scores[\"M\"].map(str)\n",
        "\n",
        "# Calculating the rfm score for each customer by sum them\n",
        "rfm_scores[\"rfm_score\"] = rfm_scores[[\"R\", \"F\", \"M\"]].sum(axis=1)\n",
        "\n",
        "rfm_scores.head(10)"
      ],
      "execution_count": 24,
      "outputs": [
        {
          "output_type": "execute_result",
          "data": {
            "text/plain": [
              "             recency  frequency  monetary  R  F  M rfm_group  rfm_score\n",
              "customer_id                                                            \n",
              "1                  7         11   3018.09  1  1  2       112          4\n",
              "2                128          3   2226.26  4  4  3       443         11\n",
              "3                102          7   3290.21  4  2  2       422          8\n",
              "4                195          2    220.57  4  4  4       444         12\n",
              "5                 16          6   2394.94  1  2  3       123          6\n",
              "6                 64          5   3946.55  3  3  2       332          8\n",
              "7                253          3    220.11  4  4  4       444         12\n",
              "8                 22          9   5364.39  2  1  1       211          4\n",
              "9                 78          6   2353.11  3  2  3       323          8\n",
              "10                43          5   3358.28  2  3  2       232          7"
            ],
            "text/html": "<div>\n<style scoped>\n    .dataframe tbody tr th:only-of-type {\n        vertical-align: middle;\n    }\n\n    .dataframe tbody tr th {\n        vertical-align: top;\n    }\n\n    .dataframe thead th {\n        text-align: right;\n    }\n</style>\n<table border=\"1\" class=\"dataframe\">\n  <thead>\n    <tr style=\"text-align: right;\">\n      <th></th>\n      <th>recency</th>\n      <th>frequency</th>\n      <th>monetary</th>\n      <th>R</th>\n      <th>F</th>\n      <th>M</th>\n      <th>rfm_group</th>\n      <th>rfm_score</th>\n    </tr>\n    <tr>\n      <th>customer_id</th>\n      <th></th>\n      <th></th>\n      <th></th>\n      <th></th>\n      <th></th>\n      <th></th>\n      <th></th>\n      <th></th>\n    </tr>\n  </thead>\n  <tbody>\n    <tr>\n      <th>1</th>\n      <td>7</td>\n      <td>11</td>\n      <td>3018.09</td>\n      <td>1</td>\n      <td>1</td>\n      <td>2</td>\n      <td>112</td>\n      <td>4</td>\n    </tr>\n    <tr>\n      <th>2</th>\n      <td>128</td>\n      <td>3</td>\n      <td>2226.26</td>\n      <td>4</td>\n      <td>4</td>\n      <td>3</td>\n      <td>443</td>\n      <td>11</td>\n    </tr>\n    <tr>\n      <th>3</th>\n      <td>102</td>\n      <td>7</td>\n      <td>3290.21</td>\n      <td>4</td>\n      <td>2</td>\n      <td>2</td>\n      <td>422</td>\n      <td>8</td>\n    </tr>\n    <tr>\n      <th>4</th>\n      <td>195</td>\n      <td>2</td>\n      <td>220.57</td>\n      <td>4</td>\n      <td>4</td>\n      <td>4</td>\n      <td>444</td>\n      <td>12</td>\n    </tr>\n    <tr>\n      <th>5</th>\n      <td>16</td>\n      <td>6</td>\n      <td>2394.94</td>\n      <td>1</td>\n      <td>2</td>\n      <td>3</td>\n      <td>123</td>\n      <td>6</td>\n    </tr>\n    <tr>\n      <th>6</th>\n      <td>64</td>\n      <td>5</td>\n      <td>3946.55</td>\n      <td>3</td>\n      <td>3</td>\n      <td>2</td>\n      <td>332</td>\n      <td>8</td>\n    </tr>\n    <tr>\n      <th>7</th>\n      <td>253</td>\n      <td>3</td>\n      <td>220.11</td>\n      <td>4</td>\n      <td>4</td>\n      <td>4</td>\n      <td>444</td>\n      <td>12</td>\n    </tr>\n    <tr>\n      <th>8</th>\n      <td>22</td>\n      <td>9</td>\n      <td>5364.39</td>\n      <td>2</td>\n      <td>1</td>\n      <td>1</td>\n      <td>211</td>\n      <td>4</td>\n    </tr>\n    <tr>\n      <th>9</th>\n      <td>78</td>\n      <td>6</td>\n      <td>2353.11</td>\n      <td>3</td>\n      <td>2</td>\n      <td>3</td>\n      <td>323</td>\n      <td>8</td>\n    </tr>\n    <tr>\n      <th>10</th>\n      <td>43</td>\n      <td>5</td>\n      <td>3358.28</td>\n      <td>2</td>\n      <td>3</td>\n      <td>2</td>\n      <td>232</td>\n      <td>7</td>\n    </tr>\n  </tbody>\n</table>\n</div>"
          },
          "metadata": {},
          "execution_count": 24
        }
      ]
    },
    {
      "cell_type": "code",
      "metadata": {
        "colab": {
          "base_uri": "https://localhost:8080/",
          "height": 385
        },
        "id": "EvpIcDDjtfsd",
        "outputId": "aee26adc-4290-405e-b24b-35ba271c4a24"
      },
      "source": [
        "# Assigning loyalty tier to each customer\n",
        "loyalty_tier = [\"titanium\", \"platinum\", \"gold\", \"silver\"]\n",
        "\n",
        "# Using pandas quantile cut\n",
        "score_cuts = pd.qcut(rfm_scores[\"rfm_score\"], q = 4, labels=loyalty_tier)\n",
        "\n",
        "\n",
        "# Create a new column for the loyalty tier\n",
        "rfm_scores[\"loyalty_tier\"] = score_cuts\n",
        "rfm_scores.head(10)"
      ],
      "execution_count": 25,
      "outputs": [
        {
          "output_type": "execute_result",
          "data": {
            "text/plain": [
              "             recency  frequency  monetary  R  F  M rfm_group  rfm_score  \\\n",
              "customer_id                                                               \n",
              "1                  7         11   3018.09  1  1  2       112          4   \n",
              "2                128          3   2226.26  4  4  3       443         11   \n",
              "3                102          7   3290.21  4  2  2       422          8   \n",
              "4                195          2    220.57  4  4  4       444         12   \n",
              "5                 16          6   2394.94  1  2  3       123          6   \n",
              "6                 64          5   3946.55  3  3  2       332          8   \n",
              "7                253          3    220.11  4  4  4       444         12   \n",
              "8                 22          9   5364.39  2  1  1       211          4   \n",
              "9                 78          6   2353.11  3  2  3       323          8   \n",
              "10                43          5   3358.28  2  3  2       232          7   \n",
              "\n",
              "            loyalty_tier  \n",
              "customer_id               \n",
              "1               titanium  \n",
              "2                 silver  \n",
              "3               platinum  \n",
              "4                 silver  \n",
              "5               titanium  \n",
              "6               platinum  \n",
              "7                 silver  \n",
              "8               titanium  \n",
              "9               platinum  \n",
              "10              platinum  "
            ],
            "text/html": "<div>\n<style scoped>\n    .dataframe tbody tr th:only-of-type {\n        vertical-align: middle;\n    }\n\n    .dataframe tbody tr th {\n        vertical-align: top;\n    }\n\n    .dataframe thead th {\n        text-align: right;\n    }\n</style>\n<table border=\"1\" class=\"dataframe\">\n  <thead>\n    <tr style=\"text-align: right;\">\n      <th></th>\n      <th>recency</th>\n      <th>frequency</th>\n      <th>monetary</th>\n      <th>R</th>\n      <th>F</th>\n      <th>M</th>\n      <th>rfm_group</th>\n      <th>rfm_score</th>\n      <th>loyalty_tier</th>\n    </tr>\n    <tr>\n      <th>customer_id</th>\n      <th></th>\n      <th></th>\n      <th></th>\n      <th></th>\n      <th></th>\n      <th></th>\n      <th></th>\n      <th></th>\n      <th></th>\n    </tr>\n  </thead>\n  <tbody>\n    <tr>\n      <th>1</th>\n      <td>7</td>\n      <td>11</td>\n      <td>3018.09</td>\n      <td>1</td>\n      <td>1</td>\n      <td>2</td>\n      <td>112</td>\n      <td>4</td>\n      <td>titanium</td>\n    </tr>\n    <tr>\n      <th>2</th>\n      <td>128</td>\n      <td>3</td>\n      <td>2226.26</td>\n      <td>4</td>\n      <td>4</td>\n      <td>3</td>\n      <td>443</td>\n      <td>11</td>\n      <td>silver</td>\n    </tr>\n    <tr>\n      <th>3</th>\n      <td>102</td>\n      <td>7</td>\n      <td>3290.21</td>\n      <td>4</td>\n      <td>2</td>\n      <td>2</td>\n      <td>422</td>\n      <td>8</td>\n      <td>platinum</td>\n    </tr>\n    <tr>\n      <th>4</th>\n      <td>195</td>\n      <td>2</td>\n      <td>220.57</td>\n      <td>4</td>\n      <td>4</td>\n      <td>4</td>\n      <td>444</td>\n      <td>12</td>\n      <td>silver</td>\n    </tr>\n    <tr>\n      <th>5</th>\n      <td>16</td>\n      <td>6</td>\n      <td>2394.94</td>\n      <td>1</td>\n      <td>2</td>\n      <td>3</td>\n      <td>123</td>\n      <td>6</td>\n      <td>titanium</td>\n    </tr>\n    <tr>\n      <th>6</th>\n      <td>64</td>\n      <td>5</td>\n      <td>3946.55</td>\n      <td>3</td>\n      <td>3</td>\n      <td>2</td>\n      <td>332</td>\n      <td>8</td>\n      <td>platinum</td>\n    </tr>\n    <tr>\n      <th>7</th>\n      <td>253</td>\n      <td>3</td>\n      <td>220.11</td>\n      <td>4</td>\n      <td>4</td>\n      <td>4</td>\n      <td>444</td>\n      <td>12</td>\n      <td>silver</td>\n    </tr>\n    <tr>\n      <th>8</th>\n      <td>22</td>\n      <td>9</td>\n      <td>5364.39</td>\n      <td>2</td>\n      <td>1</td>\n      <td>1</td>\n      <td>211</td>\n      <td>4</td>\n      <td>titanium</td>\n    </tr>\n    <tr>\n      <th>9</th>\n      <td>78</td>\n      <td>6</td>\n      <td>2353.11</td>\n      <td>3</td>\n      <td>2</td>\n      <td>3</td>\n      <td>323</td>\n      <td>8</td>\n      <td>platinum</td>\n    </tr>\n    <tr>\n      <th>10</th>\n      <td>43</td>\n      <td>5</td>\n      <td>3358.28</td>\n      <td>2</td>\n      <td>3</td>\n      <td>2</td>\n      <td>232</td>\n      <td>7</td>\n      <td>platinum</td>\n    </tr>\n  </tbody>\n</table>\n</div>"
          },
          "metadata": {},
          "execution_count": 25
        }
      ]
    },
    {
      "cell_type": "code",
      "metadata": {
        "colab": {
          "base_uri": "https://localhost:8080/",
          "height": 414
        },
        "id": "56mLq6MNu3NG",
        "outputId": "15949045-9286-400c-fead-05aa6152d4c6"
      },
      "source": [
        "transactions"
      ],
      "execution_count": 26,
      "outputs": [
        {
          "output_type": "execute_result",
          "data": {
            "text/plain": [
              "       transaction_id  product_id  customer_id transaction_date  online_order  \\\n",
              "0                   1           2         2950       2017-02-25           0.0   \n",
              "1                   2           3         3120       2017-05-21           1.0   \n",
              "2                   3          37          402       2017-10-16           0.0   \n",
              "3                   4          88         3135       2017-08-31           0.0   \n",
              "4                   5          78          787       2017-10-01           1.0   \n",
              "...               ...         ...          ...              ...           ...   \n",
              "19440           19996          51         1018       2017-06-24           1.0   \n",
              "19441           19997          41          127       2017-11-09           1.0   \n",
              "19442           19998          87         2284       2017-04-14           1.0   \n",
              "19443           19999           6         2764       2017-07-03           0.0   \n",
              "19444           20000          11         1144       2017-09-22           1.0   \n",
              "\n",
              "                brand product_line product_class product_size  list_price  \\\n",
              "0               Solex     Standard        medium       medium       71.49   \n",
              "1       Trek Bicycles     Standard        medium        large     2091.47   \n",
              "2          OHM Cycles     Standard           low       medium     1793.43   \n",
              "3      Norco Bicycles     Standard        medium       medium     1198.46   \n",
              "4      Giant Bicycles     Standard        medium        large     1765.30   \n",
              "...               ...          ...           ...          ...         ...   \n",
              "19440      OHM Cycles     Standard          high       medium     2005.66   \n",
              "19441           Solex         Road        medium       medium      416.98   \n",
              "19442      OHM Cycles     Standard        medium       medium     1636.90   \n",
              "19443      OHM Cycles     Standard          high       medium      227.88   \n",
              "19444   Trek Bicycles     Standard        medium        small     1775.81   \n",
              "\n",
              "       standard_cost product_first_sold_date  order_profit  \n",
              "0              53.62              2012-12-04         17.87  \n",
              "1             388.92              2014-03-05       1702.55  \n",
              "2             248.82              1999-07-22       1544.61  \n",
              "3             381.10              1998-12-18        817.36  \n",
              "4             709.48              2015-08-12       1055.82  \n",
              "...              ...                     ...           ...  \n",
              "19440        1203.40              2003-07-23        802.26  \n",
              "19441         312.74              1997-05-12        104.24  \n",
              "19442          44.71              2010-08-22       1592.19  \n",
              "19443         136.73              2004-08-19         91.15  \n",
              "19444        1580.47              1999-06-25        195.34  \n",
              "\n",
              "[19445 rows x 13 columns]"
            ],
            "text/html": "<div>\n<style scoped>\n    .dataframe tbody tr th:only-of-type {\n        vertical-align: middle;\n    }\n\n    .dataframe tbody tr th {\n        vertical-align: top;\n    }\n\n    .dataframe thead th {\n        text-align: right;\n    }\n</style>\n<table border=\"1\" class=\"dataframe\">\n  <thead>\n    <tr style=\"text-align: right;\">\n      <th></th>\n      <th>transaction_id</th>\n      <th>product_id</th>\n      <th>customer_id</th>\n      <th>transaction_date</th>\n      <th>online_order</th>\n      <th>brand</th>\n      <th>product_line</th>\n      <th>product_class</th>\n      <th>product_size</th>\n      <th>list_price</th>\n      <th>standard_cost</th>\n      <th>product_first_sold_date</th>\n      <th>order_profit</th>\n    </tr>\n  </thead>\n  <tbody>\n    <tr>\n      <th>0</th>\n      <td>1</td>\n      <td>2</td>\n      <td>2950</td>\n      <td>2017-02-25</td>\n      <td>0.0</td>\n      <td>Solex</td>\n      <td>Standard</td>\n      <td>medium</td>\n      <td>medium</td>\n      <td>71.49</td>\n      <td>53.62</td>\n      <td>2012-12-04</td>\n      <td>17.87</td>\n    </tr>\n    <tr>\n      <th>1</th>\n      <td>2</td>\n      <td>3</td>\n      <td>3120</td>\n      <td>2017-05-21</td>\n      <td>1.0</td>\n      <td>Trek Bicycles</td>\n      <td>Standard</td>\n      <td>medium</td>\n      <td>large</td>\n      <td>2091.47</td>\n      <td>388.92</td>\n      <td>2014-03-05</td>\n      <td>1702.55</td>\n    </tr>\n    <tr>\n      <th>2</th>\n      <td>3</td>\n      <td>37</td>\n      <td>402</td>\n      <td>2017-10-16</td>\n      <td>0.0</td>\n      <td>OHM Cycles</td>\n      <td>Standard</td>\n      <td>low</td>\n      <td>medium</td>\n      <td>1793.43</td>\n      <td>248.82</td>\n      <td>1999-07-22</td>\n      <td>1544.61</td>\n    </tr>\n    <tr>\n      <th>3</th>\n      <td>4</td>\n      <td>88</td>\n      <td>3135</td>\n      <td>2017-08-31</td>\n      <td>0.0</td>\n      <td>Norco Bicycles</td>\n      <td>Standard</td>\n      <td>medium</td>\n      <td>medium</td>\n      <td>1198.46</td>\n      <td>381.10</td>\n      <td>1998-12-18</td>\n      <td>817.36</td>\n    </tr>\n    <tr>\n      <th>4</th>\n      <td>5</td>\n      <td>78</td>\n      <td>787</td>\n      <td>2017-10-01</td>\n      <td>1.0</td>\n      <td>Giant Bicycles</td>\n      <td>Standard</td>\n      <td>medium</td>\n      <td>large</td>\n      <td>1765.30</td>\n      <td>709.48</td>\n      <td>2015-08-12</td>\n      <td>1055.82</td>\n    </tr>\n    <tr>\n      <th>...</th>\n      <td>...</td>\n      <td>...</td>\n      <td>...</td>\n      <td>...</td>\n      <td>...</td>\n      <td>...</td>\n      <td>...</td>\n      <td>...</td>\n      <td>...</td>\n      <td>...</td>\n      <td>...</td>\n      <td>...</td>\n      <td>...</td>\n    </tr>\n    <tr>\n      <th>19440</th>\n      <td>19996</td>\n      <td>51</td>\n      <td>1018</td>\n      <td>2017-06-24</td>\n      <td>1.0</td>\n      <td>OHM Cycles</td>\n      <td>Standard</td>\n      <td>high</td>\n      <td>medium</td>\n      <td>2005.66</td>\n      <td>1203.40</td>\n      <td>2003-07-23</td>\n      <td>802.26</td>\n    </tr>\n    <tr>\n      <th>19441</th>\n      <td>19997</td>\n      <td>41</td>\n      <td>127</td>\n      <td>2017-11-09</td>\n      <td>1.0</td>\n      <td>Solex</td>\n      <td>Road</td>\n      <td>medium</td>\n      <td>medium</td>\n      <td>416.98</td>\n      <td>312.74</td>\n      <td>1997-05-12</td>\n      <td>104.24</td>\n    </tr>\n    <tr>\n      <th>19442</th>\n      <td>19998</td>\n      <td>87</td>\n      <td>2284</td>\n      <td>2017-04-14</td>\n      <td>1.0</td>\n      <td>OHM Cycles</td>\n      <td>Standard</td>\n      <td>medium</td>\n      <td>medium</td>\n      <td>1636.90</td>\n      <td>44.71</td>\n      <td>2010-08-22</td>\n      <td>1592.19</td>\n    </tr>\n    <tr>\n      <th>19443</th>\n      <td>19999</td>\n      <td>6</td>\n      <td>2764</td>\n      <td>2017-07-03</td>\n      <td>0.0</td>\n      <td>OHM Cycles</td>\n      <td>Standard</td>\n      <td>high</td>\n      <td>medium</td>\n      <td>227.88</td>\n      <td>136.73</td>\n      <td>2004-08-19</td>\n      <td>91.15</td>\n    </tr>\n    <tr>\n      <th>19444</th>\n      <td>20000</td>\n      <td>11</td>\n      <td>1144</td>\n      <td>2017-09-22</td>\n      <td>1.0</td>\n      <td>Trek Bicycles</td>\n      <td>Standard</td>\n      <td>medium</td>\n      <td>small</td>\n      <td>1775.81</td>\n      <td>1580.47</td>\n      <td>1999-06-25</td>\n      <td>195.34</td>\n    </tr>\n  </tbody>\n</table>\n<p>19445 rows × 13 columns</p>\n</div>"
          },
          "metadata": {},
          "execution_count": 26
        }
      ]
    },
    {
      "cell_type": "code",
      "metadata": {
        "colab": {
          "base_uri": "https://localhost:8080/",
          "height": 355
        },
        "id": "4BIP5bFxuVcJ",
        "outputId": "7ccda229-c077-4f2c-85df-8b5171bc2691"
      },
      "source": [
        "# aggregate customer based on brand interaction\n",
        "\n",
        "brand_int = transactions.groupby([\"customer_id\", \"brand\"], as_index = False)['transaction_id'].count()\n",
        "brand_int = brand_int.rename(columns = {'transaction_id':'total_transactions'})\n",
        "brand_int.head(10)"
      ],
      "execution_count": 27,
      "outputs": [
        {
          "output_type": "execute_result",
          "data": {
            "text/plain": [
              "   customer_id           brand  total_transactions\n",
              "0            1  Giant Bicycles                   4\n",
              "1            1  Norco Bicycles                   2\n",
              "2            1      OHM Cycles                   2\n",
              "3            1           Solex                   2\n",
              "4            1   Trek Bicycles                   1\n",
              "5            2  Giant Bicycles                   1\n",
              "6            2        WeareA2B                   2\n",
              "7            3  Giant Bicycles                   2\n",
              "8            3  Norco Bicycles                   2\n",
              "9            3   Trek Bicycles                   3"
            ],
            "text/html": "<div>\n<style scoped>\n    .dataframe tbody tr th:only-of-type {\n        vertical-align: middle;\n    }\n\n    .dataframe tbody tr th {\n        vertical-align: top;\n    }\n\n    .dataframe thead th {\n        text-align: right;\n    }\n</style>\n<table border=\"1\" class=\"dataframe\">\n  <thead>\n    <tr style=\"text-align: right;\">\n      <th></th>\n      <th>customer_id</th>\n      <th>brand</th>\n      <th>total_transactions</th>\n    </tr>\n  </thead>\n  <tbody>\n    <tr>\n      <th>0</th>\n      <td>1</td>\n      <td>Giant Bicycles</td>\n      <td>4</td>\n    </tr>\n    <tr>\n      <th>1</th>\n      <td>1</td>\n      <td>Norco Bicycles</td>\n      <td>2</td>\n    </tr>\n    <tr>\n      <th>2</th>\n      <td>1</td>\n      <td>OHM Cycles</td>\n      <td>2</td>\n    </tr>\n    <tr>\n      <th>3</th>\n      <td>1</td>\n      <td>Solex</td>\n      <td>2</td>\n    </tr>\n    <tr>\n      <th>4</th>\n      <td>1</td>\n      <td>Trek Bicycles</td>\n      <td>1</td>\n    </tr>\n    <tr>\n      <th>5</th>\n      <td>2</td>\n      <td>Giant Bicycles</td>\n      <td>1</td>\n    </tr>\n    <tr>\n      <th>6</th>\n      <td>2</td>\n      <td>WeareA2B</td>\n      <td>2</td>\n    </tr>\n    <tr>\n      <th>7</th>\n      <td>3</td>\n      <td>Giant Bicycles</td>\n      <td>2</td>\n    </tr>\n    <tr>\n      <th>8</th>\n      <td>3</td>\n      <td>Norco Bicycles</td>\n      <td>2</td>\n    </tr>\n    <tr>\n      <th>9</th>\n      <td>3</td>\n      <td>Trek Bicycles</td>\n      <td>3</td>\n    </tr>\n  </tbody>\n</table>\n</div>"
          },
          "metadata": {},
          "execution_count": 27
        }
      ]
    },
    {
      "cell_type": "code",
      "metadata": {
        "colab": {
          "base_uri": "https://localhost:8080/"
        },
        "id": "nEGi3oQNedkB",
        "outputId": "27626dda-fc92-4856-80b0-3000729a939b"
      },
      "source": [
        "brand_int.dtypes"
      ],
      "execution_count": 28,
      "outputs": [
        {
          "output_type": "execute_result",
          "data": {
            "text/plain": [
              "customer_id            int64\n",
              "brand                 object\n",
              "total_transactions     int64\n",
              "dtype: object"
            ]
          },
          "metadata": {},
          "execution_count": 28
        }
      ]
    },
    {
      "source": [
        "### Getting the favourite brand for each customer"
      ],
      "cell_type": "markdown",
      "metadata": {}
    },
    {
      "cell_type": "code",
      "execution_count": 30,
      "metadata": {},
      "outputs": [
        {
          "output_type": "execute_result",
          "data": {
            "text/plain": [
              "   customer_id           brand  total_transactions\n",
              "4            1   Trek Bicycles                   1\n",
              "1            1  Norco Bicycles                   2\n",
              "2            1      OHM Cycles                   2\n",
              "3            1           Solex                   2\n",
              "0            1  Giant Bicycles                   4\n",
              "5            2  Giant Bicycles                   1\n",
              "6            2        WeareA2B                   2\n",
              "7            3  Giant Bicycles                   2\n",
              "8            3  Norco Bicycles                   2\n",
              "9            3   Trek Bicycles                   3"
            ],
            "text/html": "<div>\n<style scoped>\n    .dataframe tbody tr th:only-of-type {\n        vertical-align: middle;\n    }\n\n    .dataframe tbody tr th {\n        vertical-align: top;\n    }\n\n    .dataframe thead th {\n        text-align: right;\n    }\n</style>\n<table border=\"1\" class=\"dataframe\">\n  <thead>\n    <tr style=\"text-align: right;\">\n      <th></th>\n      <th>customer_id</th>\n      <th>brand</th>\n      <th>total_transactions</th>\n    </tr>\n  </thead>\n  <tbody>\n    <tr>\n      <th>4</th>\n      <td>1</td>\n      <td>Trek Bicycles</td>\n      <td>1</td>\n    </tr>\n    <tr>\n      <th>1</th>\n      <td>1</td>\n      <td>Norco Bicycles</td>\n      <td>2</td>\n    </tr>\n    <tr>\n      <th>2</th>\n      <td>1</td>\n      <td>OHM Cycles</td>\n      <td>2</td>\n    </tr>\n    <tr>\n      <th>3</th>\n      <td>1</td>\n      <td>Solex</td>\n      <td>2</td>\n    </tr>\n    <tr>\n      <th>0</th>\n      <td>1</td>\n      <td>Giant Bicycles</td>\n      <td>4</td>\n    </tr>\n    <tr>\n      <th>5</th>\n      <td>2</td>\n      <td>Giant Bicycles</td>\n      <td>1</td>\n    </tr>\n    <tr>\n      <th>6</th>\n      <td>2</td>\n      <td>WeareA2B</td>\n      <td>2</td>\n    </tr>\n    <tr>\n      <th>7</th>\n      <td>3</td>\n      <td>Giant Bicycles</td>\n      <td>2</td>\n    </tr>\n    <tr>\n      <th>8</th>\n      <td>3</td>\n      <td>Norco Bicycles</td>\n      <td>2</td>\n    </tr>\n    <tr>\n      <th>9</th>\n      <td>3</td>\n      <td>Trek Bicycles</td>\n      <td>3</td>\n    </tr>\n  </tbody>\n</table>\n</div>"
          },
          "metadata": {},
          "execution_count": 30
        }
      ],
      "source": [
        "# Sort the customer_id, followed by the transaction numbers\n",
        "sorted_brand = brand_int.sort_values(by=[\"customer_id\", \"total_transactions\"])\n",
        "sorted_brand.head(10)"
      ]
    },
    {
      "cell_type": "code",
      "execution_count": 32,
      "metadata": {},
      "outputs": [
        {
          "output_type": "execute_result",
          "data": {
            "text/plain": [
              "       customer_id favourite_brand  total_transactions\n",
              "0                1  Giant Bicycles                   4\n",
              "6                2        WeareA2B                   2\n",
              "9                3   Trek Bicycles                   3\n",
              "11               4           Solex                   1\n",
              "13               5  Norco Bicycles                   2\n",
              "...            ...             ...                 ...\n",
              "12642         3497  Giant Bicycles                   2\n",
              "12647         3498        WeareA2B                   2\n",
              "12651         3499        WeareA2B                   2\n",
              "12655         3500        WeareA2B                   2\n",
              "12658         5034           Solex                   1\n",
              "\n",
              "[3492 rows x 3 columns]"
            ],
            "text/html": "<div>\n<style scoped>\n    .dataframe tbody tr th:only-of-type {\n        vertical-align: middle;\n    }\n\n    .dataframe tbody tr th {\n        vertical-align: top;\n    }\n\n    .dataframe thead th {\n        text-align: right;\n    }\n</style>\n<table border=\"1\" class=\"dataframe\">\n  <thead>\n    <tr style=\"text-align: right;\">\n      <th></th>\n      <th>customer_id</th>\n      <th>favourite_brand</th>\n      <th>total_transactions</th>\n    </tr>\n  </thead>\n  <tbody>\n    <tr>\n      <th>0</th>\n      <td>1</td>\n      <td>Giant Bicycles</td>\n      <td>4</td>\n    </tr>\n    <tr>\n      <th>6</th>\n      <td>2</td>\n      <td>WeareA2B</td>\n      <td>2</td>\n    </tr>\n    <tr>\n      <th>9</th>\n      <td>3</td>\n      <td>Trek Bicycles</td>\n      <td>3</td>\n    </tr>\n    <tr>\n      <th>11</th>\n      <td>4</td>\n      <td>Solex</td>\n      <td>1</td>\n    </tr>\n    <tr>\n      <th>13</th>\n      <td>5</td>\n      <td>Norco Bicycles</td>\n      <td>2</td>\n    </tr>\n    <tr>\n      <th>...</th>\n      <td>...</td>\n      <td>...</td>\n      <td>...</td>\n    </tr>\n    <tr>\n      <th>12642</th>\n      <td>3497</td>\n      <td>Giant Bicycles</td>\n      <td>2</td>\n    </tr>\n    <tr>\n      <th>12647</th>\n      <td>3498</td>\n      <td>WeareA2B</td>\n      <td>2</td>\n    </tr>\n    <tr>\n      <th>12651</th>\n      <td>3499</td>\n      <td>WeareA2B</td>\n      <td>2</td>\n    </tr>\n    <tr>\n      <th>12655</th>\n      <td>3500</td>\n      <td>WeareA2B</td>\n      <td>2</td>\n    </tr>\n    <tr>\n      <th>12658</th>\n      <td>5034</td>\n      <td>Solex</td>\n      <td>1</td>\n    </tr>\n  </tbody>\n</table>\n<p>3492 rows × 3 columns</p>\n</div>"
          },
          "metadata": {},
          "execution_count": 32
        }
      ],
      "source": [
        "# Getting the last (highest number of transactions) row as the most favourite brand\n",
        "sorted_brand.drop_duplicates(subset=[\"customer_id\"], keep=\"last\", inplace=True)\n",
        "sorted_brand.columns = [\"customer_id\", \"favourite_brand\", \"total_transactions\"]\n",
        "sorted_brand"
      ]
    },
    {
      "cell_type": "code",
      "metadata": {
        "id": "akuPiBrGde9n"
      },
      "source": [
        "favourite_brand = []\n",
        "\n",
        "# customers_list = np.arange(1, 4001, 1).tolist()\n",
        "customers_list = brand_int['customer_id'].unique().tolist()\n",
        "\n",
        "for r in customers_list:\n",
        "  df_temp = brand_int[brand_int['customer_id'] == r]\n",
        "  max_index = df_temp['total_transactions'].argmax()\n",
        "  favourite_brand.append(df_temp.iloc[max_index,1])"
      ],
      "execution_count": 98,
      "outputs": []
    },
    {
      "cell_type": "code",
      "metadata": {
        "id": "QKxHPuQ2kcY1"
      },
      "source": [
        "transaction_df = pd.DataFrame({\n",
        "                              'customer_id': customers_list,\n",
        "                               'favourite_brand': favourite_brand\n",
        "})"
      ],
      "execution_count": 37,
      "outputs": []
    },
    {
      "cell_type": "code",
      "metadata": {
        "colab": {
          "base_uri": "https://localhost:8080/",
          "height": 414
        },
        "id": "DkFwbEFWk0h8",
        "outputId": "44ae32bf-2468-4087-d8df-7f895285d2c2"
      },
      "source": [
        "transaction_df"
      ],
      "execution_count": 38,
      "outputs": [
        {
          "output_type": "execute_result",
          "data": {
            "text/plain": [
              "      customer_id favourite_brand\n",
              "0               1  Giant Bicycles\n",
              "1               2        WeareA2B\n",
              "2               3   Trek Bicycles\n",
              "3               4  Giant Bicycles\n",
              "4               5  Norco Bicycles\n",
              "...           ...             ...\n",
              "3487         3497  Giant Bicycles\n",
              "3488         3498           Solex\n",
              "3489         3499  Giant Bicycles\n",
              "3490         3500  Giant Bicycles\n",
              "3491         5034  Norco Bicycles\n",
              "\n",
              "[3492 rows x 2 columns]"
            ],
            "text/html": "<div>\n<style scoped>\n    .dataframe tbody tr th:only-of-type {\n        vertical-align: middle;\n    }\n\n    .dataframe tbody tr th {\n        vertical-align: top;\n    }\n\n    .dataframe thead th {\n        text-align: right;\n    }\n</style>\n<table border=\"1\" class=\"dataframe\">\n  <thead>\n    <tr style=\"text-align: right;\">\n      <th></th>\n      <th>customer_id</th>\n      <th>favourite_brand</th>\n    </tr>\n  </thead>\n  <tbody>\n    <tr>\n      <th>0</th>\n      <td>1</td>\n      <td>Giant Bicycles</td>\n    </tr>\n    <tr>\n      <th>1</th>\n      <td>2</td>\n      <td>WeareA2B</td>\n    </tr>\n    <tr>\n      <th>2</th>\n      <td>3</td>\n      <td>Trek Bicycles</td>\n    </tr>\n    <tr>\n      <th>3</th>\n      <td>4</td>\n      <td>Giant Bicycles</td>\n    </tr>\n    <tr>\n      <th>4</th>\n      <td>5</td>\n      <td>Norco Bicycles</td>\n    </tr>\n    <tr>\n      <th>...</th>\n      <td>...</td>\n      <td>...</td>\n    </tr>\n    <tr>\n      <th>3487</th>\n      <td>3497</td>\n      <td>Giant Bicycles</td>\n    </tr>\n    <tr>\n      <th>3488</th>\n      <td>3498</td>\n      <td>Solex</td>\n    </tr>\n    <tr>\n      <th>3489</th>\n      <td>3499</td>\n      <td>Giant Bicycles</td>\n    </tr>\n    <tr>\n      <th>3490</th>\n      <td>3500</td>\n      <td>Giant Bicycles</td>\n    </tr>\n    <tr>\n      <th>3491</th>\n      <td>5034</td>\n      <td>Norco Bicycles</td>\n    </tr>\n  </tbody>\n</table>\n<p>3492 rows × 2 columns</p>\n</div>"
          },
          "metadata": {},
          "execution_count": 38
        }
      ]
    },
    {
      "source": [
        "### Getting the favourite line for each customer"
      ],
      "cell_type": "markdown",
      "metadata": {}
    },
    {
      "cell_type": "code",
      "metadata": {
        "colab": {
          "base_uri": "https://localhost:8080/",
          "height": 414
        },
        "id": "gq7oaZOLy4lE",
        "outputId": "ce5e6260-2fe4-492e-b835-d74fb079e6ac"
      },
      "source": [
        "productline_int = transactions.groupby([\"customer_id\", \"product_line\"], as_index = False)['transaction_id'].count()\n",
        "productline_int = productline_int.rename(columns = {'transaction_id':'total_transactions'})\n",
        "productline_int"
      ],
      "execution_count": 39,
      "outputs": [
        {
          "output_type": "execute_result",
          "data": {
            "text/plain": [
              "      customer_id product_line  total_transactions\n",
              "0               1     Mountain                   1\n",
              "1               1         Road                   3\n",
              "2               1     Standard                   7\n",
              "3               2     Standard                   3\n",
              "4               3     Mountain                   1\n",
              "...           ...          ...                 ...\n",
              "7214         3499      Touring                   1\n",
              "7215         3500         Road                   1\n",
              "7216         3500     Standard                   5\n",
              "7217         5034         Road                   2\n",
              "7218         5034     Standard                   1\n",
              "\n",
              "[7219 rows x 3 columns]"
            ],
            "text/html": "<div>\n<style scoped>\n    .dataframe tbody tr th:only-of-type {\n        vertical-align: middle;\n    }\n\n    .dataframe tbody tr th {\n        vertical-align: top;\n    }\n\n    .dataframe thead th {\n        text-align: right;\n    }\n</style>\n<table border=\"1\" class=\"dataframe\">\n  <thead>\n    <tr style=\"text-align: right;\">\n      <th></th>\n      <th>customer_id</th>\n      <th>product_line</th>\n      <th>total_transactions</th>\n    </tr>\n  </thead>\n  <tbody>\n    <tr>\n      <th>0</th>\n      <td>1</td>\n      <td>Mountain</td>\n      <td>1</td>\n    </tr>\n    <tr>\n      <th>1</th>\n      <td>1</td>\n      <td>Road</td>\n      <td>3</td>\n    </tr>\n    <tr>\n      <th>2</th>\n      <td>1</td>\n      <td>Standard</td>\n      <td>7</td>\n    </tr>\n    <tr>\n      <th>3</th>\n      <td>2</td>\n      <td>Standard</td>\n      <td>3</td>\n    </tr>\n    <tr>\n      <th>4</th>\n      <td>3</td>\n      <td>Mountain</td>\n      <td>1</td>\n    </tr>\n    <tr>\n      <th>...</th>\n      <td>...</td>\n      <td>...</td>\n      <td>...</td>\n    </tr>\n    <tr>\n      <th>7214</th>\n      <td>3499</td>\n      <td>Touring</td>\n      <td>1</td>\n    </tr>\n    <tr>\n      <th>7215</th>\n      <td>3500</td>\n      <td>Road</td>\n      <td>1</td>\n    </tr>\n    <tr>\n      <th>7216</th>\n      <td>3500</td>\n      <td>Standard</td>\n      <td>5</td>\n    </tr>\n    <tr>\n      <th>7217</th>\n      <td>5034</td>\n      <td>Road</td>\n      <td>2</td>\n    </tr>\n    <tr>\n      <th>7218</th>\n      <td>5034</td>\n      <td>Standard</td>\n      <td>1</td>\n    </tr>\n  </tbody>\n</table>\n<p>7219 rows × 3 columns</p>\n</div>"
          },
          "metadata": {},
          "execution_count": 39
        }
      ]
    },
    {
      "cell_type": "code",
      "execution_count": 41,
      "metadata": {},
      "outputs": [
        {
          "output_type": "execute_result",
          "data": {
            "text/plain": [
              "    customer_id product_line  total_transactions\n",
              "0             1     Mountain                   1\n",
              "1             1         Road                   3\n",
              "2             1     Standard                   7\n",
              "3             2     Standard                   3\n",
              "4             3     Mountain                   1\n",
              "5             3         Road                   3\n",
              "6             3     Standard                   3\n",
              "7             4     Standard                   2\n",
              "8             5     Mountain                   1\n",
              "10            5     Standard                   2"
            ],
            "text/html": "<div>\n<style scoped>\n    .dataframe tbody tr th:only-of-type {\n        vertical-align: middle;\n    }\n\n    .dataframe tbody tr th {\n        vertical-align: top;\n    }\n\n    .dataframe thead th {\n        text-align: right;\n    }\n</style>\n<table border=\"1\" class=\"dataframe\">\n  <thead>\n    <tr style=\"text-align: right;\">\n      <th></th>\n      <th>customer_id</th>\n      <th>product_line</th>\n      <th>total_transactions</th>\n    </tr>\n  </thead>\n  <tbody>\n    <tr>\n      <th>0</th>\n      <td>1</td>\n      <td>Mountain</td>\n      <td>1</td>\n    </tr>\n    <tr>\n      <th>1</th>\n      <td>1</td>\n      <td>Road</td>\n      <td>3</td>\n    </tr>\n    <tr>\n      <th>2</th>\n      <td>1</td>\n      <td>Standard</td>\n      <td>7</td>\n    </tr>\n    <tr>\n      <th>3</th>\n      <td>2</td>\n      <td>Standard</td>\n      <td>3</td>\n    </tr>\n    <tr>\n      <th>4</th>\n      <td>3</td>\n      <td>Mountain</td>\n      <td>1</td>\n    </tr>\n    <tr>\n      <th>5</th>\n      <td>3</td>\n      <td>Road</td>\n      <td>3</td>\n    </tr>\n    <tr>\n      <th>6</th>\n      <td>3</td>\n      <td>Standard</td>\n      <td>3</td>\n    </tr>\n    <tr>\n      <th>7</th>\n      <td>4</td>\n      <td>Standard</td>\n      <td>2</td>\n    </tr>\n    <tr>\n      <th>8</th>\n      <td>5</td>\n      <td>Mountain</td>\n      <td>1</td>\n    </tr>\n    <tr>\n      <th>10</th>\n      <td>5</td>\n      <td>Standard</td>\n      <td>2</td>\n    </tr>\n  </tbody>\n</table>\n</div>"
          },
          "metadata": {},
          "execution_count": 41
        }
      ],
      "source": [
        "# Sort the customer_id, followed by the transaction numbers\n",
        "sorted_productline = productline_int.sort_values(by=[\"customer_id\", \"total_transactions\"])\n",
        "sorted_productline.head(10)"
      ]
    },
    {
      "cell_type": "code",
      "execution_count": 42,
      "metadata": {},
      "outputs": [
        {
          "output_type": "execute_result",
          "data": {
            "text/plain": [
              "      customer_id favourite_line  total_transactions\n",
              "2               1       Standard                   7\n",
              "3               2       Standard                   3\n",
              "6               3       Standard                   3\n",
              "7               4       Standard                   2\n",
              "9               5           Road                   3\n",
              "...           ...            ...                 ...\n",
              "7209         3497       Standard                   3\n",
              "7210         3498       Standard                   5\n",
              "7213         3499       Standard                   5\n",
              "7216         3500       Standard                   5\n",
              "7217         5034           Road                   2\n",
              "\n",
              "[3492 rows x 3 columns]"
            ],
            "text/html": "<div>\n<style scoped>\n    .dataframe tbody tr th:only-of-type {\n        vertical-align: middle;\n    }\n\n    .dataframe tbody tr th {\n        vertical-align: top;\n    }\n\n    .dataframe thead th {\n        text-align: right;\n    }\n</style>\n<table border=\"1\" class=\"dataframe\">\n  <thead>\n    <tr style=\"text-align: right;\">\n      <th></th>\n      <th>customer_id</th>\n      <th>favourite_line</th>\n      <th>total_transactions</th>\n    </tr>\n  </thead>\n  <tbody>\n    <tr>\n      <th>2</th>\n      <td>1</td>\n      <td>Standard</td>\n      <td>7</td>\n    </tr>\n    <tr>\n      <th>3</th>\n      <td>2</td>\n      <td>Standard</td>\n      <td>3</td>\n    </tr>\n    <tr>\n      <th>6</th>\n      <td>3</td>\n      <td>Standard</td>\n      <td>3</td>\n    </tr>\n    <tr>\n      <th>7</th>\n      <td>4</td>\n      <td>Standard</td>\n      <td>2</td>\n    </tr>\n    <tr>\n      <th>9</th>\n      <td>5</td>\n      <td>Road</td>\n      <td>3</td>\n    </tr>\n    <tr>\n      <th>...</th>\n      <td>...</td>\n      <td>...</td>\n      <td>...</td>\n    </tr>\n    <tr>\n      <th>7209</th>\n      <td>3497</td>\n      <td>Standard</td>\n      <td>3</td>\n    </tr>\n    <tr>\n      <th>7210</th>\n      <td>3498</td>\n      <td>Standard</td>\n      <td>5</td>\n    </tr>\n    <tr>\n      <th>7213</th>\n      <td>3499</td>\n      <td>Standard</td>\n      <td>5</td>\n    </tr>\n    <tr>\n      <th>7216</th>\n      <td>3500</td>\n      <td>Standard</td>\n      <td>5</td>\n    </tr>\n    <tr>\n      <th>7217</th>\n      <td>5034</td>\n      <td>Road</td>\n      <td>2</td>\n    </tr>\n  </tbody>\n</table>\n<p>3492 rows × 3 columns</p>\n</div>"
          },
          "metadata": {},
          "execution_count": 42
        }
      ],
      "source": [
        "# Getting the last (highest number of transactions) row as the most favourite productline\n",
        "sorted_productline.drop_duplicates(subset=[\"customer_id\"], keep=\"last\", inplace=True)\n",
        "sorted_productline.columns = [\"customer_id\", \"favourite_line\", \"total_transactions\"]\n",
        "sorted_productline"
      ]
    },
    {
      "cell_type": "code",
      "metadata": {
        "id": "S3Dh4-Vzllu-"
      },
      "source": [
        "favourite_line= []\n",
        "\n",
        "for r in customers_list:\n",
        "  df_temp = productline_int[productline_int['customer_id'] == r]\n",
        "  max_index = df_temp['total_transactions'].argmax()\n",
        "  favourite_line.append(df_temp.iloc[max_index,1])"
      ],
      "execution_count": 40,
      "outputs": []
    },
    {
      "cell_type": "code",
      "metadata": {
        "id": "U1AA7N3rlzuE"
      },
      "source": [
        "transaction_df['favourite_line'] = favourite_line"
      ],
      "execution_count": 43,
      "outputs": []
    },
    {
      "cell_type": "code",
      "metadata": {
        "colab": {
          "base_uri": "https://localhost:8080/",
          "height": 414
        },
        "id": "A4wQ9nncl5ys",
        "outputId": "86a3d03a-054b-4541-c634-234117499ecb"
      },
      "source": [
        "transaction_df"
      ],
      "execution_count": 44,
      "outputs": [
        {
          "output_type": "execute_result",
          "data": {
            "text/plain": [
              "      customer_id favourite_brand favourite_line\n",
              "0               1  Giant Bicycles       Standard\n",
              "1               2        WeareA2B       Standard\n",
              "2               3   Trek Bicycles           Road\n",
              "3               4  Giant Bicycles       Standard\n",
              "4               5  Norco Bicycles           Road\n",
              "...           ...             ...            ...\n",
              "3487         3497  Giant Bicycles       Standard\n",
              "3488         3498           Solex       Standard\n",
              "3489         3499  Giant Bicycles       Standard\n",
              "3490         3500  Giant Bicycles       Standard\n",
              "3491         5034  Norco Bicycles           Road\n",
              "\n",
              "[3492 rows x 3 columns]"
            ],
            "text/html": "<div>\n<style scoped>\n    .dataframe tbody tr th:only-of-type {\n        vertical-align: middle;\n    }\n\n    .dataframe tbody tr th {\n        vertical-align: top;\n    }\n\n    .dataframe thead th {\n        text-align: right;\n    }\n</style>\n<table border=\"1\" class=\"dataframe\">\n  <thead>\n    <tr style=\"text-align: right;\">\n      <th></th>\n      <th>customer_id</th>\n      <th>favourite_brand</th>\n      <th>favourite_line</th>\n    </tr>\n  </thead>\n  <tbody>\n    <tr>\n      <th>0</th>\n      <td>1</td>\n      <td>Giant Bicycles</td>\n      <td>Standard</td>\n    </tr>\n    <tr>\n      <th>1</th>\n      <td>2</td>\n      <td>WeareA2B</td>\n      <td>Standard</td>\n    </tr>\n    <tr>\n      <th>2</th>\n      <td>3</td>\n      <td>Trek Bicycles</td>\n      <td>Road</td>\n    </tr>\n    <tr>\n      <th>3</th>\n      <td>4</td>\n      <td>Giant Bicycles</td>\n      <td>Standard</td>\n    </tr>\n    <tr>\n      <th>4</th>\n      <td>5</td>\n      <td>Norco Bicycles</td>\n      <td>Road</td>\n    </tr>\n    <tr>\n      <th>...</th>\n      <td>...</td>\n      <td>...</td>\n      <td>...</td>\n    </tr>\n    <tr>\n      <th>3487</th>\n      <td>3497</td>\n      <td>Giant Bicycles</td>\n      <td>Standard</td>\n    </tr>\n    <tr>\n      <th>3488</th>\n      <td>3498</td>\n      <td>Solex</td>\n      <td>Standard</td>\n    </tr>\n    <tr>\n      <th>3489</th>\n      <td>3499</td>\n      <td>Giant Bicycles</td>\n      <td>Standard</td>\n    </tr>\n    <tr>\n      <th>3490</th>\n      <td>3500</td>\n      <td>Giant Bicycles</td>\n      <td>Standard</td>\n    </tr>\n    <tr>\n      <th>3491</th>\n      <td>5034</td>\n      <td>Norco Bicycles</td>\n      <td>Road</td>\n    </tr>\n  </tbody>\n</table>\n<p>3492 rows × 3 columns</p>\n</div>"
          },
          "metadata": {},
          "execution_count": 44
        }
      ]
    },
    {
      "cell_type": "code",
      "metadata": {
        "colab": {
          "base_uri": "https://localhost:8080/",
          "height": 414
        },
        "id": "8CTL5u_ZzZAl",
        "outputId": "a560887b-e794-49e1-df42-b47406d4fb89"
      },
      "source": [
        "product_class_int = transactions.groupby([\"customer_id\", \"product_class\"], as_index = False)['transaction_id'].count()\n",
        "product_class_int = productline_int.rename(columns = {'transaction_id':'total_transactions'})\n",
        "product_class_int"
      ],
      "execution_count": 45,
      "outputs": [
        {
          "output_type": "execute_result",
          "data": {
            "text/plain": [
              "      customer_id product_line  total_transactions\n",
              "0               1     Mountain                   1\n",
              "1               1         Road                   3\n",
              "2               1     Standard                   7\n",
              "3               2     Standard                   3\n",
              "4               3     Mountain                   1\n",
              "...           ...          ...                 ...\n",
              "7214         3499      Touring                   1\n",
              "7215         3500         Road                   1\n",
              "7216         3500     Standard                   5\n",
              "7217         5034         Road                   2\n",
              "7218         5034     Standard                   1\n",
              "\n",
              "[7219 rows x 3 columns]"
            ],
            "text/html": "<div>\n<style scoped>\n    .dataframe tbody tr th:only-of-type {\n        vertical-align: middle;\n    }\n\n    .dataframe tbody tr th {\n        vertical-align: top;\n    }\n\n    .dataframe thead th {\n        text-align: right;\n    }\n</style>\n<table border=\"1\" class=\"dataframe\">\n  <thead>\n    <tr style=\"text-align: right;\">\n      <th></th>\n      <th>customer_id</th>\n      <th>product_line</th>\n      <th>total_transactions</th>\n    </tr>\n  </thead>\n  <tbody>\n    <tr>\n      <th>0</th>\n      <td>1</td>\n      <td>Mountain</td>\n      <td>1</td>\n    </tr>\n    <tr>\n      <th>1</th>\n      <td>1</td>\n      <td>Road</td>\n      <td>3</td>\n    </tr>\n    <tr>\n      <th>2</th>\n      <td>1</td>\n      <td>Standard</td>\n      <td>7</td>\n    </tr>\n    <tr>\n      <th>3</th>\n      <td>2</td>\n      <td>Standard</td>\n      <td>3</td>\n    </tr>\n    <tr>\n      <th>4</th>\n      <td>3</td>\n      <td>Mountain</td>\n      <td>1</td>\n    </tr>\n    <tr>\n      <th>...</th>\n      <td>...</td>\n      <td>...</td>\n      <td>...</td>\n    </tr>\n    <tr>\n      <th>7214</th>\n      <td>3499</td>\n      <td>Touring</td>\n      <td>1</td>\n    </tr>\n    <tr>\n      <th>7215</th>\n      <td>3500</td>\n      <td>Road</td>\n      <td>1</td>\n    </tr>\n    <tr>\n      <th>7216</th>\n      <td>3500</td>\n      <td>Standard</td>\n      <td>5</td>\n    </tr>\n    <tr>\n      <th>7217</th>\n      <td>5034</td>\n      <td>Road</td>\n      <td>2</td>\n    </tr>\n    <tr>\n      <th>7218</th>\n      <td>5034</td>\n      <td>Standard</td>\n      <td>1</td>\n    </tr>\n  </tbody>\n</table>\n<p>7219 rows × 3 columns</p>\n</div>"
          },
          "metadata": {},
          "execution_count": 45
        }
      ]
    },
    {
      "cell_type": "code",
      "metadata": {
        "id": "fhRJ04dyl9Ee"
      },
      "source": [
        "favourite_class= []\n",
        "\n",
        "for r in customers_list:\n",
        "  df_temp = product_class_int[product_class_int['customer_id'] == r]\n",
        "  max_index = df_temp['total_transactions'].argmax()\n",
        "  favourite_class.append(df_temp.iloc[max_index,1])"
      ],
      "execution_count": 46,
      "outputs": []
    },
    {
      "cell_type": "code",
      "metadata": {
        "colab": {
          "base_uri": "https://localhost:8080/",
          "height": 414
        },
        "id": "ZXIgLw2BmIbE",
        "outputId": "30c22234-7c6a-4957-a426-03b40410baf6"
      },
      "source": [
        "transaction_df['favourite_class'] = favourite_class\n",
        "transaction_df"
      ],
      "execution_count": 47,
      "outputs": [
        {
          "output_type": "execute_result",
          "data": {
            "text/plain": [
              "      customer_id favourite_brand favourite_line favourite_class\n",
              "0               1  Giant Bicycles       Standard        Standard\n",
              "1               2        WeareA2B       Standard        Standard\n",
              "2               3   Trek Bicycles           Road            Road\n",
              "3               4  Giant Bicycles       Standard        Standard\n",
              "4               5  Norco Bicycles           Road            Road\n",
              "...           ...             ...            ...             ...\n",
              "3487         3497  Giant Bicycles       Standard        Standard\n",
              "3488         3498           Solex       Standard        Standard\n",
              "3489         3499  Giant Bicycles       Standard        Standard\n",
              "3490         3500  Giant Bicycles       Standard        Standard\n",
              "3491         5034  Norco Bicycles           Road            Road\n",
              "\n",
              "[3492 rows x 4 columns]"
            ],
            "text/html": "<div>\n<style scoped>\n    .dataframe tbody tr th:only-of-type {\n        vertical-align: middle;\n    }\n\n    .dataframe tbody tr th {\n        vertical-align: top;\n    }\n\n    .dataframe thead th {\n        text-align: right;\n    }\n</style>\n<table border=\"1\" class=\"dataframe\">\n  <thead>\n    <tr style=\"text-align: right;\">\n      <th></th>\n      <th>customer_id</th>\n      <th>favourite_brand</th>\n      <th>favourite_line</th>\n      <th>favourite_class</th>\n    </tr>\n  </thead>\n  <tbody>\n    <tr>\n      <th>0</th>\n      <td>1</td>\n      <td>Giant Bicycles</td>\n      <td>Standard</td>\n      <td>Standard</td>\n    </tr>\n    <tr>\n      <th>1</th>\n      <td>2</td>\n      <td>WeareA2B</td>\n      <td>Standard</td>\n      <td>Standard</td>\n    </tr>\n    <tr>\n      <th>2</th>\n      <td>3</td>\n      <td>Trek Bicycles</td>\n      <td>Road</td>\n      <td>Road</td>\n    </tr>\n    <tr>\n      <th>3</th>\n      <td>4</td>\n      <td>Giant Bicycles</td>\n      <td>Standard</td>\n      <td>Standard</td>\n    </tr>\n    <tr>\n      <th>4</th>\n      <td>5</td>\n      <td>Norco Bicycles</td>\n      <td>Road</td>\n      <td>Road</td>\n    </tr>\n    <tr>\n      <th>...</th>\n      <td>...</td>\n      <td>...</td>\n      <td>...</td>\n      <td>...</td>\n    </tr>\n    <tr>\n      <th>3487</th>\n      <td>3497</td>\n      <td>Giant Bicycles</td>\n      <td>Standard</td>\n      <td>Standard</td>\n    </tr>\n    <tr>\n      <th>3488</th>\n      <td>3498</td>\n      <td>Solex</td>\n      <td>Standard</td>\n      <td>Standard</td>\n    </tr>\n    <tr>\n      <th>3489</th>\n      <td>3499</td>\n      <td>Giant Bicycles</td>\n      <td>Standard</td>\n      <td>Standard</td>\n    </tr>\n    <tr>\n      <th>3490</th>\n      <td>3500</td>\n      <td>Giant Bicycles</td>\n      <td>Standard</td>\n      <td>Standard</td>\n    </tr>\n    <tr>\n      <th>3491</th>\n      <td>5034</td>\n      <td>Norco Bicycles</td>\n      <td>Road</td>\n      <td>Road</td>\n    </tr>\n  </tbody>\n</table>\n<p>3492 rows × 4 columns</p>\n</div>"
          },
          "metadata": {},
          "execution_count": 47
        }
      ]
    },
    {
      "cell_type": "code",
      "metadata": {
        "colab": {
          "base_uri": "https://localhost:8080/",
          "height": 414
        },
        "id": "BeEY-a3uSk-I",
        "outputId": "d83b4591-474d-4162-8b86-ed82dba532a5"
      },
      "source": [
        "product_size_int = transactions.groupby([\"customer_id\", \"product_size\"], as_index = False)['transaction_id'].count()\n",
        "product_size_int = product_size_int.rename(columns = {'transaction_id':'total_transactions'})\n",
        "product_size_int"
      ],
      "execution_count": 48,
      "outputs": [
        {
          "output_type": "execute_result",
          "data": {
            "text/plain": [
              "      customer_id product_size  total_transactions\n",
              "0               1       medium                   9\n",
              "1               1        small                   2\n",
              "2               2       medium                   3\n",
              "3               3        large                   3\n",
              "4               3       medium                   2\n",
              "...           ...          ...                 ...\n",
              "7680         3499        large                   1\n",
              "7681         3499       medium                   6\n",
              "7682         3500       medium                   5\n",
              "7683         3500        small                   1\n",
              "7684         5034       medium                   3\n",
              "\n",
              "[7685 rows x 3 columns]"
            ],
            "text/html": "<div>\n<style scoped>\n    .dataframe tbody tr th:only-of-type {\n        vertical-align: middle;\n    }\n\n    .dataframe tbody tr th {\n        vertical-align: top;\n    }\n\n    .dataframe thead th {\n        text-align: right;\n    }\n</style>\n<table border=\"1\" class=\"dataframe\">\n  <thead>\n    <tr style=\"text-align: right;\">\n      <th></th>\n      <th>customer_id</th>\n      <th>product_size</th>\n      <th>total_transactions</th>\n    </tr>\n  </thead>\n  <tbody>\n    <tr>\n      <th>0</th>\n      <td>1</td>\n      <td>medium</td>\n      <td>9</td>\n    </tr>\n    <tr>\n      <th>1</th>\n      <td>1</td>\n      <td>small</td>\n      <td>2</td>\n    </tr>\n    <tr>\n      <th>2</th>\n      <td>2</td>\n      <td>medium</td>\n      <td>3</td>\n    </tr>\n    <tr>\n      <th>3</th>\n      <td>3</td>\n      <td>large</td>\n      <td>3</td>\n    </tr>\n    <tr>\n      <th>4</th>\n      <td>3</td>\n      <td>medium</td>\n      <td>2</td>\n    </tr>\n    <tr>\n      <th>...</th>\n      <td>...</td>\n      <td>...</td>\n      <td>...</td>\n    </tr>\n    <tr>\n      <th>7680</th>\n      <td>3499</td>\n      <td>large</td>\n      <td>1</td>\n    </tr>\n    <tr>\n      <th>7681</th>\n      <td>3499</td>\n      <td>medium</td>\n      <td>6</td>\n    </tr>\n    <tr>\n      <th>7682</th>\n      <td>3500</td>\n      <td>medium</td>\n      <td>5</td>\n    </tr>\n    <tr>\n      <th>7683</th>\n      <td>3500</td>\n      <td>small</td>\n      <td>1</td>\n    </tr>\n    <tr>\n      <th>7684</th>\n      <td>5034</td>\n      <td>medium</td>\n      <td>3</td>\n    </tr>\n  </tbody>\n</table>\n<p>7685 rows × 3 columns</p>\n</div>"
          },
          "metadata": {},
          "execution_count": 48
        }
      ]
    },
    {
      "cell_type": "code",
      "metadata": {
        "id": "u7S6AecOmS_w"
      },
      "source": [
        "favourite_size= []\n",
        "\n",
        "for r in customers_list:\n",
        "  df_temp = product_size_int[product_size_int['customer_id'] == r]\n",
        "  max_index = df_temp['total_transactions'].argmax()\n",
        "  favourite_size.append(df_temp.iloc[max_index,1])"
      ],
      "execution_count": 49,
      "outputs": []
    },
    {
      "cell_type": "code",
      "metadata": {
        "colab": {
          "base_uri": "https://localhost:8080/",
          "height": 414
        },
        "id": "pjU2N9qsmaZr",
        "outputId": "e34ae1ad-700c-486d-8f31-e815bcef2f8d"
      },
      "source": [
        "transaction_df['favourite_size'] = favourite_size\n",
        "transaction_df"
      ],
      "execution_count": 50,
      "outputs": [
        {
          "output_type": "execute_result",
          "data": {
            "text/plain": [
              "      customer_id favourite_brand favourite_line favourite_class  \\\n",
              "0               1  Giant Bicycles       Standard        Standard   \n",
              "1               2        WeareA2B       Standard        Standard   \n",
              "2               3   Trek Bicycles           Road            Road   \n",
              "3               4  Giant Bicycles       Standard        Standard   \n",
              "4               5  Norco Bicycles           Road            Road   \n",
              "...           ...             ...            ...             ...   \n",
              "3487         3497  Giant Bicycles       Standard        Standard   \n",
              "3488         3498           Solex       Standard        Standard   \n",
              "3489         3499  Giant Bicycles       Standard        Standard   \n",
              "3490         3500  Giant Bicycles       Standard        Standard   \n",
              "3491         5034  Norco Bicycles           Road            Road   \n",
              "\n",
              "     favourite_size  \n",
              "0            medium  \n",
              "1            medium  \n",
              "2             large  \n",
              "3             large  \n",
              "4             large  \n",
              "...             ...  \n",
              "3487         medium  \n",
              "3488         medium  \n",
              "3489         medium  \n",
              "3490         medium  \n",
              "3491         medium  \n",
              "\n",
              "[3492 rows x 5 columns]"
            ],
            "text/html": "<div>\n<style scoped>\n    .dataframe tbody tr th:only-of-type {\n        vertical-align: middle;\n    }\n\n    .dataframe tbody tr th {\n        vertical-align: top;\n    }\n\n    .dataframe thead th {\n        text-align: right;\n    }\n</style>\n<table border=\"1\" class=\"dataframe\">\n  <thead>\n    <tr style=\"text-align: right;\">\n      <th></th>\n      <th>customer_id</th>\n      <th>favourite_brand</th>\n      <th>favourite_line</th>\n      <th>favourite_class</th>\n      <th>favourite_size</th>\n    </tr>\n  </thead>\n  <tbody>\n    <tr>\n      <th>0</th>\n      <td>1</td>\n      <td>Giant Bicycles</td>\n      <td>Standard</td>\n      <td>Standard</td>\n      <td>medium</td>\n    </tr>\n    <tr>\n      <th>1</th>\n      <td>2</td>\n      <td>WeareA2B</td>\n      <td>Standard</td>\n      <td>Standard</td>\n      <td>medium</td>\n    </tr>\n    <tr>\n      <th>2</th>\n      <td>3</td>\n      <td>Trek Bicycles</td>\n      <td>Road</td>\n      <td>Road</td>\n      <td>large</td>\n    </tr>\n    <tr>\n      <th>3</th>\n      <td>4</td>\n      <td>Giant Bicycles</td>\n      <td>Standard</td>\n      <td>Standard</td>\n      <td>large</td>\n    </tr>\n    <tr>\n      <th>4</th>\n      <td>5</td>\n      <td>Norco Bicycles</td>\n      <td>Road</td>\n      <td>Road</td>\n      <td>large</td>\n    </tr>\n    <tr>\n      <th>...</th>\n      <td>...</td>\n      <td>...</td>\n      <td>...</td>\n      <td>...</td>\n      <td>...</td>\n    </tr>\n    <tr>\n      <th>3487</th>\n      <td>3497</td>\n      <td>Giant Bicycles</td>\n      <td>Standard</td>\n      <td>Standard</td>\n      <td>medium</td>\n    </tr>\n    <tr>\n      <th>3488</th>\n      <td>3498</td>\n      <td>Solex</td>\n      <td>Standard</td>\n      <td>Standard</td>\n      <td>medium</td>\n    </tr>\n    <tr>\n      <th>3489</th>\n      <td>3499</td>\n      <td>Giant Bicycles</td>\n      <td>Standard</td>\n      <td>Standard</td>\n      <td>medium</td>\n    </tr>\n    <tr>\n      <th>3490</th>\n      <td>3500</td>\n      <td>Giant Bicycles</td>\n      <td>Standard</td>\n      <td>Standard</td>\n      <td>medium</td>\n    </tr>\n    <tr>\n      <th>3491</th>\n      <td>5034</td>\n      <td>Norco Bicycles</td>\n      <td>Road</td>\n      <td>Road</td>\n      <td>medium</td>\n    </tr>\n  </tbody>\n</table>\n<p>3492 rows × 5 columns</p>\n</div>"
          },
          "metadata": {},
          "execution_count": 50
        }
      ]
    },
    {
      "cell_type": "code",
      "metadata": {
        "colab": {
          "base_uri": "https://localhost:8080/",
          "height": 662
        },
        "id": "X3TiOBm5mzRs",
        "outputId": "6138ffce-00f6-4b79-ea04-eaa9cc3cb418"
      },
      "source": [
        "online_order_int = transactions.groupby([\"customer_id\", \"online_order\"], as_index = False)['transaction_id'].count()\n",
        "online_order_int = online_order_int.rename(columns = {'transaction_id':'total_transactions'})\n",
        "online_order_int.head(20)"
      ],
      "execution_count": 51,
      "outputs": [
        {
          "output_type": "execute_result",
          "data": {
            "text/plain": [
              "    customer_id  online_order  total_transactions\n",
              "0             1           0.0                   5\n",
              "1             1           1.0                   6\n",
              "2             2           0.0                   2\n",
              "3             2           1.0                   1\n",
              "4             3           0.0                   6\n",
              "5             3           1.0                   1\n",
              "6             4           0.0                   1\n",
              "7             4           1.0                   1\n",
              "8             5           0.0                   4\n",
              "9             5           1.0                   2\n",
              "10            6           0.0                   3\n",
              "11            6           1.0                   2\n",
              "12            7           0.0                   1\n",
              "13            7           1.0                   2\n",
              "14            8           0.0                   4\n",
              "15            8           1.0                   5\n",
              "16            9           0.0                   5\n",
              "17            9           1.0                   1\n",
              "18           10           0.0                   3\n",
              "19           10           1.0                   2"
            ],
            "text/html": "<div>\n<style scoped>\n    .dataframe tbody tr th:only-of-type {\n        vertical-align: middle;\n    }\n\n    .dataframe tbody tr th {\n        vertical-align: top;\n    }\n\n    .dataframe thead th {\n        text-align: right;\n    }\n</style>\n<table border=\"1\" class=\"dataframe\">\n  <thead>\n    <tr style=\"text-align: right;\">\n      <th></th>\n      <th>customer_id</th>\n      <th>online_order</th>\n      <th>total_transactions</th>\n    </tr>\n  </thead>\n  <tbody>\n    <tr>\n      <th>0</th>\n      <td>1</td>\n      <td>0.0</td>\n      <td>5</td>\n    </tr>\n    <tr>\n      <th>1</th>\n      <td>1</td>\n      <td>1.0</td>\n      <td>6</td>\n    </tr>\n    <tr>\n      <th>2</th>\n      <td>2</td>\n      <td>0.0</td>\n      <td>2</td>\n    </tr>\n    <tr>\n      <th>3</th>\n      <td>2</td>\n      <td>1.0</td>\n      <td>1</td>\n    </tr>\n    <tr>\n      <th>4</th>\n      <td>3</td>\n      <td>0.0</td>\n      <td>6</td>\n    </tr>\n    <tr>\n      <th>5</th>\n      <td>3</td>\n      <td>1.0</td>\n      <td>1</td>\n    </tr>\n    <tr>\n      <th>6</th>\n      <td>4</td>\n      <td>0.0</td>\n      <td>1</td>\n    </tr>\n    <tr>\n      <th>7</th>\n      <td>4</td>\n      <td>1.0</td>\n      <td>1</td>\n    </tr>\n    <tr>\n      <th>8</th>\n      <td>5</td>\n      <td>0.0</td>\n      <td>4</td>\n    </tr>\n    <tr>\n      <th>9</th>\n      <td>5</td>\n      <td>1.0</td>\n      <td>2</td>\n    </tr>\n    <tr>\n      <th>10</th>\n      <td>6</td>\n      <td>0.0</td>\n      <td>3</td>\n    </tr>\n    <tr>\n      <th>11</th>\n      <td>6</td>\n      <td>1.0</td>\n      <td>2</td>\n    </tr>\n    <tr>\n      <th>12</th>\n      <td>7</td>\n      <td>0.0</td>\n      <td>1</td>\n    </tr>\n    <tr>\n      <th>13</th>\n      <td>7</td>\n      <td>1.0</td>\n      <td>2</td>\n    </tr>\n    <tr>\n      <th>14</th>\n      <td>8</td>\n      <td>0.0</td>\n      <td>4</td>\n    </tr>\n    <tr>\n      <th>15</th>\n      <td>8</td>\n      <td>1.0</td>\n      <td>5</td>\n    </tr>\n    <tr>\n      <th>16</th>\n      <td>9</td>\n      <td>0.0</td>\n      <td>5</td>\n    </tr>\n    <tr>\n      <th>17</th>\n      <td>9</td>\n      <td>1.0</td>\n      <td>1</td>\n    </tr>\n    <tr>\n      <th>18</th>\n      <td>10</td>\n      <td>0.0</td>\n      <td>3</td>\n    </tr>\n    <tr>\n      <th>19</th>\n      <td>10</td>\n      <td>1.0</td>\n      <td>2</td>\n    </tr>\n  </tbody>\n</table>\n</div>"
          },
          "metadata": {},
          "execution_count": 51
        }
      ]
    },
    {
      "cell_type": "code",
      "metadata": {
        "id": "s32SmjwVm6Ms"
      },
      "source": [
        "favourite_method = []\n",
        "\n",
        "for r in customers_list:\n",
        "  df_temp = online_order_int[online_order_int['customer_id'] == r]\n",
        "  max_index = df_temp['total_transactions'].argmax()\n",
        "  favourite_method.append(df_temp.iloc[max_index,1])"
      ],
      "execution_count": 52,
      "outputs": []
    },
    {
      "cell_type": "code",
      "metadata": {
        "colab": {
          "base_uri": "https://localhost:8080/",
          "height": 414
        },
        "id": "M4QV3cOJm8bU",
        "outputId": "323766c5-5ff5-4926-ba3f-955cf20f14c8"
      },
      "source": [
        "transaction_df['favourite_method'] = favourite_method\n",
        "transaction_df\n",
        "\n",
        "# 1 is online, 0 is offline"
      ],
      "execution_count": 53,
      "outputs": [
        {
          "output_type": "execute_result",
          "data": {
            "text/plain": [
              "      customer_id favourite_brand favourite_line favourite_class  \\\n",
              "0               1  Giant Bicycles       Standard        Standard   \n",
              "1               2        WeareA2B       Standard        Standard   \n",
              "2               3   Trek Bicycles           Road            Road   \n",
              "3               4  Giant Bicycles       Standard        Standard   \n",
              "4               5  Norco Bicycles           Road            Road   \n",
              "...           ...             ...            ...             ...   \n",
              "3487         3497  Giant Bicycles       Standard        Standard   \n",
              "3488         3498           Solex       Standard        Standard   \n",
              "3489         3499  Giant Bicycles       Standard        Standard   \n",
              "3490         3500  Giant Bicycles       Standard        Standard   \n",
              "3491         5034  Norco Bicycles           Road            Road   \n",
              "\n",
              "     favourite_size  favourite_method  \n",
              "0            medium               1.0  \n",
              "1            medium               0.0  \n",
              "2             large               0.0  \n",
              "3             large               0.0  \n",
              "4             large               0.0  \n",
              "...             ...               ...  \n",
              "3487         medium               1.0  \n",
              "3488         medium               1.0  \n",
              "3489         medium               1.0  \n",
              "3490         medium               0.0  \n",
              "3491         medium               0.0  \n",
              "\n",
              "[3492 rows x 6 columns]"
            ],
            "text/html": "<div>\n<style scoped>\n    .dataframe tbody tr th:only-of-type {\n        vertical-align: middle;\n    }\n\n    .dataframe tbody tr th {\n        vertical-align: top;\n    }\n\n    .dataframe thead th {\n        text-align: right;\n    }\n</style>\n<table border=\"1\" class=\"dataframe\">\n  <thead>\n    <tr style=\"text-align: right;\">\n      <th></th>\n      <th>customer_id</th>\n      <th>favourite_brand</th>\n      <th>favourite_line</th>\n      <th>favourite_class</th>\n      <th>favourite_size</th>\n      <th>favourite_method</th>\n    </tr>\n  </thead>\n  <tbody>\n    <tr>\n      <th>0</th>\n      <td>1</td>\n      <td>Giant Bicycles</td>\n      <td>Standard</td>\n      <td>Standard</td>\n      <td>medium</td>\n      <td>1.0</td>\n    </tr>\n    <tr>\n      <th>1</th>\n      <td>2</td>\n      <td>WeareA2B</td>\n      <td>Standard</td>\n      <td>Standard</td>\n      <td>medium</td>\n      <td>0.0</td>\n    </tr>\n    <tr>\n      <th>2</th>\n      <td>3</td>\n      <td>Trek Bicycles</td>\n      <td>Road</td>\n      <td>Road</td>\n      <td>large</td>\n      <td>0.0</td>\n    </tr>\n    <tr>\n      <th>3</th>\n      <td>4</td>\n      <td>Giant Bicycles</td>\n      <td>Standard</td>\n      <td>Standard</td>\n      <td>large</td>\n      <td>0.0</td>\n    </tr>\n    <tr>\n      <th>4</th>\n      <td>5</td>\n      <td>Norco Bicycles</td>\n      <td>Road</td>\n      <td>Road</td>\n      <td>large</td>\n      <td>0.0</td>\n    </tr>\n    <tr>\n      <th>...</th>\n      <td>...</td>\n      <td>...</td>\n      <td>...</td>\n      <td>...</td>\n      <td>...</td>\n      <td>...</td>\n    </tr>\n    <tr>\n      <th>3487</th>\n      <td>3497</td>\n      <td>Giant Bicycles</td>\n      <td>Standard</td>\n      <td>Standard</td>\n      <td>medium</td>\n      <td>1.0</td>\n    </tr>\n    <tr>\n      <th>3488</th>\n      <td>3498</td>\n      <td>Solex</td>\n      <td>Standard</td>\n      <td>Standard</td>\n      <td>medium</td>\n      <td>1.0</td>\n    </tr>\n    <tr>\n      <th>3489</th>\n      <td>3499</td>\n      <td>Giant Bicycles</td>\n      <td>Standard</td>\n      <td>Standard</td>\n      <td>medium</td>\n      <td>1.0</td>\n    </tr>\n    <tr>\n      <th>3490</th>\n      <td>3500</td>\n      <td>Giant Bicycles</td>\n      <td>Standard</td>\n      <td>Standard</td>\n      <td>medium</td>\n      <td>0.0</td>\n    </tr>\n    <tr>\n      <th>3491</th>\n      <td>5034</td>\n      <td>Norco Bicycles</td>\n      <td>Road</td>\n      <td>Road</td>\n      <td>medium</td>\n      <td>0.0</td>\n    </tr>\n  </tbody>\n</table>\n<p>3492 rows × 6 columns</p>\n</div>"
          },
          "metadata": {},
          "execution_count": 53
        }
      ]
    },
    {
      "cell_type": "code",
      "metadata": {
        "colab": {
          "base_uri": "https://localhost:8080/",
          "height": 78
        },
        "id": "t5Z8e6K1pAfB",
        "outputId": "dc71a60c-efb2-458e-9604-d791ea35c7e9"
      },
      "source": [
        "transactions.head(1)"
      ],
      "execution_count": 54,
      "outputs": [
        {
          "output_type": "execute_result",
          "data": {
            "text/plain": [
              "   transaction_id  product_id  customer_id transaction_date  online_order  \\\n",
              "0               1           2         2950       2017-02-25           0.0   \n",
              "\n",
              "   brand product_line product_class product_size  list_price  standard_cost  \\\n",
              "0  Solex     Standard        medium       medium       71.49          53.62   \n",
              "\n",
              "  product_first_sold_date  order_profit  \n",
              "0              2012-12-04         17.87  "
            ],
            "text/html": "<div>\n<style scoped>\n    .dataframe tbody tr th:only-of-type {\n        vertical-align: middle;\n    }\n\n    .dataframe tbody tr th {\n        vertical-align: top;\n    }\n\n    .dataframe thead th {\n        text-align: right;\n    }\n</style>\n<table border=\"1\" class=\"dataframe\">\n  <thead>\n    <tr style=\"text-align: right;\">\n      <th></th>\n      <th>transaction_id</th>\n      <th>product_id</th>\n      <th>customer_id</th>\n      <th>transaction_date</th>\n      <th>online_order</th>\n      <th>brand</th>\n      <th>product_line</th>\n      <th>product_class</th>\n      <th>product_size</th>\n      <th>list_price</th>\n      <th>standard_cost</th>\n      <th>product_first_sold_date</th>\n      <th>order_profit</th>\n    </tr>\n  </thead>\n  <tbody>\n    <tr>\n      <th>0</th>\n      <td>1</td>\n      <td>2</td>\n      <td>2950</td>\n      <td>2017-02-25</td>\n      <td>0.0</td>\n      <td>Solex</td>\n      <td>Standard</td>\n      <td>medium</td>\n      <td>medium</td>\n      <td>71.49</td>\n      <td>53.62</td>\n      <td>2012-12-04</td>\n      <td>17.87</td>\n    </tr>\n  </tbody>\n</table>\n</div>"
          },
          "metadata": {},
          "execution_count": 54
        }
      ]
    },
    {
      "cell_type": "code",
      "metadata": {
        "colab": {
          "base_uri": "https://localhost:8080/",
          "height": 414
        },
        "id": "-km172cJnNaP",
        "outputId": "ecb1854e-0970-40d2-a73f-17fe0ca0b46a"
      },
      "source": [
        "transaction_df['loyalty_tier'] = rfm_scores['loyalty_tier'].values\n",
        "transaction_df"
      ],
      "execution_count": 55,
      "outputs": [
        {
          "output_type": "execute_result",
          "data": {
            "text/plain": [
              "      customer_id favourite_brand favourite_line favourite_class  \\\n",
              "0               1  Giant Bicycles       Standard        Standard   \n",
              "1               2        WeareA2B       Standard        Standard   \n",
              "2               3   Trek Bicycles           Road            Road   \n",
              "3               4  Giant Bicycles       Standard        Standard   \n",
              "4               5  Norco Bicycles           Road            Road   \n",
              "...           ...             ...            ...             ...   \n",
              "3487         3497  Giant Bicycles       Standard        Standard   \n",
              "3488         3498           Solex       Standard        Standard   \n",
              "3489         3499  Giant Bicycles       Standard        Standard   \n",
              "3490         3500  Giant Bicycles       Standard        Standard   \n",
              "3491         5034  Norco Bicycles           Road            Road   \n",
              "\n",
              "     favourite_size  favourite_method loyalty_tier  \n",
              "0            medium               1.0     titanium  \n",
              "1            medium               0.0       silver  \n",
              "2             large               0.0     platinum  \n",
              "3             large               0.0       silver  \n",
              "4             large               0.0     titanium  \n",
              "...             ...               ...          ...  \n",
              "3487         medium               1.0       silver  \n",
              "3488         medium               1.0     platinum  \n",
              "3489         medium               1.0     titanium  \n",
              "3490         medium               0.0         gold  \n",
              "3491         medium               0.0       silver  \n",
              "\n",
              "[3492 rows x 7 columns]"
            ],
            "text/html": "<div>\n<style scoped>\n    .dataframe tbody tr th:only-of-type {\n        vertical-align: middle;\n    }\n\n    .dataframe tbody tr th {\n        vertical-align: top;\n    }\n\n    .dataframe thead th {\n        text-align: right;\n    }\n</style>\n<table border=\"1\" class=\"dataframe\">\n  <thead>\n    <tr style=\"text-align: right;\">\n      <th></th>\n      <th>customer_id</th>\n      <th>favourite_brand</th>\n      <th>favourite_line</th>\n      <th>favourite_class</th>\n      <th>favourite_size</th>\n      <th>favourite_method</th>\n      <th>loyalty_tier</th>\n    </tr>\n  </thead>\n  <tbody>\n    <tr>\n      <th>0</th>\n      <td>1</td>\n      <td>Giant Bicycles</td>\n      <td>Standard</td>\n      <td>Standard</td>\n      <td>medium</td>\n      <td>1.0</td>\n      <td>titanium</td>\n    </tr>\n    <tr>\n      <th>1</th>\n      <td>2</td>\n      <td>WeareA2B</td>\n      <td>Standard</td>\n      <td>Standard</td>\n      <td>medium</td>\n      <td>0.0</td>\n      <td>silver</td>\n    </tr>\n    <tr>\n      <th>2</th>\n      <td>3</td>\n      <td>Trek Bicycles</td>\n      <td>Road</td>\n      <td>Road</td>\n      <td>large</td>\n      <td>0.0</td>\n      <td>platinum</td>\n    </tr>\n    <tr>\n      <th>3</th>\n      <td>4</td>\n      <td>Giant Bicycles</td>\n      <td>Standard</td>\n      <td>Standard</td>\n      <td>large</td>\n      <td>0.0</td>\n      <td>silver</td>\n    </tr>\n    <tr>\n      <th>4</th>\n      <td>5</td>\n      <td>Norco Bicycles</td>\n      <td>Road</td>\n      <td>Road</td>\n      <td>large</td>\n      <td>0.0</td>\n      <td>titanium</td>\n    </tr>\n    <tr>\n      <th>...</th>\n      <td>...</td>\n      <td>...</td>\n      <td>...</td>\n      <td>...</td>\n      <td>...</td>\n      <td>...</td>\n      <td>...</td>\n    </tr>\n    <tr>\n      <th>3487</th>\n      <td>3497</td>\n      <td>Giant Bicycles</td>\n      <td>Standard</td>\n      <td>Standard</td>\n      <td>medium</td>\n      <td>1.0</td>\n      <td>silver</td>\n    </tr>\n    <tr>\n      <th>3488</th>\n      <td>3498</td>\n      <td>Solex</td>\n      <td>Standard</td>\n      <td>Standard</td>\n      <td>medium</td>\n      <td>1.0</td>\n      <td>platinum</td>\n    </tr>\n    <tr>\n      <th>3489</th>\n      <td>3499</td>\n      <td>Giant Bicycles</td>\n      <td>Standard</td>\n      <td>Standard</td>\n      <td>medium</td>\n      <td>1.0</td>\n      <td>titanium</td>\n    </tr>\n    <tr>\n      <th>3490</th>\n      <td>3500</td>\n      <td>Giant Bicycles</td>\n      <td>Standard</td>\n      <td>Standard</td>\n      <td>medium</td>\n      <td>0.0</td>\n      <td>gold</td>\n    </tr>\n    <tr>\n      <th>3491</th>\n      <td>5034</td>\n      <td>Norco Bicycles</td>\n      <td>Road</td>\n      <td>Road</td>\n      <td>medium</td>\n      <td>0.0</td>\n      <td>silver</td>\n    </tr>\n  </tbody>\n</table>\n<p>3492 rows × 7 columns</p>\n</div>"
          },
          "metadata": {},
          "execution_count": 55
        }
      ]
    },
    {
      "cell_type": "code",
      "metadata": {
        "id": "frdFa9ZkqA7e"
      },
      "source": [
        "# Convert customer_id from transaction_df to object\n",
        "transaction_df['customer_id'] = transaction_df['customer_id'].astype('object')"
      ],
      "execution_count": 56,
      "outputs": []
    },
    {
      "cell_type": "code",
      "metadata": {
        "colab": {
          "base_uri": "https://localhost:8080/",
          "height": 202
        },
        "id": "E9nWjkHqqlYZ",
        "outputId": "1d12c20e-d367-4242-8723-3415e70cffd4"
      },
      "source": [
        "demographics.head(5)"
      ],
      "execution_count": 57,
      "outputs": [
        {
          "output_type": "execute_result",
          "data": {
            "text/plain": [
              "  customer_id  gender    generation     age_group  \\\n",
              "0           1  Female  Baby boomers   Retired Age   \n",
              "1           2    Male   Millennials    Middle Age   \n",
              "2           3    Male  Baby boomers   Retired Age   \n",
              "3           4    Male  Baby boomers  Advanced Age   \n",
              "4           5  Female   Millennials    Middle Age   \n",
              "\n",
              "                  job_category job_industry_category tenure_score  \\\n",
              "0                      Manager                Health            3   \n",
              "1   Clerical and admin workers    Financial Services            4   \n",
              "2                      Manager              Property            3   \n",
              "3                       Others                    IT            2   \n",
              "4  Technician and trade worker               Unknown            2   \n",
              "\n",
              "      wealth_segment owns_car purchases_score  \n",
              "0      Mass Customer      Yes               4  \n",
              "1      Mass Customer      Yes               4  \n",
              "2      Mass Customer      Yes               3  \n",
              "3      Mass Customer       No               2  \n",
              "4  Affluent Customer      Yes               3  "
            ],
            "text/html": "<div>\n<style scoped>\n    .dataframe tbody tr th:only-of-type {\n        vertical-align: middle;\n    }\n\n    .dataframe tbody tr th {\n        vertical-align: top;\n    }\n\n    .dataframe thead th {\n        text-align: right;\n    }\n</style>\n<table border=\"1\" class=\"dataframe\">\n  <thead>\n    <tr style=\"text-align: right;\">\n      <th></th>\n      <th>customer_id</th>\n      <th>gender</th>\n      <th>generation</th>\n      <th>age_group</th>\n      <th>job_category</th>\n      <th>job_industry_category</th>\n      <th>tenure_score</th>\n      <th>wealth_segment</th>\n      <th>owns_car</th>\n      <th>purchases_score</th>\n    </tr>\n  </thead>\n  <tbody>\n    <tr>\n      <th>0</th>\n      <td>1</td>\n      <td>Female</td>\n      <td>Baby boomers</td>\n      <td>Retired Age</td>\n      <td>Manager</td>\n      <td>Health</td>\n      <td>3</td>\n      <td>Mass Customer</td>\n      <td>Yes</td>\n      <td>4</td>\n    </tr>\n    <tr>\n      <th>1</th>\n      <td>2</td>\n      <td>Male</td>\n      <td>Millennials</td>\n      <td>Middle Age</td>\n      <td>Clerical and admin workers</td>\n      <td>Financial Services</td>\n      <td>4</td>\n      <td>Mass Customer</td>\n      <td>Yes</td>\n      <td>4</td>\n    </tr>\n    <tr>\n      <th>2</th>\n      <td>3</td>\n      <td>Male</td>\n      <td>Baby boomers</td>\n      <td>Retired Age</td>\n      <td>Manager</td>\n      <td>Property</td>\n      <td>3</td>\n      <td>Mass Customer</td>\n      <td>Yes</td>\n      <td>3</td>\n    </tr>\n    <tr>\n      <th>3</th>\n      <td>4</td>\n      <td>Male</td>\n      <td>Baby boomers</td>\n      <td>Advanced Age</td>\n      <td>Others</td>\n      <td>IT</td>\n      <td>2</td>\n      <td>Mass Customer</td>\n      <td>No</td>\n      <td>2</td>\n    </tr>\n    <tr>\n      <th>4</th>\n      <td>5</td>\n      <td>Female</td>\n      <td>Millennials</td>\n      <td>Middle Age</td>\n      <td>Technician and trade worker</td>\n      <td>Unknown</td>\n      <td>2</td>\n      <td>Affluent Customer</td>\n      <td>Yes</td>\n      <td>3</td>\n    </tr>\n  </tbody>\n</table>\n</div>"
          },
          "metadata": {},
          "execution_count": 57
        }
      ]
    },
    {
      "cell_type": "code",
      "metadata": {
        "colab": {
          "base_uri": "https://localhost:8080/",
          "height": 202
        },
        "id": "-QOATP7yqomX",
        "outputId": "e9b6cfa5-d638-4900-9a62-094f1d80b10a"
      },
      "source": [
        "addresses.head(5)"
      ],
      "execution_count": 58,
      "outputs": [
        {
          "output_type": "execute_result",
          "data": {
            "text/plain": [
              "  customer_id            state  property_valuation\n",
              "0           1  New South Wales                  10\n",
              "1           2  New South Wales                  10\n",
              "2           4              QLD                   9\n",
              "3           5  New South Wales                   4\n",
              "4           6              VIC                   9"
            ],
            "text/html": "<div>\n<style scoped>\n    .dataframe tbody tr th:only-of-type {\n        vertical-align: middle;\n    }\n\n    .dataframe tbody tr th {\n        vertical-align: top;\n    }\n\n    .dataframe thead th {\n        text-align: right;\n    }\n</style>\n<table border=\"1\" class=\"dataframe\">\n  <thead>\n    <tr style=\"text-align: right;\">\n      <th></th>\n      <th>customer_id</th>\n      <th>state</th>\n      <th>property_valuation</th>\n    </tr>\n  </thead>\n  <tbody>\n    <tr>\n      <th>0</th>\n      <td>1</td>\n      <td>New South Wales</td>\n      <td>10</td>\n    </tr>\n    <tr>\n      <th>1</th>\n      <td>2</td>\n      <td>New South Wales</td>\n      <td>10</td>\n    </tr>\n    <tr>\n      <th>2</th>\n      <td>4</td>\n      <td>QLD</td>\n      <td>9</td>\n    </tr>\n    <tr>\n      <th>3</th>\n      <td>5</td>\n      <td>New South Wales</td>\n      <td>4</td>\n    </tr>\n    <tr>\n      <th>4</th>\n      <td>6</td>\n      <td>VIC</td>\n      <td>9</td>\n    </tr>\n  </tbody>\n</table>\n</div>"
          },
          "metadata": {},
          "execution_count": 58
        }
      ]
    },
    {
      "cell_type": "code",
      "metadata": {
        "colab": {
          "base_uri": "https://localhost:8080/",
          "height": 202
        },
        "id": "jYaK4snGqqQO",
        "outputId": "7e6ed8e1-5d23-4d00-be1e-2f0391740355"
      },
      "source": [
        "transaction_df.head(5)"
      ],
      "execution_count": null,
      "outputs": [
        {
          "output_type": "execute_result",
          "data": {
            "text/html": [
              "<div>\n",
              "<style scoped>\n",
              "    .dataframe tbody tr th:only-of-type {\n",
              "        vertical-align: middle;\n",
              "    }\n",
              "\n",
              "    .dataframe tbody tr th {\n",
              "        vertical-align: top;\n",
              "    }\n",
              "\n",
              "    .dataframe thead th {\n",
              "        text-align: right;\n",
              "    }\n",
              "</style>\n",
              "<table border=\"1\" class=\"dataframe\">\n",
              "  <thead>\n",
              "    <tr style=\"text-align: right;\">\n",
              "      <th></th>\n",
              "      <th>customer_id</th>\n",
              "      <th>favourite_brand</th>\n",
              "      <th>favourite_line</th>\n",
              "      <th>favourite_class</th>\n",
              "      <th>favourite_size</th>\n",
              "      <th>favourite_method</th>\n",
              "      <th>loyalty_tier</th>\n",
              "    </tr>\n",
              "  </thead>\n",
              "  <tbody>\n",
              "    <tr>\n",
              "      <th>0</th>\n",
              "      <td>1</td>\n",
              "      <td>Giant Bicycles</td>\n",
              "      <td>Standard</td>\n",
              "      <td>Standard</td>\n",
              "      <td>medium</td>\n",
              "      <td>1.0</td>\n",
              "      <td>titanium</td>\n",
              "    </tr>\n",
              "    <tr>\n",
              "      <th>1</th>\n",
              "      <td>2</td>\n",
              "      <td>WeareA2B</td>\n",
              "      <td>Standard</td>\n",
              "      <td>Standard</td>\n",
              "      <td>medium</td>\n",
              "      <td>0.0</td>\n",
              "      <td>silver</td>\n",
              "    </tr>\n",
              "    <tr>\n",
              "      <th>2</th>\n",
              "      <td>3</td>\n",
              "      <td>Trek Bicycles</td>\n",
              "      <td>Road</td>\n",
              "      <td>Road</td>\n",
              "      <td>large</td>\n",
              "      <td>0.0</td>\n",
              "      <td>platinum</td>\n",
              "    </tr>\n",
              "    <tr>\n",
              "      <th>3</th>\n",
              "      <td>4</td>\n",
              "      <td>Giant Bicycles</td>\n",
              "      <td>Standard</td>\n",
              "      <td>Standard</td>\n",
              "      <td>large</td>\n",
              "      <td>0.0</td>\n",
              "      <td>silver</td>\n",
              "    </tr>\n",
              "    <tr>\n",
              "      <th>4</th>\n",
              "      <td>5</td>\n",
              "      <td>Norco Bicycles</td>\n",
              "      <td>Road</td>\n",
              "      <td>Road</td>\n",
              "      <td>large</td>\n",
              "      <td>0.0</td>\n",
              "      <td>titanium</td>\n",
              "    </tr>\n",
              "  </tbody>\n",
              "</table>\n",
              "</div>"
            ],
            "text/plain": [
              "  customer_id favourite_brand  ... favourite_method loyalty_tier\n",
              "0           1  Giant Bicycles  ...              1.0     titanium\n",
              "1           2        WeareA2B  ...              0.0       silver\n",
              "2           3   Trek Bicycles  ...              0.0     platinum\n",
              "3           4  Giant Bicycles  ...              0.0       silver\n",
              "4           5  Norco Bicycles  ...              0.0     titanium\n",
              "\n",
              "[5 rows x 7 columns]"
            ]
          },
          "metadata": {
            "tags": []
          },
          "execution_count": 166
        }
      ]
    },
    {
      "cell_type": "code",
      "execution_count": 97,
      "metadata": {},
      "outputs": [
        {
          "output_type": "execute_result",
          "data": {
            "text/plain": [
              "dtype('O')"
            ]
          },
          "metadata": {},
          "execution_count": 97
        }
      ],
      "source": [
        "demographics.customer_id.dtypes"
      ]
    },
    {
      "cell_type": "code",
      "execution_count": 93,
      "metadata": {},
      "outputs": [
        {
          "output_type": "execute_result",
          "data": {
            "text/plain": [
              "      customer_id   gender    generation     age_group  \\\n",
              "0               1   Female  Baby boomers   Retired Age   \n",
              "1               2     Male   Millennials    Middle Age   \n",
              "2               3     Male  Baby boomers   Retired Age   \n",
              "3               4     Male  Baby boomers  Advanced Age   \n",
              "4               5   Female   Millennials    Middle Age   \n",
              "...           ...      ...           ...           ...   \n",
              "3995         3996   Female         Gen X    Middle Age   \n",
              "3996         3997   Female         Gen Z  Young Adults   \n",
              "3997         3998  Unknown   Millennials    Middle Age   \n",
              "3998         3999     Male         Gen X    Middle Age   \n",
              "3999         4000     Male   Millennials  Young Adults   \n",
              "\n",
              "                     job_category job_industry_category tenure_score  \\\n",
              "0                         Manager                Health            3   \n",
              "1      Clerical and admin workers    Financial Services            4   \n",
              "2                         Manager              Property            3   \n",
              "3                          Others                    IT            2   \n",
              "4     Technician and trade worker               Unknown            2   \n",
              "...                           ...                   ...          ...   \n",
              "3995                      Manager                Health            4   \n",
              "3996                 Professional         Manufacturing            1   \n",
              "3997                      Manager                    IT            1   \n",
              "3998                       Others         Manufacturing            2   \n",
              "3999                 Professional               Unknown            3   \n",
              "\n",
              "         wealth_segment owns_car purchases_score            state  \\\n",
              "0         Mass Customer      Yes               4  New South Wales   \n",
              "1         Mass Customer      Yes               4  New South Wales   \n",
              "2         Mass Customer      Yes               3              NaN   \n",
              "3         Mass Customer       No               2              QLD   \n",
              "4     Affluent Customer      Yes               3  New South Wales   \n",
              "...                 ...      ...             ...              ...   \n",
              "3995      Mass Customer       No               1              VIC   \n",
              "3996     High Net Worth      Yes               4              NSW   \n",
              "3997     High Net Worth       No               3              NSW   \n",
              "3998  Affluent Customer      Yes               1              VIC   \n",
              "3999  Affluent Customer       No               4              QLD   \n",
              "\n",
              "      property_valuation favourite_brand favourite_line favourite_class  \\\n",
              "0                   10.0  Giant Bicycles       Standard        Standard   \n",
              "1                   10.0        WeareA2B       Standard        Standard   \n",
              "2                    NaN   Trek Bicycles           Road            Road   \n",
              "3                    9.0  Giant Bicycles       Standard        Standard   \n",
              "4                    4.0  Norco Bicycles           Road            Road   \n",
              "...                  ...             ...            ...             ...   \n",
              "3995                 6.0             NaN            NaN             NaN   \n",
              "3996                 2.0             NaN            NaN             NaN   \n",
              "3997                 6.0             NaN            NaN             NaN   \n",
              "3998                 3.0             NaN            NaN             NaN   \n",
              "3999                 6.0             NaN            NaN             NaN   \n",
              "\n",
              "     favourite_size  favourite_method loyalty_tier  \n",
              "0            medium               1.0     titanium  \n",
              "1            medium               0.0       silver  \n",
              "2             large               0.0     platinum  \n",
              "3             large               0.0       silver  \n",
              "4             large               0.0     titanium  \n",
              "...             ...               ...          ...  \n",
              "3995            NaN               NaN          NaN  \n",
              "3996            NaN               NaN          NaN  \n",
              "3997            NaN               NaN          NaN  \n",
              "3998            NaN               NaN          NaN  \n",
              "3999            NaN               NaN          NaN  \n",
              "\n",
              "[4000 rows x 18 columns]"
            ],
            "text/html": "<div>\n<style scoped>\n    .dataframe tbody tr th:only-of-type {\n        vertical-align: middle;\n    }\n\n    .dataframe tbody tr th {\n        vertical-align: top;\n    }\n\n    .dataframe thead th {\n        text-align: right;\n    }\n</style>\n<table border=\"1\" class=\"dataframe\">\n  <thead>\n    <tr style=\"text-align: right;\">\n      <th></th>\n      <th>customer_id</th>\n      <th>gender</th>\n      <th>generation</th>\n      <th>age_group</th>\n      <th>job_category</th>\n      <th>job_industry_category</th>\n      <th>tenure_score</th>\n      <th>wealth_segment</th>\n      <th>owns_car</th>\n      <th>purchases_score</th>\n      <th>state</th>\n      <th>property_valuation</th>\n      <th>favourite_brand</th>\n      <th>favourite_line</th>\n      <th>favourite_class</th>\n      <th>favourite_size</th>\n      <th>favourite_method</th>\n      <th>loyalty_tier</th>\n    </tr>\n  </thead>\n  <tbody>\n    <tr>\n      <th>0</th>\n      <td>1</td>\n      <td>Female</td>\n      <td>Baby boomers</td>\n      <td>Retired Age</td>\n      <td>Manager</td>\n      <td>Health</td>\n      <td>3</td>\n      <td>Mass Customer</td>\n      <td>Yes</td>\n      <td>4</td>\n      <td>New South Wales</td>\n      <td>10.0</td>\n      <td>Giant Bicycles</td>\n      <td>Standard</td>\n      <td>Standard</td>\n      <td>medium</td>\n      <td>1.0</td>\n      <td>titanium</td>\n    </tr>\n    <tr>\n      <th>1</th>\n      <td>2</td>\n      <td>Male</td>\n      <td>Millennials</td>\n      <td>Middle Age</td>\n      <td>Clerical and admin workers</td>\n      <td>Financial Services</td>\n      <td>4</td>\n      <td>Mass Customer</td>\n      <td>Yes</td>\n      <td>4</td>\n      <td>New South Wales</td>\n      <td>10.0</td>\n      <td>WeareA2B</td>\n      <td>Standard</td>\n      <td>Standard</td>\n      <td>medium</td>\n      <td>0.0</td>\n      <td>silver</td>\n    </tr>\n    <tr>\n      <th>2</th>\n      <td>3</td>\n      <td>Male</td>\n      <td>Baby boomers</td>\n      <td>Retired Age</td>\n      <td>Manager</td>\n      <td>Property</td>\n      <td>3</td>\n      <td>Mass Customer</td>\n      <td>Yes</td>\n      <td>3</td>\n      <td>NaN</td>\n      <td>NaN</td>\n      <td>Trek Bicycles</td>\n      <td>Road</td>\n      <td>Road</td>\n      <td>large</td>\n      <td>0.0</td>\n      <td>platinum</td>\n    </tr>\n    <tr>\n      <th>3</th>\n      <td>4</td>\n      <td>Male</td>\n      <td>Baby boomers</td>\n      <td>Advanced Age</td>\n      <td>Others</td>\n      <td>IT</td>\n      <td>2</td>\n      <td>Mass Customer</td>\n      <td>No</td>\n      <td>2</td>\n      <td>QLD</td>\n      <td>9.0</td>\n      <td>Giant Bicycles</td>\n      <td>Standard</td>\n      <td>Standard</td>\n      <td>large</td>\n      <td>0.0</td>\n      <td>silver</td>\n    </tr>\n    <tr>\n      <th>4</th>\n      <td>5</td>\n      <td>Female</td>\n      <td>Millennials</td>\n      <td>Middle Age</td>\n      <td>Technician and trade worker</td>\n      <td>Unknown</td>\n      <td>2</td>\n      <td>Affluent Customer</td>\n      <td>Yes</td>\n      <td>3</td>\n      <td>New South Wales</td>\n      <td>4.0</td>\n      <td>Norco Bicycles</td>\n      <td>Road</td>\n      <td>Road</td>\n      <td>large</td>\n      <td>0.0</td>\n      <td>titanium</td>\n    </tr>\n    <tr>\n      <th>...</th>\n      <td>...</td>\n      <td>...</td>\n      <td>...</td>\n      <td>...</td>\n      <td>...</td>\n      <td>...</td>\n      <td>...</td>\n      <td>...</td>\n      <td>...</td>\n      <td>...</td>\n      <td>...</td>\n      <td>...</td>\n      <td>...</td>\n      <td>...</td>\n      <td>...</td>\n      <td>...</td>\n      <td>...</td>\n      <td>...</td>\n    </tr>\n    <tr>\n      <th>3995</th>\n      <td>3996</td>\n      <td>Female</td>\n      <td>Gen X</td>\n      <td>Middle Age</td>\n      <td>Manager</td>\n      <td>Health</td>\n      <td>4</td>\n      <td>Mass Customer</td>\n      <td>No</td>\n      <td>1</td>\n      <td>VIC</td>\n      <td>6.0</td>\n      <td>NaN</td>\n      <td>NaN</td>\n      <td>NaN</td>\n      <td>NaN</td>\n      <td>NaN</td>\n      <td>NaN</td>\n    </tr>\n    <tr>\n      <th>3996</th>\n      <td>3997</td>\n      <td>Female</td>\n      <td>Gen Z</td>\n      <td>Young Adults</td>\n      <td>Professional</td>\n      <td>Manufacturing</td>\n      <td>1</td>\n      <td>High Net Worth</td>\n      <td>Yes</td>\n      <td>4</td>\n      <td>NSW</td>\n      <td>2.0</td>\n      <td>NaN</td>\n      <td>NaN</td>\n      <td>NaN</td>\n      <td>NaN</td>\n      <td>NaN</td>\n      <td>NaN</td>\n    </tr>\n    <tr>\n      <th>3997</th>\n      <td>3998</td>\n      <td>Unknown</td>\n      <td>Millennials</td>\n      <td>Middle Age</td>\n      <td>Manager</td>\n      <td>IT</td>\n      <td>1</td>\n      <td>High Net Worth</td>\n      <td>No</td>\n      <td>3</td>\n      <td>NSW</td>\n      <td>6.0</td>\n      <td>NaN</td>\n      <td>NaN</td>\n      <td>NaN</td>\n      <td>NaN</td>\n      <td>NaN</td>\n      <td>NaN</td>\n    </tr>\n    <tr>\n      <th>3998</th>\n      <td>3999</td>\n      <td>Male</td>\n      <td>Gen X</td>\n      <td>Middle Age</td>\n      <td>Others</td>\n      <td>Manufacturing</td>\n      <td>2</td>\n      <td>Affluent Customer</td>\n      <td>Yes</td>\n      <td>1</td>\n      <td>VIC</td>\n      <td>3.0</td>\n      <td>NaN</td>\n      <td>NaN</td>\n      <td>NaN</td>\n      <td>NaN</td>\n      <td>NaN</td>\n      <td>NaN</td>\n    </tr>\n    <tr>\n      <th>3999</th>\n      <td>4000</td>\n      <td>Male</td>\n      <td>Millennials</td>\n      <td>Young Adults</td>\n      <td>Professional</td>\n      <td>Unknown</td>\n      <td>3</td>\n      <td>Affluent Customer</td>\n      <td>No</td>\n      <td>4</td>\n      <td>QLD</td>\n      <td>6.0</td>\n      <td>NaN</td>\n      <td>NaN</td>\n      <td>NaN</td>\n      <td>NaN</td>\n      <td>NaN</td>\n      <td>NaN</td>\n    </tr>\n  </tbody>\n</table>\n<p>4000 rows × 18 columns</p>\n</div>"
          },
          "metadata": {},
          "execution_count": 93
        }
      ],
      "source": [
        "all_data_temp = pd.merge(demographics.assign(customer_id=demographics.customer_id.astype(int)), \n",
        "                        addresses.assign(customer_id=addresses.customer_id.astype(int)),\n",
        "                        how=\"left\", on=\"customer_id\")\n",
        "all_data = pd.merge(all_data_temp.assign(customer_id=all_data_temp.customer_id.astype(int)),\n",
        "                    transaction_df.assign(customer_id=transaction_df.customer_id.astype(int)),\n",
        "                        how=\"left\", on=\"customer_id\")\n",
        "all_data"
      ]
    },
    {
      "cell_type": "code",
      "metadata": {
        "colab": {
          "base_uri": "https://localhost:8080/",
          "height": 617
        },
        "id": "bmGY23DgpVZe",
        "outputId": "8ab98334-496f-43ed-cb3e-c95a7bd041f4"
      },
      "source": [
        "#Get all data together\n",
        "\n",
        "dataframes = [demographics, addresses, transaction_df]\n",
        "customer_data = reduce(lambda left, right: pd.merge(left, right, on='customer_id', how='left'), dataframes)\n",
        "\n",
        "customer_data"
      ],
      "execution_count": null,
      "outputs": [
        {
          "output_type": "execute_result",
          "data": {
            "text/html": [
              "<div>\n",
              "<style scoped>\n",
              "    .dataframe tbody tr th:only-of-type {\n",
              "        vertical-align: middle;\n",
              "    }\n",
              "\n",
              "    .dataframe tbody tr th {\n",
              "        vertical-align: top;\n",
              "    }\n",
              "\n",
              "    .dataframe thead th {\n",
              "        text-align: right;\n",
              "    }\n",
              "</style>\n",
              "<table border=\"1\" class=\"dataframe\">\n",
              "  <thead>\n",
              "    <tr style=\"text-align: right;\">\n",
              "      <th></th>\n",
              "      <th>customer_id</th>\n",
              "      <th>gender</th>\n",
              "      <th>generation</th>\n",
              "      <th>age_group</th>\n",
              "      <th>job_category</th>\n",
              "      <th>job_industry_category</th>\n",
              "      <th>tenure_score</th>\n",
              "      <th>wealth_segment</th>\n",
              "      <th>owns_car</th>\n",
              "      <th>purchases_score</th>\n",
              "      <th>state</th>\n",
              "      <th>property_valuation</th>\n",
              "      <th>favourite_brand</th>\n",
              "      <th>favourite_line</th>\n",
              "      <th>favourite_class</th>\n",
              "      <th>favourite_size</th>\n",
              "      <th>favourite_method</th>\n",
              "      <th>loyalty_tier</th>\n",
              "    </tr>\n",
              "  </thead>\n",
              "  <tbody>\n",
              "    <tr>\n",
              "      <th>0</th>\n",
              "      <td>1</td>\n",
              "      <td>Female</td>\n",
              "      <td>Baby boomers</td>\n",
              "      <td>Retired Age</td>\n",
              "      <td>Manager</td>\n",
              "      <td>Health</td>\n",
              "      <td>3</td>\n",
              "      <td>Mass Customer</td>\n",
              "      <td>Yes</td>\n",
              "      <td>4</td>\n",
              "      <td>New South Wales</td>\n",
              "      <td>10.0</td>\n",
              "      <td>NaN</td>\n",
              "      <td>NaN</td>\n",
              "      <td>NaN</td>\n",
              "      <td>NaN</td>\n",
              "      <td>NaN</td>\n",
              "      <td>NaN</td>\n",
              "    </tr>\n",
              "    <tr>\n",
              "      <th>1</th>\n",
              "      <td>2</td>\n",
              "      <td>Male</td>\n",
              "      <td>Millennials</td>\n",
              "      <td>Middle Age</td>\n",
              "      <td>Clerical and admin workers</td>\n",
              "      <td>Financial Services</td>\n",
              "      <td>4</td>\n",
              "      <td>Mass Customer</td>\n",
              "      <td>Yes</td>\n",
              "      <td>4</td>\n",
              "      <td>New South Wales</td>\n",
              "      <td>10.0</td>\n",
              "      <td>NaN</td>\n",
              "      <td>NaN</td>\n",
              "      <td>NaN</td>\n",
              "      <td>NaN</td>\n",
              "      <td>NaN</td>\n",
              "      <td>NaN</td>\n",
              "    </tr>\n",
              "    <tr>\n",
              "      <th>2</th>\n",
              "      <td>3</td>\n",
              "      <td>Male</td>\n",
              "      <td>Baby boomers</td>\n",
              "      <td>Retired Age</td>\n",
              "      <td>Manager</td>\n",
              "      <td>Property</td>\n",
              "      <td>3</td>\n",
              "      <td>Mass Customer</td>\n",
              "      <td>Yes</td>\n",
              "      <td>3</td>\n",
              "      <td>NaN</td>\n",
              "      <td>NaN</td>\n",
              "      <td>NaN</td>\n",
              "      <td>NaN</td>\n",
              "      <td>NaN</td>\n",
              "      <td>NaN</td>\n",
              "      <td>NaN</td>\n",
              "      <td>NaN</td>\n",
              "    </tr>\n",
              "    <tr>\n",
              "      <th>3</th>\n",
              "      <td>4</td>\n",
              "      <td>Male</td>\n",
              "      <td>Baby boomers</td>\n",
              "      <td>Advanced Age</td>\n",
              "      <td>Others</td>\n",
              "      <td>IT</td>\n",
              "      <td>2</td>\n",
              "      <td>Mass Customer</td>\n",
              "      <td>No</td>\n",
              "      <td>2</td>\n",
              "      <td>QLD</td>\n",
              "      <td>9.0</td>\n",
              "      <td>NaN</td>\n",
              "      <td>NaN</td>\n",
              "      <td>NaN</td>\n",
              "      <td>NaN</td>\n",
              "      <td>NaN</td>\n",
              "      <td>NaN</td>\n",
              "    </tr>\n",
              "    <tr>\n",
              "      <th>4</th>\n",
              "      <td>5</td>\n",
              "      <td>Female</td>\n",
              "      <td>Millennials</td>\n",
              "      <td>Middle Age</td>\n",
              "      <td>Technician and trade worker</td>\n",
              "      <td>Unknown</td>\n",
              "      <td>2</td>\n",
              "      <td>Affluent Customer</td>\n",
              "      <td>Yes</td>\n",
              "      <td>3</td>\n",
              "      <td>New South Wales</td>\n",
              "      <td>4.0</td>\n",
              "      <td>NaN</td>\n",
              "      <td>NaN</td>\n",
              "      <td>NaN</td>\n",
              "      <td>NaN</td>\n",
              "      <td>NaN</td>\n",
              "      <td>NaN</td>\n",
              "    </tr>\n",
              "    <tr>\n",
              "      <th>...</th>\n",
              "      <td>...</td>\n",
              "      <td>...</td>\n",
              "      <td>...</td>\n",
              "      <td>...</td>\n",
              "      <td>...</td>\n",
              "      <td>...</td>\n",
              "      <td>...</td>\n",
              "      <td>...</td>\n",
              "      <td>...</td>\n",
              "      <td>...</td>\n",
              "      <td>...</td>\n",
              "      <td>...</td>\n",
              "      <td>...</td>\n",
              "      <td>...</td>\n",
              "      <td>...</td>\n",
              "      <td>...</td>\n",
              "      <td>...</td>\n",
              "      <td>...</td>\n",
              "    </tr>\n",
              "    <tr>\n",
              "      <th>3995</th>\n",
              "      <td>3996</td>\n",
              "      <td>Female</td>\n",
              "      <td>Gen X</td>\n",
              "      <td>Middle Age</td>\n",
              "      <td>Manager</td>\n",
              "      <td>Health</td>\n",
              "      <td>4</td>\n",
              "      <td>Mass Customer</td>\n",
              "      <td>No</td>\n",
              "      <td>1</td>\n",
              "      <td>VIC</td>\n",
              "      <td>6.0</td>\n",
              "      <td>NaN</td>\n",
              "      <td>NaN</td>\n",
              "      <td>NaN</td>\n",
              "      <td>NaN</td>\n",
              "      <td>NaN</td>\n",
              "      <td>NaN</td>\n",
              "    </tr>\n",
              "    <tr>\n",
              "      <th>3996</th>\n",
              "      <td>3997</td>\n",
              "      <td>Female</td>\n",
              "      <td>Gen Z</td>\n",
              "      <td>Young Adults</td>\n",
              "      <td>Professional</td>\n",
              "      <td>Manufacturing</td>\n",
              "      <td>1</td>\n",
              "      <td>High Net Worth</td>\n",
              "      <td>Yes</td>\n",
              "      <td>4</td>\n",
              "      <td>NSW</td>\n",
              "      <td>2.0</td>\n",
              "      <td>NaN</td>\n",
              "      <td>NaN</td>\n",
              "      <td>NaN</td>\n",
              "      <td>NaN</td>\n",
              "      <td>NaN</td>\n",
              "      <td>NaN</td>\n",
              "    </tr>\n",
              "    <tr>\n",
              "      <th>3997</th>\n",
              "      <td>3998</td>\n",
              "      <td>Unknown</td>\n",
              "      <td>Millennials</td>\n",
              "      <td>Middle Age</td>\n",
              "      <td>Manager</td>\n",
              "      <td>IT</td>\n",
              "      <td>1</td>\n",
              "      <td>High Net Worth</td>\n",
              "      <td>No</td>\n",
              "      <td>3</td>\n",
              "      <td>NSW</td>\n",
              "      <td>6.0</td>\n",
              "      <td>NaN</td>\n",
              "      <td>NaN</td>\n",
              "      <td>NaN</td>\n",
              "      <td>NaN</td>\n",
              "      <td>NaN</td>\n",
              "      <td>NaN</td>\n",
              "    </tr>\n",
              "    <tr>\n",
              "      <th>3998</th>\n",
              "      <td>3999</td>\n",
              "      <td>Male</td>\n",
              "      <td>Gen X</td>\n",
              "      <td>Middle Age</td>\n",
              "      <td>Others</td>\n",
              "      <td>Manufacturing</td>\n",
              "      <td>2</td>\n",
              "      <td>Affluent Customer</td>\n",
              "      <td>Yes</td>\n",
              "      <td>1</td>\n",
              "      <td>VIC</td>\n",
              "      <td>3.0</td>\n",
              "      <td>NaN</td>\n",
              "      <td>NaN</td>\n",
              "      <td>NaN</td>\n",
              "      <td>NaN</td>\n",
              "      <td>NaN</td>\n",
              "      <td>NaN</td>\n",
              "    </tr>\n",
              "    <tr>\n",
              "      <th>3999</th>\n",
              "      <td>4000</td>\n",
              "      <td>Male</td>\n",
              "      <td>Millennials</td>\n",
              "      <td>Young Adults</td>\n",
              "      <td>Professional</td>\n",
              "      <td>Unknown</td>\n",
              "      <td>3</td>\n",
              "      <td>Affluent Customer</td>\n",
              "      <td>No</td>\n",
              "      <td>4</td>\n",
              "      <td>QLD</td>\n",
              "      <td>6.0</td>\n",
              "      <td>NaN</td>\n",
              "      <td>NaN</td>\n",
              "      <td>NaN</td>\n",
              "      <td>NaN</td>\n",
              "      <td>NaN</td>\n",
              "      <td>NaN</td>\n",
              "    </tr>\n",
              "  </tbody>\n",
              "</table>\n",
              "<p>4000 rows × 18 columns</p>\n",
              "</div>"
            ],
            "text/plain": [
              "     customer_id   gender  ... favourite_method loyalty_tier\n",
              "0              1   Female  ...              NaN          NaN\n",
              "1              2     Male  ...              NaN          NaN\n",
              "2              3     Male  ...              NaN          NaN\n",
              "3              4     Male  ...              NaN          NaN\n",
              "4              5   Female  ...              NaN          NaN\n",
              "...          ...      ...  ...              ...          ...\n",
              "3995        3996   Female  ...              NaN          NaN\n",
              "3996        3997   Female  ...              NaN          NaN\n",
              "3997        3998  Unknown  ...              NaN          NaN\n",
              "3998        3999     Male  ...              NaN          NaN\n",
              "3999        4000     Male  ...              NaN          NaN\n",
              "\n",
              "[4000 rows x 18 columns]"
            ]
          },
          "metadata": {
            "tags": []
          },
          "execution_count": 163
        }
      ]
    },
    {
      "cell_type": "markdown",
      "metadata": {
        "id": "oX9QVxmHWp2e"
      },
      "source": [
        "## Demographics"
      ]
    },
    {
      "cell_type": "code",
      "metadata": {
        "id": "0aMrGHU0WnJ1"
      },
      "source": [],
      "execution_count": null,
      "outputs": []
    },
    {
      "cell_type": "markdown",
      "metadata": {
        "id": "57EszE1iWuQa"
      },
      "source": [
        "## Address"
      ]
    },
    {
      "cell_type": "code",
      "metadata": {
        "id": "VXvb8oAmWyux"
      },
      "source": [],
      "execution_count": null,
      "outputs": []
    },
    {
      "cell_type": "markdown",
      "metadata": {
        "id": "nqVsh-dHWwQj"
      },
      "source": [
        "## Transactions"
      ]
    },
    {
      "cell_type": "code",
      "metadata": {
        "id": "vfFlvmxYWyCp"
      },
      "source": [],
      "execution_count": null,
      "outputs": []
    },
    {
      "cell_type": "markdown",
      "metadata": {
        "id": "P5AU7WMcK5mj"
      },
      "source": [
        "# Feature Engineering"
      ]
    },
    {
      "cell_type": "markdown",
      "metadata": {
        "id": "GMjwbTRcLJD3"
      },
      "source": [
        "# Combine all datasets"
      ]
    },
    {
      "cell_type": "markdown",
      "metadata": {
        "id": "v95zwgQ3Kehg"
      },
      "source": [
        "# Check data skewness"
      ]
    },
    {
      "cell_type": "code",
      "metadata": {
        "colab": {
          "base_uri": "https://localhost:8080/"
        },
        "id": "go6SL0LGKWnT",
        "outputId": "6d73540b-6017-42a7-f10f-28cb0fe177ce"
      },
      "source": [
        "matplotlib.style.use('ggplot')\n",
        "\n",
        "demographics.hist(alpha=0.5, figsize=(10, 8))"
      ],
      "execution_count": null,
      "outputs": [
        {
          "output_type": "execute_result",
          "data": {
            "text/plain": [
              "array([[<matplotlib.axes._subplots.AxesSubplot object at 0x7f7df2c5a950>,\n",
              "        <matplotlib.axes._subplots.AxesSubplot object at 0x7f7df2ba7ed0>],\n",
              "       [<matplotlib.axes._subplots.AxesSubplot object at 0x7f7df2b65590>,\n",
              "        <matplotlib.axes._subplots.AxesSubplot object at 0x7f7df2b19c10>]],\n",
              "      dtype=object)"
            ]
          },
          "metadata": {
            "tags": []
          },
          "execution_count": 15
        },
        {
          "output_type": "display_data",
          "data": {
            "image/png": "[encoded data removed]",
            "text/plain": [
              "<Figure size 720x576 with 4 Axes>"
            ]
          },
          "metadata": {
            "tags": []
          }
        }
      ]
    },
    {
      "cell_type": "code",
      "metadata": {
        "colab": {
          "base_uri": "https://localhost:8080/"
        },
        "id": "x8xomLuxKWjE",
        "outputId": "f8483208-6cc0-4ad8-8a9f-6addf371aa6c"
      },
      "source": [
        "demographics.skew()"
      ],
      "execution_count": null,
      "outputs": [
        {
          "output_type": "execute_result",
          "data": {
            "text/plain": [
              "customer_id                            0.000000\n",
              "past_3_years_bike_related_purchases    0.045286\n",
              "tenure                                 0.066188\n",
              "Age                                    0.065940\n",
              "dtype: float64"
            ]
          },
          "metadata": {
            "tags": []
          },
          "execution_count": 16
        }
      ]
    },
    {
      "cell_type": "code",
      "metadata": {
        "id": "f5RPBYbQJqck"
      },
      "source": [],
      "execution_count": null,
      "outputs": []
    },
    {
      "cell_type": "code",
      "metadata": {
        "id": "0HtJwam_K5KW"
      },
      "source": [],
      "execution_count": null,
      "outputs": []
    },
    {
      "cell_type": "code",
      "metadata": {
        "id": "bvWuxNSoK47j"
      },
      "source": [],
      "execution_count": null,
      "outputs": []
    },
    {
      "cell_type": "code",
      "metadata": {
        "id": "ESc9oAIdK9vt"
      },
      "source": [],
      "execution_count": null,
      "outputs": []
    },
    {
      "cell_type": "code",
      "metadata": {
        "id": "FZfnSWRoLBpX"
      },
      "source": [],
      "execution_count": null,
      "outputs": []
    },
    {
      "cell_type": "code",
      "metadata": {
        "id": "G9a21dTYLBmu"
      },
      "source": [],
      "execution_count": null,
      "outputs": []
    },
    {
      "cell_type": "code",
      "metadata": {
        "id": "JgDNbsLbLBkp"
      },
      "source": [],
      "execution_count": null,
      "outputs": []
    },
    {
      "cell_type": "code",
      "metadata": {
        "id": "8BRBDwkRLMA_"
      },
      "source": [],
      "execution_count": null,
      "outputs": []
    },
    {
      "cell_type": "markdown",
      "metadata": {
        "id": "BGxK6HXbLCFd"
      },
      "source": [
        "# Preprocessing"
      ]
    },
    {
      "cell_type": "code",
      "metadata": {
        "id": "oORh8-UBLDkG"
      },
      "source": [],
      "execution_count": null,
      "outputs": []
    },
    {
      "cell_type": "code",
      "metadata": {
        "id": "FLcsAbM2LOnD"
      },
      "source": [],
      "execution_count": null,
      "outputs": []
    },
    {
      "cell_type": "code",
      "metadata": {
        "id": "_Qxg1_ZrLOjq"
      },
      "source": [],
      "execution_count": null,
      "outputs": []
    },
    {
      "cell_type": "markdown",
      "metadata": {
        "id": "ZKhJtGYcLO52"
      },
      "source": [
        "# Features Selection"
      ]
    },
    {
      "cell_type": "code",
      "metadata": {
        "id": "rzAhgOd1LTCz"
      },
      "source": [],
      "execution_count": null,
      "outputs": []
    },
    {
      "cell_type": "code",
      "metadata": {
        "id": "WjmHSUoFLTtg"
      },
      "source": [],
      "execution_count": null,
      "outputs": []
    },
    {
      "cell_type": "markdown",
      "metadata": {
        "id": "t54AQPTmLUte"
      },
      "source": [
        "# Algorithm Selection with PyCaret"
      ]
    },
    {
      "cell_type": "code",
      "metadata": {
        "id": "z7jCcIBOLclF"
      },
      "source": [],
      "execution_count": null,
      "outputs": []
    },
    {
      "cell_type": "markdown",
      "metadata": {
        "id": "1-QL6WasM93P"
      },
      "source": [
        "# Models development"
      ]
    },
    {
      "cell_type": "code",
      "metadata": {
        "id": "5Wt2vbbDNAaW"
      },
      "source": [],
      "execution_count": null,
      "outputs": []
    },
    {
      "cell_type": "markdown",
      "metadata": {
        "id": "_k80llSRNA-L"
      },
      "source": [
        "## Models training"
      ]
    },
    {
      "cell_type": "code",
      "metadata": {
        "id": "1OvVnWCQNDEv"
      },
      "source": [],
      "execution_count": null,
      "outputs": []
    },
    {
      "cell_type": "markdown",
      "metadata": {
        "id": "gYhY7kbqNECs"
      },
      "source": [
        "## Models evaluation and comparison"
      ]
    },
    {
      "cell_type": "code",
      "metadata": {
        "id": "VyLiPkfHNT2s"
      },
      "source": [],
      "execution_count": null,
      "outputs": []
    },
    {
      "cell_type": "markdown",
      "metadata": {
        "id": "4jZFef3TNV0B"
      },
      "source": [
        "## Best model tuning"
      ]
    },
    {
      "cell_type": "code",
      "metadata": {
        "id": "D34hc4wWNX9s"
      },
      "source": [],
      "execution_count": null,
      "outputs": []
    },
    {
      "cell_type": "markdown",
      "metadata": {
        "id": "j5Iv3-QSNaTt"
      },
      "source": [
        "## Save model"
      ]
    },
    {
      "cell_type": "code",
      "metadata": {
        "id": "FDgcEbjeNbxk"
      },
      "source": [],
      "execution_count": null,
      "outputs": []
    },
    {
      "cell_type": "markdown",
      "metadata": {
        "id": "yN5uXZVfNf-B"
      },
      "source": [
        "# Apply model on New Customers Dataset"
      ]
    },
    {
      "cell_type": "code",
      "metadata": {
        "id": "UkYiLd8eNkKz"
      },
      "source": [],
      "execution_count": null,
      "outputs": []
    }
  ]
}