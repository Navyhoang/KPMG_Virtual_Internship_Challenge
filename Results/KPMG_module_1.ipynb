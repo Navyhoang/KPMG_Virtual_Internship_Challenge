{
  "nbformat": 4,
  "nbformat_minor": 0,
  "metadata": {
    "colab": {
      "name": "KPMG_module_1.ipynb",
      "provenance": [],
      "collapsed_sections": [
        "2ZrO1CJmfJ-z",
        "5UK1fXXffJ_A"
      ],
      "toc_visible": true
    },
    "kernelspec": {
      "name": "python3",
      "display_name": "Python 3"
    },
    "language_info": {
      "name": "python"
    }
  },
  "cells": [
    {
      "cell_type": "markdown",
      "metadata": {
        "id": "OYxVcV8JK02N"
      },
      "source": [
        "## MODULE 1: "
      ]
    },
    {
      "cell_type": "markdown",
      "metadata": {
        "id": "dUXYGJDiHKxm"
      },
      "source": [
        "## Import standard Libraries and packages"
      ]
    },
    {
      "cell_type": "code",
      "metadata": {
        "id": "H1WwPArXHEuY"
      },
      "source": [
        "import pandas as pd\n",
        "import numpy as np\n",
        "import datetime as dt\n",
        "import seaborn as sns\n",
        "import matplotlib.pyplot as plt\n",
        "from datetime import datetime, timedelta\n",
        "from datetime import date"
      ],
      "execution_count": 112,
      "outputs": []
    },
    {
      "cell_type": "markdown",
      "metadata": {
        "id": "pV70-C_WHVD4"
      },
      "source": [
        "## Project Objectives and Dataset Source"
      ]
    },
    {
      "cell_type": "markdown",
      "metadata": {
        "id": "Byl1dPPNHZD9"
      },
      "source": [
        "* **Objective:** This is the first module in a series of the KPMG Virtual Internship Challenge that includes 3 modules in total. This module #1 is intended to examine the quality of the customers dataset and performa data wrangling in preparation for the development of a ML model in Module 2. In addition, a visualization dashboard will also be created from the cleaned datasets using PowerBI.\n",
        "* **Analytics Type:** Data Quality Analysis and Analytical Dashboard Creation.\n",
        "* **Data Type:** Structured data (Nemerical and Categorical), time-series. Since it's a structured dataset, the clean dataset can be stored in a SQL database such as SQL Elephant or PostgreSQL.\n",
        "* **Visualization Method:** Python libraries such as MatplotLib, Seaborn. In addition, a dashboard will also be created using Power BI.\n",
        "* **Data Source:** Dataset was provided by KPMN's client, Sprocket Central Pty Ltd. \n",
        "* **Dataset includes:**\n",
        "        * Customer Demographic\n",
        "        * Customer Addresses\n",
        "        * Transactions data in the past 3 months"
      ]
    },
    {
      "cell_type": "markdown",
      "metadata": {
        "id": "Af2zXqOisOfd"
      },
      "source": [
        "# Data Quality Analysis includes:"
      ]
    },
    {
      "cell_type": "markdown",
      "metadata": {
        "id": "02BPPkM8sSXT"
      },
      "source": [
        "* Check data accuracy: if values are close to true values.\n",
        "* Check data completeness: fill nan values with values that make sense. Drop rows if neccessary.\n",
        "* Check data consistency: check if values contradict to normally observed trends.\n",
        "* Check data currency: check if data are up to date.\n",
        "* Check data relevancy: drop columns or values that do not make any differences in the analysis or ML model development.\n",
        "* Validate data: check if data are within allowable ranges of values, and check for outliers. Ex: someone's age cannot be over 200.\n",
        "* Check for duplicates: remove duplicates to avoid double dipping in the ML model.\n"
      ]
    },
    {
      "cell_type": "markdown",
      "metadata": {
        "id": "sI3w7NEXRNEm"
      },
      "source": [
        "### Data Loading"
      ]
    },
    {
      "cell_type": "code",
      "metadata": {
        "id": "ewyeZ-ZKHAjL"
      },
      "source": [
        "# Load excel file, which includes multiple worksheets\n",
        "xls = pd.ExcelFile('KPMG_VI_New_raw_data_update_final.xlsx')"
      ],
      "execution_count": 113,
      "outputs": []
    },
    {
      "cell_type": "code",
      "metadata": {
        "id": "2MCBy0kYRkCH"
      },
      "source": [
        "# Assign each worksheet to a variable\n",
        "CustomerDemographic = pd.read_excel(xls, 'CustomerDemographic', skiprows=[0])\n",
        "CustomerAddress = pd.read_excel(xls, 'CustomerAddress', skiprows=[0])\n",
        "Transactions = pd.read_excel(xls, 'Transactions', skiprows=[0])\n",
        "NewCustomerList = pd.read_excel(xls, 'NewCustomerList', skiprows=[0])"
      ],
      "execution_count": 114,
      "outputs": []
    },
    {
      "cell_type": "markdown",
      "metadata": {
        "id": "N_7Zy--WSebl"
      },
      "source": [
        "#**DATASET 1: CUSTOMER DEMOGRAPHIC**"
      ]
    },
    {
      "cell_type": "code",
      "metadata": {
        "colab": {
          "base_uri": "https://localhost:8080/",
          "height": 285
        },
        "id": "gnCNvZeFR-Mz",
        "outputId": "c46b4bdf-075a-444a-e7f7-cea30e2a6fc4"
      },
      "source": [
        "CustomerDemographic.head()"
      ],
      "execution_count": 115,
      "outputs": [
        {
          "output_type": "execute_result",
          "data": {
            "text/html": [
              "<div>\n",
              "<style scoped>\n",
              "    .dataframe tbody tr th:only-of-type {\n",
              "        vertical-align: middle;\n",
              "    }\n",
              "\n",
              "    .dataframe tbody tr th {\n",
              "        vertical-align: top;\n",
              "    }\n",
              "\n",
              "    .dataframe thead th {\n",
              "        text-align: right;\n",
              "    }\n",
              "</style>\n",
              "<table border=\"1\" class=\"dataframe\">\n",
              "  <thead>\n",
              "    <tr style=\"text-align: right;\">\n",
              "      <th></th>\n",
              "      <th>customer_id</th>\n",
              "      <th>first_name</th>\n",
              "      <th>last_name</th>\n",
              "      <th>gender</th>\n",
              "      <th>past_3_years_bike_related_purchases</th>\n",
              "      <th>DOB</th>\n",
              "      <th>job_title</th>\n",
              "      <th>job_industry_category</th>\n",
              "      <th>wealth_segment</th>\n",
              "      <th>deceased_indicator</th>\n",
              "      <th>default</th>\n",
              "      <th>owns_car</th>\n",
              "      <th>tenure</th>\n",
              "    </tr>\n",
              "  </thead>\n",
              "  <tbody>\n",
              "    <tr>\n",
              "      <th>0</th>\n",
              "      <td>1</td>\n",
              "      <td>Laraine</td>\n",
              "      <td>Medendorp</td>\n",
              "      <td>F</td>\n",
              "      <td>93</td>\n",
              "      <td>1953-10-12</td>\n",
              "      <td>Executive Secretary</td>\n",
              "      <td>Health</td>\n",
              "      <td>Mass Customer</td>\n",
              "      <td>N</td>\n",
              "      <td>\"'</td>\n",
              "      <td>Yes</td>\n",
              "      <td>11.0</td>\n",
              "    </tr>\n",
              "    <tr>\n",
              "      <th>1</th>\n",
              "      <td>2</td>\n",
              "      <td>Eli</td>\n",
              "      <td>Bockman</td>\n",
              "      <td>Male</td>\n",
              "      <td>81</td>\n",
              "      <td>1980-12-16</td>\n",
              "      <td>Administrative Officer</td>\n",
              "      <td>Financial Services</td>\n",
              "      <td>Mass Customer</td>\n",
              "      <td>N</td>\n",
              "      <td>&lt;script&gt;alert('hi')&lt;/script&gt;</td>\n",
              "      <td>Yes</td>\n",
              "      <td>16.0</td>\n",
              "    </tr>\n",
              "    <tr>\n",
              "      <th>2</th>\n",
              "      <td>3</td>\n",
              "      <td>Arlin</td>\n",
              "      <td>Dearle</td>\n",
              "      <td>Male</td>\n",
              "      <td>61</td>\n",
              "      <td>1954-01-20</td>\n",
              "      <td>Recruiting Manager</td>\n",
              "      <td>Property</td>\n",
              "      <td>Mass Customer</td>\n",
              "      <td>N</td>\n",
              "      <td>2018-02-01 00:00:00</td>\n",
              "      <td>Yes</td>\n",
              "      <td>15.0</td>\n",
              "    </tr>\n",
              "    <tr>\n",
              "      <th>3</th>\n",
              "      <td>4</td>\n",
              "      <td>Talbot</td>\n",
              "      <td>NaN</td>\n",
              "      <td>Male</td>\n",
              "      <td>33</td>\n",
              "      <td>1961-10-03</td>\n",
              "      <td>NaN</td>\n",
              "      <td>IT</td>\n",
              "      <td>Mass Customer</td>\n",
              "      <td>N</td>\n",
              "      <td>() { _; } &gt;_[$($())] { touch /tmp/blns.shellsh...</td>\n",
              "      <td>No</td>\n",
              "      <td>7.0</td>\n",
              "    </tr>\n",
              "    <tr>\n",
              "      <th>4</th>\n",
              "      <td>5</td>\n",
              "      <td>Sheila-kathryn</td>\n",
              "      <td>Calton</td>\n",
              "      <td>Female</td>\n",
              "      <td>56</td>\n",
              "      <td>1977-05-13</td>\n",
              "      <td>Senior Editor</td>\n",
              "      <td>NaN</td>\n",
              "      <td>Affluent Customer</td>\n",
              "      <td>N</td>\n",
              "      <td>NIL</td>\n",
              "      <td>Yes</td>\n",
              "      <td>8.0</td>\n",
              "    </tr>\n",
              "  </tbody>\n",
              "</table>\n",
              "</div>"
            ],
            "text/plain": [
              "   customer_id      first_name  ... owns_car tenure\n",
              "0            1         Laraine  ...      Yes   11.0\n",
              "1            2             Eli  ...      Yes   16.0\n",
              "2            3           Arlin  ...      Yes   15.0\n",
              "3            4          Talbot  ...       No    7.0\n",
              "4            5  Sheila-kathryn  ...      Yes    8.0\n",
              "\n",
              "[5 rows x 13 columns]"
            ]
          },
          "metadata": {
            "tags": []
          },
          "execution_count": 115
        }
      ]
    },
    {
      "cell_type": "code",
      "metadata": {
        "colab": {
          "base_uri": "https://localhost:8080/",
          "height": 252
        },
        "id": "DH0JBtHKnDFV",
        "outputId": "c8fdb0d4-1524-4918-bd94-7c4ab547a663"
      },
      "source": [
        "# Calcualte Age\n",
        "now = pd.to_datetime('now')\n",
        "CustomerDemographic['Age'] = (now.year - CustomerDemographic['DOB'].dt.year) - ((now.month - CustomerDemographic['DOB'].dt.month) < 0)\n",
        "\n",
        "# Drop DOB\n",
        "CustomerDemographic.pop('DOB')\n",
        "CustomerDemographic.head()"
      ],
      "execution_count": 116,
      "outputs": [
        {
          "output_type": "execute_result",
          "data": {
            "text/html": [
              "<div>\n",
              "<style scoped>\n",
              "    .dataframe tbody tr th:only-of-type {\n",
              "        vertical-align: middle;\n",
              "    }\n",
              "\n",
              "    .dataframe tbody tr th {\n",
              "        vertical-align: top;\n",
              "    }\n",
              "\n",
              "    .dataframe thead th {\n",
              "        text-align: right;\n",
              "    }\n",
              "</style>\n",
              "<table border=\"1\" class=\"dataframe\">\n",
              "  <thead>\n",
              "    <tr style=\"text-align: right;\">\n",
              "      <th></th>\n",
              "      <th>customer_id</th>\n",
              "      <th>first_name</th>\n",
              "      <th>last_name</th>\n",
              "      <th>gender</th>\n",
              "      <th>past_3_years_bike_related_purchases</th>\n",
              "      <th>job_title</th>\n",
              "      <th>job_industry_category</th>\n",
              "      <th>wealth_segment</th>\n",
              "      <th>deceased_indicator</th>\n",
              "      <th>default</th>\n",
              "      <th>owns_car</th>\n",
              "      <th>tenure</th>\n",
              "      <th>Age</th>\n",
              "    </tr>\n",
              "  </thead>\n",
              "  <tbody>\n",
              "    <tr>\n",
              "      <th>0</th>\n",
              "      <td>1</td>\n",
              "      <td>Laraine</td>\n",
              "      <td>Medendorp</td>\n",
              "      <td>F</td>\n",
              "      <td>93</td>\n",
              "      <td>Executive Secretary</td>\n",
              "      <td>Health</td>\n",
              "      <td>Mass Customer</td>\n",
              "      <td>N</td>\n",
              "      <td>\"'</td>\n",
              "      <td>Yes</td>\n",
              "      <td>11.0</td>\n",
              "      <td>67.0</td>\n",
              "    </tr>\n",
              "    <tr>\n",
              "      <th>1</th>\n",
              "      <td>2</td>\n",
              "      <td>Eli</td>\n",
              "      <td>Bockman</td>\n",
              "      <td>Male</td>\n",
              "      <td>81</td>\n",
              "      <td>Administrative Officer</td>\n",
              "      <td>Financial Services</td>\n",
              "      <td>Mass Customer</td>\n",
              "      <td>N</td>\n",
              "      <td>&lt;script&gt;alert('hi')&lt;/script&gt;</td>\n",
              "      <td>Yes</td>\n",
              "      <td>16.0</td>\n",
              "      <td>40.0</td>\n",
              "    </tr>\n",
              "    <tr>\n",
              "      <th>2</th>\n",
              "      <td>3</td>\n",
              "      <td>Arlin</td>\n",
              "      <td>Dearle</td>\n",
              "      <td>Male</td>\n",
              "      <td>61</td>\n",
              "      <td>Recruiting Manager</td>\n",
              "      <td>Property</td>\n",
              "      <td>Mass Customer</td>\n",
              "      <td>N</td>\n",
              "      <td>2018-02-01 00:00:00</td>\n",
              "      <td>Yes</td>\n",
              "      <td>15.0</td>\n",
              "      <td>67.0</td>\n",
              "    </tr>\n",
              "    <tr>\n",
              "      <th>3</th>\n",
              "      <td>4</td>\n",
              "      <td>Talbot</td>\n",
              "      <td>NaN</td>\n",
              "      <td>Male</td>\n",
              "      <td>33</td>\n",
              "      <td>NaN</td>\n",
              "      <td>IT</td>\n",
              "      <td>Mass Customer</td>\n",
              "      <td>N</td>\n",
              "      <td>() { _; } &gt;_[$($())] { touch /tmp/blns.shellsh...</td>\n",
              "      <td>No</td>\n",
              "      <td>7.0</td>\n",
              "      <td>59.0</td>\n",
              "    </tr>\n",
              "    <tr>\n",
              "      <th>4</th>\n",
              "      <td>5</td>\n",
              "      <td>Sheila-kathryn</td>\n",
              "      <td>Calton</td>\n",
              "      <td>Female</td>\n",
              "      <td>56</td>\n",
              "      <td>Senior Editor</td>\n",
              "      <td>NaN</td>\n",
              "      <td>Affluent Customer</td>\n",
              "      <td>N</td>\n",
              "      <td>NIL</td>\n",
              "      <td>Yes</td>\n",
              "      <td>8.0</td>\n",
              "      <td>44.0</td>\n",
              "    </tr>\n",
              "  </tbody>\n",
              "</table>\n",
              "</div>"
            ],
            "text/plain": [
              "   customer_id      first_name  last_name  ... owns_car  tenure   Age\n",
              "0            1         Laraine  Medendorp  ...      Yes    11.0  67.0\n",
              "1            2             Eli    Bockman  ...      Yes    16.0  40.0\n",
              "2            3           Arlin     Dearle  ...      Yes    15.0  67.0\n",
              "3            4          Talbot        NaN  ...       No     7.0  59.0\n",
              "4            5  Sheila-kathryn     Calton  ...      Yes     8.0  44.0\n",
              "\n",
              "[5 rows x 13 columns]"
            ]
          },
          "metadata": {
            "tags": []
          },
          "execution_count": 116
        }
      ]
    },
    {
      "cell_type": "markdown",
      "metadata": {
        "id": "C7S5rgbZcOvn"
      },
      "source": [
        "## Data Quality Analysis"
      ]
    },
    {
      "cell_type": "code",
      "metadata": {
        "colab": {
          "base_uri": "https://localhost:8080/"
        },
        "id": "rimzSbWRtZzt",
        "outputId": "10801b83-88c1-41fc-97c8-ce80b66f3eea"
      },
      "source": [
        "# Check number of rows and columns\n",
        "CustomerDemographic.shape"
      ],
      "execution_count": 117,
      "outputs": [
        {
          "output_type": "execute_result",
          "data": {
            "text/plain": [
              "(4000, 13)"
            ]
          },
          "metadata": {
            "tags": []
          },
          "execution_count": 117
        }
      ]
    },
    {
      "cell_type": "code",
      "metadata": {
        "colab": {
          "base_uri": "https://localhost:8080/"
        },
        "id": "2jKWnx9lUYOl",
        "outputId": "598b2baa-fa39-4856-91e2-e191c3e37057"
      },
      "source": [
        "# Data types\n",
        "CustomerDemographic.dtypes"
      ],
      "execution_count": 118,
      "outputs": [
        {
          "output_type": "execute_result",
          "data": {
            "text/plain": [
              "customer_id                              int64\n",
              "first_name                              object\n",
              "last_name                               object\n",
              "gender                                  object\n",
              "past_3_years_bike_related_purchases      int64\n",
              "job_title                               object\n",
              "job_industry_category                   object\n",
              "wealth_segment                          object\n",
              "deceased_indicator                      object\n",
              "default                                 object\n",
              "owns_car                                object\n",
              "tenure                                 float64\n",
              "Age                                    float64\n",
              "dtype: object"
            ]
          },
          "metadata": {
            "tags": []
          },
          "execution_count": 118
        }
      ]
    },
    {
      "cell_type": "markdown",
      "metadata": {
        "id": "siNFdQOjYDkT"
      },
      "source": [
        "**1. Check data accuracy**"
      ]
    },
    {
      "cell_type": "code",
      "metadata": {
        "colab": {
          "base_uri": "https://localhost:8080/"
        },
        "id": "kqmBK1vPTs2D",
        "outputId": "472d943c-9956-466f-bed5-6c91e0cc0467"
      },
      "source": [
        "# Check if customer_id values are all unique. Each customer should have only one unique customer_id\n",
        "customerID_duplicated = CustomerDemographic['customer_id'].duplicated().any()\n",
        "customerID_duplicated"
      ],
      "execution_count": 119,
      "outputs": [
        {
          "output_type": "execute_result",
          "data": {
            "text/plain": [
              "False"
            ]
          },
          "metadata": {
            "tags": []
          },
          "execution_count": 119
        }
      ]
    },
    {
      "cell_type": "markdown",
      "metadata": {
        "id": "zfta3bXhZR7V"
      },
      "source": [
        "**2. Check data completeness**"
      ]
    },
    {
      "cell_type": "code",
      "metadata": {
        "colab": {
          "base_uri": "https://localhost:8080/",
          "height": 447
        },
        "id": "dPWks0QVrMyM",
        "outputId": "133cfe0b-73b5-4f94-eacf-abca4a60ae0c"
      },
      "source": [
        "# Rows with missing values count and percentage\n",
        "empty_rows_count = CustomerDemographic.isnull().sum()\n",
        "empty_rows_perc = empty_rows_count/len(CustomerDemographic)*100\n",
        "\n",
        "null_values_perc = pd.DataFrame(empty_rows_count, columns=['Null_rows_count'])\n",
        "null_values_perc['Null_rows_percentage'] = empty_rows_perc\n",
        "null_values_perc\n"
      ],
      "execution_count": 120,
      "outputs": [
        {
          "output_type": "execute_result",
          "data": {
            "text/html": [
              "<div>\n",
              "<style scoped>\n",
              "    .dataframe tbody tr th:only-of-type {\n",
              "        vertical-align: middle;\n",
              "    }\n",
              "\n",
              "    .dataframe tbody tr th {\n",
              "        vertical-align: top;\n",
              "    }\n",
              "\n",
              "    .dataframe thead th {\n",
              "        text-align: right;\n",
              "    }\n",
              "</style>\n",
              "<table border=\"1\" class=\"dataframe\">\n",
              "  <thead>\n",
              "    <tr style=\"text-align: right;\">\n",
              "      <th></th>\n",
              "      <th>Null_rows_count</th>\n",
              "      <th>Null_rows_percentage</th>\n",
              "    </tr>\n",
              "  </thead>\n",
              "  <tbody>\n",
              "    <tr>\n",
              "      <th>customer_id</th>\n",
              "      <td>0</td>\n",
              "      <td>0.000</td>\n",
              "    </tr>\n",
              "    <tr>\n",
              "      <th>first_name</th>\n",
              "      <td>0</td>\n",
              "      <td>0.000</td>\n",
              "    </tr>\n",
              "    <tr>\n",
              "      <th>last_name</th>\n",
              "      <td>125</td>\n",
              "      <td>3.125</td>\n",
              "    </tr>\n",
              "    <tr>\n",
              "      <th>gender</th>\n",
              "      <td>0</td>\n",
              "      <td>0.000</td>\n",
              "    </tr>\n",
              "    <tr>\n",
              "      <th>past_3_years_bike_related_purchases</th>\n",
              "      <td>0</td>\n",
              "      <td>0.000</td>\n",
              "    </tr>\n",
              "    <tr>\n",
              "      <th>job_title</th>\n",
              "      <td>506</td>\n",
              "      <td>12.650</td>\n",
              "    </tr>\n",
              "    <tr>\n",
              "      <th>job_industry_category</th>\n",
              "      <td>656</td>\n",
              "      <td>16.400</td>\n",
              "    </tr>\n",
              "    <tr>\n",
              "      <th>wealth_segment</th>\n",
              "      <td>0</td>\n",
              "      <td>0.000</td>\n",
              "    </tr>\n",
              "    <tr>\n",
              "      <th>deceased_indicator</th>\n",
              "      <td>0</td>\n",
              "      <td>0.000</td>\n",
              "    </tr>\n",
              "    <tr>\n",
              "      <th>default</th>\n",
              "      <td>302</td>\n",
              "      <td>7.550</td>\n",
              "    </tr>\n",
              "    <tr>\n",
              "      <th>owns_car</th>\n",
              "      <td>0</td>\n",
              "      <td>0.000</td>\n",
              "    </tr>\n",
              "    <tr>\n",
              "      <th>tenure</th>\n",
              "      <td>87</td>\n",
              "      <td>2.175</td>\n",
              "    </tr>\n",
              "    <tr>\n",
              "      <th>Age</th>\n",
              "      <td>87</td>\n",
              "      <td>2.175</td>\n",
              "    </tr>\n",
              "  </tbody>\n",
              "</table>\n",
              "</div>"
            ],
            "text/plain": [
              "                                     Null_rows_count  Null_rows_percentage\n",
              "customer_id                                        0                 0.000\n",
              "first_name                                         0                 0.000\n",
              "last_name                                        125                 3.125\n",
              "gender                                             0                 0.000\n",
              "past_3_years_bike_related_purchases                0                 0.000\n",
              "job_title                                        506                12.650\n",
              "job_industry_category                            656                16.400\n",
              "wealth_segment                                     0                 0.000\n",
              "deceased_indicator                                 0                 0.000\n",
              "default                                          302                 7.550\n",
              "owns_car                                           0                 0.000\n",
              "tenure                                            87                 2.175\n",
              "Age                                               87                 2.175"
            ]
          },
          "metadata": {
            "tags": []
          },
          "execution_count": 120
        }
      ]
    },
    {
      "cell_type": "markdown",
      "metadata": {
        "id": "ZysNKUKpskI6"
      },
      "source": [
        "- last_name column has 125 null values (~3%). However, this will not impact the model training in the next module since we can use customer_id as unique key to identify that particular customer.\n",
        "- job_title and job_industry_category are 2 important features of the dataset. We will keep these rows and replace null values with 'Unknown'.\n",
        "- default column has 302 null values (7.5%) but it is a redundant column and will be dropped.\n",
        "- tenure column has 87 null values (~2%) and will be replaced with the minumum value of 1.\n",
        "- Age column has 87 null values (~2%). Since only 2% of data is missing, we can Fill these null values with mode, most frequent appearing values."
      ]
    },
    {
      "cell_type": "markdown",
      "metadata": {
        "id": "XBpy1Q-5aBds"
      },
      "source": [
        "**3. Check data consistency**"
      ]
    },
    {
      "cell_type": "code",
      "metadata": {
        "colab": {
          "base_uri": "https://localhost:8080/"
        },
        "id": "lHSzn4_rcspp",
        "outputId": "6c8842c3-061e-4bb2-8582-3d8bd39e8840"
      },
      "source": [
        "# Check unique values for each column\n",
        "CustomerDemographic[\"gender\"].unique()"
      ],
      "execution_count": 121,
      "outputs": [
        {
          "output_type": "execute_result",
          "data": {
            "text/plain": [
              "array(['F', 'Male', 'Female', 'U', 'Femal', 'M'], dtype=object)"
            ]
          },
          "metadata": {
            "tags": []
          },
          "execution_count": 121
        }
      ]
    },
    {
      "cell_type": "code",
      "metadata": {
        "colab": {
          "base_uri": "https://localhost:8080/"
        },
        "id": "SeyP-TEedEg1",
        "outputId": "6a5a1c78-9873-4b44-febc-c19fba98ac08"
      },
      "source": [
        "CustomerDemographic[\"deceased_indicator\"].unique()"
      ],
      "execution_count": 122,
      "outputs": [
        {
          "output_type": "execute_result",
          "data": {
            "text/plain": [
              "array(['N', 'Y'], dtype=object)"
            ]
          },
          "metadata": {
            "tags": []
          },
          "execution_count": 122
        }
      ]
    },
    {
      "cell_type": "code",
      "metadata": {
        "colab": {
          "base_uri": "https://localhost:8080/"
        },
        "id": "lS9pMcIjvWPy",
        "outputId": "b15d2cae-87f6-4b34-f558-6db609aa0c14"
      },
      "source": [
        "# Check unique values for each column\n",
        "CustomerDemographic[\"deceased_indicator\"].value_counts()"
      ],
      "execution_count": 123,
      "outputs": [
        {
          "output_type": "execute_result",
          "data": {
            "text/plain": [
              "N    3998\n",
              "Y       2\n",
              "Name: deceased_indicator, dtype: int64"
            ]
          },
          "metadata": {
            "tags": []
          },
          "execution_count": 123
        }
      ]
    },
    {
      "cell_type": "code",
      "metadata": {
        "colab": {
          "base_uri": "https://localhost:8080/"
        },
        "id": "2Qe2B9EHcxv4",
        "outputId": "5a4939b0-9dbe-465f-b55c-44408abadff2"
      },
      "source": [
        "CustomerDemographic[\"job_industry_category\"].unique()"
      ],
      "execution_count": 124,
      "outputs": [
        {
          "output_type": "execute_result",
          "data": {
            "text/plain": [
              "array(['Health', 'Financial Services', 'Property', 'IT', nan, 'Retail',\n",
              "       'Argiculture', 'Manufacturing', 'Telecommunications',\n",
              "       'Entertainment'], dtype=object)"
            ]
          },
          "metadata": {
            "tags": []
          },
          "execution_count": 124
        }
      ]
    },
    {
      "cell_type": "code",
      "metadata": {
        "colab": {
          "base_uri": "https://localhost:8080/"
        },
        "id": "n738V_xEc_8Z",
        "outputId": "a8c98e34-b552-492b-a553-cad839ed7190"
      },
      "source": [
        "CustomerDemographic[\"wealth_segment\"].unique()"
      ],
      "execution_count": 125,
      "outputs": [
        {
          "output_type": "execute_result",
          "data": {
            "text/plain": [
              "array(['Mass Customer', 'Affluent Customer', 'High Net Worth'],\n",
              "      dtype=object)"
            ]
          },
          "metadata": {
            "tags": []
          },
          "execution_count": 125
        }
      ]
    },
    {
      "cell_type": "code",
      "metadata": {
        "colab": {
          "base_uri": "https://localhost:8080/"
        },
        "id": "kGkEV9OFdICG",
        "outputId": "b1dd1cad-c6ce-450f-dd00-36f95030a9f4"
      },
      "source": [
        "CustomerDemographic[\"owns_car\"].unique()"
      ],
      "execution_count": 126,
      "outputs": [
        {
          "output_type": "execute_result",
          "data": {
            "text/plain": [
              "array(['Yes', 'No'], dtype=object)"
            ]
          },
          "metadata": {
            "tags": []
          },
          "execution_count": 126
        }
      ]
    },
    {
      "cell_type": "markdown",
      "metadata": {
        "id": "RUig0ltGdarQ"
      },
      "source": [
        "- Column gender contains input that can be simplified to only \"Female\", \"Male\", and \"Unknown\"\n",
        "- The majority of customers are alive and column \"deceased_indicator\" does not add any value to the analysis or ML model. It can be dropped.\n",
        "- Column job_industry_category contain nan values that can be filled with \"Unknown\""
      ]
    },
    {
      "cell_type": "markdown",
      "metadata": {
        "id": "gzNCLtcaaPKP"
      },
      "source": [
        "**4. Check data currency**"
      ]
    },
    {
      "cell_type": "markdown",
      "metadata": {
        "id": "RfpZ4hDLaRQl"
      },
      "source": [
        "- Customers information such as name, address, job title, etc. can be updated if there are any changes."
      ]
    },
    {
      "cell_type": "markdown",
      "metadata": {
        "id": "qcsNkSJ1ZyFF"
      },
      "source": [
        "**5. Check data relevancy**"
      ]
    },
    {
      "cell_type": "markdown",
      "metadata": {
        "id": "TjW4f8lnoCWe"
      },
      "source": [
        "- Column 'default' does not have meaning and thus does not add any value to the analysis."
      ]
    },
    {
      "cell_type": "markdown",
      "metadata": {
        "id": "viplbYkYZZfU"
      },
      "source": [
        "**6. Validate data and check for outliers**"
      ]
    },
    {
      "cell_type": "code",
      "metadata": {
        "colab": {
          "base_uri": "https://localhost:8080/",
          "height": 294
        },
        "id": "9GCD1etETneA",
        "outputId": "d6208b3e-43f9-41eb-b93c-02444808476a"
      },
      "source": [
        "# Summary statistics for columns with datatypes integer and float\n",
        "CustomerDemographic.describe(include=['int64', 'float64'])"
      ],
      "execution_count": 127,
      "outputs": [
        {
          "output_type": "execute_result",
          "data": {
            "text/html": [
              "<div>\n",
              "<style scoped>\n",
              "    .dataframe tbody tr th:only-of-type {\n",
              "        vertical-align: middle;\n",
              "    }\n",
              "\n",
              "    .dataframe tbody tr th {\n",
              "        vertical-align: top;\n",
              "    }\n",
              "\n",
              "    .dataframe thead th {\n",
              "        text-align: right;\n",
              "    }\n",
              "</style>\n",
              "<table border=\"1\" class=\"dataframe\">\n",
              "  <thead>\n",
              "    <tr style=\"text-align: right;\">\n",
              "      <th></th>\n",
              "      <th>customer_id</th>\n",
              "      <th>past_3_years_bike_related_purchases</th>\n",
              "      <th>tenure</th>\n",
              "      <th>Age</th>\n",
              "    </tr>\n",
              "  </thead>\n",
              "  <tbody>\n",
              "    <tr>\n",
              "      <th>count</th>\n",
              "      <td>4000.000000</td>\n",
              "      <td>4000.000000</td>\n",
              "      <td>3913.000000</td>\n",
              "      <td>3913.000000</td>\n",
              "    </tr>\n",
              "    <tr>\n",
              "      <th>mean</th>\n",
              "      <td>2000.500000</td>\n",
              "      <td>48.890000</td>\n",
              "      <td>10.657041</td>\n",
              "      <td>43.462050</td>\n",
              "    </tr>\n",
              "    <tr>\n",
              "      <th>std</th>\n",
              "      <td>1154.844867</td>\n",
              "      <td>28.715005</td>\n",
              "      <td>5.660146</td>\n",
              "      <td>12.801164</td>\n",
              "    </tr>\n",
              "    <tr>\n",
              "      <th>min</th>\n",
              "      <td>1.000000</td>\n",
              "      <td>0.000000</td>\n",
              "      <td>1.000000</td>\n",
              "      <td>19.000000</td>\n",
              "    </tr>\n",
              "    <tr>\n",
              "      <th>25%</th>\n",
              "      <td>1000.750000</td>\n",
              "      <td>24.000000</td>\n",
              "      <td>6.000000</td>\n",
              "      <td>34.000000</td>\n",
              "    </tr>\n",
              "    <tr>\n",
              "      <th>50%</th>\n",
              "      <td>2000.500000</td>\n",
              "      <td>48.000000</td>\n",
              "      <td>11.000000</td>\n",
              "      <td>43.000000</td>\n",
              "    </tr>\n",
              "    <tr>\n",
              "      <th>75%</th>\n",
              "      <td>3000.250000</td>\n",
              "      <td>73.000000</td>\n",
              "      <td>15.000000</td>\n",
              "      <td>53.000000</td>\n",
              "    </tr>\n",
              "    <tr>\n",
              "      <th>max</th>\n",
              "      <td>4000.000000</td>\n",
              "      <td>99.000000</td>\n",
              "      <td>22.000000</td>\n",
              "      <td>177.000000</td>\n",
              "    </tr>\n",
              "  </tbody>\n",
              "</table>\n",
              "</div>"
            ],
            "text/plain": [
              "       customer_id  ...          Age\n",
              "count  4000.000000  ...  3913.000000\n",
              "mean   2000.500000  ...    43.462050\n",
              "std    1154.844867  ...    12.801164\n",
              "min       1.000000  ...    19.000000\n",
              "25%    1000.750000  ...    34.000000\n",
              "50%    2000.500000  ...    43.000000\n",
              "75%    3000.250000  ...    53.000000\n",
              "max    4000.000000  ...   177.000000\n",
              "\n",
              "[8 rows x 4 columns]"
            ]
          },
          "metadata": {
            "tags": []
          },
          "execution_count": 127
        }
      ]
    },
    {
      "cell_type": "markdown",
      "metadata": {
        "id": "cUVIjTF9Zjtt"
      },
      "source": [
        "- Customers Age max is 177. This is impossible as the world's oldest person record is about 122 years old. This is a wrong data entry. Replace values larger than 122 by 122."
      ]
    },
    {
      "cell_type": "markdown",
      "metadata": {
        "id": "I-18ak0GbgF2"
      },
      "source": [
        "**7. Check for duplicates**"
      ]
    },
    {
      "cell_type": "code",
      "metadata": {
        "colab": {
          "base_uri": "https://localhost:8080/"
        },
        "id": "fXrCUxXObtG9",
        "outputId": "984fac43-6812-4d95-ef10-1121a82a1aa1"
      },
      "source": [
        "# Count number of duplicates for each column\n",
        "CustomerDemographic.duplicated().sum()"
      ],
      "execution_count": 128,
      "outputs": [
        {
          "output_type": "execute_result",
          "data": {
            "text/plain": [
              "0"
            ]
          },
          "metadata": {
            "tags": []
          },
          "execution_count": 128
        }
      ]
    },
    {
      "cell_type": "markdown",
      "metadata": {
        "id": "uQ6TCVAHctbi"
      },
      "source": [
        "## Data Cleaning"
      ]
    },
    {
      "cell_type": "markdown",
      "metadata": {
        "id": "3NjyeYvt1gCq"
      },
      "source": [
        "**Fill in nan values as suggested above**"
      ]
    },
    {
      "cell_type": "code",
      "metadata": {
        "id": "8a3Fl0Wd1lkD"
      },
      "source": [
        "# fill nan values in column last_name with 'Unknown'\n",
        "CustomerDemographic[\"last_name\"].fillna('Unknown', inplace=True)"
      ],
      "execution_count": 129,
      "outputs": []
    },
    {
      "cell_type": "code",
      "metadata": {
        "id": "jPLoruZ619Nb"
      },
      "source": [
        "# fill nan values in DOB column with mode\n",
        "CustomerDemographic['Age'].fillna(CustomerDemographic['Age'].mode()[0], inplace=True)"
      ],
      "execution_count": 130,
      "outputs": []
    },
    {
      "cell_type": "code",
      "metadata": {
        "id": "asQPkVFm3sts"
      },
      "source": [
        "# fill nan values in job_title and job_industry_category columns with 'Unknown'\n",
        "CustomerDemographic[\"job_title\"].fillna('Unknown', inplace=True)\n",
        "CustomerDemographic[\"job_industry_category\"].fillna('Unknown', inplace=True)"
      ],
      "execution_count": 131,
      "outputs": []
    },
    {
      "cell_type": "code",
      "metadata": {
        "id": "KN7012_o4Hq8"
      },
      "source": [
        "# fill nan values in column tenure with minimum value of 1 to be in the conservative side\n",
        "CustomerDemographic['tenure'].fillna(CustomerDemographic['tenure'].min(), inplace=True)"
      ],
      "execution_count": 132,
      "outputs": []
    },
    {
      "cell_type": "code",
      "metadata": {
        "colab": {
          "base_uri": "https://localhost:8080/"
        },
        "id": "AqqFC06g7wYP",
        "outputId": "a6c48635-03e6-4df0-9697-7cc963f9be33"
      },
      "source": [
        "# Check null values after fillna\n",
        "CustomerDemographic.isnull().sum()"
      ],
      "execution_count": 133,
      "outputs": [
        {
          "output_type": "execute_result",
          "data": {
            "text/plain": [
              "customer_id                              0\n",
              "first_name                               0\n",
              "last_name                                0\n",
              "gender                                   0\n",
              "past_3_years_bike_related_purchases      0\n",
              "job_title                                0\n",
              "job_industry_category                    0\n",
              "wealth_segment                           0\n",
              "deceased_indicator                       0\n",
              "default                                302\n",
              "owns_car                                 0\n",
              "tenure                                   0\n",
              "Age                                      0\n",
              "dtype: int64"
            ]
          },
          "metadata": {
            "tags": []
          },
          "execution_count": 133
        }
      ]
    },
    {
      "cell_type": "markdown",
      "metadata": {
        "id": "ihDF2wh3fO8m"
      },
      "source": [
        "**Replace misstyped data as suggested above**"
      ]
    },
    {
      "cell_type": "code",
      "metadata": {
        "colab": {
          "base_uri": "https://localhost:8080/"
        },
        "id": "9dUQkttpdcwn",
        "outputId": "ea01b3b1-7f4b-420b-a2d9-de180b6c03f2"
      },
      "source": [
        "# Simplify data entry by replacing F and Femal with \"Female\" and M with \"Male\"\n",
        "CustomerDemographic[\"gender\"].replace(dict.fromkeys(['F','Femal'], 'Female'), inplace=True)\n",
        "CustomerDemographic[\"gender\"].replace(dict.fromkeys(['M'], 'Male'), inplace=True)\n",
        "CustomerDemographic[\"gender\"].replace(dict.fromkeys(['U'], 'Unknown'), inplace=True)\n",
        "CustomerDemographic[\"gender\"].unique()"
      ],
      "execution_count": 134,
      "outputs": [
        {
          "output_type": "execute_result",
          "data": {
            "text/plain": [
              "array(['Female', 'Male', 'Unknown'], dtype=object)"
            ]
          },
          "metadata": {
            "tags": []
          },
          "execution_count": 134
        }
      ]
    },
    {
      "cell_type": "code",
      "metadata": {
        "id": "fVf9pHDeoVT-"
      },
      "source": [
        "# Replace Ages > 122 with 122\n",
        "CustomerDemographic['Age'].values[CustomerDemographic['Age'].values >= 122] = 122"
      ],
      "execution_count": 135,
      "outputs": []
    },
    {
      "cell_type": "code",
      "metadata": {
        "colab": {
          "base_uri": "https://localhost:8080/"
        },
        "id": "A6XcXmJmpLwn",
        "outputId": "7de7588b-d02f-450b-d833-597b2580ee4e"
      },
      "source": [
        "# Check if max age is 122\n",
        "CustomerDemographic['Age'].max()"
      ],
      "execution_count": 136,
      "outputs": [
        {
          "output_type": "execute_result",
          "data": {
            "text/plain": [
              "122.0"
            ]
          },
          "metadata": {
            "tags": []
          },
          "execution_count": 136
        }
      ]
    },
    {
      "cell_type": "markdown",
      "metadata": {
        "id": "3KLgIy0pn73S"
      },
      "source": [
        "**Drop irrelevant columns**"
      ]
    },
    {
      "cell_type": "code",
      "metadata": {
        "id": "YKH_7BqT8Wz9"
      },
      "source": [
        "# drop column 'default' as it does not add any value to the analysis\n",
        "CustomerDemographic.drop('default', axis='columns', inplace=True)"
      ],
      "execution_count": 137,
      "outputs": []
    },
    {
      "cell_type": "code",
      "metadata": {
        "id": "VisJ4iQ2v6Ph"
      },
      "source": [
        "# drop column 'deceased_indicator' as almost all customers are still alive\n",
        "CustomerDemographic.drop('deceased_indicator', axis='columns', inplace=True)"
      ],
      "execution_count": 138,
      "outputs": []
    },
    {
      "cell_type": "code",
      "metadata": {
        "id": "LIOXXu4CPK8w"
      },
      "source": [
        "# Save clean dataset\n",
        "CustomerDemographic.to_csv(\"CustomerDemographic.csv\")"
      ],
      "execution_count": 139,
      "outputs": []
    },
    {
      "cell_type": "markdown",
      "metadata": {
        "id": "xmkn02EFjytv"
      },
      "source": [
        "## Preliminary Analysis"
      ]
    },
    {
      "cell_type": "code",
      "metadata": {
        "colab": {
          "base_uri": "https://localhost:8080/",
          "height": 202
        },
        "id": "IVlLIZy8pt0w",
        "outputId": "71c64f08-714f-4f80-e291-38da1e918a2d"
      },
      "source": [
        "CustomerDemographic.head()"
      ],
      "execution_count": 140,
      "outputs": [
        {
          "output_type": "execute_result",
          "data": {
            "text/html": [
              "<div>\n",
              "<style scoped>\n",
              "    .dataframe tbody tr th:only-of-type {\n",
              "        vertical-align: middle;\n",
              "    }\n",
              "\n",
              "    .dataframe tbody tr th {\n",
              "        vertical-align: top;\n",
              "    }\n",
              "\n",
              "    .dataframe thead th {\n",
              "        text-align: right;\n",
              "    }\n",
              "</style>\n",
              "<table border=\"1\" class=\"dataframe\">\n",
              "  <thead>\n",
              "    <tr style=\"text-align: right;\">\n",
              "      <th></th>\n",
              "      <th>customer_id</th>\n",
              "      <th>first_name</th>\n",
              "      <th>last_name</th>\n",
              "      <th>gender</th>\n",
              "      <th>past_3_years_bike_related_purchases</th>\n",
              "      <th>job_title</th>\n",
              "      <th>job_industry_category</th>\n",
              "      <th>wealth_segment</th>\n",
              "      <th>owns_car</th>\n",
              "      <th>tenure</th>\n",
              "      <th>Age</th>\n",
              "    </tr>\n",
              "  </thead>\n",
              "  <tbody>\n",
              "    <tr>\n",
              "      <th>0</th>\n",
              "      <td>1</td>\n",
              "      <td>Laraine</td>\n",
              "      <td>Medendorp</td>\n",
              "      <td>Female</td>\n",
              "      <td>93</td>\n",
              "      <td>Executive Secretary</td>\n",
              "      <td>Health</td>\n",
              "      <td>Mass Customer</td>\n",
              "      <td>Yes</td>\n",
              "      <td>11.0</td>\n",
              "      <td>67.0</td>\n",
              "    </tr>\n",
              "    <tr>\n",
              "      <th>1</th>\n",
              "      <td>2</td>\n",
              "      <td>Eli</td>\n",
              "      <td>Bockman</td>\n",
              "      <td>Male</td>\n",
              "      <td>81</td>\n",
              "      <td>Administrative Officer</td>\n",
              "      <td>Financial Services</td>\n",
              "      <td>Mass Customer</td>\n",
              "      <td>Yes</td>\n",
              "      <td>16.0</td>\n",
              "      <td>40.0</td>\n",
              "    </tr>\n",
              "    <tr>\n",
              "      <th>2</th>\n",
              "      <td>3</td>\n",
              "      <td>Arlin</td>\n",
              "      <td>Dearle</td>\n",
              "      <td>Male</td>\n",
              "      <td>61</td>\n",
              "      <td>Recruiting Manager</td>\n",
              "      <td>Property</td>\n",
              "      <td>Mass Customer</td>\n",
              "      <td>Yes</td>\n",
              "      <td>15.0</td>\n",
              "      <td>67.0</td>\n",
              "    </tr>\n",
              "    <tr>\n",
              "      <th>3</th>\n",
              "      <td>4</td>\n",
              "      <td>Talbot</td>\n",
              "      <td>Unknown</td>\n",
              "      <td>Male</td>\n",
              "      <td>33</td>\n",
              "      <td>Unknown</td>\n",
              "      <td>IT</td>\n",
              "      <td>Mass Customer</td>\n",
              "      <td>No</td>\n",
              "      <td>7.0</td>\n",
              "      <td>59.0</td>\n",
              "    </tr>\n",
              "    <tr>\n",
              "      <th>4</th>\n",
              "      <td>5</td>\n",
              "      <td>Sheila-kathryn</td>\n",
              "      <td>Calton</td>\n",
              "      <td>Female</td>\n",
              "      <td>56</td>\n",
              "      <td>Senior Editor</td>\n",
              "      <td>Unknown</td>\n",
              "      <td>Affluent Customer</td>\n",
              "      <td>Yes</td>\n",
              "      <td>8.0</td>\n",
              "      <td>44.0</td>\n",
              "    </tr>\n",
              "  </tbody>\n",
              "</table>\n",
              "</div>"
            ],
            "text/plain": [
              "   customer_id      first_name  last_name  ... owns_car  tenure   Age\n",
              "0            1         Laraine  Medendorp  ...      Yes    11.0  67.0\n",
              "1            2             Eli    Bockman  ...      Yes    16.0  40.0\n",
              "2            3           Arlin     Dearle  ...      Yes    15.0  67.0\n",
              "3            4          Talbot    Unknown  ...       No     7.0  59.0\n",
              "4            5  Sheila-kathryn     Calton  ...      Yes     8.0  44.0\n",
              "\n",
              "[5 rows x 11 columns]"
            ]
          },
          "metadata": {
            "tags": []
          },
          "execution_count": 140
        }
      ]
    },
    {
      "cell_type": "code",
      "metadata": {
        "colab": {
          "base_uri": "https://localhost:8080/",
          "height": 464
        },
        "id": "GD_qWXst4VJb",
        "outputId": "eb5a5a4a-0a57-445c-9941-9d7201497513"
      },
      "source": [
        "corr = CustomerDemographic.corr()\n",
        "sns.heatmap(corr, cmap=\"Blues\", annot=True)"
      ],
      "execution_count": 141,
      "outputs": [
        {
          "output_type": "execute_result",
          "data": {
            "text/plain": [
              "<matplotlib.axes._subplots.AxesSubplot at 0x7f6c0ca31410>"
            ]
          },
          "metadata": {
            "tags": []
          },
          "execution_count": 141
        },
        {
          "output_type": "display_data",
          "data": {
            "image/png": "[encoded data removed]",
            "text/plain": [
              "<Figure size 432x288 with 2 Axes>"
            ]
          },
          "metadata": {
            "tags": [],
            "needs_background": "light"
          }
        }
      ]
    },
    {
      "cell_type": "markdown",
      "metadata": {
        "id": "8VlB96l143VY"
      },
      "source": [
        "- There's a slight positive correlation between Age and tenure. This means older people has longer subscription time.\n",
        "- There is almost no correlation between Age and pas_3_years_bike_related_purchases."
      ]
    },
    {
      "cell_type": "code",
      "metadata": {
        "colab": {
          "base_uri": "https://localhost:8080/",
          "height": 156
        },
        "id": "yBDVkjn6j0Zn",
        "outputId": "76ddff5b-8d95-46aa-e032-b6445f8a7684"
      },
      "source": [
        "# Check for outliers\n",
        "i=1\n",
        "columns = ['past_3_years_bike_related_purchases', 'tenure', 'Age']\n",
        "plt.figure(figsize=(10,8))\n",
        "for j in columns:\n",
        "    plt.subplot(4,3,i)\n",
        "    sns.boxplot(data=CustomerDemographic,x=CustomerDemographic[j])\n",
        "    i+=1"
      ],
      "execution_count": 142,
      "outputs": [
        {
          "output_type": "display_data",
          "data": {
            "image/png": "[encoded data removed]",
            "text/plain": [
              "<Figure size 720x576 with 3 Axes>"
            ]
          },
          "metadata": {
            "tags": [],
            "needs_background": "light"
          }
        }
      ]
    },
    {
      "cell_type": "markdown",
      "metadata": {
        "id": "jENqaf2bzC_9"
      },
      "source": [
        "- Only Age column has outliers but still within allowable limits."
      ]
    },
    {
      "cell_type": "code",
      "metadata": {
        "colab": {
          "base_uri": "https://localhost:8080/",
          "height": 335
        },
        "id": "qumWrUArj4A8",
        "outputId": "af1841b7-1751-4c69-c162-7322e2468cea"
      },
      "source": [
        "data = CustomerDemographic[['past_3_years_bike_related_purchases', 'tenure', 'Age']]\n",
        "data.hist(figsize=(8,5))\n",
        "plt.show()"
      ],
      "execution_count": 143,
      "outputs": [
        {
          "output_type": "display_data",
          "data": {
            "image/png": "[encoded data removed]",
            "text/plain": [
              "<Figure size 576x360 with 4 Axes>"
            ]
          },
          "metadata": {
            "tags": [],
            "needs_background": "light"
          }
        }
      ]
    },
    {
      "cell_type": "markdown",
      "metadata": {
        "id": "meS99qMlzNGy"
      },
      "source": [
        "- None of the variables has a normal distribution."
      ]
    },
    {
      "cell_type": "code",
      "metadata": {
        "colab": {
          "base_uri": "https://localhost:8080/",
          "height": 141
        },
        "id": "e8o3xnskq_OD",
        "outputId": "367762f8-513b-4993-fffb-ce21cbda154e"
      },
      "source": [
        "# Calculate percentage of customers by gender\n",
        "data_gender =pd.DataFrame((CustomerDemographic.groupby(['gender'])['customer_id'].count())/len(CustomerDemographic)*100)\n",
        "data_gender = data_gender.reset_index()\n",
        "data_gender"
      ],
      "execution_count": 144,
      "outputs": [
        {
          "output_type": "execute_result",
          "data": {
            "text/html": [
              "<div>\n",
              "<style scoped>\n",
              "    .dataframe tbody tr th:only-of-type {\n",
              "        vertical-align: middle;\n",
              "    }\n",
              "\n",
              "    .dataframe tbody tr th {\n",
              "        vertical-align: top;\n",
              "    }\n",
              "\n",
              "    .dataframe thead th {\n",
              "        text-align: right;\n",
              "    }\n",
              "</style>\n",
              "<table border=\"1\" class=\"dataframe\">\n",
              "  <thead>\n",
              "    <tr style=\"text-align: right;\">\n",
              "      <th></th>\n",
              "      <th>gender</th>\n",
              "      <th>customer_id</th>\n",
              "    </tr>\n",
              "  </thead>\n",
              "  <tbody>\n",
              "    <tr>\n",
              "      <th>0</th>\n",
              "      <td>Female</td>\n",
              "      <td>50.975</td>\n",
              "    </tr>\n",
              "    <tr>\n",
              "      <th>1</th>\n",
              "      <td>Male</td>\n",
              "      <td>46.825</td>\n",
              "    </tr>\n",
              "    <tr>\n",
              "      <th>2</th>\n",
              "      <td>Unknown</td>\n",
              "      <td>2.200</td>\n",
              "    </tr>\n",
              "  </tbody>\n",
              "</table>\n",
              "</div>"
            ],
            "text/plain": [
              "    gender  customer_id\n",
              "0   Female       50.975\n",
              "1     Male       46.825\n",
              "2  Unknown        2.200"
            ]
          },
          "metadata": {
            "tags": []
          },
          "execution_count": 144
        }
      ]
    },
    {
      "cell_type": "code",
      "metadata": {
        "colab": {
          "base_uri": "https://localhost:8080/",
          "height": 312
        },
        "id": "-3gf0OZtp09n",
        "outputId": "02283a4b-d28c-4776-de3d-96e05f00c751"
      },
      "source": [
        "# Create bar plot\n",
        "visual = sns.barplot(x=\"gender\", y=\"customer_id\", data=data_gender )\n",
        "\n",
        "for index, row in data_gender.iterrows():\n",
        "    visual.text(row.name,row.customer_id, round(row.customer_id,2), color='black', ha=\"center\")\n",
        "plt.title('Percentage of customers vs gender')\n",
        "plt.ylabel('Percentage (%)')"
      ],
      "execution_count": 145,
      "outputs": [
        {
          "output_type": "execute_result",
          "data": {
            "text/plain": [
              "Text(0, 0.5, 'Percentage (%)')"
            ]
          },
          "metadata": {
            "tags": []
          },
          "execution_count": 145
        },
        {
          "output_type": "display_data",
          "data": {
            "image/png": "[encoded data removed]",
            "text/plain": [
              "<Figure size 432x288 with 1 Axes>"
            ]
          },
          "metadata": {
            "tags": [],
            "needs_background": "light"
          }
        }
      ]
    },
    {
      "cell_type": "markdown",
      "metadata": {
        "id": "I50dJ8W5zVwZ"
      },
      "source": [
        "- The number of female customers is only slightly higher than the male customers."
      ]
    },
    {
      "cell_type": "code",
      "metadata": {
        "colab": {
          "base_uri": "https://localhost:8080/",
          "height": 355
        },
        "id": "V5qC2H0Kroxj",
        "outputId": "c772a025-0b0a-48c1-97e0-c5561dd21d2c"
      },
      "source": [
        "# Calculate percentage of customers by job_industry_category\n",
        "data_industry = pd.DataFrame((CustomerDemographic.groupby(['job_industry_category'])['customer_id'].count())/len(CustomerDemographic)*100)\n",
        "data_industry = data_industry.sort_values(by=['customer_id'], ascending=False)\n",
        "data_industry = data_industry.reset_index()\n",
        "data_industry"
      ],
      "execution_count": 146,
      "outputs": [
        {
          "output_type": "execute_result",
          "data": {
            "text/html": [
              "<div>\n",
              "<style scoped>\n",
              "    .dataframe tbody tr th:only-of-type {\n",
              "        vertical-align: middle;\n",
              "    }\n",
              "\n",
              "    .dataframe tbody tr th {\n",
              "        vertical-align: top;\n",
              "    }\n",
              "\n",
              "    .dataframe thead th {\n",
              "        text-align: right;\n",
              "    }\n",
              "</style>\n",
              "<table border=\"1\" class=\"dataframe\">\n",
              "  <thead>\n",
              "    <tr style=\"text-align: right;\">\n",
              "      <th></th>\n",
              "      <th>job_industry_category</th>\n",
              "      <th>customer_id</th>\n",
              "    </tr>\n",
              "  </thead>\n",
              "  <tbody>\n",
              "    <tr>\n",
              "      <th>0</th>\n",
              "      <td>Manufacturing</td>\n",
              "      <td>19.975</td>\n",
              "    </tr>\n",
              "    <tr>\n",
              "      <th>1</th>\n",
              "      <td>Financial Services</td>\n",
              "      <td>19.350</td>\n",
              "    </tr>\n",
              "    <tr>\n",
              "      <th>2</th>\n",
              "      <td>Unknown</td>\n",
              "      <td>16.400</td>\n",
              "    </tr>\n",
              "    <tr>\n",
              "      <th>3</th>\n",
              "      <td>Health</td>\n",
              "      <td>15.050</td>\n",
              "    </tr>\n",
              "    <tr>\n",
              "      <th>4</th>\n",
              "      <td>Retail</td>\n",
              "      <td>8.950</td>\n",
              "    </tr>\n",
              "    <tr>\n",
              "      <th>5</th>\n",
              "      <td>Property</td>\n",
              "      <td>6.675</td>\n",
              "    </tr>\n",
              "    <tr>\n",
              "      <th>6</th>\n",
              "      <td>IT</td>\n",
              "      <td>5.575</td>\n",
              "    </tr>\n",
              "    <tr>\n",
              "      <th>7</th>\n",
              "      <td>Entertainment</td>\n",
              "      <td>3.400</td>\n",
              "    </tr>\n",
              "    <tr>\n",
              "      <th>8</th>\n",
              "      <td>Argiculture</td>\n",
              "      <td>2.825</td>\n",
              "    </tr>\n",
              "    <tr>\n",
              "      <th>9</th>\n",
              "      <td>Telecommunications</td>\n",
              "      <td>1.800</td>\n",
              "    </tr>\n",
              "  </tbody>\n",
              "</table>\n",
              "</div>"
            ],
            "text/plain": [
              "  job_industry_category  customer_id\n",
              "0         Manufacturing       19.975\n",
              "1    Financial Services       19.350\n",
              "2               Unknown       16.400\n",
              "3                Health       15.050\n",
              "4                Retail        8.950\n",
              "5              Property        6.675\n",
              "6                    IT        5.575\n",
              "7         Entertainment        3.400\n",
              "8           Argiculture        2.825\n",
              "9    Telecommunications        1.800"
            ]
          },
          "metadata": {
            "tags": []
          },
          "execution_count": 146
        }
      ]
    },
    {
      "cell_type": "code",
      "metadata": {
        "colab": {
          "base_uri": "https://localhost:8080/",
          "height": 532
        },
        "id": "-guH_Q_hrook",
        "outputId": "9d0b7fe2-774a-4876-91d1-b73f53cbd371"
      },
      "source": [
        "# Create bar plot\n",
        "plt.figure(figsize=(15,8))\n",
        "visual = sns.barplot(x=\"job_industry_category\", y=\"customer_id\", data=data_industry )\n",
        "\n",
        "for index, row in data_industry.iterrows():\n",
        "    visual.text(row.name,row.customer_id, round(row.customer_id,2), color='black', ha=\"center\")\n",
        "plt.title('Percentage of customers vs job_industry_category')\n",
        "plt.ylabel('Percentage (%)')"
      ],
      "execution_count": 147,
      "outputs": [
        {
          "output_type": "execute_result",
          "data": {
            "text/plain": [
              "Text(0, 0.5, 'Percentage (%)')"
            ]
          },
          "metadata": {
            "tags": []
          },
          "execution_count": 147
        },
        {
          "output_type": "display_data",
          "data": {
            "image/png": "[encoded data removed]",
            "text/plain": [
              "<Figure size 1080x576 with 1 Axes>"
            ]
          },
          "metadata": {
            "tags": [],
            "needs_background": "light"
          }
        }
      ]
    },
    {
      "cell_type": "markdown",
      "metadata": {
        "id": "JTaFcv80zfYA"
      },
      "source": [
        "- The top 3 industries that the customers work in are Manufacturing, Financial Services, and Health. "
      ]
    },
    {
      "cell_type": "code",
      "metadata": {
        "colab": {
          "base_uri": "https://localhost:8080/",
          "height": 141
        },
        "id": "NfyWMjUmrol3",
        "outputId": "9864f324-40a7-40b4-e71f-9c7aa00faed1"
      },
      "source": [
        "# Calculate percentage of customers by wealth_segment\n",
        "data_wealthsegment = pd.DataFrame((CustomerDemographic.groupby(['wealth_segment'])['customer_id'].count())/len(CustomerDemographic)*100)\n",
        "data_wealthsegment = data_wealthsegment.sort_values(by=['customer_id'], ascending=False)\n",
        "data_wealthsegment = data_wealthsegment.reset_index()\n",
        "data_wealthsegment"
      ],
      "execution_count": 148,
      "outputs": [
        {
          "output_type": "execute_result",
          "data": {
            "text/html": [
              "<div>\n",
              "<style scoped>\n",
              "    .dataframe tbody tr th:only-of-type {\n",
              "        vertical-align: middle;\n",
              "    }\n",
              "\n",
              "    .dataframe tbody tr th {\n",
              "        vertical-align: top;\n",
              "    }\n",
              "\n",
              "    .dataframe thead th {\n",
              "        text-align: right;\n",
              "    }\n",
              "</style>\n",
              "<table border=\"1\" class=\"dataframe\">\n",
              "  <thead>\n",
              "    <tr style=\"text-align: right;\">\n",
              "      <th></th>\n",
              "      <th>wealth_segment</th>\n",
              "      <th>customer_id</th>\n",
              "    </tr>\n",
              "  </thead>\n",
              "  <tbody>\n",
              "    <tr>\n",
              "      <th>0</th>\n",
              "      <td>Mass Customer</td>\n",
              "      <td>50.000</td>\n",
              "    </tr>\n",
              "    <tr>\n",
              "      <th>1</th>\n",
              "      <td>High Net Worth</td>\n",
              "      <td>25.525</td>\n",
              "    </tr>\n",
              "    <tr>\n",
              "      <th>2</th>\n",
              "      <td>Affluent Customer</td>\n",
              "      <td>24.475</td>\n",
              "    </tr>\n",
              "  </tbody>\n",
              "</table>\n",
              "</div>"
            ],
            "text/plain": [
              "      wealth_segment  customer_id\n",
              "0      Mass Customer       50.000\n",
              "1     High Net Worth       25.525\n",
              "2  Affluent Customer       24.475"
            ]
          },
          "metadata": {
            "tags": []
          },
          "execution_count": 148
        }
      ]
    },
    {
      "cell_type": "code",
      "metadata": {
        "colab": {
          "base_uri": "https://localhost:8080/",
          "height": 313
        },
        "id": "gAFehm9utiHm",
        "outputId": "c46aa649-3620-47b8-87df-a8a0b1fa50c6"
      },
      "source": [
        "# Create bar plot\n",
        "visual = sns.barplot(x=\"wealth_segment\", y=\"customer_id\", data=data_wealthsegment )\n",
        "\n",
        "for index, row in data_wealthsegment.iterrows():\n",
        "    visual.text(row.name,row.customer_id, round(row.customer_id,2), color='black', ha=\"center\")\n",
        "plt.title('Percentage of customers vs wealth_segment')\n",
        "plt.ylabel('Percentage (%)')"
      ],
      "execution_count": 149,
      "outputs": [
        {
          "output_type": "execute_result",
          "data": {
            "text/plain": [
              "Text(0, 0.5, 'Percentage (%)')"
            ]
          },
          "metadata": {
            "tags": []
          },
          "execution_count": 149
        },
        {
          "output_type": "display_data",
          "data": {
            "image/png": "[encoded data removed]",
            "text/plain": [
              "<Figure size 432x288 with 1 Axes>"
            ]
          },
          "metadata": {
            "tags": [],
            "needs_background": "light"
          }
        }
      ]
    },
    {
      "cell_type": "markdown",
      "metadata": {
        "id": "B6zqRK1qzxXQ"
      },
      "source": [
        "- 50% of customers fall in the category \"Mass Customers\" and the other half is almost equally divided by 2 categories \"High net worth\" and \"Affluent customers\""
      ]
    },
    {
      "cell_type": "code",
      "metadata": {
        "colab": {
          "base_uri": "https://localhost:8080/",
          "height": 318
        },
        "id": "Uqt0nEiltx9h",
        "outputId": "62493056-bf1d-4649-946a-20c4480cf93e"
      },
      "source": [
        "# Count of customers with and without cars\n",
        "CustomerDemographic.groupby(['owns_car'])['customer_id'].count().plot.bar()\n",
        "plt.title(\"Count of customers with and without cars\")\n",
        "plt.ylabel(\"Count\")"
      ],
      "execution_count": 150,
      "outputs": [
        {
          "output_type": "execute_result",
          "data": {
            "text/plain": [
              "Text(0, 0.5, 'Count')"
            ]
          },
          "metadata": {
            "tags": []
          },
          "execution_count": 150
        },
        {
          "output_type": "display_data",
          "data": {
            "image/png": "[encoded data removed]",
            "text/plain": [
              "<Figure size 432x288 with 1 Axes>"
            ]
          },
          "metadata": {
            "tags": [],
            "needs_background": "light"
          }
        }
      ]
    },
    {
      "cell_type": "code",
      "metadata": {
        "colab": {
          "base_uri": "https://localhost:8080/",
          "height": 282
        },
        "id": "WwWhPpO_wif-",
        "outputId": "20890764-f365-43cb-b91f-1fd2a4888b80"
      },
      "source": [
        "# Percentage of customers with and without cars\n",
        "owns_car_count=pd.DataFrame(CustomerDemographic.groupby(['owns_car'])['customer_id'].count()/len(CustomerDemographic)).reset_index()\n",
        "plt.pie(owns_car_count['customer_id'],labels=owns_car_count['owns_car'],autopct='%1.2f%%')\n",
        "plt.title(\"Percentage of customers with and without cars\")"
      ],
      "execution_count": 151,
      "outputs": [
        {
          "output_type": "execute_result",
          "data": {
            "text/plain": [
              "Text(0.5, 1.0, 'Percentage of customers with and without cars')"
            ]
          },
          "metadata": {
            "tags": []
          },
          "execution_count": 151
        },
        {
          "output_type": "display_data",
          "data": {
            "image/png": "[encoded data removed]",
            "text/plain": [
              "<Figure size 432x288 with 1 Axes>"
            ]
          },
          "metadata": {
            "tags": []
          }
        }
      ]
    },
    {
      "cell_type": "markdown",
      "metadata": {
        "id": "BHfBNDR6ydbJ"
      },
      "source": [
        "- Almost half of of the customers have car."
      ]
    },
    {
      "cell_type": "markdown",
      "metadata": {
        "id": "2ZrO1CJmfJ-z"
      },
      "source": [
        "#**DATASET 2: CUSTOMER ADDRESSES**"
      ]
    },
    {
      "cell_type": "code",
      "metadata": {
        "colab": {
          "base_uri": "https://localhost:8080/",
          "height": 202
        },
        "id": "tCD5av5MfJ-_",
        "outputId": "3798bea9-69e9-4d41-b1c1-3d20d8626030"
      },
      "source": [
        "CustomerAddress.head()"
      ],
      "execution_count": 152,
      "outputs": [
        {
          "output_type": "execute_result",
          "data": {
            "text/html": [
              "<div>\n",
              "<style scoped>\n",
              "    .dataframe tbody tr th:only-of-type {\n",
              "        vertical-align: middle;\n",
              "    }\n",
              "\n",
              "    .dataframe tbody tr th {\n",
              "        vertical-align: top;\n",
              "    }\n",
              "\n",
              "    .dataframe thead th {\n",
              "        text-align: right;\n",
              "    }\n",
              "</style>\n",
              "<table border=\"1\" class=\"dataframe\">\n",
              "  <thead>\n",
              "    <tr style=\"text-align: right;\">\n",
              "      <th></th>\n",
              "      <th>customer_id</th>\n",
              "      <th>address</th>\n",
              "      <th>postcode</th>\n",
              "      <th>state</th>\n",
              "      <th>country</th>\n",
              "      <th>property_valuation</th>\n",
              "    </tr>\n",
              "  </thead>\n",
              "  <tbody>\n",
              "    <tr>\n",
              "      <th>0</th>\n",
              "      <td>1</td>\n",
              "      <td>060 Morning Avenue</td>\n",
              "      <td>2016</td>\n",
              "      <td>New South Wales</td>\n",
              "      <td>Australia</td>\n",
              "      <td>10</td>\n",
              "    </tr>\n",
              "    <tr>\n",
              "      <th>1</th>\n",
              "      <td>2</td>\n",
              "      <td>6 Meadow Vale Court</td>\n",
              "      <td>2153</td>\n",
              "      <td>New South Wales</td>\n",
              "      <td>Australia</td>\n",
              "      <td>10</td>\n",
              "    </tr>\n",
              "    <tr>\n",
              "      <th>2</th>\n",
              "      <td>4</td>\n",
              "      <td>0 Holy Cross Court</td>\n",
              "      <td>4211</td>\n",
              "      <td>QLD</td>\n",
              "      <td>Australia</td>\n",
              "      <td>9</td>\n",
              "    </tr>\n",
              "    <tr>\n",
              "      <th>3</th>\n",
              "      <td>5</td>\n",
              "      <td>17979 Del Mar Point</td>\n",
              "      <td>2448</td>\n",
              "      <td>New South Wales</td>\n",
              "      <td>Australia</td>\n",
              "      <td>4</td>\n",
              "    </tr>\n",
              "    <tr>\n",
              "      <th>4</th>\n",
              "      <td>6</td>\n",
              "      <td>9 Oakridge Court</td>\n",
              "      <td>3216</td>\n",
              "      <td>VIC</td>\n",
              "      <td>Australia</td>\n",
              "      <td>9</td>\n",
              "    </tr>\n",
              "  </tbody>\n",
              "</table>\n",
              "</div>"
            ],
            "text/plain": [
              "   customer_id              address  ...    country property_valuation\n",
              "0            1   060 Morning Avenue  ...  Australia                 10\n",
              "1            2  6 Meadow Vale Court  ...  Australia                 10\n",
              "2            4   0 Holy Cross Court  ...  Australia                  9\n",
              "3            5  17979 Del Mar Point  ...  Australia                  4\n",
              "4            6     9 Oakridge Court  ...  Australia                  9\n",
              "\n",
              "[5 rows x 6 columns]"
            ]
          },
          "metadata": {
            "tags": []
          },
          "execution_count": 152
        }
      ]
    },
    {
      "cell_type": "markdown",
      "metadata": {
        "id": "5UK1fXXffJ_A"
      },
      "source": [
        "## Data Quality Analysis"
      ]
    },
    {
      "cell_type": "code",
      "metadata": {
        "colab": {
          "base_uri": "https://localhost:8080/"
        },
        "id": "JKdTkSOrfJ_A",
        "outputId": "6dbc6ad4-ed75-4334-f595-ac85f69c09b7"
      },
      "source": [
        "# Check number of rows and columns\n",
        "CustomerAddress.shape"
      ],
      "execution_count": 153,
      "outputs": [
        {
          "output_type": "execute_result",
          "data": {
            "text/plain": [
              "(3999, 6)"
            ]
          },
          "metadata": {
            "tags": []
          },
          "execution_count": 153
        }
      ]
    },
    {
      "cell_type": "markdown",
      "metadata": {
        "id": "j934GEReiHvZ"
      },
      "source": [
        "- Notice, this dataset only has 1 row less than the Dmographic Dataset. 1 customer did not have address recorded."
      ]
    },
    {
      "cell_type": "code",
      "metadata": {
        "colab": {
          "base_uri": "https://localhost:8080/"
        },
        "id": "sxF8KaFVfJ_A",
        "outputId": "7cdfb365-59b5-45f2-8673-6ed84130899f"
      },
      "source": [
        "# Data types\n",
        "CustomerAddress.dtypes"
      ],
      "execution_count": 154,
      "outputs": [
        {
          "output_type": "execute_result",
          "data": {
            "text/plain": [
              "customer_id            int64\n",
              "address               object\n",
              "postcode               int64\n",
              "state                 object\n",
              "country               object\n",
              "property_valuation     int64\n",
              "dtype: object"
            ]
          },
          "metadata": {
            "tags": []
          },
          "execution_count": 154
        }
      ]
    },
    {
      "cell_type": "markdown",
      "metadata": {
        "id": "1qDOuQrbfJ_B"
      },
      "source": [
        "**1. Check data accuracy**"
      ]
    },
    {
      "cell_type": "code",
      "metadata": {
        "colab": {
          "base_uri": "https://localhost:8080/"
        },
        "id": "JVLtFp3RfJ_B",
        "outputId": "13d6b9d3-6eff-4020-bdaf-510c585beb49"
      },
      "source": [
        "# Check if customer_id values are all unique. Each customer should have only one unique customer_id\n",
        "customerID_duplicated = CustomerAddress['customer_id'].duplicated().any()\n",
        "customerID_duplicated"
      ],
      "execution_count": 155,
      "outputs": [
        {
          "output_type": "execute_result",
          "data": {
            "text/plain": [
              "False"
            ]
          },
          "metadata": {
            "tags": []
          },
          "execution_count": 155
        }
      ]
    },
    {
      "cell_type": "code",
      "metadata": {
        "colab": {
          "base_uri": "https://localhost:8080/"
        },
        "id": "-_totooejD-i",
        "outputId": "60a8efd2-a25f-4610-bdfd-d6cc412a32e9"
      },
      "source": [
        "# Check if address are duplicated\n",
        "address_duplicated = CustomerAddress['address'].duplicated().sum()\n",
        "address_duplicated"
      ],
      "execution_count": 156,
      "outputs": [
        {
          "output_type": "execute_result",
          "data": {
            "text/plain": [
              "3"
            ]
          },
          "metadata": {
            "tags": []
          },
          "execution_count": 156
        }
      ]
    },
    {
      "cell_type": "markdown",
      "metadata": {
        "id": "yaWrolW9jWFQ"
      },
      "source": [
        "- There are 3 customers from the same household"
      ]
    },
    {
      "cell_type": "code",
      "metadata": {
        "colab": {
          "base_uri": "https://localhost:8080/"
        },
        "id": "doIkl9grk2MH",
        "outputId": "46fc5302-9f39-4d84-9745-4ae279ace2a8"
      },
      "source": [
        "# Check if postcode are duplicated\n",
        "postcode_duplicated = CustomerAddress['postcode'].duplicated().sum()\n",
        "postcode_duplicated"
      ],
      "execution_count": 157,
      "outputs": [
        {
          "output_type": "execute_result",
          "data": {
            "text/plain": [
              "3126"
            ]
          },
          "metadata": {
            "tags": []
          },
          "execution_count": 157
        }
      ]
    },
    {
      "cell_type": "code",
      "metadata": {
        "colab": {
          "base_uri": "https://localhost:8080/",
          "height": 414
        },
        "id": "Iq0xLcHejZlu",
        "outputId": "b1088bdc-a23f-4f16-f809-4d717d9dc003"
      },
      "source": [
        "# show all rows with duplicated postcode\n",
        "CustomerAddress[CustomerAddress.duplicated(['postcode'], keep=False)]"
      ],
      "execution_count": 158,
      "outputs": [
        {
          "output_type": "execute_result",
          "data": {
            "text/html": [
              "<div>\n",
              "<style scoped>\n",
              "    .dataframe tbody tr th:only-of-type {\n",
              "        vertical-align: middle;\n",
              "    }\n",
              "\n",
              "    .dataframe tbody tr th {\n",
              "        vertical-align: top;\n",
              "    }\n",
              "\n",
              "    .dataframe thead th {\n",
              "        text-align: right;\n",
              "    }\n",
              "</style>\n",
              "<table border=\"1\" class=\"dataframe\">\n",
              "  <thead>\n",
              "    <tr style=\"text-align: right;\">\n",
              "      <th></th>\n",
              "      <th>customer_id</th>\n",
              "      <th>address</th>\n",
              "      <th>postcode</th>\n",
              "      <th>state</th>\n",
              "      <th>country</th>\n",
              "      <th>property_valuation</th>\n",
              "    </tr>\n",
              "  </thead>\n",
              "  <tbody>\n",
              "    <tr>\n",
              "      <th>0</th>\n",
              "      <td>1</td>\n",
              "      <td>060 Morning Avenue</td>\n",
              "      <td>2016</td>\n",
              "      <td>New South Wales</td>\n",
              "      <td>Australia</td>\n",
              "      <td>10</td>\n",
              "    </tr>\n",
              "    <tr>\n",
              "      <th>1</th>\n",
              "      <td>2</td>\n",
              "      <td>6 Meadow Vale Court</td>\n",
              "      <td>2153</td>\n",
              "      <td>New South Wales</td>\n",
              "      <td>Australia</td>\n",
              "      <td>10</td>\n",
              "    </tr>\n",
              "    <tr>\n",
              "      <th>2</th>\n",
              "      <td>4</td>\n",
              "      <td>0 Holy Cross Court</td>\n",
              "      <td>4211</td>\n",
              "      <td>QLD</td>\n",
              "      <td>Australia</td>\n",
              "      <td>9</td>\n",
              "    </tr>\n",
              "    <tr>\n",
              "      <th>3</th>\n",
              "      <td>5</td>\n",
              "      <td>17979 Del Mar Point</td>\n",
              "      <td>2448</td>\n",
              "      <td>New South Wales</td>\n",
              "      <td>Australia</td>\n",
              "      <td>4</td>\n",
              "    </tr>\n",
              "    <tr>\n",
              "      <th>4</th>\n",
              "      <td>6</td>\n",
              "      <td>9 Oakridge Court</td>\n",
              "      <td>3216</td>\n",
              "      <td>VIC</td>\n",
              "      <td>Australia</td>\n",
              "      <td>9</td>\n",
              "    </tr>\n",
              "    <tr>\n",
              "      <th>...</th>\n",
              "      <td>...</td>\n",
              "      <td>...</td>\n",
              "      <td>...</td>\n",
              "      <td>...</td>\n",
              "      <td>...</td>\n",
              "      <td>...</td>\n",
              "    </tr>\n",
              "    <tr>\n",
              "      <th>3994</th>\n",
              "      <td>3999</td>\n",
              "      <td>1482 Hauk Trail</td>\n",
              "      <td>3064</td>\n",
              "      <td>VIC</td>\n",
              "      <td>Australia</td>\n",
              "      <td>3</td>\n",
              "    </tr>\n",
              "    <tr>\n",
              "      <th>3995</th>\n",
              "      <td>4000</td>\n",
              "      <td>57042 Village Green Point</td>\n",
              "      <td>4511</td>\n",
              "      <td>QLD</td>\n",
              "      <td>Australia</td>\n",
              "      <td>6</td>\n",
              "    </tr>\n",
              "    <tr>\n",
              "      <th>3996</th>\n",
              "      <td>4001</td>\n",
              "      <td>87 Crescent Oaks Alley</td>\n",
              "      <td>2756</td>\n",
              "      <td>NSW</td>\n",
              "      <td>Australia</td>\n",
              "      <td>10</td>\n",
              "    </tr>\n",
              "    <tr>\n",
              "      <th>3997</th>\n",
              "      <td>4002</td>\n",
              "      <td>8194 Lien Street</td>\n",
              "      <td>4032</td>\n",
              "      <td>QLD</td>\n",
              "      <td>Australia</td>\n",
              "      <td>7</td>\n",
              "    </tr>\n",
              "    <tr>\n",
              "      <th>3998</th>\n",
              "      <td>4003</td>\n",
              "      <td>320 Acker Drive</td>\n",
              "      <td>2251</td>\n",
              "      <td>NSW</td>\n",
              "      <td>Australia</td>\n",
              "      <td>7</td>\n",
              "    </tr>\n",
              "  </tbody>\n",
              "</table>\n",
              "<p>3770 rows × 6 columns</p>\n",
              "</div>"
            ],
            "text/plain": [
              "      customer_id                    address  ...    country property_valuation\n",
              "0               1         060 Morning Avenue  ...  Australia                 10\n",
              "1               2        6 Meadow Vale Court  ...  Australia                 10\n",
              "2               4         0 Holy Cross Court  ...  Australia                  9\n",
              "3               5        17979 Del Mar Point  ...  Australia                  4\n",
              "4               6           9 Oakridge Court  ...  Australia                  9\n",
              "...           ...                        ...  ...        ...                ...\n",
              "3994         3999            1482 Hauk Trail  ...  Australia                  3\n",
              "3995         4000  57042 Village Green Point  ...  Australia                  6\n",
              "3996         4001     87 Crescent Oaks Alley  ...  Australia                 10\n",
              "3997         4002           8194 Lien Street  ...  Australia                  7\n",
              "3998         4003            320 Acker Drive  ...  Australia                  7\n",
              "\n",
              "[3770 rows x 6 columns]"
            ]
          },
          "metadata": {
            "tags": []
          },
          "execution_count": 158
        }
      ]
    },
    {
      "cell_type": "code",
      "metadata": {
        "colab": {
          "base_uri": "https://localhost:8080/",
          "height": 232
        },
        "id": "s6rbFEtpkSkG",
        "outputId": "25d3c895-ebf9-4d32-b4a2-632da39941d9"
      },
      "source": [
        "# Show example of 1 duplicated postcode with different addresses\n",
        "CustomerAddress.loc[CustomerAddress['postcode'] == 2251]"
      ],
      "execution_count": 159,
      "outputs": [
        {
          "output_type": "execute_result",
          "data": {
            "text/html": [
              "<div>\n",
              "<style scoped>\n",
              "    .dataframe tbody tr th:only-of-type {\n",
              "        vertical-align: middle;\n",
              "    }\n",
              "\n",
              "    .dataframe tbody tr th {\n",
              "        vertical-align: top;\n",
              "    }\n",
              "\n",
              "    .dataframe thead th {\n",
              "        text-align: right;\n",
              "    }\n",
              "</style>\n",
              "<table border=\"1\" class=\"dataframe\">\n",
              "  <thead>\n",
              "    <tr style=\"text-align: right;\">\n",
              "      <th></th>\n",
              "      <th>customer_id</th>\n",
              "      <th>address</th>\n",
              "      <th>postcode</th>\n",
              "      <th>state</th>\n",
              "      <th>country</th>\n",
              "      <th>property_valuation</th>\n",
              "    </tr>\n",
              "  </thead>\n",
              "  <tbody>\n",
              "    <tr>\n",
              "      <th>340</th>\n",
              "      <td>345</td>\n",
              "      <td>08 Ronald Regan Plaza</td>\n",
              "      <td>2251</td>\n",
              "      <td>NSW</td>\n",
              "      <td>Australia</td>\n",
              "      <td>9</td>\n",
              "    </tr>\n",
              "    <tr>\n",
              "      <th>1191</th>\n",
              "      <td>1196</td>\n",
              "      <td>894 Maple Wood Drive</td>\n",
              "      <td>2251</td>\n",
              "      <td>NSW</td>\n",
              "      <td>Australia</td>\n",
              "      <td>10</td>\n",
              "    </tr>\n",
              "    <tr>\n",
              "      <th>1492</th>\n",
              "      <td>1497</td>\n",
              "      <td>7049 Sutteridge Lane</td>\n",
              "      <td>2251</td>\n",
              "      <td>NSW</td>\n",
              "      <td>Australia</td>\n",
              "      <td>8</td>\n",
              "    </tr>\n",
              "    <tr>\n",
              "      <th>1576</th>\n",
              "      <td>1581</td>\n",
              "      <td>45314 Pepper Wood Junction</td>\n",
              "      <td>2251</td>\n",
              "      <td>NSW</td>\n",
              "      <td>Australia</td>\n",
              "      <td>6</td>\n",
              "    </tr>\n",
              "    <tr>\n",
              "      <th>1799</th>\n",
              "      <td>1804</td>\n",
              "      <td>3 Mallard Center</td>\n",
              "      <td>2251</td>\n",
              "      <td>NSW</td>\n",
              "      <td>Australia</td>\n",
              "      <td>8</td>\n",
              "    </tr>\n",
              "    <tr>\n",
              "      <th>3998</th>\n",
              "      <td>4003</td>\n",
              "      <td>320 Acker Drive</td>\n",
              "      <td>2251</td>\n",
              "      <td>NSW</td>\n",
              "      <td>Australia</td>\n",
              "      <td>7</td>\n",
              "    </tr>\n",
              "  </tbody>\n",
              "</table>\n",
              "</div>"
            ],
            "text/plain": [
              "      customer_id                     address  ...    country property_valuation\n",
              "340           345       08 Ronald Regan Plaza  ...  Australia                  9\n",
              "1191         1196        894 Maple Wood Drive  ...  Australia                 10\n",
              "1492         1497        7049 Sutteridge Lane  ...  Australia                  8\n",
              "1576         1581  45314 Pepper Wood Junction  ...  Australia                  6\n",
              "1799         1804            3 Mallard Center  ...  Australia                  8\n",
              "3998         4003             320 Acker Drive  ...  Australia                  7\n",
              "\n",
              "[6 rows x 6 columns]"
            ]
          },
          "metadata": {
            "tags": []
          },
          "execution_count": 159
        }
      ]
    },
    {
      "cell_type": "markdown",
      "metadata": {
        "id": "BxAh8jWQ5-DR"
      },
      "source": [
        "- There are 3126 rows with duplicated postcode. This makes sense because a postcode is used to identify a pre-defined area, not a single household."
      ]
    },
    {
      "cell_type": "markdown",
      "metadata": {
        "id": "WImu0d_6fJ_B"
      },
      "source": [
        "**2. Check data completeness**"
      ]
    },
    {
      "cell_type": "code",
      "metadata": {
        "colab": {
          "base_uri": "https://localhost:8080/",
          "height": 232
        },
        "id": "7voR0dmZfJ_B",
        "outputId": "3940d6e8-c6c2-4e99-b011-21106d7c670f"
      },
      "source": [
        "# Count number of empty rows and the percentage of empty rows for each column\n",
        "empty_rows_count = CustomerAddress.isnull().sum()\n",
        "empty_rows_perc = empty_rows_count/len(CustomerAddress)*100\n",
        "\n",
        "null_values_perc = pd.DataFrame(empty_rows_count, columns=['Null_rows_count'])\n",
        "null_values_perc['Null_rows_percentage'] = empty_rows_perc\n",
        "null_values_perc\n"
      ],
      "execution_count": 160,
      "outputs": [
        {
          "output_type": "execute_result",
          "data": {
            "text/html": [
              "<div>\n",
              "<style scoped>\n",
              "    .dataframe tbody tr th:only-of-type {\n",
              "        vertical-align: middle;\n",
              "    }\n",
              "\n",
              "    .dataframe tbody tr th {\n",
              "        vertical-align: top;\n",
              "    }\n",
              "\n",
              "    .dataframe thead th {\n",
              "        text-align: right;\n",
              "    }\n",
              "</style>\n",
              "<table border=\"1\" class=\"dataframe\">\n",
              "  <thead>\n",
              "    <tr style=\"text-align: right;\">\n",
              "      <th></th>\n",
              "      <th>Null_rows_count</th>\n",
              "      <th>Null_rows_percentage</th>\n",
              "    </tr>\n",
              "  </thead>\n",
              "  <tbody>\n",
              "    <tr>\n",
              "      <th>customer_id</th>\n",
              "      <td>0</td>\n",
              "      <td>0.0</td>\n",
              "    </tr>\n",
              "    <tr>\n",
              "      <th>address</th>\n",
              "      <td>0</td>\n",
              "      <td>0.0</td>\n",
              "    </tr>\n",
              "    <tr>\n",
              "      <th>postcode</th>\n",
              "      <td>0</td>\n",
              "      <td>0.0</td>\n",
              "    </tr>\n",
              "    <tr>\n",
              "      <th>state</th>\n",
              "      <td>0</td>\n",
              "      <td>0.0</td>\n",
              "    </tr>\n",
              "    <tr>\n",
              "      <th>country</th>\n",
              "      <td>0</td>\n",
              "      <td>0.0</td>\n",
              "    </tr>\n",
              "    <tr>\n",
              "      <th>property_valuation</th>\n",
              "      <td>0</td>\n",
              "      <td>0.0</td>\n",
              "    </tr>\n",
              "  </tbody>\n",
              "</table>\n",
              "</div>"
            ],
            "text/plain": [
              "                    Null_rows_count  Null_rows_percentage\n",
              "customer_id                       0                   0.0\n",
              "address                           0                   0.0\n",
              "postcode                          0                   0.0\n",
              "state                             0                   0.0\n",
              "country                           0                   0.0\n",
              "property_valuation                0                   0.0"
            ]
          },
          "metadata": {
            "tags": []
          },
          "execution_count": 160
        }
      ]
    },
    {
      "cell_type": "markdown",
      "metadata": {
        "id": "c2Kz6lj0fJ_B"
      },
      "source": [
        "- This dataset is clean and there are no missing values."
      ]
    },
    {
      "cell_type": "markdown",
      "metadata": {
        "id": "uAESPd83fJ_C"
      },
      "source": [
        "**3. Check data consistency**"
      ]
    },
    {
      "cell_type": "code",
      "metadata": {
        "colab": {
          "base_uri": "https://localhost:8080/"
        },
        "id": "GZ5zb0YdpqcI",
        "outputId": "4fd657cc-0352-4d19-85b6-08fedbf18a83"
      },
      "source": [
        "# Check unique values for state column\n",
        "CustomerAddress['state'].unique()"
      ],
      "execution_count": 161,
      "outputs": [
        {
          "output_type": "execute_result",
          "data": {
            "text/plain": [
              "array(['New South Wales', 'QLD', 'VIC', 'NSW', 'Victoria'], dtype=object)"
            ]
          },
          "metadata": {
            "tags": []
          },
          "execution_count": 161
        }
      ]
    },
    {
      "cell_type": "code",
      "metadata": {
        "colab": {
          "base_uri": "https://localhost:8080/",
          "height": 414
        },
        "id": "mCexG-O6utPg",
        "outputId": "9fc4aa26-2926-4b4d-d7bf-0e6ad55d6c7b"
      },
      "source": [
        "# Check if addresses starts with a valid number. Addresses cannot start with 0\n",
        "CustomerAddress.loc[CustomerAddress['address'].str.startswith('0', na=False)]"
      ],
      "execution_count": 162,
      "outputs": [
        {
          "output_type": "execute_result",
          "data": {
            "text/html": [
              "<div>\n",
              "<style scoped>\n",
              "    .dataframe tbody tr th:only-of-type {\n",
              "        vertical-align: middle;\n",
              "    }\n",
              "\n",
              "    .dataframe tbody tr th {\n",
              "        vertical-align: top;\n",
              "    }\n",
              "\n",
              "    .dataframe thead th {\n",
              "        text-align: right;\n",
              "    }\n",
              "</style>\n",
              "<table border=\"1\" class=\"dataframe\">\n",
              "  <thead>\n",
              "    <tr style=\"text-align: right;\">\n",
              "      <th></th>\n",
              "      <th>customer_id</th>\n",
              "      <th>address</th>\n",
              "      <th>postcode</th>\n",
              "      <th>state</th>\n",
              "      <th>country</th>\n",
              "      <th>property_valuation</th>\n",
              "    </tr>\n",
              "  </thead>\n",
              "  <tbody>\n",
              "    <tr>\n",
              "      <th>0</th>\n",
              "      <td>1</td>\n",
              "      <td>060 Morning Avenue</td>\n",
              "      <td>2016</td>\n",
              "      <td>New South Wales</td>\n",
              "      <td>Australia</td>\n",
              "      <td>10</td>\n",
              "    </tr>\n",
              "    <tr>\n",
              "      <th>2</th>\n",
              "      <td>4</td>\n",
              "      <td>0 Holy Cross Court</td>\n",
              "      <td>4211</td>\n",
              "      <td>QLD</td>\n",
              "      <td>Australia</td>\n",
              "      <td>9</td>\n",
              "    </tr>\n",
              "    <tr>\n",
              "      <th>15</th>\n",
              "      <td>18</td>\n",
              "      <td>092 2nd Alley</td>\n",
              "      <td>2135</td>\n",
              "      <td>New South Wales</td>\n",
              "      <td>Australia</td>\n",
              "      <td>12</td>\n",
              "    </tr>\n",
              "    <tr>\n",
              "      <th>17</th>\n",
              "      <td>20</td>\n",
              "      <td>032 Bartelt Crossing</td>\n",
              "      <td>2444</td>\n",
              "      <td>New South Wales</td>\n",
              "      <td>Australia</td>\n",
              "      <td>8</td>\n",
              "    </tr>\n",
              "    <tr>\n",
              "      <th>25</th>\n",
              "      <td>30</td>\n",
              "      <td>02663 Buell Parkway</td>\n",
              "      <td>2519</td>\n",
              "      <td>New South Wales</td>\n",
              "      <td>Australia</td>\n",
              "      <td>11</td>\n",
              "    </tr>\n",
              "    <tr>\n",
              "      <th>...</th>\n",
              "      <td>...</td>\n",
              "      <td>...</td>\n",
              "      <td>...</td>\n",
              "      <td>...</td>\n",
              "      <td>...</td>\n",
              "      <td>...</td>\n",
              "    </tr>\n",
              "    <tr>\n",
              "      <th>3940</th>\n",
              "      <td>3945</td>\n",
              "      <td>093 Mallard Hill</td>\n",
              "      <td>4034</td>\n",
              "      <td>QLD</td>\n",
              "      <td>Australia</td>\n",
              "      <td>7</td>\n",
              "    </tr>\n",
              "    <tr>\n",
              "      <th>3965</th>\n",
              "      <td>3970</td>\n",
              "      <td>02 Fair Oaks Lane</td>\n",
              "      <td>3977</td>\n",
              "      <td>VIC</td>\n",
              "      <td>Australia</td>\n",
              "      <td>7</td>\n",
              "    </tr>\n",
              "    <tr>\n",
              "      <th>3967</th>\n",
              "      <td>3972</td>\n",
              "      <td>08 Dennis Crossing</td>\n",
              "      <td>3184</td>\n",
              "      <td>VIC</td>\n",
              "      <td>Australia</td>\n",
              "      <td>11</td>\n",
              "    </tr>\n",
              "    <tr>\n",
              "      <th>3971</th>\n",
              "      <td>3976</td>\n",
              "      <td>07 Morning Court</td>\n",
              "      <td>3805</td>\n",
              "      <td>VIC</td>\n",
              "      <td>Australia</td>\n",
              "      <td>7</td>\n",
              "    </tr>\n",
              "    <tr>\n",
              "      <th>3991</th>\n",
              "      <td>3996</td>\n",
              "      <td>0 Transport Center</td>\n",
              "      <td>3977</td>\n",
              "      <td>VIC</td>\n",
              "      <td>Australia</td>\n",
              "      <td>6</td>\n",
              "    </tr>\n",
              "  </tbody>\n",
              "</table>\n",
              "<p>399 rows × 6 columns</p>\n",
              "</div>"
            ],
            "text/plain": [
              "      customer_id               address  ...    country property_valuation\n",
              "0               1    060 Morning Avenue  ...  Australia                 10\n",
              "2               4    0 Holy Cross Court  ...  Australia                  9\n",
              "15             18         092 2nd Alley  ...  Australia                 12\n",
              "17             20  032 Bartelt Crossing  ...  Australia                  8\n",
              "25             30   02663 Buell Parkway  ...  Australia                 11\n",
              "...           ...                   ...  ...        ...                ...\n",
              "3940         3945      093 Mallard Hill  ...  Australia                  7\n",
              "3965         3970     02 Fair Oaks Lane  ...  Australia                  7\n",
              "3967         3972    08 Dennis Crossing  ...  Australia                 11\n",
              "3971         3976      07 Morning Court  ...  Australia                  7\n",
              "3991         3996    0 Transport Center  ...  Australia                  6\n",
              "\n",
              "[399 rows x 6 columns]"
            ]
          },
          "metadata": {
            "tags": []
          },
          "execution_count": 162
        }
      ]
    },
    {
      "cell_type": "markdown",
      "metadata": {
        "id": "stxDNyxVwufJ"
      },
      "source": [
        "- There are 399 addresses starts with 0 or have street number as 0. These need to be cleaned up."
      ]
    },
    {
      "cell_type": "markdown",
      "metadata": {
        "id": "dxjrnwTrfJ_D"
      },
      "source": [
        "**4. Check data currency**"
      ]
    },
    {
      "cell_type": "markdown",
      "metadata": {
        "id": "m9Rjb_iIfJ_D"
      },
      "source": [
        "- Customers address can be updated if there are any changes."
      ]
    },
    {
      "cell_type": "markdown",
      "metadata": {
        "id": "bI-F8wi3fJ_D"
      },
      "source": [
        "**5. Check data relevancy**"
      ]
    },
    {
      "cell_type": "markdown",
      "metadata": {
        "id": "diupJs1tocKT"
      },
      "source": [
        "- Column country is irrelevant since all customers are in Australia, thus it does not add any differentiating factors to the analysis."
      ]
    },
    {
      "cell_type": "markdown",
      "metadata": {
        "id": "-6scMCXNfJ_D"
      },
      "source": [
        "**6. Validate data**"
      ]
    },
    {
      "cell_type": "code",
      "metadata": {
        "colab": {
          "base_uri": "https://localhost:8080/"
        },
        "id": "IR6anDfnfJ_E",
        "outputId": "b0a84806-7e38-4b20-ed08-eb7cf986a38b"
      },
      "source": [
        "# Summary statistics for columns with datatypes integer and float\n",
        "CustomerAddress['property_valuation'].describe()"
      ],
      "execution_count": 163,
      "outputs": [
        {
          "output_type": "execute_result",
          "data": {
            "text/plain": [
              "count    3999.000000\n",
              "mean        7.514379\n",
              "std         2.824663\n",
              "min         1.000000\n",
              "25%         6.000000\n",
              "50%         8.000000\n",
              "75%        10.000000\n",
              "max        12.000000\n",
              "Name: property_valuation, dtype: float64"
            ]
          },
          "metadata": {
            "tags": []
          },
          "execution_count": 163
        }
      ]
    },
    {
      "cell_type": "markdown",
      "metadata": {
        "id": "pF4s-RqhfJ_E"
      },
      "source": [
        "- Column property_valuation has values within acceptable min and max values."
      ]
    },
    {
      "cell_type": "markdown",
      "metadata": {
        "id": "QiPDH30wfJ_E"
      },
      "source": [
        "**7. Check for duplicates**"
      ]
    },
    {
      "cell_type": "code",
      "metadata": {
        "colab": {
          "base_uri": "https://localhost:8080/"
        },
        "id": "-rU0nJCZfJ_E",
        "outputId": "c9487044-e485-4dc1-b65b-e3d6f170c249"
      },
      "source": [
        "# Count number of duplicates for each column\n",
        "CustomerAddress.duplicated().sum()"
      ],
      "execution_count": 164,
      "outputs": [
        {
          "output_type": "execute_result",
          "data": {
            "text/plain": [
              "0"
            ]
          },
          "metadata": {
            "tags": []
          },
          "execution_count": 164
        }
      ]
    },
    {
      "cell_type": "markdown",
      "metadata": {
        "id": "Sy_h5mVBfJ_E"
      },
      "source": [
        "## Data Cleaning"
      ]
    },
    {
      "cell_type": "markdown",
      "metadata": {
        "id": "nHDFDi7FfJ_E"
      },
      "source": [
        "**Fill in nan values as suggested above**"
      ]
    },
    {
      "cell_type": "markdown",
      "metadata": {
        "id": "OJAm8MtGpVAF"
      },
      "source": [
        "- No missing values to be filled."
      ]
    },
    {
      "cell_type": "code",
      "metadata": {
        "colab": {
          "base_uri": "https://localhost:8080/"
        },
        "id": "XvSEjZoQfJ_F",
        "outputId": "b7fc570c-1de8-424f-fad2-c3081f0bfa5c"
      },
      "source": [
        "CustomerAddress.isnull().sum()"
      ],
      "execution_count": 165,
      "outputs": [
        {
          "output_type": "execute_result",
          "data": {
            "text/plain": [
              "customer_id           0\n",
              "address               0\n",
              "postcode              0\n",
              "state                 0\n",
              "country               0\n",
              "property_valuation    0\n",
              "dtype: int64"
            ]
          },
          "metadata": {
            "tags": []
          },
          "execution_count": 165
        }
      ]
    },
    {
      "cell_type": "markdown",
      "metadata": {
        "id": "fq-zmWG2fJ_F"
      },
      "source": [
        "**Replace misstyped data as suggested above**"
      ]
    },
    {
      "cell_type": "code",
      "metadata": {
        "colab": {
          "base_uri": "https://localhost:8080/",
          "height": 414
        },
        "id": "CCxolThLzVvn",
        "outputId": "c7bdffa7-7e33-4e98-a3f7-bc35db07172c"
      },
      "source": [
        "# Create new column \"new_address that strip out the leading '0' for rows that start with '0'\n",
        "CustomerAddress['new_address'] = CustomerAddress['address'].apply(lambda x : x[1:] if x.startswith(\"0\") else x)\n",
        "CustomerAddress"
      ],
      "execution_count": 166,
      "outputs": [
        {
          "output_type": "execute_result",
          "data": {
            "text/html": [
              "<div>\n",
              "<style scoped>\n",
              "    .dataframe tbody tr th:only-of-type {\n",
              "        vertical-align: middle;\n",
              "    }\n",
              "\n",
              "    .dataframe tbody tr th {\n",
              "        vertical-align: top;\n",
              "    }\n",
              "\n",
              "    .dataframe thead th {\n",
              "        text-align: right;\n",
              "    }\n",
              "</style>\n",
              "<table border=\"1\" class=\"dataframe\">\n",
              "  <thead>\n",
              "    <tr style=\"text-align: right;\">\n",
              "      <th></th>\n",
              "      <th>customer_id</th>\n",
              "      <th>address</th>\n",
              "      <th>postcode</th>\n",
              "      <th>state</th>\n",
              "      <th>country</th>\n",
              "      <th>property_valuation</th>\n",
              "      <th>new_address</th>\n",
              "    </tr>\n",
              "  </thead>\n",
              "  <tbody>\n",
              "    <tr>\n",
              "      <th>0</th>\n",
              "      <td>1</td>\n",
              "      <td>060 Morning Avenue</td>\n",
              "      <td>2016</td>\n",
              "      <td>New South Wales</td>\n",
              "      <td>Australia</td>\n",
              "      <td>10</td>\n",
              "      <td>60 Morning Avenue</td>\n",
              "    </tr>\n",
              "    <tr>\n",
              "      <th>1</th>\n",
              "      <td>2</td>\n",
              "      <td>6 Meadow Vale Court</td>\n",
              "      <td>2153</td>\n",
              "      <td>New South Wales</td>\n",
              "      <td>Australia</td>\n",
              "      <td>10</td>\n",
              "      <td>6 Meadow Vale Court</td>\n",
              "    </tr>\n",
              "    <tr>\n",
              "      <th>2</th>\n",
              "      <td>4</td>\n",
              "      <td>0 Holy Cross Court</td>\n",
              "      <td>4211</td>\n",
              "      <td>QLD</td>\n",
              "      <td>Australia</td>\n",
              "      <td>9</td>\n",
              "      <td>Holy Cross Court</td>\n",
              "    </tr>\n",
              "    <tr>\n",
              "      <th>3</th>\n",
              "      <td>5</td>\n",
              "      <td>17979 Del Mar Point</td>\n",
              "      <td>2448</td>\n",
              "      <td>New South Wales</td>\n",
              "      <td>Australia</td>\n",
              "      <td>4</td>\n",
              "      <td>17979 Del Mar Point</td>\n",
              "    </tr>\n",
              "    <tr>\n",
              "      <th>4</th>\n",
              "      <td>6</td>\n",
              "      <td>9 Oakridge Court</td>\n",
              "      <td>3216</td>\n",
              "      <td>VIC</td>\n",
              "      <td>Australia</td>\n",
              "      <td>9</td>\n",
              "      <td>9 Oakridge Court</td>\n",
              "    </tr>\n",
              "    <tr>\n",
              "      <th>...</th>\n",
              "      <td>...</td>\n",
              "      <td>...</td>\n",
              "      <td>...</td>\n",
              "      <td>...</td>\n",
              "      <td>...</td>\n",
              "      <td>...</td>\n",
              "      <td>...</td>\n",
              "    </tr>\n",
              "    <tr>\n",
              "      <th>3994</th>\n",
              "      <td>3999</td>\n",
              "      <td>1482 Hauk Trail</td>\n",
              "      <td>3064</td>\n",
              "      <td>VIC</td>\n",
              "      <td>Australia</td>\n",
              "      <td>3</td>\n",
              "      <td>1482 Hauk Trail</td>\n",
              "    </tr>\n",
              "    <tr>\n",
              "      <th>3995</th>\n",
              "      <td>4000</td>\n",
              "      <td>57042 Village Green Point</td>\n",
              "      <td>4511</td>\n",
              "      <td>QLD</td>\n",
              "      <td>Australia</td>\n",
              "      <td>6</td>\n",
              "      <td>57042 Village Green Point</td>\n",
              "    </tr>\n",
              "    <tr>\n",
              "      <th>3996</th>\n",
              "      <td>4001</td>\n",
              "      <td>87 Crescent Oaks Alley</td>\n",
              "      <td>2756</td>\n",
              "      <td>NSW</td>\n",
              "      <td>Australia</td>\n",
              "      <td>10</td>\n",
              "      <td>87 Crescent Oaks Alley</td>\n",
              "    </tr>\n",
              "    <tr>\n",
              "      <th>3997</th>\n",
              "      <td>4002</td>\n",
              "      <td>8194 Lien Street</td>\n",
              "      <td>4032</td>\n",
              "      <td>QLD</td>\n",
              "      <td>Australia</td>\n",
              "      <td>7</td>\n",
              "      <td>8194 Lien Street</td>\n",
              "    </tr>\n",
              "    <tr>\n",
              "      <th>3998</th>\n",
              "      <td>4003</td>\n",
              "      <td>320 Acker Drive</td>\n",
              "      <td>2251</td>\n",
              "      <td>NSW</td>\n",
              "      <td>Australia</td>\n",
              "      <td>7</td>\n",
              "      <td>320 Acker Drive</td>\n",
              "    </tr>\n",
              "  </tbody>\n",
              "</table>\n",
              "<p>3999 rows × 7 columns</p>\n",
              "</div>"
            ],
            "text/plain": [
              "      customer_id  ...                new_address\n",
              "0               1  ...          60 Morning Avenue\n",
              "1               2  ...        6 Meadow Vale Court\n",
              "2               4  ...           Holy Cross Court\n",
              "3               5  ...        17979 Del Mar Point\n",
              "4               6  ...           9 Oakridge Court\n",
              "...           ...  ...                        ...\n",
              "3994         3999  ...            1482 Hauk Trail\n",
              "3995         4000  ...  57042 Village Green Point\n",
              "3996         4001  ...     87 Crescent Oaks Alley\n",
              "3997         4002  ...           8194 Lien Street\n",
              "3998         4003  ...            320 Acker Drive\n",
              "\n",
              "[3999 rows x 7 columns]"
            ]
          },
          "metadata": {
            "tags": []
          },
          "execution_count": 166
        }
      ]
    },
    {
      "cell_type": "code",
      "metadata": {
        "colab": {
          "base_uri": "https://localhost:8080/",
          "height": 414
        },
        "id": "KAALyPnkzqlk",
        "outputId": "ab05533e-6ae0-414d-9ec2-c49db1d3406a"
      },
      "source": [
        "# Show rows that does not have a street number, only street names\n",
        "CustomerAddress[~CustomerAddress['new_address'].str.startswith(('1', '2', '3', '4', '5', '6', '7', '8', '9'))]"
      ],
      "execution_count": 167,
      "outputs": [
        {
          "output_type": "execute_result",
          "data": {
            "text/html": [
              "<div>\n",
              "<style scoped>\n",
              "    .dataframe tbody tr th:only-of-type {\n",
              "        vertical-align: middle;\n",
              "    }\n",
              "\n",
              "    .dataframe tbody tr th {\n",
              "        vertical-align: top;\n",
              "    }\n",
              "\n",
              "    .dataframe thead th {\n",
              "        text-align: right;\n",
              "    }\n",
              "</style>\n",
              "<table border=\"1\" class=\"dataframe\">\n",
              "  <thead>\n",
              "    <tr style=\"text-align: right;\">\n",
              "      <th></th>\n",
              "      <th>customer_id</th>\n",
              "      <th>address</th>\n",
              "      <th>postcode</th>\n",
              "      <th>state</th>\n",
              "      <th>country</th>\n",
              "      <th>property_valuation</th>\n",
              "      <th>new_address</th>\n",
              "    </tr>\n",
              "  </thead>\n",
              "  <tbody>\n",
              "    <tr>\n",
              "      <th>2</th>\n",
              "      <td>4</td>\n",
              "      <td>0 Holy Cross Court</td>\n",
              "      <td>4211</td>\n",
              "      <td>QLD</td>\n",
              "      <td>Australia</td>\n",
              "      <td>9</td>\n",
              "      <td>Holy Cross Court</td>\n",
              "    </tr>\n",
              "    <tr>\n",
              "      <th>107</th>\n",
              "      <td>112</td>\n",
              "      <td>0 David Terrace</td>\n",
              "      <td>3204</td>\n",
              "      <td>VIC</td>\n",
              "      <td>Australia</td>\n",
              "      <td>11</td>\n",
              "      <td>David Terrace</td>\n",
              "    </tr>\n",
              "    <tr>\n",
              "      <th>122</th>\n",
              "      <td>127</td>\n",
              "      <td>0 Pearson Crossing</td>\n",
              "      <td>4405</td>\n",
              "      <td>QLD</td>\n",
              "      <td>Australia</td>\n",
              "      <td>1</td>\n",
              "      <td>Pearson Crossing</td>\n",
              "    </tr>\n",
              "    <tr>\n",
              "      <th>133</th>\n",
              "      <td>138</td>\n",
              "      <td>0 Golden Leaf Crossing</td>\n",
              "      <td>2033</td>\n",
              "      <td>New South Wales</td>\n",
              "      <td>Australia</td>\n",
              "      <td>9</td>\n",
              "      <td>Golden Leaf Crossing</td>\n",
              "    </tr>\n",
              "    <tr>\n",
              "      <th>152</th>\n",
              "      <td>157</td>\n",
              "      <td>0 Hazelcrest Road</td>\n",
              "      <td>3025</td>\n",
              "      <td>VIC</td>\n",
              "      <td>Australia</td>\n",
              "      <td>8</td>\n",
              "      <td>Hazelcrest Road</td>\n",
              "    </tr>\n",
              "    <tr>\n",
              "      <th>...</th>\n",
              "      <td>...</td>\n",
              "      <td>...</td>\n",
              "      <td>...</td>\n",
              "      <td>...</td>\n",
              "      <td>...</td>\n",
              "      <td>...</td>\n",
              "      <td>...</td>\n",
              "    </tr>\n",
              "    <tr>\n",
              "      <th>3843</th>\n",
              "      <td>3848</td>\n",
              "      <td>0056 Corry Center</td>\n",
              "      <td>2220</td>\n",
              "      <td>NSW</td>\n",
              "      <td>Australia</td>\n",
              "      <td>11</td>\n",
              "      <td>056 Corry Center</td>\n",
              "    </tr>\n",
              "    <tr>\n",
              "      <th>3859</th>\n",
              "      <td>3864</td>\n",
              "      <td>0 Arapahoe Court</td>\n",
              "      <td>4305</td>\n",
              "      <td>QLD</td>\n",
              "      <td>Australia</td>\n",
              "      <td>3</td>\n",
              "      <td>Arapahoe Court</td>\n",
              "    </tr>\n",
              "    <tr>\n",
              "      <th>3904</th>\n",
              "      <td>3909</td>\n",
              "      <td>0 Darwin Junction</td>\n",
              "      <td>2747</td>\n",
              "      <td>NSW</td>\n",
              "      <td>Australia</td>\n",
              "      <td>9</td>\n",
              "      <td>Darwin Junction</td>\n",
              "    </tr>\n",
              "    <tr>\n",
              "      <th>3917</th>\n",
              "      <td>3922</td>\n",
              "      <td>0 Southridge Drive</td>\n",
              "      <td>4311</td>\n",
              "      <td>QLD</td>\n",
              "      <td>Australia</td>\n",
              "      <td>1</td>\n",
              "      <td>Southridge Drive</td>\n",
              "    </tr>\n",
              "    <tr>\n",
              "      <th>3991</th>\n",
              "      <td>3996</td>\n",
              "      <td>0 Transport Center</td>\n",
              "      <td>3977</td>\n",
              "      <td>VIC</td>\n",
              "      <td>Australia</td>\n",
              "      <td>6</td>\n",
              "      <td>Transport Center</td>\n",
              "    </tr>\n",
              "  </tbody>\n",
              "</table>\n",
              "<p>121 rows × 7 columns</p>\n",
              "</div>"
            ],
            "text/plain": [
              "      customer_id  ...            new_address\n",
              "2               4  ...       Holy Cross Court\n",
              "107           112  ...          David Terrace\n",
              "122           127  ...       Pearson Crossing\n",
              "133           138  ...   Golden Leaf Crossing\n",
              "152           157  ...        Hazelcrest Road\n",
              "...           ...  ...                    ...\n",
              "3843         3848  ...       056 Corry Center\n",
              "3859         3864  ...         Arapahoe Court\n",
              "3904         3909  ...        Darwin Junction\n",
              "3917         3922  ...       Southridge Drive\n",
              "3991         3996  ...       Transport Center\n",
              "\n",
              "[121 rows x 7 columns]"
            ]
          },
          "metadata": {
            "tags": []
          },
          "execution_count": 167
        }
      ]
    },
    {
      "cell_type": "markdown",
      "metadata": {
        "id": "YUoutqs42igs"
      },
      "source": [
        "- There are still 121 addresses that do not have street number, only street name. We will still keep these rows as we can still perform analysis based on postcode and state."
      ]
    },
    {
      "cell_type": "markdown",
      "metadata": {
        "id": "tdsmBLd4oQ1I"
      },
      "source": [
        "**Drop irrelavant columns**"
      ]
    },
    {
      "cell_type": "code",
      "metadata": {
        "id": "lnkLSVO0oPc3"
      },
      "source": [
        "# drop column 'country' as all custoemrs are in Autralia and do not add value to the analysis\n",
        "CustomerAddress.drop('country', axis='columns', inplace=True)"
      ],
      "execution_count": 168,
      "outputs": []
    },
    {
      "cell_type": "code",
      "metadata": {
        "id": "RdHcNsTYp-q-"
      },
      "source": [
        "# Drop the old 'address' column and keep the 'new_address' column\n",
        "CustomerAddress = CustomerAddress[['customer_id', 'new_address', 'postcode', 'state', 'property_valuation']]"
      ],
      "execution_count": 169,
      "outputs": []
    },
    {
      "cell_type": "code",
      "metadata": {
        "id": "shq6MxjWPmyE"
      },
      "source": [
        "CustomerAddress.to_csv(\"CustomerAddress.csv\")"
      ],
      "execution_count": 170,
      "outputs": []
    },
    {
      "cell_type": "markdown",
      "metadata": {
        "id": "tz_K6MGP7jIV"
      },
      "source": [
        "## Preliminary Analysis"
      ]
    },
    {
      "cell_type": "code",
      "metadata": {
        "colab": {
          "base_uri": "https://localhost:8080/",
          "height": 202
        },
        "id": "p8AZKK0m7nAf",
        "outputId": "7eddba7c-d498-4b67-992d-5e4efd59ea12"
      },
      "source": [
        "CustomerAddress.head()"
      ],
      "execution_count": 171,
      "outputs": [
        {
          "output_type": "execute_result",
          "data": {
            "text/html": [
              "<div>\n",
              "<style scoped>\n",
              "    .dataframe tbody tr th:only-of-type {\n",
              "        vertical-align: middle;\n",
              "    }\n",
              "\n",
              "    .dataframe tbody tr th {\n",
              "        vertical-align: top;\n",
              "    }\n",
              "\n",
              "    .dataframe thead th {\n",
              "        text-align: right;\n",
              "    }\n",
              "</style>\n",
              "<table border=\"1\" class=\"dataframe\">\n",
              "  <thead>\n",
              "    <tr style=\"text-align: right;\">\n",
              "      <th></th>\n",
              "      <th>customer_id</th>\n",
              "      <th>new_address</th>\n",
              "      <th>postcode</th>\n",
              "      <th>state</th>\n",
              "      <th>property_valuation</th>\n",
              "    </tr>\n",
              "  </thead>\n",
              "  <tbody>\n",
              "    <tr>\n",
              "      <th>0</th>\n",
              "      <td>1</td>\n",
              "      <td>60 Morning Avenue</td>\n",
              "      <td>2016</td>\n",
              "      <td>New South Wales</td>\n",
              "      <td>10</td>\n",
              "    </tr>\n",
              "    <tr>\n",
              "      <th>1</th>\n",
              "      <td>2</td>\n",
              "      <td>6 Meadow Vale Court</td>\n",
              "      <td>2153</td>\n",
              "      <td>New South Wales</td>\n",
              "      <td>10</td>\n",
              "    </tr>\n",
              "    <tr>\n",
              "      <th>2</th>\n",
              "      <td>4</td>\n",
              "      <td>Holy Cross Court</td>\n",
              "      <td>4211</td>\n",
              "      <td>QLD</td>\n",
              "      <td>9</td>\n",
              "    </tr>\n",
              "    <tr>\n",
              "      <th>3</th>\n",
              "      <td>5</td>\n",
              "      <td>17979 Del Mar Point</td>\n",
              "      <td>2448</td>\n",
              "      <td>New South Wales</td>\n",
              "      <td>4</td>\n",
              "    </tr>\n",
              "    <tr>\n",
              "      <th>4</th>\n",
              "      <td>6</td>\n",
              "      <td>9 Oakridge Court</td>\n",
              "      <td>3216</td>\n",
              "      <td>VIC</td>\n",
              "      <td>9</td>\n",
              "    </tr>\n",
              "  </tbody>\n",
              "</table>\n",
              "</div>"
            ],
            "text/plain": [
              "   customer_id          new_address  ...            state property_valuation\n",
              "0            1    60 Morning Avenue  ...  New South Wales                 10\n",
              "1            2  6 Meadow Vale Court  ...  New South Wales                 10\n",
              "2            4     Holy Cross Court  ...              QLD                  9\n",
              "3            5  17979 Del Mar Point  ...  New South Wales                  4\n",
              "4            6     9 Oakridge Court  ...              VIC                  9\n",
              "\n",
              "[5 rows x 5 columns]"
            ]
          },
          "metadata": {
            "tags": []
          },
          "execution_count": 171
        }
      ]
    },
    {
      "cell_type": "code",
      "metadata": {
        "colab": {
          "base_uri": "https://localhost:8080/",
          "height": 416
        },
        "id": "dOSridvl7m9-",
        "outputId": "2f10d81d-f612-4cc3-de3e-d8affedb2f66"
      },
      "source": [
        "# Calculate percentage of customers by job_industry_category\n",
        "data_property_valuation = pd.DataFrame((CustomerAddress.groupby(['property_valuation'])['customer_id'].count())/len(CustomerAddress)*100)\n",
        "data_property_valuation = data_property_valuation.reset_index()\n",
        "data_property_valuation"
      ],
      "execution_count": 172,
      "outputs": [
        {
          "output_type": "execute_result",
          "data": {
            "text/html": [
              "<div>\n",
              "<style scoped>\n",
              "    .dataframe tbody tr th:only-of-type {\n",
              "        vertical-align: middle;\n",
              "    }\n",
              "\n",
              "    .dataframe tbody tr th {\n",
              "        vertical-align: top;\n",
              "    }\n",
              "\n",
              "    .dataframe thead th {\n",
              "        text-align: right;\n",
              "    }\n",
              "</style>\n",
              "<table border=\"1\" class=\"dataframe\">\n",
              "  <thead>\n",
              "    <tr style=\"text-align: right;\">\n",
              "      <th></th>\n",
              "      <th>property_valuation</th>\n",
              "      <th>customer_id</th>\n",
              "    </tr>\n",
              "  </thead>\n",
              "  <tbody>\n",
              "    <tr>\n",
              "      <th>0</th>\n",
              "      <td>1</td>\n",
              "      <td>3.850963</td>\n",
              "    </tr>\n",
              "    <tr>\n",
              "      <th>1</th>\n",
              "      <td>2</td>\n",
              "      <td>3.575894</td>\n",
              "    </tr>\n",
              "    <tr>\n",
              "      <th>2</th>\n",
              "      <td>3</td>\n",
              "      <td>4.651163</td>\n",
              "    </tr>\n",
              "    <tr>\n",
              "      <th>3</th>\n",
              "      <td>4</td>\n",
              "      <td>5.351338</td>\n",
              "    </tr>\n",
              "    <tr>\n",
              "      <th>4</th>\n",
              "      <td>5</td>\n",
              "      <td>5.626407</td>\n",
              "    </tr>\n",
              "    <tr>\n",
              "      <th>5</th>\n",
              "      <td>6</td>\n",
              "      <td>5.951488</td>\n",
              "    </tr>\n",
              "    <tr>\n",
              "      <th>6</th>\n",
              "      <td>7</td>\n",
              "      <td>12.328082</td>\n",
              "    </tr>\n",
              "    <tr>\n",
              "      <th>7</th>\n",
              "      <td>8</td>\n",
              "      <td>16.154039</td>\n",
              "    </tr>\n",
              "    <tr>\n",
              "      <th>8</th>\n",
              "      <td>9</td>\n",
              "      <td>16.179045</td>\n",
              "    </tr>\n",
              "    <tr>\n",
              "      <th>9</th>\n",
              "      <td>10</td>\n",
              "      <td>14.428607</td>\n",
              "    </tr>\n",
              "    <tr>\n",
              "      <th>10</th>\n",
              "      <td>11</td>\n",
              "      <td>7.026757</td>\n",
              "    </tr>\n",
              "    <tr>\n",
              "      <th>11</th>\n",
              "      <td>12</td>\n",
              "      <td>4.876219</td>\n",
              "    </tr>\n",
              "  </tbody>\n",
              "</table>\n",
              "</div>"
            ],
            "text/plain": [
              "    property_valuation  customer_id\n",
              "0                    1     3.850963\n",
              "1                    2     3.575894\n",
              "2                    3     4.651163\n",
              "3                    4     5.351338\n",
              "4                    5     5.626407\n",
              "5                    6     5.951488\n",
              "6                    7    12.328082\n",
              "7                    8    16.154039\n",
              "8                    9    16.179045\n",
              "9                   10    14.428607\n",
              "10                  11     7.026757\n",
              "11                  12     4.876219"
            ]
          },
          "metadata": {
            "tags": []
          },
          "execution_count": 172
        }
      ]
    },
    {
      "cell_type": "code",
      "metadata": {
        "colab": {
          "base_uri": "https://localhost:8080/",
          "height": 532
        },
        "id": "CLh2KrrO8VnZ",
        "outputId": "92f9d018-70c5-4652-cdef-13d7b4d418c6"
      },
      "source": [
        "# Create bar plot\n",
        "plt.figure(figsize=(15,8))\n",
        "visual = sns.barplot(x=\"property_valuation\", y=\"customer_id\", data=data_property_valuation )\n",
        "\n",
        "for index, row in data_property_valuation.iterrows():\n",
        "    visual.text(row.name,row.customer_id, round(row.customer_id,2), color='black', ha=\"center\")\n",
        "plt.title('Percentage of customers vs property_valuation')\n",
        "plt.ylabel('Percentage (%)')"
      ],
      "execution_count": 173,
      "outputs": [
        {
          "output_type": "execute_result",
          "data": {
            "text/plain": [
              "Text(0, 0.5, 'Percentage (%)')"
            ]
          },
          "metadata": {
            "tags": []
          },
          "execution_count": 173
        },
        {
          "output_type": "display_data",
          "data": {
            "image/png": "[encoded data removed]",
            "text/plain": [
              "<Figure size 1080x576 with 1 Axes>"
            ]
          },
          "metadata": {
            "tags": [],
            "needs_background": "light"
          }
        }
      ]
    },
    {
      "cell_type": "markdown",
      "metadata": {
        "id": "QnSQhlVI9YfX"
      },
      "source": [
        "- The majority of customers have property valuations between 7-10"
      ]
    },
    {
      "cell_type": "markdown",
      "metadata": {
        "id": "2sxp9cGRqRXP"
      },
      "source": [
        "#**DATASET 3: TRANSACTIONS**"
      ]
    },
    {
      "cell_type": "code",
      "metadata": {
        "colab": {
          "base_uri": "https://localhost:8080/",
          "height": 202
        },
        "id": "YZA8miWAqRXP",
        "outputId": "928de8a0-aeec-4ae2-f799-717008433ac0"
      },
      "source": [
        "Transactions.head()"
      ],
      "execution_count": 174,
      "outputs": [
        {
          "output_type": "execute_result",
          "data": {
            "text/html": [
              "<div>\n",
              "<style scoped>\n",
              "    .dataframe tbody tr th:only-of-type {\n",
              "        vertical-align: middle;\n",
              "    }\n",
              "\n",
              "    .dataframe tbody tr th {\n",
              "        vertical-align: top;\n",
              "    }\n",
              "\n",
              "    .dataframe thead th {\n",
              "        text-align: right;\n",
              "    }\n",
              "</style>\n",
              "<table border=\"1\" class=\"dataframe\">\n",
              "  <thead>\n",
              "    <tr style=\"text-align: right;\">\n",
              "      <th></th>\n",
              "      <th>transaction_id</th>\n",
              "      <th>product_id</th>\n",
              "      <th>customer_id</th>\n",
              "      <th>transaction_date</th>\n",
              "      <th>online_order</th>\n",
              "      <th>order_status</th>\n",
              "      <th>brand</th>\n",
              "      <th>product_line</th>\n",
              "      <th>product_class</th>\n",
              "      <th>product_size</th>\n",
              "      <th>list_price</th>\n",
              "      <th>standard_cost</th>\n",
              "      <th>product_first_sold_date</th>\n",
              "    </tr>\n",
              "  </thead>\n",
              "  <tbody>\n",
              "    <tr>\n",
              "      <th>0</th>\n",
              "      <td>1</td>\n",
              "      <td>2</td>\n",
              "      <td>2950</td>\n",
              "      <td>2017-02-25</td>\n",
              "      <td>0.0</td>\n",
              "      <td>Approved</td>\n",
              "      <td>Solex</td>\n",
              "      <td>Standard</td>\n",
              "      <td>medium</td>\n",
              "      <td>medium</td>\n",
              "      <td>71.49</td>\n",
              "      <td>53.62</td>\n",
              "      <td>41245.0</td>\n",
              "    </tr>\n",
              "    <tr>\n",
              "      <th>1</th>\n",
              "      <td>2</td>\n",
              "      <td>3</td>\n",
              "      <td>3120</td>\n",
              "      <td>2017-05-21</td>\n",
              "      <td>1.0</td>\n",
              "      <td>Approved</td>\n",
              "      <td>Trek Bicycles</td>\n",
              "      <td>Standard</td>\n",
              "      <td>medium</td>\n",
              "      <td>large</td>\n",
              "      <td>2091.47</td>\n",
              "      <td>388.92</td>\n",
              "      <td>41701.0</td>\n",
              "    </tr>\n",
              "    <tr>\n",
              "      <th>2</th>\n",
              "      <td>3</td>\n",
              "      <td>37</td>\n",
              "      <td>402</td>\n",
              "      <td>2017-10-16</td>\n",
              "      <td>0.0</td>\n",
              "      <td>Approved</td>\n",
              "      <td>OHM Cycles</td>\n",
              "      <td>Standard</td>\n",
              "      <td>low</td>\n",
              "      <td>medium</td>\n",
              "      <td>1793.43</td>\n",
              "      <td>248.82</td>\n",
              "      <td>36361.0</td>\n",
              "    </tr>\n",
              "    <tr>\n",
              "      <th>3</th>\n",
              "      <td>4</td>\n",
              "      <td>88</td>\n",
              "      <td>3135</td>\n",
              "      <td>2017-08-31</td>\n",
              "      <td>0.0</td>\n",
              "      <td>Approved</td>\n",
              "      <td>Norco Bicycles</td>\n",
              "      <td>Standard</td>\n",
              "      <td>medium</td>\n",
              "      <td>medium</td>\n",
              "      <td>1198.46</td>\n",
              "      <td>381.10</td>\n",
              "      <td>36145.0</td>\n",
              "    </tr>\n",
              "    <tr>\n",
              "      <th>4</th>\n",
              "      <td>5</td>\n",
              "      <td>78</td>\n",
              "      <td>787</td>\n",
              "      <td>2017-10-01</td>\n",
              "      <td>1.0</td>\n",
              "      <td>Approved</td>\n",
              "      <td>Giant Bicycles</td>\n",
              "      <td>Standard</td>\n",
              "      <td>medium</td>\n",
              "      <td>large</td>\n",
              "      <td>1765.30</td>\n",
              "      <td>709.48</td>\n",
              "      <td>42226.0</td>\n",
              "    </tr>\n",
              "  </tbody>\n",
              "</table>\n",
              "</div>"
            ],
            "text/plain": [
              "   transaction_id  product_id  ...  standard_cost product_first_sold_date\n",
              "0               1           2  ...          53.62                 41245.0\n",
              "1               2           3  ...         388.92                 41701.0\n",
              "2               3          37  ...         248.82                 36361.0\n",
              "3               4          88  ...         381.10                 36145.0\n",
              "4               5          78  ...         709.48                 42226.0\n",
              "\n",
              "[5 rows x 13 columns]"
            ]
          },
          "metadata": {
            "tags": []
          },
          "execution_count": 174
        }
      ]
    },
    {
      "cell_type": "markdown",
      "metadata": {
        "id": "2Mq1-MeXqRXQ"
      },
      "source": [
        "## Data Quality Analysis"
      ]
    },
    {
      "cell_type": "code",
      "metadata": {
        "colab": {
          "base_uri": "https://localhost:8080/"
        },
        "id": "aB83gFwEqRXQ",
        "outputId": "05016223-984d-4a5e-8563-00816e601c07"
      },
      "source": [
        "# Check number of rows and columns\n",
        "Transactions.shape"
      ],
      "execution_count": 175,
      "outputs": [
        {
          "output_type": "execute_result",
          "data": {
            "text/plain": [
              "(20000, 13)"
            ]
          },
          "metadata": {
            "tags": []
          },
          "execution_count": 175
        }
      ]
    },
    {
      "cell_type": "markdown",
      "metadata": {
        "id": "rkvqqRrpqRXQ"
      },
      "source": [
        "- Notice, this dataset only has 20,000 transactions. This means customers puchase several items."
      ]
    },
    {
      "cell_type": "code",
      "metadata": {
        "colab": {
          "base_uri": "https://localhost:8080/"
        },
        "id": "zr8wps6xqRXQ",
        "outputId": "b10c6e6a-58a9-4edd-bb62-83d39e61b035"
      },
      "source": [
        "# Data types\n",
        "Transactions.dtypes"
      ],
      "execution_count": 176,
      "outputs": [
        {
          "output_type": "execute_result",
          "data": {
            "text/plain": [
              "transaction_id                      int64\n",
              "product_id                          int64\n",
              "customer_id                         int64\n",
              "transaction_date           datetime64[ns]\n",
              "online_order                      float64\n",
              "order_status                       object\n",
              "brand                              object\n",
              "product_line                       object\n",
              "product_class                      object\n",
              "product_size                       object\n",
              "list_price                        float64\n",
              "standard_cost                     float64\n",
              "product_first_sold_date           float64\n",
              "dtype: object"
            ]
          },
          "metadata": {
            "tags": []
          },
          "execution_count": 176
        }
      ]
    },
    {
      "cell_type": "markdown",
      "metadata": {
        "id": "Bqe_199iUCVD"
      },
      "source": [
        "- Notice, product_first_sold_date column is as float and it represents the number of days passed Jan 01 1970. This column will be converted to date_time."
      ]
    },
    {
      "cell_type": "markdown",
      "metadata": {
        "id": "nnl1QV4rqRXR"
      },
      "source": [
        "**1. Check data accuracy**"
      ]
    },
    {
      "cell_type": "code",
      "metadata": {
        "colab": {
          "base_uri": "https://localhost:8080/"
        },
        "id": "VlTuisHIqRXR",
        "outputId": "529cf443-bde4-42c9-f42e-a7618b824f71"
      },
      "source": [
        "# Check if transaction_id values are all unique\n",
        "Transactions_duplicated = Transactions['transaction_id'].duplicated().any()\n",
        "Transactions_duplicated"
      ],
      "execution_count": 177,
      "outputs": [
        {
          "output_type": "execute_result",
          "data": {
            "text/plain": [
              "False"
            ]
          },
          "metadata": {
            "tags": []
          },
          "execution_count": 177
        }
      ]
    },
    {
      "cell_type": "markdown",
      "metadata": {
        "id": "QR6IwNeCqRXS"
      },
      "source": [
        "**2. Check data completeness**"
      ]
    },
    {
      "cell_type": "code",
      "metadata": {
        "colab": {
          "base_uri": "https://localhost:8080/",
          "height": 447
        },
        "id": "jk6A88M1qRXS",
        "outputId": "d001ddda-7719-4309-b0a8-4b34632216b0"
      },
      "source": [
        "# Count number of empty rows and the percentage of empty rows for each column\n",
        "empty_rows_count = Transactions.isnull().sum()\n",
        "empty_rows_perc = empty_rows_count/len(Transactions)*100\n",
        "\n",
        "null_values_perc = pd.DataFrame(empty_rows_count, columns=['Null_rows_count'])\n",
        "null_values_perc['Null_rows_percentage'] = empty_rows_perc\n",
        "null_values_perc\n"
      ],
      "execution_count": 178,
      "outputs": [
        {
          "output_type": "execute_result",
          "data": {
            "text/html": [
              "<div>\n",
              "<style scoped>\n",
              "    .dataframe tbody tr th:only-of-type {\n",
              "        vertical-align: middle;\n",
              "    }\n",
              "\n",
              "    .dataframe tbody tr th {\n",
              "        vertical-align: top;\n",
              "    }\n",
              "\n",
              "    .dataframe thead th {\n",
              "        text-align: right;\n",
              "    }\n",
              "</style>\n",
              "<table border=\"1\" class=\"dataframe\">\n",
              "  <thead>\n",
              "    <tr style=\"text-align: right;\">\n",
              "      <th></th>\n",
              "      <th>Null_rows_count</th>\n",
              "      <th>Null_rows_percentage</th>\n",
              "    </tr>\n",
              "  </thead>\n",
              "  <tbody>\n",
              "    <tr>\n",
              "      <th>transaction_id</th>\n",
              "      <td>0</td>\n",
              "      <td>0.000</td>\n",
              "    </tr>\n",
              "    <tr>\n",
              "      <th>product_id</th>\n",
              "      <td>0</td>\n",
              "      <td>0.000</td>\n",
              "    </tr>\n",
              "    <tr>\n",
              "      <th>customer_id</th>\n",
              "      <td>0</td>\n",
              "      <td>0.000</td>\n",
              "    </tr>\n",
              "    <tr>\n",
              "      <th>transaction_date</th>\n",
              "      <td>0</td>\n",
              "      <td>0.000</td>\n",
              "    </tr>\n",
              "    <tr>\n",
              "      <th>online_order</th>\n",
              "      <td>360</td>\n",
              "      <td>1.800</td>\n",
              "    </tr>\n",
              "    <tr>\n",
              "      <th>order_status</th>\n",
              "      <td>0</td>\n",
              "      <td>0.000</td>\n",
              "    </tr>\n",
              "    <tr>\n",
              "      <th>brand</th>\n",
              "      <td>197</td>\n",
              "      <td>0.985</td>\n",
              "    </tr>\n",
              "    <tr>\n",
              "      <th>product_line</th>\n",
              "      <td>197</td>\n",
              "      <td>0.985</td>\n",
              "    </tr>\n",
              "    <tr>\n",
              "      <th>product_class</th>\n",
              "      <td>197</td>\n",
              "      <td>0.985</td>\n",
              "    </tr>\n",
              "    <tr>\n",
              "      <th>product_size</th>\n",
              "      <td>197</td>\n",
              "      <td>0.985</td>\n",
              "    </tr>\n",
              "    <tr>\n",
              "      <th>list_price</th>\n",
              "      <td>0</td>\n",
              "      <td>0.000</td>\n",
              "    </tr>\n",
              "    <tr>\n",
              "      <th>standard_cost</th>\n",
              "      <td>197</td>\n",
              "      <td>0.985</td>\n",
              "    </tr>\n",
              "    <tr>\n",
              "      <th>product_first_sold_date</th>\n",
              "      <td>197</td>\n",
              "      <td>0.985</td>\n",
              "    </tr>\n",
              "  </tbody>\n",
              "</table>\n",
              "</div>"
            ],
            "text/plain": [
              "                         Null_rows_count  Null_rows_percentage\n",
              "transaction_id                         0                 0.000\n",
              "product_id                             0                 0.000\n",
              "customer_id                            0                 0.000\n",
              "transaction_date                       0                 0.000\n",
              "online_order                         360                 1.800\n",
              "order_status                           0                 0.000\n",
              "brand                                197                 0.985\n",
              "product_line                         197                 0.985\n",
              "product_class                        197                 0.985\n",
              "product_size                         197                 0.985\n",
              "list_price                             0                 0.000\n",
              "standard_cost                        197                 0.985\n",
              "product_first_sold_date              197                 0.985"
            ]
          },
          "metadata": {
            "tags": []
          },
          "execution_count": 178
        }
      ]
    },
    {
      "cell_type": "code",
      "metadata": {
        "colab": {
          "base_uri": "https://localhost:8080/",
          "height": 414
        },
        "id": "lhsFiU1fRPfe",
        "outputId": "6d6f466e-8697-40f7-905f-d1712fddef35"
      },
      "source": [
        "# Show rows without online_order values\n",
        "Transactions[Transactions.online_order.isnull()]"
      ],
      "execution_count": 179,
      "outputs": [
        {
          "output_type": "execute_result",
          "data": {
            "text/html": [
              "<div>\n",
              "<style scoped>\n",
              "    .dataframe tbody tr th:only-of-type {\n",
              "        vertical-align: middle;\n",
              "    }\n",
              "\n",
              "    .dataframe tbody tr th {\n",
              "        vertical-align: top;\n",
              "    }\n",
              "\n",
              "    .dataframe thead th {\n",
              "        text-align: right;\n",
              "    }\n",
              "</style>\n",
              "<table border=\"1\" class=\"dataframe\">\n",
              "  <thead>\n",
              "    <tr style=\"text-align: right;\">\n",
              "      <th></th>\n",
              "      <th>transaction_id</th>\n",
              "      <th>product_id</th>\n",
              "      <th>customer_id</th>\n",
              "      <th>transaction_date</th>\n",
              "      <th>online_order</th>\n",
              "      <th>order_status</th>\n",
              "      <th>brand</th>\n",
              "      <th>product_line</th>\n",
              "      <th>product_class</th>\n",
              "      <th>product_size</th>\n",
              "      <th>list_price</th>\n",
              "      <th>standard_cost</th>\n",
              "      <th>product_first_sold_date</th>\n",
              "    </tr>\n",
              "  </thead>\n",
              "  <tbody>\n",
              "    <tr>\n",
              "      <th>97</th>\n",
              "      <td>98</td>\n",
              "      <td>49</td>\n",
              "      <td>333</td>\n",
              "      <td>2017-06-23</td>\n",
              "      <td>NaN</td>\n",
              "      <td>Approved</td>\n",
              "      <td>Trek Bicycles</td>\n",
              "      <td>Road</td>\n",
              "      <td>medium</td>\n",
              "      <td>medium</td>\n",
              "      <td>533.51</td>\n",
              "      <td>400.13</td>\n",
              "      <td>37823.0</td>\n",
              "    </tr>\n",
              "    <tr>\n",
              "      <th>166</th>\n",
              "      <td>167</td>\n",
              "      <td>90</td>\n",
              "      <td>3177</td>\n",
              "      <td>2017-04-26</td>\n",
              "      <td>NaN</td>\n",
              "      <td>Approved</td>\n",
              "      <td>Norco Bicycles</td>\n",
              "      <td>Standard</td>\n",
              "      <td>low</td>\n",
              "      <td>medium</td>\n",
              "      <td>363.01</td>\n",
              "      <td>290.41</td>\n",
              "      <td>38482.0</td>\n",
              "    </tr>\n",
              "    <tr>\n",
              "      <th>169</th>\n",
              "      <td>170</td>\n",
              "      <td>6</td>\n",
              "      <td>404</td>\n",
              "      <td>2017-10-16</td>\n",
              "      <td>NaN</td>\n",
              "      <td>Approved</td>\n",
              "      <td>OHM Cycles</td>\n",
              "      <td>Standard</td>\n",
              "      <td>high</td>\n",
              "      <td>medium</td>\n",
              "      <td>227.88</td>\n",
              "      <td>136.73</td>\n",
              "      <td>37838.0</td>\n",
              "    </tr>\n",
              "    <tr>\n",
              "      <th>250</th>\n",
              "      <td>251</td>\n",
              "      <td>63</td>\n",
              "      <td>1967</td>\n",
              "      <td>2017-04-11</td>\n",
              "      <td>NaN</td>\n",
              "      <td>Approved</td>\n",
              "      <td>Solex</td>\n",
              "      <td>Standard</td>\n",
              "      <td>medium</td>\n",
              "      <td>medium</td>\n",
              "      <td>1483.20</td>\n",
              "      <td>99.59</td>\n",
              "      <td>42145.0</td>\n",
              "    </tr>\n",
              "    <tr>\n",
              "      <th>300</th>\n",
              "      <td>301</td>\n",
              "      <td>78</td>\n",
              "      <td>2530</td>\n",
              "      <td>2017-03-24</td>\n",
              "      <td>NaN</td>\n",
              "      <td>Approved</td>\n",
              "      <td>Giant Bicycles</td>\n",
              "      <td>Standard</td>\n",
              "      <td>medium</td>\n",
              "      <td>large</td>\n",
              "      <td>1765.30</td>\n",
              "      <td>709.48</td>\n",
              "      <td>35455.0</td>\n",
              "    </tr>\n",
              "    <tr>\n",
              "      <th>...</th>\n",
              "      <td>...</td>\n",
              "      <td>...</td>\n",
              "      <td>...</td>\n",
              "      <td>...</td>\n",
              "      <td>...</td>\n",
              "      <td>...</td>\n",
              "      <td>...</td>\n",
              "      <td>...</td>\n",
              "      <td>...</td>\n",
              "      <td>...</td>\n",
              "      <td>...</td>\n",
              "      <td>...</td>\n",
              "      <td>...</td>\n",
              "    </tr>\n",
              "    <tr>\n",
              "      <th>19514</th>\n",
              "      <td>19515</td>\n",
              "      <td>51</td>\n",
              "      <td>690</td>\n",
              "      <td>2017-01-22</td>\n",
              "      <td>NaN</td>\n",
              "      <td>Approved</td>\n",
              "      <td>OHM Cycles</td>\n",
              "      <td>Standard</td>\n",
              "      <td>high</td>\n",
              "      <td>medium</td>\n",
              "      <td>2005.66</td>\n",
              "      <td>1203.40</td>\n",
              "      <td>37823.0</td>\n",
              "    </tr>\n",
              "    <tr>\n",
              "      <th>19573</th>\n",
              "      <td>19574</td>\n",
              "      <td>18</td>\n",
              "      <td>1735</td>\n",
              "      <td>2017-01-15</td>\n",
              "      <td>NaN</td>\n",
              "      <td>Approved</td>\n",
              "      <td>Solex</td>\n",
              "      <td>Standard</td>\n",
              "      <td>medium</td>\n",
              "      <td>medium</td>\n",
              "      <td>575.27</td>\n",
              "      <td>431.45</td>\n",
              "      <td>41345.0</td>\n",
              "    </tr>\n",
              "    <tr>\n",
              "      <th>19580</th>\n",
              "      <td>19581</td>\n",
              "      <td>49</td>\n",
              "      <td>1933</td>\n",
              "      <td>2017-10-12</td>\n",
              "      <td>NaN</td>\n",
              "      <td>Approved</td>\n",
              "      <td>Trek Bicycles</td>\n",
              "      <td>Road</td>\n",
              "      <td>medium</td>\n",
              "      <td>medium</td>\n",
              "      <td>533.51</td>\n",
              "      <td>400.13</td>\n",
              "      <td>41064.0</td>\n",
              "    </tr>\n",
              "    <tr>\n",
              "      <th>19635</th>\n",
              "      <td>19636</td>\n",
              "      <td>98</td>\n",
              "      <td>1389</td>\n",
              "      <td>2017-07-26</td>\n",
              "      <td>NaN</td>\n",
              "      <td>Approved</td>\n",
              "      <td>Trek Bicycles</td>\n",
              "      <td>Standard</td>\n",
              "      <td>high</td>\n",
              "      <td>medium</td>\n",
              "      <td>358.39</td>\n",
              "      <td>215.03</td>\n",
              "      <td>38002.0</td>\n",
              "    </tr>\n",
              "    <tr>\n",
              "      <th>19843</th>\n",
              "      <td>19844</td>\n",
              "      <td>3</td>\n",
              "      <td>8</td>\n",
              "      <td>2017-01-28</td>\n",
              "      <td>NaN</td>\n",
              "      <td>Approved</td>\n",
              "      <td>Trek Bicycles</td>\n",
              "      <td>Standard</td>\n",
              "      <td>medium</td>\n",
              "      <td>large</td>\n",
              "      <td>2091.47</td>\n",
              "      <td>388.92</td>\n",
              "      <td>37823.0</td>\n",
              "    </tr>\n",
              "  </tbody>\n",
              "</table>\n",
              "<p>360 rows × 13 columns</p>\n",
              "</div>"
            ],
            "text/plain": [
              "       transaction_id  product_id  ...  standard_cost product_first_sold_date\n",
              "97                 98          49  ...         400.13                 37823.0\n",
              "166               167          90  ...         290.41                 38482.0\n",
              "169               170           6  ...         136.73                 37838.0\n",
              "250               251          63  ...          99.59                 42145.0\n",
              "300               301          78  ...         709.48                 35455.0\n",
              "...               ...         ...  ...            ...                     ...\n",
              "19514           19515          51  ...        1203.40                 37823.0\n",
              "19573           19574          18  ...         431.45                 41345.0\n",
              "19580           19581          49  ...         400.13                 41064.0\n",
              "19635           19636          98  ...         215.03                 38002.0\n",
              "19843           19844           3  ...         388.92                 37823.0\n",
              "\n",
              "[360 rows x 13 columns]"
            ]
          },
          "metadata": {
            "tags": []
          },
          "execution_count": 179
        }
      ]
    },
    {
      "cell_type": "code",
      "metadata": {
        "colab": {
          "base_uri": "https://localhost:8080/",
          "height": 414
        },
        "id": "FbYP7p_nSN5p",
        "outputId": "99204edb-4d70-4a8c-9425-5a5da22d2be0"
      },
      "source": [
        "# Show rows without brand values\n",
        "Transactions[Transactions.brand.isnull()]"
      ],
      "execution_count": 180,
      "outputs": [
        {
          "output_type": "execute_result",
          "data": {
            "text/html": [
              "<div>\n",
              "<style scoped>\n",
              "    .dataframe tbody tr th:only-of-type {\n",
              "        vertical-align: middle;\n",
              "    }\n",
              "\n",
              "    .dataframe tbody tr th {\n",
              "        vertical-align: top;\n",
              "    }\n",
              "\n",
              "    .dataframe thead th {\n",
              "        text-align: right;\n",
              "    }\n",
              "</style>\n",
              "<table border=\"1\" class=\"dataframe\">\n",
              "  <thead>\n",
              "    <tr style=\"text-align: right;\">\n",
              "      <th></th>\n",
              "      <th>transaction_id</th>\n",
              "      <th>product_id</th>\n",
              "      <th>customer_id</th>\n",
              "      <th>transaction_date</th>\n",
              "      <th>online_order</th>\n",
              "      <th>order_status</th>\n",
              "      <th>brand</th>\n",
              "      <th>product_line</th>\n",
              "      <th>product_class</th>\n",
              "      <th>product_size</th>\n",
              "      <th>list_price</th>\n",
              "      <th>standard_cost</th>\n",
              "      <th>product_first_sold_date</th>\n",
              "    </tr>\n",
              "  </thead>\n",
              "  <tbody>\n",
              "    <tr>\n",
              "      <th>136</th>\n",
              "      <td>137</td>\n",
              "      <td>0</td>\n",
              "      <td>431</td>\n",
              "      <td>2017-09-23</td>\n",
              "      <td>0.0</td>\n",
              "      <td>Approved</td>\n",
              "      <td>NaN</td>\n",
              "      <td>NaN</td>\n",
              "      <td>NaN</td>\n",
              "      <td>NaN</td>\n",
              "      <td>1942.61</td>\n",
              "      <td>NaN</td>\n",
              "      <td>NaN</td>\n",
              "    </tr>\n",
              "    <tr>\n",
              "      <th>159</th>\n",
              "      <td>160</td>\n",
              "      <td>0</td>\n",
              "      <td>3300</td>\n",
              "      <td>2017-08-27</td>\n",
              "      <td>0.0</td>\n",
              "      <td>Approved</td>\n",
              "      <td>NaN</td>\n",
              "      <td>NaN</td>\n",
              "      <td>NaN</td>\n",
              "      <td>NaN</td>\n",
              "      <td>1656.86</td>\n",
              "      <td>NaN</td>\n",
              "      <td>NaN</td>\n",
              "    </tr>\n",
              "    <tr>\n",
              "      <th>366</th>\n",
              "      <td>367</td>\n",
              "      <td>0</td>\n",
              "      <td>1614</td>\n",
              "      <td>2017-03-10</td>\n",
              "      <td>0.0</td>\n",
              "      <td>Approved</td>\n",
              "      <td>NaN</td>\n",
              "      <td>NaN</td>\n",
              "      <td>NaN</td>\n",
              "      <td>NaN</td>\n",
              "      <td>850.89</td>\n",
              "      <td>NaN</td>\n",
              "      <td>NaN</td>\n",
              "    </tr>\n",
              "    <tr>\n",
              "      <th>406</th>\n",
              "      <td>407</td>\n",
              "      <td>0</td>\n",
              "      <td>2559</td>\n",
              "      <td>2017-06-14</td>\n",
              "      <td>1.0</td>\n",
              "      <td>Approved</td>\n",
              "      <td>NaN</td>\n",
              "      <td>NaN</td>\n",
              "      <td>NaN</td>\n",
              "      <td>NaN</td>\n",
              "      <td>710.59</td>\n",
              "      <td>NaN</td>\n",
              "      <td>NaN</td>\n",
              "    </tr>\n",
              "    <tr>\n",
              "      <th>676</th>\n",
              "      <td>677</td>\n",
              "      <td>0</td>\n",
              "      <td>2609</td>\n",
              "      <td>2017-07-02</td>\n",
              "      <td>0.0</td>\n",
              "      <td>Approved</td>\n",
              "      <td>NaN</td>\n",
              "      <td>NaN</td>\n",
              "      <td>NaN</td>\n",
              "      <td>NaN</td>\n",
              "      <td>1972.01</td>\n",
              "      <td>NaN</td>\n",
              "      <td>NaN</td>\n",
              "    </tr>\n",
              "    <tr>\n",
              "      <th>...</th>\n",
              "      <td>...</td>\n",
              "      <td>...</td>\n",
              "      <td>...</td>\n",
              "      <td>...</td>\n",
              "      <td>...</td>\n",
              "      <td>...</td>\n",
              "      <td>...</td>\n",
              "      <td>...</td>\n",
              "      <td>...</td>\n",
              "      <td>...</td>\n",
              "      <td>...</td>\n",
              "      <td>...</td>\n",
              "      <td>...</td>\n",
              "    </tr>\n",
              "    <tr>\n",
              "      <th>19340</th>\n",
              "      <td>19341</td>\n",
              "      <td>0</td>\n",
              "      <td>443</td>\n",
              "      <td>2017-12-26</td>\n",
              "      <td>1.0</td>\n",
              "      <td>Approved</td>\n",
              "      <td>NaN</td>\n",
              "      <td>NaN</td>\n",
              "      <td>NaN</td>\n",
              "      <td>NaN</td>\n",
              "      <td>744.54</td>\n",
              "      <td>NaN</td>\n",
              "      <td>NaN</td>\n",
              "    </tr>\n",
              "    <tr>\n",
              "      <th>19383</th>\n",
              "      <td>19384</td>\n",
              "      <td>0</td>\n",
              "      <td>2407</td>\n",
              "      <td>2017-06-11</td>\n",
              "      <td>0.0</td>\n",
              "      <td>Approved</td>\n",
              "      <td>NaN</td>\n",
              "      <td>NaN</td>\n",
              "      <td>NaN</td>\n",
              "      <td>NaN</td>\n",
              "      <td>1098.18</td>\n",
              "      <td>NaN</td>\n",
              "      <td>NaN</td>\n",
              "    </tr>\n",
              "    <tr>\n",
              "      <th>19793</th>\n",
              "      <td>19794</td>\n",
              "      <td>0</td>\n",
              "      <td>2860</td>\n",
              "      <td>2017-01-13</td>\n",
              "      <td>0.0</td>\n",
              "      <td>Approved</td>\n",
              "      <td>NaN</td>\n",
              "      <td>NaN</td>\n",
              "      <td>NaN</td>\n",
              "      <td>NaN</td>\n",
              "      <td>868.56</td>\n",
              "      <td>NaN</td>\n",
              "      <td>NaN</td>\n",
              "    </tr>\n",
              "    <tr>\n",
              "      <th>19859</th>\n",
              "      <td>19860</td>\n",
              "      <td>0</td>\n",
              "      <td>2468</td>\n",
              "      <td>2017-06-24</td>\n",
              "      <td>1.0</td>\n",
              "      <td>Approved</td>\n",
              "      <td>NaN</td>\n",
              "      <td>NaN</td>\n",
              "      <td>NaN</td>\n",
              "      <td>NaN</td>\n",
              "      <td>1497.43</td>\n",
              "      <td>NaN</td>\n",
              "      <td>NaN</td>\n",
              "    </tr>\n",
              "    <tr>\n",
              "      <th>19871</th>\n",
              "      <td>19872</td>\n",
              "      <td>0</td>\n",
              "      <td>61</td>\n",
              "      <td>2017-03-17</td>\n",
              "      <td>1.0</td>\n",
              "      <td>Approved</td>\n",
              "      <td>NaN</td>\n",
              "      <td>NaN</td>\n",
              "      <td>NaN</td>\n",
              "      <td>NaN</td>\n",
              "      <td>867.92</td>\n",
              "      <td>NaN</td>\n",
              "      <td>NaN</td>\n",
              "    </tr>\n",
              "  </tbody>\n",
              "</table>\n",
              "<p>197 rows × 13 columns</p>\n",
              "</div>"
            ],
            "text/plain": [
              "       transaction_id  product_id  ...  standard_cost product_first_sold_date\n",
              "136               137           0  ...            NaN                     NaN\n",
              "159               160           0  ...            NaN                     NaN\n",
              "366               367           0  ...            NaN                     NaN\n",
              "406               407           0  ...            NaN                     NaN\n",
              "676               677           0  ...            NaN                     NaN\n",
              "...               ...         ...  ...            ...                     ...\n",
              "19340           19341           0  ...            NaN                     NaN\n",
              "19383           19384           0  ...            NaN                     NaN\n",
              "19793           19794           0  ...            NaN                     NaN\n",
              "19859           19860           0  ...            NaN                     NaN\n",
              "19871           19872           0  ...            NaN                     NaN\n",
              "\n",
              "[197 rows x 13 columns]"
            ]
          },
          "metadata": {
            "tags": []
          },
          "execution_count": 180
        }
      ]
    },
    {
      "cell_type": "markdown",
      "metadata": {
        "id": "ShzbqHmNSWdd"
      },
      "source": [
        "- There are 360 rows (1.8%) without online_order indicator. Since they only make up a small fraction of the data. We can drop these rows.\n",
        "- There are also 197 rows without any product information. These rows have 6 columns with missing values and thus do not add much values to the analysis and ML model. They will also be dropped."
      ]
    },
    {
      "cell_type": "markdown",
      "metadata": {
        "id": "rytHZ_8SqRXT"
      },
      "source": [
        "**3. Check data consistency, misstyped values**"
      ]
    },
    {
      "cell_type": "code",
      "metadata": {
        "colab": {
          "base_uri": "https://localhost:8080/"
        },
        "id": "Y89VZ8hHqRXT",
        "outputId": "c870a116-3140-4986-88c3-4d75cd4cd460"
      },
      "source": [
        "Transactions['product_id'].unique()"
      ],
      "execution_count": 181,
      "outputs": [
        {
          "output_type": "execute_result",
          "data": {
            "text/plain": [
              "array([  2,   3,  37,  88,  78,  25,  22,  15,  67,  12,   5,  61,  35,\n",
              "        16,  79,  33,  54,  27,  82,  89,  64,  19,  72,  91,   1,  99,\n",
              "         0,  92,  14,  44,  76,  46,  55,  66,  81,  86,  32,  77,  96,\n",
              "         6,  47,  94,  93,  60,  28,   4,  38,  56,  58,  50,  80,  87,\n",
              "        84,  21,  31,  62,  17,  73,  45,  49,  95,  18,  70,  26,  39,\n",
              "        36,  98,  75,  42,  20,  24,  53,  65,  29,  11,  10,   7,  41,\n",
              "         9,  69,  90,  97, 100,  74,  71,  34,  57,  23,  51,  59,  63,\n",
              "        40,   8,  13,  30,  48,  68,  83,  43,  52,  85])"
            ]
          },
          "metadata": {
            "tags": []
          },
          "execution_count": 181
        }
      ]
    },
    {
      "cell_type": "code",
      "metadata": {
        "colab": {
          "base_uri": "https://localhost:8080/"
        },
        "id": "kwQEcQn9TVhb",
        "outputId": "5e3372c6-a0ff-4730-ff06-f7893e82f433"
      },
      "source": [
        "Transactions['online_order'].unique()"
      ],
      "execution_count": 182,
      "outputs": [
        {
          "output_type": "execute_result",
          "data": {
            "text/plain": [
              "array([ 0.,  1., nan])"
            ]
          },
          "metadata": {
            "tags": []
          },
          "execution_count": 182
        }
      ]
    },
    {
      "cell_type": "code",
      "metadata": {
        "colab": {
          "base_uri": "https://localhost:8080/"
        },
        "id": "fKdDMaGWTVey",
        "outputId": "b9911520-8fd8-487d-d5db-a6a9c58e92d0"
      },
      "source": [
        "Transactions['order_status'].unique()"
      ],
      "execution_count": 183,
      "outputs": [
        {
          "output_type": "execute_result",
          "data": {
            "text/plain": [
              "array(['Approved', 'Cancelled'], dtype=object)"
            ]
          },
          "metadata": {
            "tags": []
          },
          "execution_count": 183
        }
      ]
    },
    {
      "cell_type": "code",
      "metadata": {
        "colab": {
          "base_uri": "https://localhost:8080/"
        },
        "id": "czTrJF2zTVcU",
        "outputId": "54cbe932-c6e9-4dce-dacd-49cdf2988c82"
      },
      "source": [
        "Transactions['brand'].unique()"
      ],
      "execution_count": 184,
      "outputs": [
        {
          "output_type": "execute_result",
          "data": {
            "text/plain": [
              "array(['Solex', 'Trek Bicycles', 'OHM Cycles', 'Norco Bicycles',\n",
              "       'Giant Bicycles', 'WeareA2B', nan], dtype=object)"
            ]
          },
          "metadata": {
            "tags": []
          },
          "execution_count": 184
        }
      ]
    },
    {
      "cell_type": "code",
      "metadata": {
        "colab": {
          "base_uri": "https://localhost:8080/"
        },
        "id": "mV9xwMhcTnHI",
        "outputId": "0a2da524-50c9-4ff1-cf83-695df45686d4"
      },
      "source": [
        "Transactions['product_line'].unique()"
      ],
      "execution_count": 185,
      "outputs": [
        {
          "output_type": "execute_result",
          "data": {
            "text/plain": [
              "array(['Standard', 'Road', 'Mountain', 'Touring', nan], dtype=object)"
            ]
          },
          "metadata": {
            "tags": []
          },
          "execution_count": 185
        }
      ]
    },
    {
      "cell_type": "code",
      "metadata": {
        "colab": {
          "base_uri": "https://localhost:8080/"
        },
        "id": "cg119VfhTqh1",
        "outputId": "99b5f02c-6eba-4016-bd97-2fd62b489e7c"
      },
      "source": [
        "Transactions['product_class'].unique()"
      ],
      "execution_count": 186,
      "outputs": [
        {
          "output_type": "execute_result",
          "data": {
            "text/plain": [
              "array(['medium', 'low', 'high', nan], dtype=object)"
            ]
          },
          "metadata": {
            "tags": []
          },
          "execution_count": 186
        }
      ]
    },
    {
      "cell_type": "code",
      "metadata": {
        "colab": {
          "base_uri": "https://localhost:8080/"
        },
        "id": "eBvCXjIZTuwj",
        "outputId": "ad982308-270c-4288-a9cc-788bcd62ac6d"
      },
      "source": [
        "Transactions['product_size'].unique()"
      ],
      "execution_count": 187,
      "outputs": [
        {
          "output_type": "execute_result",
          "data": {
            "text/plain": [
              "array(['medium', 'large', 'small', nan], dtype=object)"
            ]
          },
          "metadata": {
            "tags": []
          },
          "execution_count": 187
        }
      ]
    },
    {
      "cell_type": "markdown",
      "metadata": {
        "id": "oiYLGLoHqRXT"
      },
      "source": [
        "**4. Check data currency**"
      ]
    },
    {
      "cell_type": "markdown",
      "metadata": {
        "id": "8RnXiZcmqRXT"
      },
      "source": [
        "- Customers information can be updated if there are any changes."
      ]
    },
    {
      "cell_type": "markdown",
      "metadata": {
        "id": "uaQuqrREqRXT"
      },
      "source": [
        "**5. Check data relevancy**"
      ]
    },
    {
      "cell_type": "markdown",
      "metadata": {
        "id": "MYbpwnXZqRXT"
      },
      "source": [
        "- All columns are relevant."
      ]
    },
    {
      "cell_type": "markdown",
      "metadata": {
        "id": "tV0YYiZnqRXT"
      },
      "source": [
        "**6. Validate data**"
      ]
    },
    {
      "cell_type": "code",
      "metadata": {
        "colab": {
          "base_uri": "https://localhost:8080/",
          "height": 294
        },
        "id": "SNcTDV4hqRXU",
        "outputId": "96abc822-02b0-4f7f-a454-b0eaec0b527f"
      },
      "source": [
        "# Summary statistics for columns with datatypes integer and float\n",
        "Transactions.describe(include=['float64'])"
      ],
      "execution_count": 188,
      "outputs": [
        {
          "output_type": "execute_result",
          "data": {
            "text/html": [
              "<div>\n",
              "<style scoped>\n",
              "    .dataframe tbody tr th:only-of-type {\n",
              "        vertical-align: middle;\n",
              "    }\n",
              "\n",
              "    .dataframe tbody tr th {\n",
              "        vertical-align: top;\n",
              "    }\n",
              "\n",
              "    .dataframe thead th {\n",
              "        text-align: right;\n",
              "    }\n",
              "</style>\n",
              "<table border=\"1\" class=\"dataframe\">\n",
              "  <thead>\n",
              "    <tr style=\"text-align: right;\">\n",
              "      <th></th>\n",
              "      <th>online_order</th>\n",
              "      <th>list_price</th>\n",
              "      <th>standard_cost</th>\n",
              "      <th>product_first_sold_date</th>\n",
              "    </tr>\n",
              "  </thead>\n",
              "  <tbody>\n",
              "    <tr>\n",
              "      <th>count</th>\n",
              "      <td>19640.000000</td>\n",
              "      <td>20000.000000</td>\n",
              "      <td>19803.000000</td>\n",
              "      <td>19803.000000</td>\n",
              "    </tr>\n",
              "    <tr>\n",
              "      <th>mean</th>\n",
              "      <td>0.500458</td>\n",
              "      <td>1107.829449</td>\n",
              "      <td>556.046951</td>\n",
              "      <td>38199.776549</td>\n",
              "    </tr>\n",
              "    <tr>\n",
              "      <th>std</th>\n",
              "      <td>0.500013</td>\n",
              "      <td>582.825242</td>\n",
              "      <td>405.955660</td>\n",
              "      <td>2875.201110</td>\n",
              "    </tr>\n",
              "    <tr>\n",
              "      <th>min</th>\n",
              "      <td>0.000000</td>\n",
              "      <td>12.010000</td>\n",
              "      <td>7.210000</td>\n",
              "      <td>33259.000000</td>\n",
              "    </tr>\n",
              "    <tr>\n",
              "      <th>25%</th>\n",
              "      <td>0.000000</td>\n",
              "      <td>575.270000</td>\n",
              "      <td>215.140000</td>\n",
              "      <td>35667.000000</td>\n",
              "    </tr>\n",
              "    <tr>\n",
              "      <th>50%</th>\n",
              "      <td>1.000000</td>\n",
              "      <td>1163.890000</td>\n",
              "      <td>507.580000</td>\n",
              "      <td>38216.000000</td>\n",
              "    </tr>\n",
              "    <tr>\n",
              "      <th>75%</th>\n",
              "      <td>1.000000</td>\n",
              "      <td>1635.300000</td>\n",
              "      <td>795.100000</td>\n",
              "      <td>40672.000000</td>\n",
              "    </tr>\n",
              "    <tr>\n",
              "      <th>max</th>\n",
              "      <td>1.000000</td>\n",
              "      <td>2091.470000</td>\n",
              "      <td>1759.850000</td>\n",
              "      <td>42710.000000</td>\n",
              "    </tr>\n",
              "  </tbody>\n",
              "</table>\n",
              "</div>"
            ],
            "text/plain": [
              "       online_order    list_price  standard_cost  product_first_sold_date\n",
              "count  19640.000000  20000.000000   19803.000000             19803.000000\n",
              "mean       0.500458   1107.829449     556.046951             38199.776549\n",
              "std        0.500013    582.825242     405.955660              2875.201110\n",
              "min        0.000000     12.010000       7.210000             33259.000000\n",
              "25%        0.000000    575.270000     215.140000             35667.000000\n",
              "50%        1.000000   1163.890000     507.580000             38216.000000\n",
              "75%        1.000000   1635.300000     795.100000             40672.000000\n",
              "max        1.000000   2091.470000    1759.850000             42710.000000"
            ]
          },
          "metadata": {
            "tags": []
          },
          "execution_count": 188
        }
      ]
    },
    {
      "cell_type": "markdown",
      "metadata": {
        "id": "96e6DlmLqRXU"
      },
      "source": [
        "- All numerical columns have values within acceptable min and max values."
      ]
    },
    {
      "cell_type": "markdown",
      "metadata": {
        "id": "dOLWURJ8qRXU"
      },
      "source": [
        "**7. Check for duplicates**"
      ]
    },
    {
      "cell_type": "code",
      "metadata": {
        "colab": {
          "base_uri": "https://localhost:8080/"
        },
        "id": "n5ZUeA-bqRXU",
        "outputId": "f7400814-6169-46ca-c21c-10c097fe3685"
      },
      "source": [
        "# Count number of duplicates for each column\n",
        "Transactions.duplicated().sum()"
      ],
      "execution_count": 189,
      "outputs": [
        {
          "output_type": "execute_result",
          "data": {
            "text/plain": [
              "0"
            ]
          },
          "metadata": {
            "tags": []
          },
          "execution_count": 189
        }
      ]
    },
    {
      "cell_type": "markdown",
      "metadata": {
        "id": "SzqovIwSqRXU"
      },
      "source": [
        "## Data Cleaning"
      ]
    },
    {
      "cell_type": "markdown",
      "metadata": {
        "id": "vzykIi8TVACt"
      },
      "source": [
        "**Change column product_first_sold_date dtype to date_time**"
      ]
    },
    {
      "cell_type": "code",
      "metadata": {
        "id": "Wi1gY4jdYf9U"
      },
      "source": [
        "# Convert number of days into date_time\n",
        "Transactions['product_first_sold_date'] = pd.to_datetime(Transactions['product_first_sold_date'], unit='D',\n",
        "                   origin=pd.Timestamp('1970-01-01'))"
      ],
      "execution_count": 190,
      "outputs": []
    },
    {
      "cell_type": "code",
      "metadata": {
        "colab": {
          "base_uri": "https://localhost:8080/",
          "height": 414
        },
        "id": "tMBWL3X1GWYy",
        "outputId": "697b44b8-7a0f-48c3-8a1f-ba991944e982"
      },
      "source": [
        "Transactions.loc[Transactions['product_first_sold_date'] >= datetime.now()]"
      ],
      "execution_count": 191,
      "outputs": [
        {
          "output_type": "execute_result",
          "data": {
            "text/html": [
              "<div>\n",
              "<style scoped>\n",
              "    .dataframe tbody tr th:only-of-type {\n",
              "        vertical-align: middle;\n",
              "    }\n",
              "\n",
              "    .dataframe tbody tr th {\n",
              "        vertical-align: top;\n",
              "    }\n",
              "\n",
              "    .dataframe thead th {\n",
              "        text-align: right;\n",
              "    }\n",
              "</style>\n",
              "<table border=\"1\" class=\"dataframe\">\n",
              "  <thead>\n",
              "    <tr style=\"text-align: right;\">\n",
              "      <th></th>\n",
              "      <th>transaction_id</th>\n",
              "      <th>product_id</th>\n",
              "      <th>customer_id</th>\n",
              "      <th>transaction_date</th>\n",
              "      <th>online_order</th>\n",
              "      <th>order_status</th>\n",
              "      <th>brand</th>\n",
              "      <th>product_line</th>\n",
              "      <th>product_class</th>\n",
              "      <th>product_size</th>\n",
              "      <th>list_price</th>\n",
              "      <th>standard_cost</th>\n",
              "      <th>product_first_sold_date</th>\n",
              "    </tr>\n",
              "  </thead>\n",
              "  <tbody>\n",
              "    <tr>\n",
              "      <th>0</th>\n",
              "      <td>1</td>\n",
              "      <td>2</td>\n",
              "      <td>2950</td>\n",
              "      <td>2017-02-25</td>\n",
              "      <td>0.0</td>\n",
              "      <td>Approved</td>\n",
              "      <td>Solex</td>\n",
              "      <td>Standard</td>\n",
              "      <td>medium</td>\n",
              "      <td>medium</td>\n",
              "      <td>71.49</td>\n",
              "      <td>53.62</td>\n",
              "      <td>2082-12-04</td>\n",
              "    </tr>\n",
              "    <tr>\n",
              "      <th>1</th>\n",
              "      <td>2</td>\n",
              "      <td>3</td>\n",
              "      <td>3120</td>\n",
              "      <td>2017-05-21</td>\n",
              "      <td>1.0</td>\n",
              "      <td>Approved</td>\n",
              "      <td>Trek Bicycles</td>\n",
              "      <td>Standard</td>\n",
              "      <td>medium</td>\n",
              "      <td>large</td>\n",
              "      <td>2091.47</td>\n",
              "      <td>388.92</td>\n",
              "      <td>2084-03-04</td>\n",
              "    </tr>\n",
              "    <tr>\n",
              "      <th>2</th>\n",
              "      <td>3</td>\n",
              "      <td>37</td>\n",
              "      <td>402</td>\n",
              "      <td>2017-10-16</td>\n",
              "      <td>0.0</td>\n",
              "      <td>Approved</td>\n",
              "      <td>OHM Cycles</td>\n",
              "      <td>Standard</td>\n",
              "      <td>low</td>\n",
              "      <td>medium</td>\n",
              "      <td>1793.43</td>\n",
              "      <td>248.82</td>\n",
              "      <td>2069-07-21</td>\n",
              "    </tr>\n",
              "    <tr>\n",
              "      <th>3</th>\n",
              "      <td>4</td>\n",
              "      <td>88</td>\n",
              "      <td>3135</td>\n",
              "      <td>2017-08-31</td>\n",
              "      <td>0.0</td>\n",
              "      <td>Approved</td>\n",
              "      <td>Norco Bicycles</td>\n",
              "      <td>Standard</td>\n",
              "      <td>medium</td>\n",
              "      <td>medium</td>\n",
              "      <td>1198.46</td>\n",
              "      <td>381.10</td>\n",
              "      <td>2068-12-17</td>\n",
              "    </tr>\n",
              "    <tr>\n",
              "      <th>4</th>\n",
              "      <td>5</td>\n",
              "      <td>78</td>\n",
              "      <td>787</td>\n",
              "      <td>2017-10-01</td>\n",
              "      <td>1.0</td>\n",
              "      <td>Approved</td>\n",
              "      <td>Giant Bicycles</td>\n",
              "      <td>Standard</td>\n",
              "      <td>medium</td>\n",
              "      <td>large</td>\n",
              "      <td>1765.30</td>\n",
              "      <td>709.48</td>\n",
              "      <td>2085-08-11</td>\n",
              "    </tr>\n",
              "    <tr>\n",
              "      <th>...</th>\n",
              "      <td>...</td>\n",
              "      <td>...</td>\n",
              "      <td>...</td>\n",
              "      <td>...</td>\n",
              "      <td>...</td>\n",
              "      <td>...</td>\n",
              "      <td>...</td>\n",
              "      <td>...</td>\n",
              "      <td>...</td>\n",
              "      <td>...</td>\n",
              "      <td>...</td>\n",
              "      <td>...</td>\n",
              "      <td>...</td>\n",
              "    </tr>\n",
              "    <tr>\n",
              "      <th>19995</th>\n",
              "      <td>19996</td>\n",
              "      <td>51</td>\n",
              "      <td>1018</td>\n",
              "      <td>2017-06-24</td>\n",
              "      <td>1.0</td>\n",
              "      <td>Approved</td>\n",
              "      <td>OHM Cycles</td>\n",
              "      <td>Standard</td>\n",
              "      <td>high</td>\n",
              "      <td>medium</td>\n",
              "      <td>2005.66</td>\n",
              "      <td>1203.40</td>\n",
              "      <td>2073-07-22</td>\n",
              "    </tr>\n",
              "    <tr>\n",
              "      <th>19996</th>\n",
              "      <td>19997</td>\n",
              "      <td>41</td>\n",
              "      <td>127</td>\n",
              "      <td>2017-11-09</td>\n",
              "      <td>1.0</td>\n",
              "      <td>Approved</td>\n",
              "      <td>Solex</td>\n",
              "      <td>Road</td>\n",
              "      <td>medium</td>\n",
              "      <td>medium</td>\n",
              "      <td>416.98</td>\n",
              "      <td>312.74</td>\n",
              "      <td>2067-05-12</td>\n",
              "    </tr>\n",
              "    <tr>\n",
              "      <th>19997</th>\n",
              "      <td>19998</td>\n",
              "      <td>87</td>\n",
              "      <td>2284</td>\n",
              "      <td>2017-04-14</td>\n",
              "      <td>1.0</td>\n",
              "      <td>Approved</td>\n",
              "      <td>OHM Cycles</td>\n",
              "      <td>Standard</td>\n",
              "      <td>medium</td>\n",
              "      <td>medium</td>\n",
              "      <td>1636.90</td>\n",
              "      <td>44.71</td>\n",
              "      <td>2080-08-21</td>\n",
              "    </tr>\n",
              "    <tr>\n",
              "      <th>19998</th>\n",
              "      <td>19999</td>\n",
              "      <td>6</td>\n",
              "      <td>2764</td>\n",
              "      <td>2017-07-03</td>\n",
              "      <td>0.0</td>\n",
              "      <td>Approved</td>\n",
              "      <td>OHM Cycles</td>\n",
              "      <td>Standard</td>\n",
              "      <td>high</td>\n",
              "      <td>medium</td>\n",
              "      <td>227.88</td>\n",
              "      <td>136.73</td>\n",
              "      <td>2074-08-19</td>\n",
              "    </tr>\n",
              "    <tr>\n",
              "      <th>19999</th>\n",
              "      <td>20000</td>\n",
              "      <td>11</td>\n",
              "      <td>1144</td>\n",
              "      <td>2017-09-22</td>\n",
              "      <td>1.0</td>\n",
              "      <td>Approved</td>\n",
              "      <td>Trek Bicycles</td>\n",
              "      <td>Standard</td>\n",
              "      <td>medium</td>\n",
              "      <td>small</td>\n",
              "      <td>1775.81</td>\n",
              "      <td>1580.47</td>\n",
              "      <td>2069-06-24</td>\n",
              "    </tr>\n",
              "  </tbody>\n",
              "</table>\n",
              "<p>19803 rows × 13 columns</p>\n",
              "</div>"
            ],
            "text/plain": [
              "       transaction_id  product_id  ...  standard_cost product_first_sold_date\n",
              "0                   1           2  ...          53.62              2082-12-04\n",
              "1                   2           3  ...         388.92              2084-03-04\n",
              "2                   3          37  ...         248.82              2069-07-21\n",
              "3                   4          88  ...         381.10              2068-12-17\n",
              "4                   5          78  ...         709.48              2085-08-11\n",
              "...               ...         ...  ...            ...                     ...\n",
              "19995           19996          51  ...        1203.40              2073-07-22\n",
              "19996           19997          41  ...         312.74              2067-05-12\n",
              "19997           19998          87  ...          44.71              2080-08-21\n",
              "19998           19999           6  ...         136.73              2074-08-19\n",
              "19999           20000          11  ...        1580.47              2069-06-24\n",
              "\n",
              "[19803 rows x 13 columns]"
            ]
          },
          "metadata": {
            "tags": []
          },
          "execution_count": 191
        }
      ]
    },
    {
      "cell_type": "markdown",
      "metadata": {
        "id": "Z109alTee2Z8"
      },
      "source": [
        "- Notice, after converting product_first_sold_date to datetime, it appears that most of the days in the list are in the future of the current time of the analysis. This is contradicting and this column can be dropped."
      ]
    },
    {
      "cell_type": "markdown",
      "metadata": {
        "id": "mqslp-GaqRXU"
      },
      "source": [
        "**Drop rows with nan values**"
      ]
    },
    {
      "cell_type": "code",
      "metadata": {
        "id": "jycThNU2Zn9P"
      },
      "source": [
        "# Drop nan rows\n",
        "Transactions.dropna(how='any', inplace=True)"
      ],
      "execution_count": 192,
      "outputs": []
    },
    {
      "cell_type": "code",
      "metadata": {
        "colab": {
          "base_uri": "https://localhost:8080/"
        },
        "id": "wuwktneZqRXU",
        "outputId": "0bb570c8-9b18-4863-b720-bcc8faf90c29"
      },
      "source": [
        "# Check\n",
        "Transactions.isnull().sum()"
      ],
      "execution_count": 193,
      "outputs": [
        {
          "output_type": "execute_result",
          "data": {
            "text/plain": [
              "transaction_id             0\n",
              "product_id                 0\n",
              "customer_id                0\n",
              "transaction_date           0\n",
              "online_order               0\n",
              "order_status               0\n",
              "brand                      0\n",
              "product_line               0\n",
              "product_class              0\n",
              "product_size               0\n",
              "list_price                 0\n",
              "standard_cost              0\n",
              "product_first_sold_date    0\n",
              "dtype: int64"
            ]
          },
          "metadata": {
            "tags": []
          },
          "execution_count": 193
        }
      ]
    },
    {
      "cell_type": "code",
      "metadata": {
        "id": "CMcDQTJdfURt"
      },
      "source": [
        "# Drop product_first_sold_date column\n",
        "Transactions.drop('product_first_sold_date', axis='columns', inplace=True)"
      ],
      "execution_count": 194,
      "outputs": []
    },
    {
      "cell_type": "markdown",
      "metadata": {
        "id": "N8sOPsspqRXV"
      },
      "source": [
        "**Replace misstyped data as suggested above**"
      ]
    },
    {
      "cell_type": "markdown",
      "metadata": {
        "id": "wl4fips0qRXV"
      },
      "source": [
        "- No columns have misstyped data."
      ]
    },
    {
      "cell_type": "markdown",
      "metadata": {
        "id": "gMNUmqTNqRXV"
      },
      "source": [
        "**Drop irrelavant columns**"
      ]
    },
    {
      "cell_type": "markdown",
      "metadata": {
        "id": "4_NvqBV1Z5rA"
      },
      "source": [
        "- No irrelavant columns."
      ]
    },
    {
      "cell_type": "code",
      "metadata": {
        "id": "c1gU83DvqRXV"
      },
      "source": [
        "# Save to csv\n",
        "Transactions.to_csv('Transactions.csv')"
      ],
      "execution_count": 195,
      "outputs": []
    },
    {
      "cell_type": "markdown",
      "metadata": {
        "id": "S2Ou5GhF_m_z"
      },
      "source": [
        "## Preliminary Analysis"
      ]
    },
    {
      "cell_type": "code",
      "metadata": {
        "colab": {
          "base_uri": "https://localhost:8080/",
          "height": 202
        },
        "id": "qG23H2el_v35",
        "outputId": "2c2c8441-733c-4a6e-d174-bd82177c0612"
      },
      "source": [
        "Transactions.head()"
      ],
      "execution_count": 196,
      "outputs": [
        {
          "output_type": "execute_result",
          "data": {
            "text/html": [
              "<div>\n",
              "<style scoped>\n",
              "    .dataframe tbody tr th:only-of-type {\n",
              "        vertical-align: middle;\n",
              "    }\n",
              "\n",
              "    .dataframe tbody tr th {\n",
              "        vertical-align: top;\n",
              "    }\n",
              "\n",
              "    .dataframe thead th {\n",
              "        text-align: right;\n",
              "    }\n",
              "</style>\n",
              "<table border=\"1\" class=\"dataframe\">\n",
              "  <thead>\n",
              "    <tr style=\"text-align: right;\">\n",
              "      <th></th>\n",
              "      <th>transaction_id</th>\n",
              "      <th>product_id</th>\n",
              "      <th>customer_id</th>\n",
              "      <th>transaction_date</th>\n",
              "      <th>online_order</th>\n",
              "      <th>order_status</th>\n",
              "      <th>brand</th>\n",
              "      <th>product_line</th>\n",
              "      <th>product_class</th>\n",
              "      <th>product_size</th>\n",
              "      <th>list_price</th>\n",
              "      <th>standard_cost</th>\n",
              "    </tr>\n",
              "  </thead>\n",
              "  <tbody>\n",
              "    <tr>\n",
              "      <th>0</th>\n",
              "      <td>1</td>\n",
              "      <td>2</td>\n",
              "      <td>2950</td>\n",
              "      <td>2017-02-25</td>\n",
              "      <td>0.0</td>\n",
              "      <td>Approved</td>\n",
              "      <td>Solex</td>\n",
              "      <td>Standard</td>\n",
              "      <td>medium</td>\n",
              "      <td>medium</td>\n",
              "      <td>71.49</td>\n",
              "      <td>53.62</td>\n",
              "    </tr>\n",
              "    <tr>\n",
              "      <th>1</th>\n",
              "      <td>2</td>\n",
              "      <td>3</td>\n",
              "      <td>3120</td>\n",
              "      <td>2017-05-21</td>\n",
              "      <td>1.0</td>\n",
              "      <td>Approved</td>\n",
              "      <td>Trek Bicycles</td>\n",
              "      <td>Standard</td>\n",
              "      <td>medium</td>\n",
              "      <td>large</td>\n",
              "      <td>2091.47</td>\n",
              "      <td>388.92</td>\n",
              "    </tr>\n",
              "    <tr>\n",
              "      <th>2</th>\n",
              "      <td>3</td>\n",
              "      <td>37</td>\n",
              "      <td>402</td>\n",
              "      <td>2017-10-16</td>\n",
              "      <td>0.0</td>\n",
              "      <td>Approved</td>\n",
              "      <td>OHM Cycles</td>\n",
              "      <td>Standard</td>\n",
              "      <td>low</td>\n",
              "      <td>medium</td>\n",
              "      <td>1793.43</td>\n",
              "      <td>248.82</td>\n",
              "    </tr>\n",
              "    <tr>\n",
              "      <th>3</th>\n",
              "      <td>4</td>\n",
              "      <td>88</td>\n",
              "      <td>3135</td>\n",
              "      <td>2017-08-31</td>\n",
              "      <td>0.0</td>\n",
              "      <td>Approved</td>\n",
              "      <td>Norco Bicycles</td>\n",
              "      <td>Standard</td>\n",
              "      <td>medium</td>\n",
              "      <td>medium</td>\n",
              "      <td>1198.46</td>\n",
              "      <td>381.10</td>\n",
              "    </tr>\n",
              "    <tr>\n",
              "      <th>4</th>\n",
              "      <td>5</td>\n",
              "      <td>78</td>\n",
              "      <td>787</td>\n",
              "      <td>2017-10-01</td>\n",
              "      <td>1.0</td>\n",
              "      <td>Approved</td>\n",
              "      <td>Giant Bicycles</td>\n",
              "      <td>Standard</td>\n",
              "      <td>medium</td>\n",
              "      <td>large</td>\n",
              "      <td>1765.30</td>\n",
              "      <td>709.48</td>\n",
              "    </tr>\n",
              "  </tbody>\n",
              "</table>\n",
              "</div>"
            ],
            "text/plain": [
              "   transaction_id  product_id  ...  list_price standard_cost\n",
              "0               1           2  ...       71.49         53.62\n",
              "1               2           3  ...     2091.47        388.92\n",
              "2               3          37  ...     1793.43        248.82\n",
              "3               4          88  ...     1198.46        381.10\n",
              "4               5          78  ...     1765.30        709.48\n",
              "\n",
              "[5 rows x 12 columns]"
            ]
          },
          "metadata": {
            "tags": []
          },
          "execution_count": 196
        }
      ]
    },
    {
      "cell_type": "code",
      "metadata": {
        "colab": {
          "base_uri": "https://localhost:8080/",
          "height": 347
        },
        "id": "EPYFf8zr_1E9",
        "outputId": "eaaeedd0-6a15-4460-d80c-178bdfcdb02c"
      },
      "source": [
        "# Correlation matrix\n",
        "corr = Transactions.corr()\n",
        "sns.heatmap(corr, cmap=\"Blues\", annot=True)"
      ],
      "execution_count": 197,
      "outputs": [
        {
          "output_type": "execute_result",
          "data": {
            "text/plain": [
              "<matplotlib.axes._subplots.AxesSubplot at 0x7f6c0db4ec10>"
            ]
          },
          "metadata": {
            "tags": []
          },
          "execution_count": 197
        },
        {
          "output_type": "display_data",
          "data": {
            "image/png": "[encoded data removed]",
            "text/plain": [
              "<Figure size 432x288 with 2 Axes>"
            ]
          },
          "metadata": {
            "tags": [],
            "needs_background": "light"
          }
        }
      ]
    },
    {
      "cell_type": "markdown",
      "metadata": {
        "id": "7wP_oFcEAMGc"
      },
      "source": [
        "- There are no major correlations except a positive correlation between list_price and standard_cost."
      ]
    },
    {
      "cell_type": "code",
      "metadata": {
        "colab": {
          "base_uri": "https://localhost:8080/",
          "height": 156
        },
        "id": "Km9foPtKBdXP",
        "outputId": "167227ef-483b-47f3-9cc5-4dfd61c8e610"
      },
      "source": [
        "# Check for outliers\n",
        "i=1\n",
        "columns = ['list_price', 'standard_cost']\n",
        "plt.figure(figsize=(10,8))\n",
        "for j in columns:\n",
        "    plt.subplot(4,3,i)\n",
        "    sns.boxplot(data=Transactions,x=Transactions[j])\n",
        "    i+=1"
      ],
      "execution_count": 198,
      "outputs": [
        {
          "output_type": "display_data",
          "data": {
            "image/png": "[encoded data removed]",
            "text/plain": [
              "<Figure size 720x576 with 2 Axes>"
            ]
          },
          "metadata": {
            "tags": [],
            "needs_background": "light"
          }
        }
      ]
    },
    {
      "cell_type": "code",
      "metadata": {
        "colab": {
          "base_uri": "https://localhost:8080/",
          "height": 335
        },
        "id": "bU70IyNOBvmf",
        "outputId": "318770e3-f0bc-46f6-f309-258fae3f3cb4"
      },
      "source": [
        "data = Transactions[['list_price', 'standard_cost']]\n",
        "data.hist(figsize=(8,5))\n",
        "plt.show()"
      ],
      "execution_count": 199,
      "outputs": [
        {
          "output_type": "display_data",
          "data": {
            "image/png": "[encoded data removed]",
            "text/plain": [
              "<Figure size 576x360 with 2 Axes>"
            ]
          },
          "metadata": {
            "tags": [],
            "needs_background": "light"
          }
        }
      ]
    },
    {
      "cell_type": "markdown",
      "metadata": {
        "id": "hFVdw8ZHB2EA"
      },
      "source": [
        "- No variables follow a normal distribution."
      ]
    },
    {
      "cell_type": "code",
      "metadata": {
        "colab": {
          "base_uri": "https://localhost:8080/",
          "height": 232
        },
        "id": "kA2wf-xV_1CC",
        "outputId": "5f518d8b-349c-49e0-fee1-7caac90a2ca0"
      },
      "source": [
        "# Calculate percentage of transactions by brand\n",
        "data_brand = pd.DataFrame((Transactions.groupby(['brand'])['transaction_id'].count())/len(Transactions)*100)\n",
        "data_brand = data_brand.sort_values(by=['transaction_id'], ascending=False)\n",
        "data_brand = data_brand.reset_index()\n",
        "data_brand"
      ],
      "execution_count": 200,
      "outputs": [
        {
          "output_type": "execute_result",
          "data": {
            "text/html": [
              "<div>\n",
              "<style scoped>\n",
              "    .dataframe tbody tr th:only-of-type {\n",
              "        vertical-align: middle;\n",
              "    }\n",
              "\n",
              "    .dataframe tbody tr th {\n",
              "        vertical-align: top;\n",
              "    }\n",
              "\n",
              "    .dataframe thead th {\n",
              "        text-align: right;\n",
              "    }\n",
              "</style>\n",
              "<table border=\"1\" class=\"dataframe\">\n",
              "  <thead>\n",
              "    <tr style=\"text-align: right;\">\n",
              "      <th></th>\n",
              "      <th>brand</th>\n",
              "      <th>transaction_id</th>\n",
              "    </tr>\n",
              "  </thead>\n",
              "  <tbody>\n",
              "    <tr>\n",
              "      <th>0</th>\n",
              "      <td>Solex</td>\n",
              "      <td>21.439959</td>\n",
              "    </tr>\n",
              "    <tr>\n",
              "      <th>1</th>\n",
              "      <td>WeareA2B</td>\n",
              "      <td>16.688095</td>\n",
              "    </tr>\n",
              "    <tr>\n",
              "      <th>2</th>\n",
              "      <td>Giant Bicycles</td>\n",
              "      <td>16.682952</td>\n",
              "    </tr>\n",
              "    <tr>\n",
              "      <th>3</th>\n",
              "      <td>OHM Cycles</td>\n",
              "      <td>15.392132</td>\n",
              "    </tr>\n",
              "    <tr>\n",
              "      <th>4</th>\n",
              "      <td>Trek Bicycles</td>\n",
              "      <td>15.073284</td>\n",
              "    </tr>\n",
              "    <tr>\n",
              "      <th>5</th>\n",
              "      <td>Norco Bicycles</td>\n",
              "      <td>14.723579</td>\n",
              "    </tr>\n",
              "  </tbody>\n",
              "</table>\n",
              "</div>"
            ],
            "text/plain": [
              "            brand  transaction_id\n",
              "0           Solex       21.439959\n",
              "1        WeareA2B       16.688095\n",
              "2  Giant Bicycles       16.682952\n",
              "3      OHM Cycles       15.392132\n",
              "4   Trek Bicycles       15.073284\n",
              "5  Norco Bicycles       14.723579"
            ]
          },
          "metadata": {
            "tags": []
          },
          "execution_count": 200
        }
      ]
    },
    {
      "cell_type": "code",
      "metadata": {
        "colab": {
          "base_uri": "https://localhost:8080/",
          "height": 367
        },
        "id": "mWmKfcSn_00D",
        "outputId": "565255c9-06dd-4a44-c597-6d7456182af9"
      },
      "source": [
        "# Create bar plot\n",
        "plt.figure(figsize=(8,5))\n",
        "visual = sns.barplot(x=\"brand\", y=\"transaction_id\", data=data_brand )\n",
        "\n",
        "for index, row in data_brand.iterrows():\n",
        "    visual.text(row.name,row.transaction_id, round(row.transaction_id,2), color='black', ha=\"center\")\n",
        "plt.title('Percentage of transactions by brand')\n",
        "plt.ylabel('Percentage (%)')"
      ],
      "execution_count": 201,
      "outputs": [
        {
          "output_type": "execute_result",
          "data": {
            "text/plain": [
              "Text(0, 0.5, 'Percentage (%)')"
            ]
          },
          "metadata": {
            "tags": []
          },
          "execution_count": 201
        },
        {
          "output_type": "display_data",
          "data": {
            "image/png": "[encoded data removed]",
            "text/plain": [
              "<Figure size 576x360 with 1 Axes>"
            ]
          },
          "metadata": {
            "tags": [],
            "needs_background": "light"
          }
        }
      ]
    },
    {
      "cell_type": "markdown",
      "metadata": {
        "id": "IoTT8716CpXn"
      },
      "source": [
        "- Most of the brands are equally popular."
      ]
    },
    {
      "cell_type": "code",
      "metadata": {
        "colab": {
          "base_uri": "https://localhost:8080/",
          "height": 171
        },
        "id": "d8OYHpIN_0xl",
        "outputId": "bf33c939-25a8-41e6-b314-dd06ae6f3651"
      },
      "source": [
        "# Calculate percentage of transactions by product_line\n",
        "data_line = pd.DataFrame((Transactions.groupby(['product_line'])['transaction_id'].count())/len(Transactions)*100)\n",
        "data_line = data_line.sort_values(by=['transaction_id'], ascending=False)\n",
        "data_line = data_line.reset_index()\n",
        "data_line"
      ],
      "execution_count": 202,
      "outputs": [
        {
          "output_type": "execute_result",
          "data": {
            "text/html": [
              "<div>\n",
              "<style scoped>\n",
              "    .dataframe tbody tr th:only-of-type {\n",
              "        vertical-align: middle;\n",
              "    }\n",
              "\n",
              "    .dataframe tbody tr th {\n",
              "        vertical-align: top;\n",
              "    }\n",
              "\n",
              "    .dataframe thead th {\n",
              "        text-align: right;\n",
              "    }\n",
              "</style>\n",
              "<table border=\"1\" class=\"dataframe\">\n",
              "  <thead>\n",
              "    <tr style=\"text-align: right;\">\n",
              "      <th></th>\n",
              "      <th>product_line</th>\n",
              "      <th>transaction_id</th>\n",
              "    </tr>\n",
              "  </thead>\n",
              "  <tbody>\n",
              "    <tr>\n",
              "      <th>0</th>\n",
              "      <td>Standard</td>\n",
              "      <td>71.586526</td>\n",
              "    </tr>\n",
              "    <tr>\n",
              "      <th>1</th>\n",
              "      <td>Road</td>\n",
              "      <td>20.025714</td>\n",
              "    </tr>\n",
              "    <tr>\n",
              "      <th>2</th>\n",
              "      <td>Touring</td>\n",
              "      <td>6.238107</td>\n",
              "    </tr>\n",
              "    <tr>\n",
              "      <th>3</th>\n",
              "      <td>Mountain</td>\n",
              "      <td>2.149653</td>\n",
              "    </tr>\n",
              "  </tbody>\n",
              "</table>\n",
              "</div>"
            ],
            "text/plain": [
              "  product_line  transaction_id\n",
              "0     Standard       71.586526\n",
              "1         Road       20.025714\n",
              "2      Touring        6.238107\n",
              "3     Mountain        2.149653"
            ]
          },
          "metadata": {
            "tags": []
          },
          "execution_count": 202
        }
      ]
    },
    {
      "cell_type": "code",
      "metadata": {
        "colab": {
          "base_uri": "https://localhost:8080/",
          "height": 368
        },
        "id": "Yxb_43S0CXWD",
        "outputId": "52c51d6b-5516-49a3-a767-107b5924aa52"
      },
      "source": [
        "# Create bar plot\n",
        "plt.figure(figsize=(8,5))\n",
        "visual = sns.barplot(x=\"product_line\", y=\"transaction_id\", data=data_line )\n",
        "\n",
        "for index, row in data_line.iterrows():\n",
        "    visual.text(row.name,row.transaction_id, round(row.transaction_id,2), color='black', ha=\"center\")\n",
        "plt.title('Percentage of transactions by product_line')\n",
        "plt.ylabel('Percentage (%)')"
      ],
      "execution_count": 203,
      "outputs": [
        {
          "output_type": "execute_result",
          "data": {
            "text/plain": [
              "Text(0, 0.5, 'Percentage (%)')"
            ]
          },
          "metadata": {
            "tags": []
          },
          "execution_count": 203
        },
        {
          "output_type": "display_data",
          "data": {
            "image/png": "[encoded data removed]",
            "text/plain": [
              "<Figure size 576x360 with 1 Axes>"
            ]
          },
          "metadata": {
            "tags": [],
            "needs_background": "light"
          }
        }
      ]
    },
    {
      "cell_type": "markdown",
      "metadata": {
        "id": "3gudO4jrCu-Q"
      },
      "source": [
        "- Product line 'standard' is purchased most of the time, followed by 'road', ' touring', and 'mountain' products."
      ]
    },
    {
      "cell_type": "code",
      "metadata": {
        "colab": {
          "base_uri": "https://localhost:8080/",
          "height": 141
        },
        "id": "P-EqKetpC-hh",
        "outputId": "04493374-8436-42c9-bfe1-ba71882723ac"
      },
      "source": [
        "# Calculate percentage of transactions by product_class\n",
        "data_class = pd.DataFrame((Transactions.groupby(['product_class'])['transaction_id'].count())/len(Transactions)*100)\n",
        "data_class = data_class.sort_values(by=['transaction_id'], ascending=False)\n",
        "data_class = data_class.reset_index()\n",
        "data_class"
      ],
      "execution_count": 204,
      "outputs": [
        {
          "output_type": "execute_result",
          "data": {
            "text/html": [
              "<div>\n",
              "<style scoped>\n",
              "    .dataframe tbody tr th:only-of-type {\n",
              "        vertical-align: middle;\n",
              "    }\n",
              "\n",
              "    .dataframe tbody tr th {\n",
              "        vertical-align: top;\n",
              "    }\n",
              "\n",
              "    .dataframe thead th {\n",
              "        text-align: right;\n",
              "    }\n",
              "</style>\n",
              "<table border=\"1\" class=\"dataframe\">\n",
              "  <thead>\n",
              "    <tr style=\"text-align: right;\">\n",
              "      <th></th>\n",
              "      <th>product_class</th>\n",
              "      <th>transaction_id</th>\n",
              "    </tr>\n",
              "  </thead>\n",
              "  <tbody>\n",
              "    <tr>\n",
              "      <th>0</th>\n",
              "      <td>medium</td>\n",
              "      <td>69.874004</td>\n",
              "    </tr>\n",
              "    <tr>\n",
              "      <th>1</th>\n",
              "      <td>high</td>\n",
              "      <td>15.181281</td>\n",
              "    </tr>\n",
              "    <tr>\n",
              "      <th>2</th>\n",
              "      <td>low</td>\n",
              "      <td>14.944716</td>\n",
              "    </tr>\n",
              "  </tbody>\n",
              "</table>\n",
              "</div>"
            ],
            "text/plain": [
              "  product_class  transaction_id\n",
              "0        medium       69.874004\n",
              "1          high       15.181281\n",
              "2           low       14.944716"
            ]
          },
          "metadata": {
            "tags": []
          },
          "execution_count": 204
        }
      ]
    },
    {
      "cell_type": "code",
      "metadata": {
        "colab": {
          "base_uri": "https://localhost:8080/",
          "height": 368
        },
        "id": "pGc5W5TyDEV1",
        "outputId": "5f1695ff-d5d8-46ec-91cc-27ed2560f3c3"
      },
      "source": [
        "# Create bar plot\n",
        "plt.figure(figsize=(8,5))\n",
        "visual = sns.barplot(x=\"product_class\", y=\"transaction_id\", data=data_class )\n",
        "\n",
        "for index, row in data_class.iterrows():\n",
        "    visual.text(row.name,row.transaction_id, round(row.transaction_id,2), color='black', ha=\"center\")\n",
        "plt.title('Percentage of transactions by product_class')\n",
        "plt.ylabel('Percentage (%)')"
      ],
      "execution_count": 205,
      "outputs": [
        {
          "output_type": "execute_result",
          "data": {
            "text/plain": [
              "Text(0, 0.5, 'Percentage (%)')"
            ]
          },
          "metadata": {
            "tags": []
          },
          "execution_count": 205
        },
        {
          "output_type": "display_data",
          "data": {
            "image/png": "[encoded data removed]",
            "text/plain": [
              "<Figure size 576x360 with 1 Axes>"
            ]
          },
          "metadata": {
            "tags": [],
            "needs_background": "light"
          }
        }
      ]
    },
    {
      "cell_type": "markdown",
      "metadata": {
        "id": "AQGV4lp6DNI8"
      },
      "source": [
        "- Products with medium class is the most purchased, followed by high class and then low class."
      ]
    },
    {
      "cell_type": "code",
      "metadata": {
        "colab": {
          "base_uri": "https://localhost:8080/",
          "height": 141
        },
        "id": "_YC4G9_3DebY",
        "outputId": "d9218730-3c57-48d2-c83a-e18059ecafa3"
      },
      "source": [
        "# Calculate percentage of transactions by product_size\n",
        "data_size = pd.DataFrame((Transactions.groupby(['product_size'])['transaction_id'].count())/len(Transactions)*100)\n",
        "data_size = data_size.sort_values(by=['transaction_id'], ascending=False)\n",
        "data_size = data_size.reset_index()\n",
        "data_size"
      ],
      "execution_count": 206,
      "outputs": [
        {
          "output_type": "execute_result",
          "data": {
            "text/html": [
              "<div>\n",
              "<style scoped>\n",
              "    .dataframe tbody tr th:only-of-type {\n",
              "        vertical-align: middle;\n",
              "    }\n",
              "\n",
              "    .dataframe tbody tr th {\n",
              "        vertical-align: top;\n",
              "    }\n",
              "\n",
              "    .dataframe thead th {\n",
              "        text-align: right;\n",
              "    }\n",
              "</style>\n",
              "<table border=\"1\" class=\"dataframe\">\n",
              "  <thead>\n",
              "    <tr style=\"text-align: right;\">\n",
              "      <th></th>\n",
              "      <th>product_size</th>\n",
              "      <th>transaction_id</th>\n",
              "    </tr>\n",
              "  </thead>\n",
              "  <tbody>\n",
              "    <tr>\n",
              "      <th>0</th>\n",
              "      <td>medium</td>\n",
              "      <td>65.656981</td>\n",
              "    </tr>\n",
              "    <tr>\n",
              "      <th>1</th>\n",
              "      <td>large</td>\n",
              "      <td>20.056570</td>\n",
              "    </tr>\n",
              "    <tr>\n",
              "      <th>2</th>\n",
              "      <td>small</td>\n",
              "      <td>14.286449</td>\n",
              "    </tr>\n",
              "  </tbody>\n",
              "</table>\n",
              "</div>"
            ],
            "text/plain": [
              "  product_size  transaction_id\n",
              "0       medium       65.656981\n",
              "1        large       20.056570\n",
              "2        small       14.286449"
            ]
          },
          "metadata": {
            "tags": []
          },
          "execution_count": 206
        }
      ]
    },
    {
      "cell_type": "code",
      "metadata": {
        "colab": {
          "base_uri": "https://localhost:8080/",
          "height": 368
        },
        "id": "R2gE5g2YDmdH",
        "outputId": "dd22184b-3fb4-4836-e76f-e0c819e94dcf"
      },
      "source": [
        "# Create bar plot\n",
        "plt.figure(figsize=(8,5))\n",
        "visual = sns.barplot(x=\"product_size\", y=\"transaction_id\", data=data_size )\n",
        "\n",
        "for index, row in data_size.iterrows():\n",
        "    visual.text(row.name,row.transaction_id, round(row.transaction_id,2), color='black', ha=\"center\")\n",
        "plt.title('Percentage of transactions by product_size')\n",
        "plt.ylabel('Percentage (%)')"
      ],
      "execution_count": 207,
      "outputs": [
        {
          "output_type": "execute_result",
          "data": {
            "text/plain": [
              "Text(0, 0.5, 'Percentage (%)')"
            ]
          },
          "metadata": {
            "tags": []
          },
          "execution_count": 207
        },
        {
          "output_type": "display_data",
          "data": {
            "image/png": "[encoded data removed]",
            "text/plain": [
              "<Figure size 576x360 with 1 Axes>"
            ]
          },
          "metadata": {
            "tags": [],
            "needs_background": "light"
          }
        }
      ]
    },
    {
      "cell_type": "markdown",
      "metadata": {
        "id": "n6HCLfwuDtrU"
      },
      "source": [
        "- Products with medium size is the most purchased, followed by large size and then small size."
      ]
    },
    {
      "cell_type": "markdown",
      "metadata": {
        "id": "4Kh4LetXaRXf"
      },
      "source": [
        "**END OF DATA EXPLORATION AND CLEANING**"
      ]
    },
    {
      "cell_type": "markdown",
      "metadata": {
        "id": "sdoK0jh5aKLN"
      },
      "source": [
        "**NEXT STEP: BUILD POWER BI DASHBOARD**"
      ]
    }
  ]
}