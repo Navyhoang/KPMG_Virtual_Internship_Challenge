{
  "nbformat": 4,
  "nbformat_minor": 0,
  "metadata": {
    "colab": {
      "name": "KPMG_module_1.ipynb",
      "provenance": [],
      "collapsed_sections": [
        "N_7Zy--WSebl",
        "2ZrO1CJmfJ-z",
        "5UK1fXXffJ_A",
        "2sxp9cGRqRXP"
      ],
      "toc_visible": true
    },
    "kernelspec": {
      "name": "python379jvsc74a57bd0b9265de25e7f12c4e5ae41868c22c06f0085fd1fe8bdf150e795ee47ff282b68",
      "display_name": "Python 3.7.9 64-bit ('base': conda)"
    },
    "language_info": {
      "name": "python",
      "version": "3.7.9"
    }
  },
  "cells": [
    {
      "cell_type": "markdown",
      "metadata": {
        "id": "OYxVcV8JK02N"
      },
      "source": [
        "## RFM Modelling"
      ]
    },
    {
      "cell_type": "markdown",
      "metadata": {
        "id": "dUXYGJDiHKxm"
      },
      "source": [
        "## 1. Import standard Libraries and packages"
      ]
    },
    {
      "cell_type": "code",
      "metadata": {
        "id": "H1WwPArXHEuY"
      },
      "source": [
        "import pandas as pd\n",
        "import numpy as np\n",
        "import datetime as dt\n",
        "import seaborn as sns\n",
        "import matplotlib.pyplot as plt\n",
        "from datetime import datetime, timedelta\n",
        "from datetime import date"
      ],
      "execution_count": 1,
      "outputs": []
    },
    {
      "cell_type": "markdown",
      "metadata": {
        "id": "sI3w7NEXRNEm"
      },
      "source": [
        "# 2. Data Loading"
      ]
    },
    {
      "cell_type": "code",
      "metadata": {
        "id": "ewyeZ-ZKHAjL"
      },
      "source": [
        "# Load excel file, which includes multiple worksheets\n",
        "xls = pd.ExcelFile('../Resources/KPMG_VI_New_raw_data_update_final.xlsx')"
      ],
      "execution_count": 2,
      "outputs": []
    },
    {
      "cell_type": "code",
      "metadata": {
        "id": "2MCBy0kYRkCH"
      },
      "source": [
        "# Assign each worksheet to a variable\n",
        "CustomerDemographic = pd.read_excel(xls, 'CustomerDemographic', skiprows=[0])\n",
        "CustomerAddress = pd.read_excel(xls, 'CustomerAddress', skiprows=[0])\n",
        "Transactions = pd.read_excel(xls, 'Transactions', skiprows=[0])\n",
        "NewCustomerList = pd.read_excel(xls, 'NewCustomerList', skiprows=[0])"
      ],
      "execution_count": 3,
      "outputs": []
    },
    {
      "source": [
        "## Transaction Table"
      ],
      "cell_type": "markdown",
      "metadata": {}
    },
    {
      "cell_type": "code",
      "metadata": {
        "colab": {
          "base_uri": "https://localhost:8080/",
          "height": 268
        },
        "id": "YZA8miWAqRXP",
        "outputId": "deb8e3ad-25d2-4dd8-f812-9656e70211b5"
      },
      "source": [
        "Transactions.head()"
      ],
      "execution_count": 4,
      "outputs": [
        {
          "output_type": "execute_result",
          "data": {
            "text/plain": [
              "   transaction_id  product_id  customer_id transaction_date  online_order  \\\n",
              "0               1           2         2950       2017-02-25           0.0   \n",
              "1               2           3         3120       2017-05-21           1.0   \n",
              "2               3          37          402       2017-10-16           0.0   \n",
              "3               4          88         3135       2017-08-31           0.0   \n",
              "4               5          78          787       2017-10-01           1.0   \n",
              "\n",
              "  order_status           brand product_line product_class product_size  \\\n",
              "0     Approved           Solex     Standard        medium       medium   \n",
              "1     Approved   Trek Bicycles     Standard        medium        large   \n",
              "2     Approved      OHM Cycles     Standard           low       medium   \n",
              "3     Approved  Norco Bicycles     Standard        medium       medium   \n",
              "4     Approved  Giant Bicycles     Standard        medium        large   \n",
              "\n",
              "   list_price  standard_cost  product_first_sold_date  \n",
              "0       71.49          53.62                  41245.0  \n",
              "1     2091.47         388.92                  41701.0  \n",
              "2     1793.43         248.82                  36361.0  \n",
              "3     1198.46         381.10                  36145.0  \n",
              "4     1765.30         709.48                  42226.0  "
            ],
            "text/html": "<div>\n<style scoped>\n    .dataframe tbody tr th:only-of-type {\n        vertical-align: middle;\n    }\n\n    .dataframe tbody tr th {\n        vertical-align: top;\n    }\n\n    .dataframe thead th {\n        text-align: right;\n    }\n</style>\n<table border=\"1\" class=\"dataframe\">\n  <thead>\n    <tr style=\"text-align: right;\">\n      <th></th>\n      <th>transaction_id</th>\n      <th>product_id</th>\n      <th>customer_id</th>\n      <th>transaction_date</th>\n      <th>online_order</th>\n      <th>order_status</th>\n      <th>brand</th>\n      <th>product_line</th>\n      <th>product_class</th>\n      <th>product_size</th>\n      <th>list_price</th>\n      <th>standard_cost</th>\n      <th>product_first_sold_date</th>\n    </tr>\n  </thead>\n  <tbody>\n    <tr>\n      <th>0</th>\n      <td>1</td>\n      <td>2</td>\n      <td>2950</td>\n      <td>2017-02-25</td>\n      <td>0.0</td>\n      <td>Approved</td>\n      <td>Solex</td>\n      <td>Standard</td>\n      <td>medium</td>\n      <td>medium</td>\n      <td>71.49</td>\n      <td>53.62</td>\n      <td>41245.0</td>\n    </tr>\n    <tr>\n      <th>1</th>\n      <td>2</td>\n      <td>3</td>\n      <td>3120</td>\n      <td>2017-05-21</td>\n      <td>1.0</td>\n      <td>Approved</td>\n      <td>Trek Bicycles</td>\n      <td>Standard</td>\n      <td>medium</td>\n      <td>large</td>\n      <td>2091.47</td>\n      <td>388.92</td>\n      <td>41701.0</td>\n    </tr>\n    <tr>\n      <th>2</th>\n      <td>3</td>\n      <td>37</td>\n      <td>402</td>\n      <td>2017-10-16</td>\n      <td>0.0</td>\n      <td>Approved</td>\n      <td>OHM Cycles</td>\n      <td>Standard</td>\n      <td>low</td>\n      <td>medium</td>\n      <td>1793.43</td>\n      <td>248.82</td>\n      <td>36361.0</td>\n    </tr>\n    <tr>\n      <th>3</th>\n      <td>4</td>\n      <td>88</td>\n      <td>3135</td>\n      <td>2017-08-31</td>\n      <td>0.0</td>\n      <td>Approved</td>\n      <td>Norco Bicycles</td>\n      <td>Standard</td>\n      <td>medium</td>\n      <td>medium</td>\n      <td>1198.46</td>\n      <td>381.10</td>\n      <td>36145.0</td>\n    </tr>\n    <tr>\n      <th>4</th>\n      <td>5</td>\n      <td>78</td>\n      <td>787</td>\n      <td>2017-10-01</td>\n      <td>1.0</td>\n      <td>Approved</td>\n      <td>Giant Bicycles</td>\n      <td>Standard</td>\n      <td>medium</td>\n      <td>large</td>\n      <td>1765.30</td>\n      <td>709.48</td>\n      <td>42226.0</td>\n    </tr>\n  </tbody>\n</table>\n</div>"
          },
          "metadata": {},
          "execution_count": 4
        }
      ]
    },
    {
      "cell_type": "markdown",
      "metadata": {
        "id": "2Mq1-MeXqRXQ"
      },
      "source": [
        "## Data Quality Analysis"
      ]
    },
    {
      "cell_type": "code",
      "metadata": {
        "colab": {
          "base_uri": "https://localhost:8080/"
        },
        "id": "aB83gFwEqRXQ",
        "outputId": "7cafd75e-1a45-406a-b321-9a8da5ddf984"
      },
      "source": [
        "# Check number of rows and columns\n",
        "Transactions.shape"
      ],
      "execution_count": 5,
      "outputs": [
        {
          "output_type": "execute_result",
          "data": {
            "text/plain": [
              "(20000, 13)"
            ]
          },
          "metadata": {},
          "execution_count": 5
        }
      ]
    },
    {
      "cell_type": "code",
      "metadata": {
        "colab": {
          "base_uri": "https://localhost:8080/"
        },
        "id": "zr8wps6xqRXQ",
        "outputId": "76c7f3be-22fe-4b0f-b27b-442ba348dda2"
      },
      "source": [
        "# Data types\n",
        "Transactions.dtypes"
      ],
      "execution_count": 6,
      "outputs": [
        {
          "output_type": "execute_result",
          "data": {
            "text/plain": [
              "transaction_id                      int64\n",
              "product_id                          int64\n",
              "customer_id                         int64\n",
              "transaction_date           datetime64[ns]\n",
              "online_order                      float64\n",
              "order_status                       object\n",
              "brand                              object\n",
              "product_line                       object\n",
              "product_class                      object\n",
              "product_size                       object\n",
              "list_price                        float64\n",
              "standard_cost                     float64\n",
              "product_first_sold_date           float64\n",
              "dtype: object"
            ]
          },
          "metadata": {},
          "execution_count": 6
        }
      ]
    },
    {
      "cell_type": "markdown",
      "metadata": {
        "id": "Bqe_199iUCVD"
      },
      "source": [
        "* Notice, product_first_sold_date column is as float and it represents the number of days passed Dec 30 1899. This column will be converted to date_time."
      ]
    },
    {
      "cell_type": "markdown",
      "metadata": {
        "id": "nnl1QV4rqRXR"
      },
      "source": [
        "### 1. Check data accuracy"
      ]
    },
    {
      "cell_type": "code",
      "metadata": {
        "colab": {
          "base_uri": "https://localhost:8080/"
        },
        "id": "VlTuisHIqRXR",
        "outputId": "8bfd844c-0443-4476-a142-b1f0787b0ce9"
      },
      "source": [
        "# Check if transaction_id values are all unique\n",
        "Transactions_duplicated = Transactions['transaction_id'].duplicated().any()\n",
        "Transactions_duplicated"
      ],
      "execution_count": 7,
      "outputs": [
        {
          "output_type": "execute_result",
          "data": {
            "text/plain": [
              "False"
            ]
          },
          "metadata": {},
          "execution_count": 7
        }
      ]
    },
    {
      "cell_type": "markdown",
      "metadata": {
        "id": "QR6IwNeCqRXS"
      },
      "source": [
        "### 2. Check data completeness"
      ]
    },
    {
      "cell_type": "code",
      "metadata": {
        "colab": {
          "base_uri": "https://localhost:8080/",
          "height": 447
        },
        "id": "jk6A88M1qRXS",
        "outputId": "dc706af3-76ce-4534-8b5d-834253f709b1"
      },
      "source": [
        "# Count number of empty rows and the percentage of empty rows for each column\n",
        "empty_rows_count = Transactions.isnull().sum()\n",
        "empty_rows_perc = empty_rows_count/len(Transactions)*100\n",
        "\n",
        "null_values_perc = pd.DataFrame(empty_rows_count, columns=['Null_rows_count'])\n",
        "null_values_perc['Null_rows_percentage'] = empty_rows_perc\n",
        "null_values_perc\n"
      ],
      "execution_count": 8,
      "outputs": [
        {
          "output_type": "execute_result",
          "data": {
            "text/plain": [
              "                         Null_rows_count  Null_rows_percentage\n",
              "transaction_id                         0                 0.000\n",
              "product_id                             0                 0.000\n",
              "customer_id                            0                 0.000\n",
              "transaction_date                       0                 0.000\n",
              "online_order                         360                 1.800\n",
              "order_status                           0                 0.000\n",
              "brand                                197                 0.985\n",
              "product_line                         197                 0.985\n",
              "product_class                        197                 0.985\n",
              "product_size                         197                 0.985\n",
              "list_price                             0                 0.000\n",
              "standard_cost                        197                 0.985\n",
              "product_first_sold_date              197                 0.985"
            ],
            "text/html": "<div>\n<style scoped>\n    .dataframe tbody tr th:only-of-type {\n        vertical-align: middle;\n    }\n\n    .dataframe tbody tr th {\n        vertical-align: top;\n    }\n\n    .dataframe thead th {\n        text-align: right;\n    }\n</style>\n<table border=\"1\" class=\"dataframe\">\n  <thead>\n    <tr style=\"text-align: right;\">\n      <th></th>\n      <th>Null_rows_count</th>\n      <th>Null_rows_percentage</th>\n    </tr>\n  </thead>\n  <tbody>\n    <tr>\n      <th>transaction_id</th>\n      <td>0</td>\n      <td>0.000</td>\n    </tr>\n    <tr>\n      <th>product_id</th>\n      <td>0</td>\n      <td>0.000</td>\n    </tr>\n    <tr>\n      <th>customer_id</th>\n      <td>0</td>\n      <td>0.000</td>\n    </tr>\n    <tr>\n      <th>transaction_date</th>\n      <td>0</td>\n      <td>0.000</td>\n    </tr>\n    <tr>\n      <th>online_order</th>\n      <td>360</td>\n      <td>1.800</td>\n    </tr>\n    <tr>\n      <th>order_status</th>\n      <td>0</td>\n      <td>0.000</td>\n    </tr>\n    <tr>\n      <th>brand</th>\n      <td>197</td>\n      <td>0.985</td>\n    </tr>\n    <tr>\n      <th>product_line</th>\n      <td>197</td>\n      <td>0.985</td>\n    </tr>\n    <tr>\n      <th>product_class</th>\n      <td>197</td>\n      <td>0.985</td>\n    </tr>\n    <tr>\n      <th>product_size</th>\n      <td>197</td>\n      <td>0.985</td>\n    </tr>\n    <tr>\n      <th>list_price</th>\n      <td>0</td>\n      <td>0.000</td>\n    </tr>\n    <tr>\n      <th>standard_cost</th>\n      <td>197</td>\n      <td>0.985</td>\n    </tr>\n    <tr>\n      <th>product_first_sold_date</th>\n      <td>197</td>\n      <td>0.985</td>\n    </tr>\n  </tbody>\n</table>\n</div>"
          },
          "metadata": {},
          "execution_count": 8
        }
      ]
    },
    {
      "cell_type": "code",
      "metadata": {
        "colab": {
          "base_uri": "https://localhost:8080/",
          "height": 567
        },
        "id": "lhsFiU1fRPfe",
        "outputId": "6d0b5d02-f784-402e-a276-435cec630495"
      },
      "source": [
        "# Show rows without online_order values\n",
        "Transactions[Transactions.online_order.isnull()]"
      ],
      "execution_count": 9,
      "outputs": [
        {
          "output_type": "execute_result",
          "data": {
            "text/plain": [
              "       transaction_id  product_id  customer_id transaction_date  online_order  \\\n",
              "97                 98          49          333       2017-06-23           NaN   \n",
              "166               167          90         3177       2017-04-26           NaN   \n",
              "169               170           6          404       2017-10-16           NaN   \n",
              "250               251          63         1967       2017-04-11           NaN   \n",
              "300               301          78         2530       2017-03-24           NaN   \n",
              "...               ...         ...          ...              ...           ...   \n",
              "19514           19515          51          690       2017-01-22           NaN   \n",
              "19573           19574          18         1735       2017-01-15           NaN   \n",
              "19580           19581          49         1933       2017-10-12           NaN   \n",
              "19635           19636          98         1389       2017-07-26           NaN   \n",
              "19843           19844           3            8       2017-01-28           NaN   \n",
              "\n",
              "      order_status           brand product_line product_class product_size  \\\n",
              "97        Approved   Trek Bicycles         Road        medium       medium   \n",
              "166       Approved  Norco Bicycles     Standard           low       medium   \n",
              "169       Approved      OHM Cycles     Standard          high       medium   \n",
              "250       Approved           Solex     Standard        medium       medium   \n",
              "300       Approved  Giant Bicycles     Standard        medium        large   \n",
              "...            ...             ...          ...           ...          ...   \n",
              "19514     Approved      OHM Cycles     Standard          high       medium   \n",
              "19573     Approved           Solex     Standard        medium       medium   \n",
              "19580     Approved   Trek Bicycles         Road        medium       medium   \n",
              "19635     Approved   Trek Bicycles     Standard          high       medium   \n",
              "19843     Approved   Trek Bicycles     Standard        medium        large   \n",
              "\n",
              "       list_price  standard_cost  product_first_sold_date  \n",
              "97         533.51         400.13                  37823.0  \n",
              "166        363.01         290.41                  38482.0  \n",
              "169        227.88         136.73                  37838.0  \n",
              "250       1483.20          99.59                  42145.0  \n",
              "300       1765.30         709.48                  35455.0  \n",
              "...           ...            ...                      ...  \n",
              "19514     2005.66        1203.40                  37823.0  \n",
              "19573      575.27         431.45                  41345.0  \n",
              "19580      533.51         400.13                  41064.0  \n",
              "19635      358.39         215.03                  38002.0  \n",
              "19843     2091.47         388.92                  37823.0  \n",
              "\n",
              "[360 rows x 13 columns]"
            ],
            "text/html": "<div>\n<style scoped>\n    .dataframe tbody tr th:only-of-type {\n        vertical-align: middle;\n    }\n\n    .dataframe tbody tr th {\n        vertical-align: top;\n    }\n\n    .dataframe thead th {\n        text-align: right;\n    }\n</style>\n<table border=\"1\" class=\"dataframe\">\n  <thead>\n    <tr style=\"text-align: right;\">\n      <th></th>\n      <th>transaction_id</th>\n      <th>product_id</th>\n      <th>customer_id</th>\n      <th>transaction_date</th>\n      <th>online_order</th>\n      <th>order_status</th>\n      <th>brand</th>\n      <th>product_line</th>\n      <th>product_class</th>\n      <th>product_size</th>\n      <th>list_price</th>\n      <th>standard_cost</th>\n      <th>product_first_sold_date</th>\n    </tr>\n  </thead>\n  <tbody>\n    <tr>\n      <th>97</th>\n      <td>98</td>\n      <td>49</td>\n      <td>333</td>\n      <td>2017-06-23</td>\n      <td>NaN</td>\n      <td>Approved</td>\n      <td>Trek Bicycles</td>\n      <td>Road</td>\n      <td>medium</td>\n      <td>medium</td>\n      <td>533.51</td>\n      <td>400.13</td>\n      <td>37823.0</td>\n    </tr>\n    <tr>\n      <th>166</th>\n      <td>167</td>\n      <td>90</td>\n      <td>3177</td>\n      <td>2017-04-26</td>\n      <td>NaN</td>\n      <td>Approved</td>\n      <td>Norco Bicycles</td>\n      <td>Standard</td>\n      <td>low</td>\n      <td>medium</td>\n      <td>363.01</td>\n      <td>290.41</td>\n      <td>38482.0</td>\n    </tr>\n    <tr>\n      <th>169</th>\n      <td>170</td>\n      <td>6</td>\n      <td>404</td>\n      <td>2017-10-16</td>\n      <td>NaN</td>\n      <td>Approved</td>\n      <td>OHM Cycles</td>\n      <td>Standard</td>\n      <td>high</td>\n      <td>medium</td>\n      <td>227.88</td>\n      <td>136.73</td>\n      <td>37838.0</td>\n    </tr>\n    <tr>\n      <th>250</th>\n      <td>251</td>\n      <td>63</td>\n      <td>1967</td>\n      <td>2017-04-11</td>\n      <td>NaN</td>\n      <td>Approved</td>\n      <td>Solex</td>\n      <td>Standard</td>\n      <td>medium</td>\n      <td>medium</td>\n      <td>1483.20</td>\n      <td>99.59</td>\n      <td>42145.0</td>\n    </tr>\n    <tr>\n      <th>300</th>\n      <td>301</td>\n      <td>78</td>\n      <td>2530</td>\n      <td>2017-03-24</td>\n      <td>NaN</td>\n      <td>Approved</td>\n      <td>Giant Bicycles</td>\n      <td>Standard</td>\n      <td>medium</td>\n      <td>large</td>\n      <td>1765.30</td>\n      <td>709.48</td>\n      <td>35455.0</td>\n    </tr>\n    <tr>\n      <th>...</th>\n      <td>...</td>\n      <td>...</td>\n      <td>...</td>\n      <td>...</td>\n      <td>...</td>\n      <td>...</td>\n      <td>...</td>\n      <td>...</td>\n      <td>...</td>\n      <td>...</td>\n      <td>...</td>\n      <td>...</td>\n      <td>...</td>\n    </tr>\n    <tr>\n      <th>19514</th>\n      <td>19515</td>\n      <td>51</td>\n      <td>690</td>\n      <td>2017-01-22</td>\n      <td>NaN</td>\n      <td>Approved</td>\n      <td>OHM Cycles</td>\n      <td>Standard</td>\n      <td>high</td>\n      <td>medium</td>\n      <td>2005.66</td>\n      <td>1203.40</td>\n      <td>37823.0</td>\n    </tr>\n    <tr>\n      <th>19573</th>\n      <td>19574</td>\n      <td>18</td>\n      <td>1735</td>\n      <td>2017-01-15</td>\n      <td>NaN</td>\n      <td>Approved</td>\n      <td>Solex</td>\n      <td>Standard</td>\n      <td>medium</td>\n      <td>medium</td>\n      <td>575.27</td>\n      <td>431.45</td>\n      <td>41345.0</td>\n    </tr>\n    <tr>\n      <th>19580</th>\n      <td>19581</td>\n      <td>49</td>\n      <td>1933</td>\n      <td>2017-10-12</td>\n      <td>NaN</td>\n      <td>Approved</td>\n      <td>Trek Bicycles</td>\n      <td>Road</td>\n      <td>medium</td>\n      <td>medium</td>\n      <td>533.51</td>\n      <td>400.13</td>\n      <td>41064.0</td>\n    </tr>\n    <tr>\n      <th>19635</th>\n      <td>19636</td>\n      <td>98</td>\n      <td>1389</td>\n      <td>2017-07-26</td>\n      <td>NaN</td>\n      <td>Approved</td>\n      <td>Trek Bicycles</td>\n      <td>Standard</td>\n      <td>high</td>\n      <td>medium</td>\n      <td>358.39</td>\n      <td>215.03</td>\n      <td>38002.0</td>\n    </tr>\n    <tr>\n      <th>19843</th>\n      <td>19844</td>\n      <td>3</td>\n      <td>8</td>\n      <td>2017-01-28</td>\n      <td>NaN</td>\n      <td>Approved</td>\n      <td>Trek Bicycles</td>\n      <td>Standard</td>\n      <td>medium</td>\n      <td>large</td>\n      <td>2091.47</td>\n      <td>388.92</td>\n      <td>37823.0</td>\n    </tr>\n  </tbody>\n</table>\n<p>360 rows × 13 columns</p>\n</div>"
          },
          "metadata": {},
          "execution_count": 9
        }
      ]
    },
    {
      "cell_type": "code",
      "metadata": {
        "colab": {
          "base_uri": "https://localhost:8080/",
          "height": 434
        },
        "id": "FbYP7p_nSN5p",
        "outputId": "32946d59-c2ec-4d9f-958c-5de283ae6634"
      },
      "source": [
        "# Show rows without brand values\n",
        "Transactions[Transactions.brand.isnull()]"
      ],
      "execution_count": 10,
      "outputs": [
        {
          "output_type": "execute_result",
          "data": {
            "text/plain": [
              "       transaction_id  product_id  customer_id transaction_date  online_order  \\\n",
              "136               137           0          431       2017-09-23           0.0   \n",
              "159               160           0         3300       2017-08-27           0.0   \n",
              "366               367           0         1614       2017-03-10           0.0   \n",
              "406               407           0         2559       2017-06-14           1.0   \n",
              "676               677           0         2609       2017-07-02           0.0   \n",
              "...               ...         ...          ...              ...           ...   \n",
              "19340           19341           0          443       2017-12-26           1.0   \n",
              "19383           19384           0         2407       2017-06-11           0.0   \n",
              "19793           19794           0         2860       2017-01-13           0.0   \n",
              "19859           19860           0         2468       2017-06-24           1.0   \n",
              "19871           19872           0           61       2017-03-17           1.0   \n",
              "\n",
              "      order_status brand product_line product_class product_size  list_price  \\\n",
              "136       Approved   NaN          NaN           NaN          NaN     1942.61   \n",
              "159       Approved   NaN          NaN           NaN          NaN     1656.86   \n",
              "366       Approved   NaN          NaN           NaN          NaN      850.89   \n",
              "406       Approved   NaN          NaN           NaN          NaN      710.59   \n",
              "676       Approved   NaN          NaN           NaN          NaN     1972.01   \n",
              "...            ...   ...          ...           ...          ...         ...   \n",
              "19340     Approved   NaN          NaN           NaN          NaN      744.54   \n",
              "19383     Approved   NaN          NaN           NaN          NaN     1098.18   \n",
              "19793     Approved   NaN          NaN           NaN          NaN      868.56   \n",
              "19859     Approved   NaN          NaN           NaN          NaN     1497.43   \n",
              "19871     Approved   NaN          NaN           NaN          NaN      867.92   \n",
              "\n",
              "       standard_cost  product_first_sold_date  \n",
              "136              NaN                      NaN  \n",
              "159              NaN                      NaN  \n",
              "366              NaN                      NaN  \n",
              "406              NaN                      NaN  \n",
              "676              NaN                      NaN  \n",
              "...              ...                      ...  \n",
              "19340            NaN                      NaN  \n",
              "19383            NaN                      NaN  \n",
              "19793            NaN                      NaN  \n",
              "19859            NaN                      NaN  \n",
              "19871            NaN                      NaN  \n",
              "\n",
              "[197 rows x 13 columns]"
            ],
            "text/html": "<div>\n<style scoped>\n    .dataframe tbody tr th:only-of-type {\n        vertical-align: middle;\n    }\n\n    .dataframe tbody tr th {\n        vertical-align: top;\n    }\n\n    .dataframe thead th {\n        text-align: right;\n    }\n</style>\n<table border=\"1\" class=\"dataframe\">\n  <thead>\n    <tr style=\"text-align: right;\">\n      <th></th>\n      <th>transaction_id</th>\n      <th>product_id</th>\n      <th>customer_id</th>\n      <th>transaction_date</th>\n      <th>online_order</th>\n      <th>order_status</th>\n      <th>brand</th>\n      <th>product_line</th>\n      <th>product_class</th>\n      <th>product_size</th>\n      <th>list_price</th>\n      <th>standard_cost</th>\n      <th>product_first_sold_date</th>\n    </tr>\n  </thead>\n  <tbody>\n    <tr>\n      <th>136</th>\n      <td>137</td>\n      <td>0</td>\n      <td>431</td>\n      <td>2017-09-23</td>\n      <td>0.0</td>\n      <td>Approved</td>\n      <td>NaN</td>\n      <td>NaN</td>\n      <td>NaN</td>\n      <td>NaN</td>\n      <td>1942.61</td>\n      <td>NaN</td>\n      <td>NaN</td>\n    </tr>\n    <tr>\n      <th>159</th>\n      <td>160</td>\n      <td>0</td>\n      <td>3300</td>\n      <td>2017-08-27</td>\n      <td>0.0</td>\n      <td>Approved</td>\n      <td>NaN</td>\n      <td>NaN</td>\n      <td>NaN</td>\n      <td>NaN</td>\n      <td>1656.86</td>\n      <td>NaN</td>\n      <td>NaN</td>\n    </tr>\n    <tr>\n      <th>366</th>\n      <td>367</td>\n      <td>0</td>\n      <td>1614</td>\n      <td>2017-03-10</td>\n      <td>0.0</td>\n      <td>Approved</td>\n      <td>NaN</td>\n      <td>NaN</td>\n      <td>NaN</td>\n      <td>NaN</td>\n      <td>850.89</td>\n      <td>NaN</td>\n      <td>NaN</td>\n    </tr>\n    <tr>\n      <th>406</th>\n      <td>407</td>\n      <td>0</td>\n      <td>2559</td>\n      <td>2017-06-14</td>\n      <td>1.0</td>\n      <td>Approved</td>\n      <td>NaN</td>\n      <td>NaN</td>\n      <td>NaN</td>\n      <td>NaN</td>\n      <td>710.59</td>\n      <td>NaN</td>\n      <td>NaN</td>\n    </tr>\n    <tr>\n      <th>676</th>\n      <td>677</td>\n      <td>0</td>\n      <td>2609</td>\n      <td>2017-07-02</td>\n      <td>0.0</td>\n      <td>Approved</td>\n      <td>NaN</td>\n      <td>NaN</td>\n      <td>NaN</td>\n      <td>NaN</td>\n      <td>1972.01</td>\n      <td>NaN</td>\n      <td>NaN</td>\n    </tr>\n    <tr>\n      <th>...</th>\n      <td>...</td>\n      <td>...</td>\n      <td>...</td>\n      <td>...</td>\n      <td>...</td>\n      <td>...</td>\n      <td>...</td>\n      <td>...</td>\n      <td>...</td>\n      <td>...</td>\n      <td>...</td>\n      <td>...</td>\n      <td>...</td>\n    </tr>\n    <tr>\n      <th>19340</th>\n      <td>19341</td>\n      <td>0</td>\n      <td>443</td>\n      <td>2017-12-26</td>\n      <td>1.0</td>\n      <td>Approved</td>\n      <td>NaN</td>\n      <td>NaN</td>\n      <td>NaN</td>\n      <td>NaN</td>\n      <td>744.54</td>\n      <td>NaN</td>\n      <td>NaN</td>\n    </tr>\n    <tr>\n      <th>19383</th>\n      <td>19384</td>\n      <td>0</td>\n      <td>2407</td>\n      <td>2017-06-11</td>\n      <td>0.0</td>\n      <td>Approved</td>\n      <td>NaN</td>\n      <td>NaN</td>\n      <td>NaN</td>\n      <td>NaN</td>\n      <td>1098.18</td>\n      <td>NaN</td>\n      <td>NaN</td>\n    </tr>\n    <tr>\n      <th>19793</th>\n      <td>19794</td>\n      <td>0</td>\n      <td>2860</td>\n      <td>2017-01-13</td>\n      <td>0.0</td>\n      <td>Approved</td>\n      <td>NaN</td>\n      <td>NaN</td>\n      <td>NaN</td>\n      <td>NaN</td>\n      <td>868.56</td>\n      <td>NaN</td>\n      <td>NaN</td>\n    </tr>\n    <tr>\n      <th>19859</th>\n      <td>19860</td>\n      <td>0</td>\n      <td>2468</td>\n      <td>2017-06-24</td>\n      <td>1.0</td>\n      <td>Approved</td>\n      <td>NaN</td>\n      <td>NaN</td>\n      <td>NaN</td>\n      <td>NaN</td>\n      <td>1497.43</td>\n      <td>NaN</td>\n      <td>NaN</td>\n    </tr>\n    <tr>\n      <th>19871</th>\n      <td>19872</td>\n      <td>0</td>\n      <td>61</td>\n      <td>2017-03-17</td>\n      <td>1.0</td>\n      <td>Approved</td>\n      <td>NaN</td>\n      <td>NaN</td>\n      <td>NaN</td>\n      <td>NaN</td>\n      <td>867.92</td>\n      <td>NaN</td>\n      <td>NaN</td>\n    </tr>\n  </tbody>\n</table>\n<p>197 rows × 13 columns</p>\n</div>"
          },
          "metadata": {},
          "execution_count": 10
        }
      ]
    },
    {
      "cell_type": "markdown",
      "metadata": {
        "id": "ShzbqHmNSWdd"
      },
      "source": [
        "- There are 360 rows (1.8%) without online_order indicator. Since they only make up a small fraction of the data. We can drop these rows.\n",
        "- There are also 197 rows without any product information. These rows have 6 columns with missing values and thus do not add much values to the analysis and ML model. They will also be dropped."
      ]
    },
    {
      "cell_type": "markdown",
      "metadata": {
        "id": "rytHZ_8SqRXT"
      },
      "source": [
        "### 3. Check data consistency, misstyped values"
      ]
    },
    {
      "cell_type": "code",
      "metadata": {
        "colab": {
          "base_uri": "https://localhost:8080/"
        },
        "id": "Y89VZ8hHqRXT",
        "outputId": "014f5b2f-8a24-448a-c9c9-12553b923dad"
      },
      "source": [
        "Transactions['product_id'].unique()"
      ],
      "execution_count": 11,
      "outputs": [
        {
          "output_type": "execute_result",
          "data": {
            "text/plain": [
              "array([  2,   3,  37,  88,  78,  25,  22,  15,  67,  12,   5,  61,  35,\n",
              "        16,  79,  33,  54,  27,  82,  89,  64,  19,  72,  91,   1,  99,\n",
              "         0,  92,  14,  44,  76,  46,  55,  66,  81,  86,  32,  77,  96,\n",
              "         6,  47,  94,  93,  60,  28,   4,  38,  56,  58,  50,  80,  87,\n",
              "        84,  21,  31,  62,  17,  73,  45,  49,  95,  18,  70,  26,  39,\n",
              "        36,  98,  75,  42,  20,  24,  53,  65,  29,  11,  10,   7,  41,\n",
              "         9,  69,  90,  97, 100,  74,  71,  34,  57,  23,  51,  59,  63,\n",
              "        40,   8,  13,  30,  48,  68,  83,  43,  52,  85], dtype=int64)"
            ]
          },
          "metadata": {},
          "execution_count": 11
        }
      ]
    },
    {
      "cell_type": "code",
      "metadata": {
        "colab": {
          "base_uri": "https://localhost:8080/"
        },
        "id": "kwQEcQn9TVhb",
        "outputId": "44f5d5ff-84e9-464d-9a12-7263c5512876"
      },
      "source": [
        "Transactions['online_order'].unique()"
      ],
      "execution_count": 12,
      "outputs": [
        {
          "output_type": "execute_result",
          "data": {
            "text/plain": [
              "array([ 0.,  1., nan])"
            ]
          },
          "metadata": {},
          "execution_count": 12
        }
      ]
    },
    {
      "cell_type": "code",
      "metadata": {
        "colab": {
          "base_uri": "https://localhost:8080/"
        },
        "id": "fKdDMaGWTVey",
        "outputId": "7c560d03-3215-4ef8-c4b5-2d2d3e69e0c1"
      },
      "source": [
        "Transactions['order_status'].unique()"
      ],
      "execution_count": 13,
      "outputs": [
        {
          "output_type": "execute_result",
          "data": {
            "text/plain": [
              "array(['Approved', 'Cancelled'], dtype=object)"
            ]
          },
          "metadata": {},
          "execution_count": 13
        }
      ]
    },
    {
      "cell_type": "code",
      "metadata": {
        "colab": {
          "base_uri": "https://localhost:8080/"
        },
        "id": "czTrJF2zTVcU",
        "outputId": "cdd4aaa8-39c2-4b08-c724-9bdcf443ac15"
      },
      "source": [
        "Transactions['brand'].unique()"
      ],
      "execution_count": 14,
      "outputs": [
        {
          "output_type": "execute_result",
          "data": {
            "text/plain": [
              "array(['Solex', 'Trek Bicycles', 'OHM Cycles', 'Norco Bicycles',\n",
              "       'Giant Bicycles', 'WeareA2B', nan], dtype=object)"
            ]
          },
          "metadata": {},
          "execution_count": 14
        }
      ]
    },
    {
      "cell_type": "code",
      "metadata": {
        "colab": {
          "base_uri": "https://localhost:8080/"
        },
        "id": "mV9xwMhcTnHI",
        "outputId": "6e41c3a7-bb1b-4343-86c6-f15313bcf501"
      },
      "source": [
        "Transactions['product_line'].unique()"
      ],
      "execution_count": 15,
      "outputs": [
        {
          "output_type": "execute_result",
          "data": {
            "text/plain": [
              "array(['Standard', 'Road', 'Mountain', 'Touring', nan], dtype=object)"
            ]
          },
          "metadata": {},
          "execution_count": 15
        }
      ]
    },
    {
      "cell_type": "code",
      "metadata": {
        "colab": {
          "base_uri": "https://localhost:8080/"
        },
        "id": "cg119VfhTqh1",
        "outputId": "83e11053-11c4-4edc-a927-602bd17d28f2"
      },
      "source": [
        "Transactions['product_class'].unique()"
      ],
      "execution_count": 16,
      "outputs": [
        {
          "output_type": "execute_result",
          "data": {
            "text/plain": [
              "array(['medium', 'low', 'high', nan], dtype=object)"
            ]
          },
          "metadata": {},
          "execution_count": 16
        }
      ]
    },
    {
      "cell_type": "code",
      "metadata": {
        "colab": {
          "base_uri": "https://localhost:8080/"
        },
        "id": "eBvCXjIZTuwj",
        "outputId": "1ed215a0-ad66-458c-e01f-9e4344b17ea3"
      },
      "source": [
        "Transactions['product_size'].unique()"
      ],
      "execution_count": 17,
      "outputs": [
        {
          "output_type": "execute_result",
          "data": {
            "text/plain": [
              "array(['medium', 'large', 'small', nan], dtype=object)"
            ]
          },
          "metadata": {},
          "execution_count": 17
        }
      ]
    },
    {
      "cell_type": "markdown",
      "metadata": {
        "id": "oiYLGLoHqRXT"
      },
      "source": [
        "### 4. Check data currency"
      ]
    },
    {
      "cell_type": "markdown",
      "metadata": {
        "id": "8RnXiZcmqRXT"
      },
      "source": [
        "* Customers information can be updated if there are any changes."
      ]
    },
    {
      "cell_type": "markdown",
      "metadata": {
        "id": "uaQuqrREqRXT"
      },
      "source": [
        "### 5. Check data relevancy"
      ]
    },
    {
      "cell_type": "markdown",
      "metadata": {
        "id": "MYbpwnXZqRXT"
      },
      "source": [
        "- All columns are relevant."
      ]
    },
    {
      "cell_type": "markdown",
      "metadata": {
        "id": "tV0YYiZnqRXT"
      },
      "source": [
        "### 6. Validate data"
      ]
    },
    {
      "cell_type": "code",
      "metadata": {
        "colab": {
          "base_uri": "https://localhost:8080/",
          "height": 294
        },
        "id": "SNcTDV4hqRXU",
        "outputId": "cbf19c1e-5d4b-4426-93a9-13c4ed467219"
      },
      "source": [
        "# Summary statistics for columns with datatypes integer and float\n",
        "Transactions.describe(include=['float64'])"
      ],
      "execution_count": 18,
      "outputs": [
        {
          "output_type": "execute_result",
          "data": {
            "text/plain": [
              "       online_order    list_price  standard_cost  product_first_sold_date\n",
              "count  19640.000000  20000.000000   19803.000000             19803.000000\n",
              "mean       0.500458   1107.829449     556.046951             38199.776549\n",
              "std        0.500013    582.825242     405.955660              2875.201110\n",
              "min        0.000000     12.010000       7.210000             33259.000000\n",
              "25%        0.000000    575.270000     215.140000             35667.000000\n",
              "50%        1.000000   1163.890000     507.580000             38216.000000\n",
              "75%        1.000000   1635.300000     795.100000             40672.000000\n",
              "max        1.000000   2091.470000    1759.850000             42710.000000"
            ],
            "text/html": "<div>\n<style scoped>\n    .dataframe tbody tr th:only-of-type {\n        vertical-align: middle;\n    }\n\n    .dataframe tbody tr th {\n        vertical-align: top;\n    }\n\n    .dataframe thead th {\n        text-align: right;\n    }\n</style>\n<table border=\"1\" class=\"dataframe\">\n  <thead>\n    <tr style=\"text-align: right;\">\n      <th></th>\n      <th>online_order</th>\n      <th>list_price</th>\n      <th>standard_cost</th>\n      <th>product_first_sold_date</th>\n    </tr>\n  </thead>\n  <tbody>\n    <tr>\n      <th>count</th>\n      <td>19640.000000</td>\n      <td>20000.000000</td>\n      <td>19803.000000</td>\n      <td>19803.000000</td>\n    </tr>\n    <tr>\n      <th>mean</th>\n      <td>0.500458</td>\n      <td>1107.829449</td>\n      <td>556.046951</td>\n      <td>38199.776549</td>\n    </tr>\n    <tr>\n      <th>std</th>\n      <td>0.500013</td>\n      <td>582.825242</td>\n      <td>405.955660</td>\n      <td>2875.201110</td>\n    </tr>\n    <tr>\n      <th>min</th>\n      <td>0.000000</td>\n      <td>12.010000</td>\n      <td>7.210000</td>\n      <td>33259.000000</td>\n    </tr>\n    <tr>\n      <th>25%</th>\n      <td>0.000000</td>\n      <td>575.270000</td>\n      <td>215.140000</td>\n      <td>35667.000000</td>\n    </tr>\n    <tr>\n      <th>50%</th>\n      <td>1.000000</td>\n      <td>1163.890000</td>\n      <td>507.580000</td>\n      <td>38216.000000</td>\n    </tr>\n    <tr>\n      <th>75%</th>\n      <td>1.000000</td>\n      <td>1635.300000</td>\n      <td>795.100000</td>\n      <td>40672.000000</td>\n    </tr>\n    <tr>\n      <th>max</th>\n      <td>1.000000</td>\n      <td>2091.470000</td>\n      <td>1759.850000</td>\n      <td>42710.000000</td>\n    </tr>\n  </tbody>\n</table>\n</div>"
          },
          "metadata": {},
          "execution_count": 18
        }
      ]
    },
    {
      "cell_type": "markdown",
      "metadata": {
        "id": "96e6DlmLqRXU"
      },
      "source": [
        "- All numerical columns have values within acceptable min and max values."
      ]
    },
    {
      "cell_type": "markdown",
      "metadata": {
        "id": "dOLWURJ8qRXU"
      },
      "source": [
        "### 7. Check for duplicates"
      ]
    },
    {
      "cell_type": "code",
      "metadata": {
        "colab": {
          "base_uri": "https://localhost:8080/"
        },
        "id": "n5ZUeA-bqRXU",
        "outputId": "3666960b-4af5-4e66-e58e-6b101f36eda8"
      },
      "source": [
        "# Count number of duplicates for each column\n",
        "Transactions.duplicated().sum()"
      ],
      "execution_count": 19,
      "outputs": [
        {
          "output_type": "execute_result",
          "data": {
            "text/plain": [
              "0"
            ]
          },
          "metadata": {},
          "execution_count": 19
        }
      ]
    },
    {
      "cell_type": "markdown",
      "metadata": {
        "id": "SzqovIwSqRXU"
      },
      "source": [
        "## Data Cleaning"
      ]
    },
    {
      "cell_type": "markdown",
      "metadata": {
        "id": "vzykIi8TVACt"
      },
      "source": [
        "**Change column product_first_sold_date dtype to date_time**"
      ]
    },
    {
      "cell_type": "code",
      "metadata": {
        "id": "Wi1gY4jdYf9U"
      },
      "source": [
        "# Convert number of days into date_time\n",
        "Transactions['product_first_sold_date'] = pd.to_datetime(Transactions['product_first_sold_date'], unit='D',\n",
        "                   origin=pd.Timestamp('1900-01-01'))"
      ],
      "execution_count": 114,
      "outputs": []
    },
    {
      "cell_type": "markdown",
      "metadata": {
        "id": "mqslp-GaqRXU"
      },
      "source": [
        "**Drop rows with nan values**"
      ]
    },
    {
      "cell_type": "code",
      "metadata": {
        "id": "jycThNU2Zn9P"
      },
      "source": [
        "# Drop nan rows\n",
        "Transactions.dropna(how='any', inplace=True)"
      ],
      "execution_count": 115,
      "outputs": []
    },
    {
      "cell_type": "code",
      "metadata": {
        "colab": {
          "base_uri": "https://localhost:8080/"
        },
        "id": "wuwktneZqRXU",
        "outputId": "9643c744-b57e-4ff7-a9f6-ea7c4b7b8c5b"
      },
      "source": [
        "# Check\n",
        "Transactions.isnull().sum()"
      ],
      "execution_count": 116,
      "outputs": [
        {
          "output_type": "execute_result",
          "data": {
            "text/plain": [
              "transaction_id             0\n",
              "product_id                 0\n",
              "customer_id                0\n",
              "transaction_date           0\n",
              "online_order               0\n",
              "order_status               0\n",
              "brand                      0\n",
              "product_line               0\n",
              "product_class              0\n",
              "product_size               0\n",
              "list_price                 0\n",
              "standard_cost              0\n",
              "product_first_sold_date    0\n",
              "dtype: int64"
            ]
          },
          "metadata": {
            "tags": []
          },
          "execution_count": 116
        }
      ]
    },
    {
      "cell_type": "markdown",
      "metadata": {
        "id": "N8sOPsspqRXV"
      },
      "source": [
        "**Replace misstyped data as suggested above**"
      ]
    },
    {
      "cell_type": "markdown",
      "metadata": {
        "id": "wl4fips0qRXV"
      },
      "source": [
        "- No columns have misstyped data."
      ]
    },
    {
      "cell_type": "markdown",
      "metadata": {
        "id": "gMNUmqTNqRXV"
      },
      "source": [
        "**Drop irrelavant columns**"
      ]
    },
    {
      "cell_type": "markdown",
      "metadata": {
        "id": "4_NvqBV1Z5rA"
      },
      "source": [
        "- No irrelavant columns."
      ]
    },
    {
      "cell_type": "code",
      "metadata": {
        "id": "c1gU83DvqRXV"
      },
      "source": [
        "# Save to csv\n",
        "Transactions.to_csv('Transactions.csv')"
      ],
      "execution_count": 117,
      "outputs": []
    },
    {
      "cell_type": "markdown",
      "metadata": {
        "id": "S2Ou5GhF_m_z"
      },
      "source": [
        "## Preliminary Analysis"
      ]
    },
    {
      "cell_type": "code",
      "metadata": {
        "colab": {
          "base_uri": "https://localhost:8080/",
          "height": 268
        },
        "id": "qG23H2el_v35",
        "outputId": "9bba8d26-9e8f-46e9-ff5d-a60e8ca7957d"
      },
      "source": [
        "Transactions.head()"
      ],
      "execution_count": 118,
      "outputs": [
        {
          "output_type": "execute_result",
          "data": {
            "text/html": [
              "<div>\n",
              "<style scoped>\n",
              "    .dataframe tbody tr th:only-of-type {\n",
              "        vertical-align: middle;\n",
              "    }\n",
              "\n",
              "    .dataframe tbody tr th {\n",
              "        vertical-align: top;\n",
              "    }\n",
              "\n",
              "    .dataframe thead th {\n",
              "        text-align: right;\n",
              "    }\n",
              "</style>\n",
              "<table border=\"1\" class=\"dataframe\">\n",
              "  <thead>\n",
              "    <tr style=\"text-align: right;\">\n",
              "      <th></th>\n",
              "      <th>transaction_id</th>\n",
              "      <th>product_id</th>\n",
              "      <th>customer_id</th>\n",
              "      <th>transaction_date</th>\n",
              "      <th>online_order</th>\n",
              "      <th>order_status</th>\n",
              "      <th>brand</th>\n",
              "      <th>product_line</th>\n",
              "      <th>product_class</th>\n",
              "      <th>product_size</th>\n",
              "      <th>list_price</th>\n",
              "      <th>standard_cost</th>\n",
              "      <th>product_first_sold_date</th>\n",
              "    </tr>\n",
              "  </thead>\n",
              "  <tbody>\n",
              "    <tr>\n",
              "      <th>0</th>\n",
              "      <td>1</td>\n",
              "      <td>2</td>\n",
              "      <td>2950</td>\n",
              "      <td>2017-02-25</td>\n",
              "      <td>0.0</td>\n",
              "      <td>Approved</td>\n",
              "      <td>Solex</td>\n",
              "      <td>Standard</td>\n",
              "      <td>medium</td>\n",
              "      <td>medium</td>\n",
              "      <td>71.49</td>\n",
              "      <td>53.62</td>\n",
              "      <td>2012-12-04</td>\n",
              "    </tr>\n",
              "    <tr>\n",
              "      <th>1</th>\n",
              "      <td>2</td>\n",
              "      <td>3</td>\n",
              "      <td>3120</td>\n",
              "      <td>2017-05-21</td>\n",
              "      <td>1.0</td>\n",
              "      <td>Approved</td>\n",
              "      <td>Trek Bicycles</td>\n",
              "      <td>Standard</td>\n",
              "      <td>medium</td>\n",
              "      <td>large</td>\n",
              "      <td>2091.47</td>\n",
              "      <td>388.92</td>\n",
              "      <td>2014-03-05</td>\n",
              "    </tr>\n",
              "    <tr>\n",
              "      <th>2</th>\n",
              "      <td>3</td>\n",
              "      <td>37</td>\n",
              "      <td>402</td>\n",
              "      <td>2017-10-16</td>\n",
              "      <td>0.0</td>\n",
              "      <td>Approved</td>\n",
              "      <td>OHM Cycles</td>\n",
              "      <td>Standard</td>\n",
              "      <td>low</td>\n",
              "      <td>medium</td>\n",
              "      <td>1793.43</td>\n",
              "      <td>248.82</td>\n",
              "      <td>1999-07-22</td>\n",
              "    </tr>\n",
              "    <tr>\n",
              "      <th>3</th>\n",
              "      <td>4</td>\n",
              "      <td>88</td>\n",
              "      <td>3135</td>\n",
              "      <td>2017-08-31</td>\n",
              "      <td>0.0</td>\n",
              "      <td>Approved</td>\n",
              "      <td>Norco Bicycles</td>\n",
              "      <td>Standard</td>\n",
              "      <td>medium</td>\n",
              "      <td>medium</td>\n",
              "      <td>1198.46</td>\n",
              "      <td>381.10</td>\n",
              "      <td>1998-12-18</td>\n",
              "    </tr>\n",
              "    <tr>\n",
              "      <th>4</th>\n",
              "      <td>5</td>\n",
              "      <td>78</td>\n",
              "      <td>787</td>\n",
              "      <td>2017-10-01</td>\n",
              "      <td>1.0</td>\n",
              "      <td>Approved</td>\n",
              "      <td>Giant Bicycles</td>\n",
              "      <td>Standard</td>\n",
              "      <td>medium</td>\n",
              "      <td>large</td>\n",
              "      <td>1765.30</td>\n",
              "      <td>709.48</td>\n",
              "      <td>2015-08-12</td>\n",
              "    </tr>\n",
              "  </tbody>\n",
              "</table>\n",
              "</div>"
            ],
            "text/plain": [
              "   transaction_id  product_id  ...  standard_cost product_first_sold_date\n",
              "0               1           2  ...          53.62              2012-12-04\n",
              "1               2           3  ...         388.92              2014-03-05\n",
              "2               3          37  ...         248.82              1999-07-22\n",
              "3               4          88  ...         381.10              1998-12-18\n",
              "4               5          78  ...         709.48              2015-08-12\n",
              "\n",
              "[5 rows x 13 columns]"
            ]
          },
          "metadata": {
            "tags": []
          },
          "execution_count": 118
        }
      ]
    },
    {
      "cell_type": "code",
      "metadata": {
        "colab": {
          "base_uri": "https://localhost:8080/",
          "height": 347
        },
        "id": "EPYFf8zr_1E9",
        "outputId": "89566a11-3bc6-4c8e-9972-aba25714c3b1"
      },
      "source": [
        "# Correlation matrix\n",
        "corr = Transactions.corr()\n",
        "sns.heatmap(corr, cmap=\"Blues\", annot=True)"
      ],
      "execution_count": 119,
      "outputs": [
        {
          "output_type": "execute_result",
          "data": {
            "text/plain": [
              "<matplotlib.axes._subplots.AxesSubplot at 0x7fdfaf9fe6d0>"
            ]
          },
          "metadata": {
            "tags": []
          },
          "execution_count": 119
        },
        {
          "output_type": "display_data",
          "data": {
            "image/png": "[encoded data removed]",
            "text/plain": [
              "<Figure size 432x288 with 2 Axes>"
            ]
          },
          "metadata": {
            "tags": [],
            "needs_background": "light"
          }
        }
      ]
    },
    {
      "cell_type": "markdown",
      "metadata": {
        "id": "7wP_oFcEAMGc"
      },
      "source": [
        "- There are no major correlations except a positive correlation between list_price and standard_cost."
      ]
    },
    {
      "cell_type": "code",
      "metadata": {
        "colab": {
          "base_uri": "https://localhost:8080/",
          "height": 156
        },
        "id": "Km9foPtKBdXP",
        "outputId": "e4b1f0ee-6ac9-4fd8-9a16-a1048e166777"
      },
      "source": [
        "# Check for outliers\n",
        "i=1\n",
        "columns = ['list_price', 'standard_cost']\n",
        "plt.figure(figsize=(10,8))\n",
        "for j in columns:\n",
        "    plt.subplot(4,3,i)\n",
        "    sns.boxplot(data=Transactions,x=Transactions[j])\n",
        "    i+=1"
      ],
      "execution_count": 120,
      "outputs": [
        {
          "output_type": "display_data",
          "data": {
            "image/png": "[encoded data removed]",
            "text/plain": [
              "<Figure size 720x576 with 2 Axes>"
            ]
          },
          "metadata": {
            "tags": [],
            "needs_background": "light"
          }
        }
      ]
    },
    {
      "cell_type": "code",
      "metadata": {
        "colab": {
          "base_uri": "https://localhost:8080/",
          "height": 335
        },
        "id": "bU70IyNOBvmf",
        "outputId": "761466ee-19bc-413b-ea24-458bf42b72f7"
      },
      "source": [
        "data = Transactions[['list_price', 'standard_cost']]\n",
        "data.hist(figsize=(8,5))\n",
        "plt.show()"
      ],
      "execution_count": 121,
      "outputs": [
        {
          "output_type": "display_data",
          "data": {
            "image/png": "[encoded data removed]",
            "text/plain": [
              "<Figure size 576x360 with 2 Axes>"
            ]
          },
          "metadata": {
            "tags": [],
            "needs_background": "light"
          }
        }
      ]
    },
    {
      "cell_type": "markdown",
      "metadata": {
        "id": "hFVdw8ZHB2EA"
      },
      "source": [
        "- No variables follow a normal distribution."
      ]
    },
    {
      "cell_type": "code",
      "metadata": {
        "colab": {
          "base_uri": "https://localhost:8080/",
          "height": 232
        },
        "id": "kA2wf-xV_1CC",
        "outputId": "5d230d53-51c0-4df7-9af9-964711015426"
      },
      "source": [
        "# Calculate percentage of transactions by brand\n",
        "data_brand = pd.DataFrame((Transactions.groupby(['brand'])['transaction_id'].count())/len(Transactions)*100)\n",
        "data_brand = data_brand.sort_values(by=['transaction_id'], ascending=False)\n",
        "data_brand = data_brand.reset_index()\n",
        "data_brand"
      ],
      "execution_count": 122,
      "outputs": [
        {
          "output_type": "execute_result",
          "data": {
            "text/html": [
              "<div>\n",
              "<style scoped>\n",
              "    .dataframe tbody tr th:only-of-type {\n",
              "        vertical-align: middle;\n",
              "    }\n",
              "\n",
              "    .dataframe tbody tr th {\n",
              "        vertical-align: top;\n",
              "    }\n",
              "\n",
              "    .dataframe thead th {\n",
              "        text-align: right;\n",
              "    }\n",
              "</style>\n",
              "<table border=\"1\" class=\"dataframe\">\n",
              "  <thead>\n",
              "    <tr style=\"text-align: right;\">\n",
              "      <th></th>\n",
              "      <th>brand</th>\n",
              "      <th>transaction_id</th>\n",
              "    </tr>\n",
              "  </thead>\n",
              "  <tbody>\n",
              "    <tr>\n",
              "      <th>0</th>\n",
              "      <td>Solex</td>\n",
              "      <td>21.439959</td>\n",
              "    </tr>\n",
              "    <tr>\n",
              "      <th>1</th>\n",
              "      <td>WeareA2B</td>\n",
              "      <td>16.688095</td>\n",
              "    </tr>\n",
              "    <tr>\n",
              "      <th>2</th>\n",
              "      <td>Giant Bicycles</td>\n",
              "      <td>16.682952</td>\n",
              "    </tr>\n",
              "    <tr>\n",
              "      <th>3</th>\n",
              "      <td>OHM Cycles</td>\n",
              "      <td>15.392132</td>\n",
              "    </tr>\n",
              "    <tr>\n",
              "      <th>4</th>\n",
              "      <td>Trek Bicycles</td>\n",
              "      <td>15.073284</td>\n",
              "    </tr>\n",
              "    <tr>\n",
              "      <th>5</th>\n",
              "      <td>Norco Bicycles</td>\n",
              "      <td>14.723579</td>\n",
              "    </tr>\n",
              "  </tbody>\n",
              "</table>\n",
              "</div>"
            ],
            "text/plain": [
              "            brand  transaction_id\n",
              "0           Solex       21.439959\n",
              "1        WeareA2B       16.688095\n",
              "2  Giant Bicycles       16.682952\n",
              "3      OHM Cycles       15.392132\n",
              "4   Trek Bicycles       15.073284\n",
              "5  Norco Bicycles       14.723579"
            ]
          },
          "metadata": {
            "tags": []
          },
          "execution_count": 122
        }
      ]
    },
    {
      "cell_type": "code",
      "metadata": {
        "colab": {
          "base_uri": "https://localhost:8080/",
          "height": 367
        },
        "id": "mWmKfcSn_00D",
        "outputId": "dd0980d3-af86-4bf9-874f-7efe54e4be3c"
      },
      "source": [
        "# Create bar plot\n",
        "plt.figure(figsize=(8,5))\n",
        "visual = sns.barplot(x=\"brand\", y=\"transaction_id\", data=data_brand )\n",
        "\n",
        "for index, row in data_brand.iterrows():\n",
        "    visual.text(row.name,row.transaction_id, round(row.transaction_id,2), color='black', ha=\"center\")\n",
        "plt.title('Percentage of transactions by brand')\n",
        "plt.ylabel('Percentage (%)')"
      ],
      "execution_count": 123,
      "outputs": [
        {
          "output_type": "execute_result",
          "data": {
            "text/plain": [
              "Text(0, 0.5, 'Percentage (%)')"
            ]
          },
          "metadata": {
            "tags": []
          },
          "execution_count": 123
        },
        {
          "output_type": "display_data",
          "data": {
            "image/png": "[encoded data removed]",
            "text/plain": [
              "<Figure size 576x360 with 1 Axes>"
            ]
          },
          "metadata": {
            "tags": [],
            "needs_background": "light"
          }
        }
      ]
    },
    {
      "cell_type": "markdown",
      "metadata": {
        "id": "IoTT8716CpXn"
      },
      "source": [
        "- Most of the brands are equally popular."
      ]
    },
    {
      "cell_type": "code",
      "metadata": {
        "colab": {
          "base_uri": "https://localhost:8080/",
          "height": 171
        },
        "id": "d8OYHpIN_0xl",
        "outputId": "4e4822f7-bf8c-48b3-ce12-fd06e3cdaade"
      },
      "source": [
        "# Calculate percentage of transactions by product_line\n",
        "data_line = pd.DataFrame((Transactions.groupby(['product_line'])['transaction_id'].count())/len(Transactions)*100)\n",
        "data_line = data_line.sort_values(by=['transaction_id'], ascending=False)\n",
        "data_line = data_line.reset_index()\n",
        "data_line"
      ],
      "execution_count": 124,
      "outputs": [
        {
          "output_type": "execute_result",
          "data": {
            "text/html": [
              "<div>\n",
              "<style scoped>\n",
              "    .dataframe tbody tr th:only-of-type {\n",
              "        vertical-align: middle;\n",
              "    }\n",
              "\n",
              "    .dataframe tbody tr th {\n",
              "        vertical-align: top;\n",
              "    }\n",
              "\n",
              "    .dataframe thead th {\n",
              "        text-align: right;\n",
              "    }\n",
              "</style>\n",
              "<table border=\"1\" class=\"dataframe\">\n",
              "  <thead>\n",
              "    <tr style=\"text-align: right;\">\n",
              "      <th></th>\n",
              "      <th>product_line</th>\n",
              "      <th>transaction_id</th>\n",
              "    </tr>\n",
              "  </thead>\n",
              "  <tbody>\n",
              "    <tr>\n",
              "      <th>0</th>\n",
              "      <td>Standard</td>\n",
              "      <td>71.586526</td>\n",
              "    </tr>\n",
              "    <tr>\n",
              "      <th>1</th>\n",
              "      <td>Road</td>\n",
              "      <td>20.025714</td>\n",
              "    </tr>\n",
              "    <tr>\n",
              "      <th>2</th>\n",
              "      <td>Touring</td>\n",
              "      <td>6.238107</td>\n",
              "    </tr>\n",
              "    <tr>\n",
              "      <th>3</th>\n",
              "      <td>Mountain</td>\n",
              "      <td>2.149653</td>\n",
              "    </tr>\n",
              "  </tbody>\n",
              "</table>\n",
              "</div>"
            ],
            "text/plain": [
              "  product_line  transaction_id\n",
              "0     Standard       71.586526\n",
              "1         Road       20.025714\n",
              "2      Touring        6.238107\n",
              "3     Mountain        2.149653"
            ]
          },
          "metadata": {
            "tags": []
          },
          "execution_count": 124
        }
      ]
    },
    {
      "cell_type": "code",
      "metadata": {
        "colab": {
          "base_uri": "https://localhost:8080/",
          "height": 368
        },
        "id": "Yxb_43S0CXWD",
        "outputId": "12dd3dd7-af31-43a3-8ff4-21607dfb1b12"
      },
      "source": [
        "# Create bar plot\n",
        "plt.figure(figsize=(8,5))\n",
        "visual = sns.barplot(x=\"product_line\", y=\"transaction_id\", data=data_line )\n",
        "\n",
        "for index, row in data_line.iterrows():\n",
        "    visual.text(row.name,row.transaction_id, round(row.transaction_id,2), color='black', ha=\"center\")\n",
        "plt.title('Percentage of transactions by product_line')\n",
        "plt.ylabel('Percentage (%)')"
      ],
      "execution_count": 125,
      "outputs": [
        {
          "output_type": "execute_result",
          "data": {
            "text/plain": [
              "Text(0, 0.5, 'Percentage (%)')"
            ]
          },
          "metadata": {
            "tags": []
          },
          "execution_count": 125
        },
        {
          "output_type": "display_data",
          "data": {
            "image/png": "[encoded data removed]",
            "text/plain": [
              "<Figure size 576x360 with 1 Axes>"
            ]
          },
          "metadata": {
            "tags": [],
            "needs_background": "light"
          }
        }
      ]
    },
    {
      "cell_type": "markdown",
      "metadata": {
        "id": "3gudO4jrCu-Q"
      },
      "source": [
        "- Product line 'standard' is purchased most of the time, followed by 'road', ' touring', and 'mountain' products."
      ]
    },
    {
      "cell_type": "code",
      "metadata": {
        "colab": {
          "base_uri": "https://localhost:8080/",
          "height": 141
        },
        "id": "P-EqKetpC-hh",
        "outputId": "d0a49335-a3b3-48b1-e4f3-8f77887be5b0"
      },
      "source": [
        "# Calculate percentage of transactions by product_class\n",
        "data_class = pd.DataFrame((Transactions.groupby(['product_class'])['transaction_id'].count())/len(Transactions)*100)\n",
        "data_class = data_class.sort_values(by=['transaction_id'], ascending=False)\n",
        "data_class = data_class.reset_index()\n",
        "data_class"
      ],
      "execution_count": 126,
      "outputs": [
        {
          "output_type": "execute_result",
          "data": {
            "text/html": [
              "<div>\n",
              "<style scoped>\n",
              "    .dataframe tbody tr th:only-of-type {\n",
              "        vertical-align: middle;\n",
              "    }\n",
              "\n",
              "    .dataframe tbody tr th {\n",
              "        vertical-align: top;\n",
              "    }\n",
              "\n",
              "    .dataframe thead th {\n",
              "        text-align: right;\n",
              "    }\n",
              "</style>\n",
              "<table border=\"1\" class=\"dataframe\">\n",
              "  <thead>\n",
              "    <tr style=\"text-align: right;\">\n",
              "      <th></th>\n",
              "      <th>product_class</th>\n",
              "      <th>transaction_id</th>\n",
              "    </tr>\n",
              "  </thead>\n",
              "  <tbody>\n",
              "    <tr>\n",
              "      <th>0</th>\n",
              "      <td>medium</td>\n",
              "      <td>69.874004</td>\n",
              "    </tr>\n",
              "    <tr>\n",
              "      <th>1</th>\n",
              "      <td>high</td>\n",
              "      <td>15.181281</td>\n",
              "    </tr>\n",
              "    <tr>\n",
              "      <th>2</th>\n",
              "      <td>low</td>\n",
              "      <td>14.944716</td>\n",
              "    </tr>\n",
              "  </tbody>\n",
              "</table>\n",
              "</div>"
            ],
            "text/plain": [
              "  product_class  transaction_id\n",
              "0        medium       69.874004\n",
              "1          high       15.181281\n",
              "2           low       14.944716"
            ]
          },
          "metadata": {
            "tags": []
          },
          "execution_count": 126
        }
      ]
    },
    {
      "cell_type": "code",
      "metadata": {
        "colab": {
          "base_uri": "https://localhost:8080/",
          "height": 368
        },
        "id": "pGc5W5TyDEV1",
        "outputId": "235a6889-feca-4a45-f0f1-88671c75302e"
      },
      "source": [
        "# Create bar plot\n",
        "plt.figure(figsize=(8,5))\n",
        "visual = sns.barplot(x=\"product_class\", y=\"transaction_id\", data=data_class )\n",
        "\n",
        "for index, row in data_class.iterrows():\n",
        "    visual.text(row.name,row.transaction_id, round(row.transaction_id,2), color='black', ha=\"center\")\n",
        "plt.title('Percentage of transactions by product_class')\n",
        "plt.ylabel('Percentage (%)')"
      ],
      "execution_count": 127,
      "outputs": [
        {
          "output_type": "execute_result",
          "data": {
            "text/plain": [
              "Text(0, 0.5, 'Percentage (%)')"
            ]
          },
          "metadata": {
            "tags": []
          },
          "execution_count": 127
        },
        {
          "output_type": "display_data",
          "data": {
            "image/png": "[encoded data removed]",
            "text/plain": [
              "<Figure size 576x360 with 1 Axes>"
            ]
          },
          "metadata": {
            "tags": [],
            "needs_background": "light"
          }
        }
      ]
    },
    {
      "cell_type": "markdown",
      "metadata": {
        "id": "AQGV4lp6DNI8"
      },
      "source": [
        "- Products with medium class is the most purchased, followed by high class and then low class."
      ]
    },
    {
      "cell_type": "code",
      "metadata": {
        "colab": {
          "base_uri": "https://localhost:8080/",
          "height": 141
        },
        "id": "_YC4G9_3DebY",
        "outputId": "0863f047-bb42-42a8-c87c-6626b3426b4a"
      },
      "source": [
        "# Calculate percentage of transactions by product_size\n",
        "data_size = pd.DataFrame((Transactions.groupby(['product_size'])['transaction_id'].count())/len(Transactions)*100)\n",
        "data_size = data_size.sort_values(by=['transaction_id'], ascending=False)\n",
        "data_size = data_size.reset_index()\n",
        "data_size"
      ],
      "execution_count": 128,
      "outputs": [
        {
          "output_type": "execute_result",
          "data": {
            "text/html": [
              "<div>\n",
              "<style scoped>\n",
              "    .dataframe tbody tr th:only-of-type {\n",
              "        vertical-align: middle;\n",
              "    }\n",
              "\n",
              "    .dataframe tbody tr th {\n",
              "        vertical-align: top;\n",
              "    }\n",
              "\n",
              "    .dataframe thead th {\n",
              "        text-align: right;\n",
              "    }\n",
              "</style>\n",
              "<table border=\"1\" class=\"dataframe\">\n",
              "  <thead>\n",
              "    <tr style=\"text-align: right;\">\n",
              "      <th></th>\n",
              "      <th>product_size</th>\n",
              "      <th>transaction_id</th>\n",
              "    </tr>\n",
              "  </thead>\n",
              "  <tbody>\n",
              "    <tr>\n",
              "      <th>0</th>\n",
              "      <td>medium</td>\n",
              "      <td>65.656981</td>\n",
              "    </tr>\n",
              "    <tr>\n",
              "      <th>1</th>\n",
              "      <td>large</td>\n",
              "      <td>20.056570</td>\n",
              "    </tr>\n",
              "    <tr>\n",
              "      <th>2</th>\n",
              "      <td>small</td>\n",
              "      <td>14.286449</td>\n",
              "    </tr>\n",
              "  </tbody>\n",
              "</table>\n",
              "</div>"
            ],
            "text/plain": [
              "  product_size  transaction_id\n",
              "0       medium       65.656981\n",
              "1        large       20.056570\n",
              "2        small       14.286449"
            ]
          },
          "metadata": {
            "tags": []
          },
          "execution_count": 128
        }
      ]
    },
    {
      "cell_type": "code",
      "metadata": {
        "colab": {
          "base_uri": "https://localhost:8080/",
          "height": 368
        },
        "id": "R2gE5g2YDmdH",
        "outputId": "c0f0df1b-1b50-4d18-d492-578419daae9a"
      },
      "source": [
        "# Create bar plot\n",
        "plt.figure(figsize=(8,5))\n",
        "visual = sns.barplot(x=\"product_size\", y=\"transaction_id\", data=data_size )\n",
        "\n",
        "for index, row in data_size.iterrows():\n",
        "    visual.text(row.name,row.transaction_id, round(row.transaction_id,2), color='black', ha=\"center\")\n",
        "plt.title('Percentage of transactions by product_size')\n",
        "plt.ylabel('Percentage (%)')"
      ],
      "execution_count": 129,
      "outputs": [
        {
          "output_type": "execute_result",
          "data": {
            "text/plain": [
              "Text(0, 0.5, 'Percentage (%)')"
            ]
          },
          "metadata": {
            "tags": []
          },
          "execution_count": 129
        },
        {
          "output_type": "display_data",
          "data": {
            "image/png": "[encoded data removed]",
            "text/plain": [
              "<Figure size 576x360 with 1 Axes>"
            ]
          },
          "metadata": {
            "tags": [],
            "needs_background": "light"
          }
        }
      ]
    },
    {
      "cell_type": "markdown",
      "metadata": {
        "id": "n6HCLfwuDtrU"
      },
      "source": [
        "- Products with medium size is the most purchased, followed by large size and then small size."
      ]
    },
    {
      "cell_type": "markdown",
      "metadata": {
        "id": "4Kh4LetXaRXf"
      },
      "source": [
        "**END OF DATA EXPLORATION AND CLEANING**"
      ]
    },
    {
      "cell_type": "markdown",
      "metadata": {
        "id": "sdoK0jh5aKLN"
      },
      "source": [
        "**NEXT STEP: BUILD POWER BI DASHBOARD**"
      ]
    }
  ]
}